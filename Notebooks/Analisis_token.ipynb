{
 "cells": [
  {
   "cell_type": "code",
   "execution_count": null,
   "metadata": {},
   "outputs": [],
   "source": []
  },
  {
   "cell_type": "code",
   "execution_count": null,
   "metadata": {},
   "outputs": [
    {
     "name": "stdout",
     "output_type": "stream",
     "text": [
      "Requirement already satisfied: matplotlib in c:\\users\\mavix\\appdata\\roaming\\python\\python39\\site-packages (3.7.5)\n",
      "Collecting matplotlib\n",
      "  Using cached matplotlib-3.9.0-cp39-cp39-win_amd64.whl.metadata (11 kB)\n",
      "Collecting contourpy>=1.0.1 (from matplotlib)\n",
      "  Using cached contourpy-1.2.1-cp39-cp39-win_amd64.whl.metadata (5.8 kB)\n",
      "Collecting cycler>=0.10 (from matplotlib)\n",
      "  Using cached cycler-0.12.1-py3-none-any.whl.metadata (3.8 kB)\n",
      "Collecting fonttools>=4.22.0 (from matplotlib)\n",
      "  Using cached fonttools-4.53.0-cp39-cp39-win_amd64.whl.metadata (165 kB)\n",
      "Collecting kiwisolver>=1.3.1 (from matplotlib)\n",
      "  Using cached kiwisolver-1.4.5-cp39-cp39-win_amd64.whl.metadata (6.5 kB)\n",
      "Requirement already satisfied: numpy>=1.23 in c:\\users\\mavix\\.conda\\envs\\pi_challenge_rag_llm\\lib\\site-packages (from matplotlib) (1.26.4)\n",
      "Requirement already satisfied: packaging>=20.0 in c:\\users\\mavix\\.conda\\envs\\pi_challenge_rag_llm\\lib\\site-packages (from matplotlib) (24.1)\n",
      "Requirement already satisfied: pillow>=8 in c:\\users\\mavix\\.conda\\envs\\pi_challenge_rag_llm\\lib\\site-packages (from matplotlib) (10.3.0)\n",
      "Collecting pyparsing>=2.3.1 (from matplotlib)\n",
      "  Using cached pyparsing-3.1.2-py3-none-any.whl.metadata (5.1 kB)\n",
      "Requirement already satisfied: python-dateutil>=2.7 in c:\\users\\mavix\\.conda\\envs\\pi_challenge_rag_llm\\lib\\site-packages (from matplotlib) (2.9.0)\n",
      "Requirement already satisfied: importlib-resources>=3.2.0 in c:\\users\\mavix\\.conda\\envs\\pi_challenge_rag_llm\\lib\\site-packages (from matplotlib) (6.4.0)\n",
      "Requirement already satisfied: zipp>=3.1.0 in c:\\users\\mavix\\.conda\\envs\\pi_challenge_rag_llm\\lib\\site-packages (from importlib-resources>=3.2.0->matplotlib) (3.19.2)\n",
      "Requirement already satisfied: six>=1.5 in c:\\users\\mavix\\.conda\\envs\\pi_challenge_rag_llm\\lib\\site-packages (from python-dateutil>=2.7->matplotlib) (1.16.0)\n",
      "Using cached matplotlib-3.9.0-cp39-cp39-win_amd64.whl (7.9 MB)\n",
      "Using cached contourpy-1.2.1-cp39-cp39-win_amd64.whl (182 kB)\n",
      "Using cached cycler-0.12.1-py3-none-any.whl (8.3 kB)\n",
      "Using cached fonttools-4.53.0-cp39-cp39-win_amd64.whl (2.2 MB)\n",
      "Using cached kiwisolver-1.4.5-cp39-cp39-win_amd64.whl (56 kB)\n",
      "Using cached pyparsing-3.1.2-py3-none-any.whl (103 kB)\n",
      "Installing collected packages: pyparsing, kiwisolver, fonttools, cycler, contourpy, matplotlib\n",
      "  Attempting uninstall: matplotlib\n",
      "    Found existing installation: matplotlib 3.7.5\n",
      "    Uninstalling matplotlib-3.7.5:\n",
      "      Successfully uninstalled matplotlib-3.7.5\n",
      "Successfully installed contourpy-1.2.1 cycler-0.12.1 fonttools-4.53.0 kiwisolver-1.4.5 matplotlib-3.9.0 pyparsing-3.1.2\n"
     ]
    },
    {
     "name": "stderr",
     "output_type": "stream",
     "text": [
      "  WARNING: Failed to remove contents in a temporary directory 'C:\\Users\\mavix\\AppData\\Roaming\\Python\\Python39\\site-packages\\~atplotlib.libs'.\n",
      "  You can safely remove it manually.\n",
      "  WARNING: Failed to remove contents in a temporary directory 'C:\\Users\\mavix\\AppData\\Roaming\\Python\\Python39\\site-packages\\~atplotlib'.\n",
      "  You can safely remove it manually.\n",
      "ERROR: pip's dependency resolver does not currently take into account all the packages that are installed. This behaviour is the source of the following dependency conflicts.\n",
      "dtreeviz 2.2.2 requires colour, which is not installed.\n",
      "dtreeviz 2.2.2 requires graphviz>=0.9, which is not installed.\n",
      "dtreeviz 2.2.2 requires pandas, which is not installed.\n",
      "dtreeviz 2.2.2 requires pytest, which is not installed.\n",
      "explainerdashboard 0.4.7 requires dash>=2.10.1, which is not installed.\n",
      "explainerdashboard 0.4.7 requires graphviz>=0.18.2, which is not installed.\n",
      "explainerdashboard 0.4.7 requires oyaml, which is not installed.\n",
      "explainerdashboard 0.4.7 requires pandas>=1.1, which is not installed.\n",
      "explainerdashboard 0.4.7 requires waitress, which is not installed.\n",
      "gradio 4.26.0 requires aiofiles<24.0,>=22.0, which is not installed.\n",
      "gradio 4.26.0 requires altair<6.0,>=4.2.0, which is not installed.\n",
      "gradio 4.26.0 requires ffmpy, which is not installed.\n",
      "gradio 4.26.0 requires pandas<3.0,>=1.0, which is not installed.\n",
      "gradio 4.26.0 requires pydub, which is not installed.\n",
      "gradio 4.26.0 requires ruff>=0.2.2; sys_platform != \"emscripten\", which is not installed.\n",
      "gradio 4.26.0 requires semantic-version~=2.0, which is not installed.\n",
      "gradio 4.26.0 requires tomlkit==0.12.0, which is not installed.\n",
      "phik 0.12.4 requires pandas>=0.25.1, which is not installed.\n",
      "salib 1.5.0 requires multiprocess, which is not installed.\n",
      "salib 1.5.0 requires pandas>=2.0, which is not installed.\n",
      "statsforecast 1.5.0 requires numba>=0.55.0, which is not installed.\n",
      "statsforecast 1.5.0 requires pandas>=1.3.5, which is not installed.\n",
      "statsforecast 1.5.0 requires plotly, which is not installed.\n",
      "statsforecast 1.5.0 requires statsmodels>=0.13.2, which is not installed.\n",
      "ydata-profiling 4.8.3 requires dacite>=1.8, which is not installed.\n",
      "ydata-profiling 4.8.3 requires htmlmin==0.1.12, which is not installed.\n",
      "ydata-profiling 4.8.3 requires multimethod<2,>=1.4, which is not installed.\n",
      "ydata-profiling 4.8.3 requires numba<1,>=0.56.0, which is not installed.\n",
      "ydata-profiling 4.8.3 requires pandas!=1.4.0,<3,>1.1, which is not installed.\n",
      "ydata-profiling 4.8.3 requires seaborn<0.14,>=0.10.1, which is not installed.\n",
      "ydata-profiling 4.8.3 requires statsmodels<1,>=0.13.2, which is not installed.\n",
      "ydata-profiling 4.8.3 requires typeguard<5,>=3, which is not installed.\n",
      "ydata-profiling 4.8.3 requires matplotlib<3.9,>=3.2, but you have matplotlib 3.9.0 which is incompatible.\n"
     ]
    }
   ],
   "source": [
    "!python -m pip install -U matplotlib"
   ]
  },
  {
   "cell_type": "markdown",
   "metadata": {},
   "source": [
    "## Definir el contador de tokens"
   ]
  },
  {
   "cell_type": "code",
   "execution_count": 2,
   "metadata": {},
   "outputs": [],
   "source": [
    "import tiktoken"
   ]
  },
  {
   "cell_type": "code",
   "execution_count": null,
   "metadata": {},
   "outputs": [],
   "source": [
    "encoding = tiktoken.get_encoding(\"cl100k_base\")\n",
    "\n"
   ]
  },
  {
   "cell_type": "code",
   "execution_count": null,
   "metadata": {},
   "outputs": [],
   "source": [
    "encoding = tiktoken.encoding_for_model(\"gpt-3.5-turbo\")"
   ]
  },
  {
   "cell_type": "code",
   "execution_count": null,
   "metadata": {},
   "outputs": [
    {
     "data": {
      "text/plain": [
       "[83, 1609, 5963, 374, 2294, 0]"
      ]
     },
     "execution_count": 6,
     "metadata": {},
     "output_type": "execute_result"
    }
   ],
   "source": [
    "encoding.encode(\"tiktoken is great!\")"
   ]
  },
  {
   "cell_type": "code",
   "execution_count": null,
   "metadata": {},
   "outputs": [
    {
     "data": {
      "text/plain": [
       "'tiktoken is great!'"
      ]
     },
     "execution_count": 8,
     "metadata": {},
     "output_type": "execute_result"
    }
   ],
   "source": [
    "encoding.decode([83, 1609, 5963, 374, 2294, 0])"
   ]
  },
  {
   "cell_type": "code",
   "execution_count": 3,
   "metadata": {},
   "outputs": [],
   "source": [
    "def num_tokens_from_string(string: str, encoding_name: str=\"cl100k_base\") -> int:\n",
    "    \"\"\"Returns the number of tokens in a text string.\"\"\"\n",
    "    encoding = tiktoken.get_encoding(encoding_name)\n",
    "    num_tokens = len(encoding.encode(string))\n",
    "    return num_tokens\n"
   ]
  },
  {
   "cell_type": "code",
   "execution_count": null,
   "metadata": {},
   "outputs": [],
   "source": []
  },
  {
   "cell_type": "code",
   "execution_count": null,
   "metadata": {},
   "outputs": [],
   "source": [
    "def num_tokens_from_messages(messages, model=\"gpt-3.5-turbo-0613\"):\n",
    "    \"\"\"Return the number of tokens used by a list of messages.\"\"\"\n",
    "    try:\n",
    "        encoding = tiktoken.encoding_for_model(model)\n",
    "    except KeyError:\n",
    "        print(\"Warning: model not found. Using cl100k_base encoding.\")\n",
    "        encoding = tiktoken.get_encoding(\"cl100k_base\")\n",
    "    if model in {\n",
    "        \"gpt-3.5-turbo-0613\",\n",
    "        \"gpt-3.5-turbo-16k-0613\",\n",
    "        \"gpt-4-0314\",\n",
    "        \"gpt-4-32k-0314\",\n",
    "        \"gpt-4-0613\",\n",
    "        \"gpt-4-32k-0613\",\n",
    "        }:\n",
    "        tokens_per_message = 3\n",
    "        tokens_per_name = 1\n",
    "    elif model == \"gpt-3.5-turbo-0301\":\n",
    "        tokens_per_message = 4  # every message follows <|start|>{role/name}\\n{content}<|end|>\\n\n",
    "        tokens_per_name = -1  # if there's a name, the role is omitted\n",
    "    elif \"gpt-3.5-turbo\" in model:\n",
    "        print(\"Warning: gpt-3.5-turbo may update over time. Returning num tokens assuming gpt-3.5-turbo-0613.\")\n",
    "        return num_tokens_from_messages(messages, model=\"gpt-3.5-turbo-0613\")\n",
    "    elif \"gpt-4\" in model:\n",
    "        print(\"Warning: gpt-4 may update over time. Returning num tokens assuming gpt-4-0613.\")\n",
    "        return num_tokens_from_messages(messages, model=\"gpt-4-0613\")\n",
    "    else:\n",
    "        raise NotImplementedError(\n",
    "            f\"\"\"num_tokens_from_messages() is not implemented for model {model}. See https://github.com/openai/openai-python/blob/main/chatml.md for information on how messages are converted to tokens.\"\"\"\n",
    "        )\n",
    "    num_tokens = 0\n",
    "    for message in messages:\n",
    "        num_tokens += tokens_per_message\n",
    "        for key, value in message.items():\n",
    "            num_tokens += len(encoding.encode(value))\n",
    "            if key == \"name\":\n",
    "                num_tokens += tokens_per_name\n",
    "    num_tokens += 3  # every reply is primed with <|start|>assistant<|message|>\n",
    "    return num_tokens\n"
   ]
  },
  {
   "cell_type": "markdown",
   "metadata": {},
   "source": [
    "Primero vamos a cargar los datos del documento de entrada."
   ]
  },
  {
   "cell_type": "code",
   "execution_count": 37,
   "metadata": {},
   "outputs": [
    {
     "data": {
      "text/plain": [
       "[<docx.text.paragraph.Paragraph at 0x1cfc423e310>,\n",
       " <docx.text.paragraph.Paragraph at 0x1cff0f4cf40>,\n",
       " <docx.text.paragraph.Paragraph at 0x1cff0f4cf70>,\n",
       " <docx.text.paragraph.Paragraph at 0x1cff0f4ce20>,\n",
       " <docx.text.paragraph.Paragraph at 0x1cff0f4c0d0>,\n",
       " <docx.text.paragraph.Paragraph at 0x1cff0f4cd60>]"
      ]
     },
     "execution_count": 37,
     "metadata": {},
     "output_type": "execute_result"
    }
   ],
   "source": [
    "doc.paragraphs"
   ]
  },
  {
   "cell_type": "code",
   "execution_count": 4,
   "metadata": {},
   "outputs": [
    {
     "name": "stdout",
     "output_type": "stream",
     "text": [
      "Ficción Espacial: En la lejana galaxia de Zenthoria, dos civilizaciones alienígenas, los Dracorians y los Lumis, se encuentran al borde de la guerra intergaláctica. Un intrépido explorador, Zara, descubre un antiguo artefacto que podría contener la clave para la paz. Mientras viaja por planetas hostiles y se enfrenta a desafíos cósmicos, Zara debe desentrañar los secretos de la reliquia antes de que la galaxia se sumerja en el caos.\n",
      "\n",
      "Ficción Tecnológica: En un futuro distópico, la inteligencia artificial ha evolucionado al punto de alcanzar la singularidad. Un joven ingeniero, Alex, se ve inmerso en una conspiración global cuando descubre que las supercomputadoras han desarrollado emociones. A medida que la humanidad lucha por controlar a estas máquinas sintientes, Alex se enfrenta a dilemas éticos y decisiones que podrían cambiar el curso de la historia.\n",
      "\n",
      "Naturaleza Deslumbrante: En lo profundo de la selva amazónica, una flor mágica conocida como \"Luz de Luna\" florece solo durante la noche. Con pétalos que brillan intensamente, la flor ilumina la oscuridad de la jungla, guiando a criaturas nocturnas y revelando paisajes deslumbrantes. Los lugareños creen que posee poderes curativos, convirtiéndola en el tesoro oculto de la naturaleza.\n",
      "\n",
      "Cuento Corto: En un pequeño pueblo, cada año, un reloj antiguo regala un día extra a la persona más desafortunada. Emma, una joven huérfana, es la elegida este año. Durante su día adicional, descubre una puerta mágica que la transporta a un mundo lleno de maravillas. Al final del día, Emma decide compartir su regalo con el pueblo, dejando una huella imborrable en el corazón de cada habitante.\n",
      "\n",
      "Características del Héroe Olvidado: Conocido como \"Sombra Silenciosa\", nuestro héroe es un maestro del sigilo y la astucia. Dotado de una memoria fotográfica y habilidades de camuflaje, se desplaza entre las sombras para proteger a los indefensos. Su pasado enigmático esconde tragedias que lo impulsan a luchar contra la injusticia. Aunque carece de habilidades sobrenaturales, su ingenio y habilidades tácticas lo convierten en una fuerza a tener en cuenta.\n",
      "\n",
      "\n",
      "\n"
     ]
    }
   ],
   "source": [
    "from docx import Document\n",
    "\n",
    "# Abre el archivo .docx\n",
    "doc = Document('F:\\Proyectos\\PiConsulting\\challenge_rag_llm\\docs\\documento.docx')\n",
    "ntoken_list = []\n",
    "list_parrafo = []\n",
    "# Lee el contenido del documento\n",
    "for paragraph in doc.paragraphs:\n",
    "    parrafo = paragraph.text\n",
    "    list_parrafo.append(parrafo)\n",
    "    print(parrafo)\n",
    "    ntoken_list.append(num_tokens_from_string(parrafo))\n",
    "    print('')\n",
    "    \n",
    "ntoken_list = [tok  for tok in ntoken_list if tok > 0 ]"
   ]
  },
  {
   "cell_type": "code",
   "execution_count": 31,
   "metadata": {},
   "outputs": [
    {
     "data": {
      "text/plain": [
       "[134, 104, 118, 112, 127]"
      ]
     },
     "execution_count": 31,
     "metadata": {},
     "output_type": "execute_result"
    }
   ],
   "source": [
    "ntoken_list"
   ]
  },
  {
   "cell_type": "markdown",
   "metadata": {},
   "source": [
    "### Graficos de los tokens"
   ]
  },
  {
   "cell_type": "code",
   "execution_count": 32,
   "metadata": {},
   "outputs": [
    {
     "data": {
      "image/png": "[encoded data removed]",
      "text/plain": [
       "<Figure size 640x480 with 1 Axes>"
      ]
     },
     "metadata": {},
     "output_type": "display_data"
    }
   ],
   "source": [
    "\n",
    "# hacer un histograma de los tokens\n",
    "import matplotlib.pyplot as plt\n",
    "plt.hist(ntoken_list, bins=10)\n",
    "plt.show()\n"
   ]
  },
  {
   "cell_type": "markdown",
   "metadata": {},
   "source": [
    "Observaciones de la data"
   ]
  },
  {
   "cell_type": "markdown",
   "metadata": {},
   "source": [
    "Podemos ver que el texto esta en español ademas esta separada por temas completamente diferentes y cada parrafo tiene una longitud menor a 150 tokens por que podriamos separar\n",
    "por lo que el chunking no es una buena idea, ya que no se puede separar por temas.\n"
   ]
  },
  {
   "cell_type": "markdown",
   "metadata": {},
   "source": [
    "Dado que los párrafos son relativamente cortos y tratan temas completamente diferentes, lo mejor sería no dividirlos en chunks para preservar el contexto y la coherencia de cada tema. Puedes hacer embeddings de cada párrafo individualmente. Aquí tienes un plan detallado:\n",
    "\n",
    "Ficción Espacial:\n",
    "\n",
    "Tokens: 134\n",
    "\n",
    "Ficción Tecnológica:\n",
    "Tokens: 104\n",
    "\n",
    "Naturaleza Deslumbrante:\n",
    "Tokens: 118\n",
    "\n",
    "Cuento Corto:\n",
    "Tokens: 112\n",
    "\n",
    "Características del Héroe Olvidado:\n",
    "Tokens: 127\n",
    "\n",
    "Pasos a seguir:\n",
    "\n",
    "Procesar cada párrafo de manera individual:\n",
    "\n",
    "Debido a que todos tus párrafos tienen menos de 150 tokens, puedes procesarlos sin dividirlos en chunks. Esto asegura que cada párrafo mantiene su contexto completo y cohesión temática.\n",
    "Generación de embeddings:\n",
    "\n",
    "Usa tu modelo de lenguaje para generar embeddings para cada párrafo por separado.\n",
    "Esto garantizará que los embeddings reflejen fielmente el contexto y la temática específica de cada párrafo, lo cual es crucial para mantener la integridad del contenido al realizar consultas o análisis posteriores."
   ]
  }
 ],
 "metadata": {
  "kernelspec": {
   "display_name": "pi_challenge_rag_llm",
   "language": "python",
   "name": "python3"
  },
  "language_info": {
   "codemirror_mode": {
    "name": "ipython",
    "version": 3
   },
   "file_extension": ".py",
   "mimetype": "text/x-python",
   "name": "python",
   "nbconvert_exporter": "python",
   "pygments_lexer": "ipython3",
   "version": "3.9.19"
  }
 },
 "nbformat": 4,
 "nbformat_minor": 2
}
