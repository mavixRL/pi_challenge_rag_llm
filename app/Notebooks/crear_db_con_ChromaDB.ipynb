{
 "cells": [
  {
   "cell_type": "code",
   "execution_count": null,
   "metadata": {},
   "outputs": [],
   "source": [
    "# USO de ChromaBD Cohera para crear las funciones el Challenge RAG LLM"
   ]
  },
  {
   "cell_type": "markdown",
   "metadata": {},
   "source": [
    "Instalar librerias necesarias\n",
    "\n",
    "```bash\n",
    "pip install cohere=5.5.8\n",
    "pip install ipykernel=6.29.4\n",
    "pip install chromadb=0.5.0\n",
    "pip install python-docx=1.1.2\n",
    "pip install tiktoken=0.7.0\n",
    "pip install langchain=0.2.6\n"
   ]
  },
  {
   "cell_type": "markdown",
   "metadata": {},
   "source": [
    "## Impotar librerias"
   ]
  },
  {
   "cell_type": "code",
   "execution_count": 1,
   "metadata": {},
   "outputs": [],
   "source": [
    "import os\n",
    "from dotenv import load_dotenv\n",
    "\n",
    "import chromadb\n",
    "\n",
    "from docx import Document\n",
    "import tiktoken\n",
    "from typing import Union, List\n",
    "\n",
    "from langchain_text_splitters import RecursiveCharacterTextSplitter\n",
    "\n",
    "from langdetect import detect\n",
    "import langid\n",
    "import cohere\n",
    "\n",
    "import uuid\n",
    "import cohere\n",
    "\n",
    "import time\n",
    "from ratelimit import limits, sleep_and_retry\n",
    "\n",
    "from typing import Sequence, Optional, Union,Literal,Any\n",
    "from chromadb.api.models.Collection import Collection\n",
    "EmbedRequestTruncate = Union[Literal[\"NONE\", \"START\", \"END\"], Any]\n",
    "EmbeddingType = Union[Literal[\"float\", \"int8\", \"uint8\", \"binary\", \"ubinary\"], Any]\n",
    "EmbedInputType = Union[ Literal[\"search_document\", \"search_query\", \"classification\", \"clustering\"], Any]\n",
    "\n",
    "\n",
    "import numpy as np"
   ]
  },
  {
   "cell_type": "code",
   "execution_count": 2,
   "metadata": {},
   "outputs": [],
   "source": [
    "# Limites del API de Cohere\n",
    "EMBED_LIMIT = 5  # llamadas por minuto\n",
    "RERANK_CHAT_LIMIT = 10  # llamadas por minuto\n",
    "OTHER_LIMIT = 100  # llamadas por minuto\n",
    "\n",
    "# @sleep_and_retry\n",
    "# @limits(calls=EMBED_LIMIT, period=60)"
   ]
  },
  {
   "cell_type": "code",
   "execution_count": 3,
   "metadata": {},
   "outputs": [],
   "source": [
    "load_dotenv()\n",
    "COHERE_api_key: str = os.getenv(\"COHERE_API_KEY\")\n",
    "\n",
    "co = cohere.Client(COHERE_api_key)"
   ]
  },
  {
   "cell_type": "markdown",
   "metadata": {},
   "source": [
    "## Crear una instancia de la clase chromadb con Persistencia"
   ]
  },
  {
   "cell_type": "code",
   "execution_count": 4,
   "metadata": {},
   "outputs": [],
   "source": [
    "# client = chromadb.PersistentClient(path=\"./../app/db/ChromaDB/\")"
   ]
  },
  {
   "cell_type": "markdown",
   "metadata": {},
   "source": [
    "## Crear un collection"
   ]
  },
  {
   "cell_type": "code",
   "execution_count": 5,
   "metadata": {},
   "outputs": [],
   "source": [
    "# client.get_or_create_collection(name=\"respuestas_api\")"
   ]
  },
  {
   "cell_type": "markdown",
   "metadata": {},
   "source": [
    "## Listar los elementos collections"
   ]
  },
  {
   "cell_type": "code",
   "execution_count": 7,
   "metadata": {},
   "outputs": [],
   "source": [
    "# client.list_collections()"
   ]
  },
  {
   "cell_type": "markdown",
   "metadata": {},
   "source": [
    "## Eliminar los elementos collections"
   ]
  },
  {
   "cell_type": "code",
   "execution_count": 10,
   "metadata": {},
   "outputs": [],
   "source": [
    "# client.delete_collection(name=\"document_chunks\")\n",
    "# client.delete_collection(name=\"respuestas_api\")\n",
    "# client.delete_collection(name=\"document_chunks2\")"
   ]
  },
  {
   "cell_type": "markdown",
   "metadata": {},
   "source": [
    "TEST API"
   ]
  },
  {
   "cell_type": "code",
   "execution_count": 10,
   "metadata": {},
   "outputs": [
    {
     "name": "stdout",
     "output_type": "stream",
     "text": [
      "{'answer': 'Zara es un intrépido explorador que descubre un antiguo artefacto que podría ser clave para la paz en la galaxia Zenthoria. 🚀🛸🌌️ 😊', 'status': 200}\n"
     ]
    }
   ],
   "source": [
    "import requests\n",
    "\n",
    "# url = \"http://localhost:8003/api/ask\"\n",
    "url = \"http://localhost:8003/api/ask_cohere\"\n",
    "payload = {\n",
    "    \"question\": \"quien es Zara?\",\n",
    "    \"user_name\": \"Mvx\"\n",
    "}\n",
    "headers = {\n",
    "    \"Content-Type\": \"application/json\"\n",
    "}\n",
    "\n",
    "response = requests.post(url, json=payload, headers=headers)\n",
    "\n",
    "print(response.json())\n"
   ]
  },
  {
   "cell_type": "code",
   "execution_count": 4,
   "metadata": {},
   "outputs": [
    {
     "name": "stdout",
     "output_type": "stream",
     "text": [
      "{'answer': 'Hola Pi Consulting'}\n"
     ]
    }
   ],
   "source": [
    "import requests\n",
    "\n",
    "url = \"http://localhost:8003/api/\"\n",
    "payload = {\n",
    "    \"question\": \"quien es Zara?\",\n",
    "    \"user_name\": \"Mvx\"\n",
    "}\n",
    "headers = {\n",
    "    \"Content-Type\": \"application/json\"\n",
    "}\n",
    "\n",
    "response = requests.post(url, json=payload, headers=headers)\n",
    "\n",
    "print(response.json())\n"
   ]
  },
  {
   "cell_type": "markdown",
   "metadata": {},
   "source": [
    "## Funciones"
   ]
  },
  {
   "cell_type": "code",
   "execution_count": 13,
   "metadata": {},
   "outputs": [],
   "source": [
    "def print_collections(collections:list) -> None:\n",
    "    \"\"\"\n",
    "    Descripción:\n",
    "    ------------\n",
    "    Prints the collections in the database de forma legible para las ultimas versiones de Chromadb.\n",
    "    En las ultimas versiones no se ve el objeto collection, por lo que se debe de cambiar el print\n",
    "    \n",
    "    Parameters:\n",
    "    -----------\n",
    "        - collections: list\n",
    "            Es una lista de objetos de tipo collection\n",
    "    \n",
    "    Returns:\n",
    "    --------\n",
    "        - None\n",
    "            imprime en pantalla el nombre de las colecciones\n",
    "            \n",
    "    \n",
    "    Example:\n",
    "    --------\n",
    "    >>> import chromadb\n",
    "    >>> client = chromadb.PersistentClient(path=\"./../app/db/ChromaDB/\")\n",
    "    >>> client.create_collection(name=\"respuestas_api\")\n",
    "    >>> print_collections(collections)\n",
    "    \"\"\"\n",
    "    for collection in collections:\n",
    "        print(f\"Collection(name={collection.name})\")\n",
    "\n",
    "def print_verbose(msg: str,verbose:bool) -> None:\n",
    "    '''\n",
    "    Description:\n",
    "    ------------\n",
    "    Esta función imprime un mensaje en pantalla si verbose es True\n",
    "    \n",
    "    Parameters:\n",
    "    -----------\n",
    "        - msg: str\n",
    "            Es el mensaje que se desea imprimir en pantalla\n",
    "        - verbose: bool\n",
    "            Es un booleano que indica si se imprime o no el mensaje en pantalla\n",
    "            \n",
    "    Returns:\n",
    "    --------\n",
    "        - None\n",
    "            No retorna ningún valor solo imprime en pantalla el mensaje\n",
    "            \n",
    "    Example:\n",
    "    --------\n",
    "    >>> print_verbose(\"Hola Mundo\", True)\n",
    "    '''\n",
    "    print(msg) if verbose else None\n",
    "\n",
    "\n",
    "\n",
    "def num_tokens_from_string(string: str, encoding_name: str=\"cl100k_base\") -> int:\n",
    "    \"\"\"\n",
    "    Description:\n",
    "    ------------\n",
    "        Esta función recibe un string y devuelve el número de tokens que contiene.\n",
    "\n",
    "    Parameters:\n",
    "    -----------\n",
    "        - string: str\n",
    "            Es el string que se desea tokenizar.\n",
    "        - encoding_name: str\n",
    "            Es el nombre del encoding que se desea utilizar para tokenizar el string.\n",
    "    \n",
    "    Returns:\n",
    "    --------\n",
    "        - num_tokens:int\n",
    "            Retorna el número de tokens que contiene el string.\n",
    "    \"\"\"\n",
    "    encoding = tiktoken.get_encoding(encoding_name)\n",
    "    num_tokens = len(encoding.encode(string))\n",
    "    return num_tokens\n",
    "\n",
    "\n",
    "def doc_to_paragraphs(file:str='F:\\Proyectos\\PiConsulting\\challenge_rag_llm\\docs\\documento.docx'):\n",
    "    '''\n",
    "    Description:\n",
    "    ------------\n",
    "        Esta función recibe un archivo .docx y devuelve una lista con los párrafos del documento\n",
    "        y una lista con el número de tokens de cada párrafo.\n",
    "\n",
    "    Parameters:\n",
    "    -----------\n",
    "        - file: str\n",
    "            Es la ruta del archivo .docx que se desea tokenizar.\n",
    "    \n",
    "    Returns:\n",
    "    --------\n",
    "        - ntoken_list: list\n",
    "            Retorna una lista con el número de tokens de cada párrafo.\n",
    "        - list_parrafo: list\n",
    "            Retorna una lista con los párrafos del documento.\n",
    "    \n",
    "    Example:\n",
    "    --------\n",
    "    >>> ntoken_list, list_parrafo = doc_to_paragraphs(file)\n",
    "\n",
    "    '''\n",
    "    # Abre el archivo .docx\n",
    "    doc = Document(file)\n",
    "\n",
    "    list_parrafo = [parrafo.text for parrafo in doc.paragraphs if (parrafo.text != \"\")and(parrafo.text != \" \")]\n",
    "    ntoken_list = [num_tokens_from_string(parrafo) for parrafo in list_parrafo]\n",
    "\n",
    "    return ntoken_list, list_parrafo\n",
    "\n",
    "\n",
    "\n",
    "    \n",
    "def split_text(\n",
    "        input: Union[str,\n",
    "        List[str]],\n",
    "        unir_list:bool=False, \n",
    "        chunk_size: int=300,\n",
    "        chunk_overlap: int=0,\n",
    "        separators:list=[\"\\n\\n\", \"\\n\",],\n",
    "        verbose=False\n",
    ")->list:\n",
    "    '''\n",
    "    Description:\n",
    "    ------------\n",
    "        Esta función recibe un texto o lista  y lo divide en chunks de un tamaño especificado.\n",
    "        Por defecto si es una lista no se unirá, si se desea unir se debe de especificar en el\n",
    "        parámetro unir_list=True\n",
    "        Nota: si se especifica unir_list=False  y se pasa separators [\"\\n\\n\", \"\\n\"] los chunks\n",
    "        se dividirán por los saltos de linea para cada elemento de la lista de strings.\n",
    "        Si se especifica unir_list=False y separators = [\"\\n\\n\", \"\\n\"] los chunks no tomaran en cuanta chunk_size y chunk_overlap\n",
    "\n",
    "    Parameters:\n",
    "    -----------\n",
    "        - input: str or list\n",
    "            Es el texto que se desea dividir en chunks.\n",
    "        - chunk_size: int\n",
    "            Es el tamaño de cada chunk.\n",
    "        - chunk_overlap: int\n",
    "            Es el solapamiento entre chunks.\n",
    "        - separators: list\n",
    "            Es una lista con los separadores que se desean utilizar para dividir el texto.\n",
    "            ejemplo: [\"\\n\\n\", \"\\n\", \",\", \";\", \".\"]\n",
    "        - verbose: bool\n",
    "            Es un booleano que indica si se imprime o no el mensaje en pantalla\n",
    "        - unir_list: bool   \n",
    "            Es un booleano que indica si se desea unir la lista de strings en un solo string.\n",
    "\n",
    "    \n",
    "    Returns:\n",
    "    --------\n",
    "        - chunks: list\n",
    "            Retorna una lista con los chunks del texto.\n",
    "    \n",
    "    Example:\n",
    "    --------\n",
    "    >>> chunks = split_text(text)\n",
    "\n",
    "    >>> docs = split_text(input=list_parrafo,chunk_size=500, chunk_overlap=20,\n",
    "                            unir_list=False,separators=None,verbose=False)\n",
    "\n",
    "    >>> docs = split_text(input=list_parrafo, chunk_size=500, chunk_overlap=20,\n",
    "                            unir_list=False,separators=[\"\\n\\n\", \"\\n\"],verbose=False)\n",
    "    \n",
    "    '''\n",
    "    if isinstance(input, str):\n",
    "        input = [input]\n",
    "    elif isinstance(input, list):\n",
    "        if unir_list:\n",
    "            input = [\" \".join(input)]\n",
    "    print_verbose(input,verbose)\n",
    "\n",
    "    # Configuración del splitter\n",
    "    text_splitter = RecursiveCharacterTextSplitter(\n",
    "        separators=separators,          # Separadores a utilizar\n",
    "        chunk_size=chunk_size,          # Tamaño de cada chunk\n",
    "        chunk_overlap=chunk_overlap,    # Solapamiento entre chunks\n",
    "    )\n",
    "\n",
    "    # Crear documentos divididos\n",
    "    docs = text_splitter.create_documents(input)\n",
    "\n",
    "    # Mostrar resultado\n",
    "    for doc in docs:\n",
    "        print_verbose(msg=f'Chunk: {doc.page_content}', verbose=verbose)\n",
    "\n",
    "    return docs\n",
    "\n",
    "\n",
    "def get_context(collection:Collection,query:str,n_results:int=1):\n",
    "    '''\n",
    "    Description:\n",
    "    ------------\n",
    "    Esta función recibe un query y devuelve el contexto de la respuesta.\n",
    "    \n",
    "    Parameters:\n",
    "    -----------\n",
    "        - collection: Collection\n",
    "            Es la colección con la que se desea realizar la consulta.\n",
    "        - query: str\n",
    "            Es la pregunta que se desea realizar.\n",
    "        - n_results: int\n",
    "            Es el número de resultados que se desean obtener.\n",
    "            por defecto es 1.\n",
    "    \n",
    "    Returns:\n",
    "    --------\n",
    "        - results: dict\n",
    "            Retorna un diccionario con los resultados de la consulta.\n",
    "        - contexto: str\n",
    "            Retorna el contexto de la respuesta.\n",
    "    \n",
    "    Example:\n",
    "    --------\n",
    "    >>>query = \"Quien es Zara?\"\n",
    "    >>> results,contexto = get_context(query)\n",
    "    '''\n",
    "\n",
    "    # query_embedding = co.embed(texts=[query]).embeddings[0]\n",
    "    query_embedding = co.embed(texts=[query],model='embed-multilingual-v3.0',input_type ='search_query').embeddings[0] # search_query\" or \"search_document\"\n",
    "    results = collection.query(query_embeddings=query_embedding, n_results=n_results,include=['documents']) #include=['embeddings','documents']\n",
    "    contexto = ' '.join([result for result in results['documents'][0]])\n",
    "    # contexto  = results['documents'][0][0]\n",
    "    contexto\n",
    "    return results,contexto\n",
    "\n",
    "# def get_context(collection:Collection,query:str,n_results:int=1):\n",
    "#     # query_embedding = co.embed(texts=[query]).embeddings[0]\n",
    "#     query_embedding = co.embed(texts=[query],model='embed-multilingual-v3.0',input_type ='search_query').embeddings[0] # search_query\" or \"search_document\"\n",
    "#     results = collection.query(query_embeddings=query_embedding, n_results=n_results,include=['documents']) #include=['embeddings','documents']\n",
    "#     contexto = ' '.join([result for result in results['documents'][0]])\n",
    "#     # contexto  = results['documents'][0][0]\n",
    "#     contexto\n",
    "#     return results,contexto\n",
    "\n",
    "\n",
    "def add_documents_to_collection(\n",
    "        collection:Collection,\n",
    "        docs:list,\n",
    "        model:str ='embed-multilingual-v3.0',\n",
    "        input_type: Optional[EmbedInputType]='search_query',\n",
    "        embedding_types:Optional[EmbedInputType]= None,\n",
    "        metadata_options:dict = dict(),\n",
    "\n",
    "    )->Collection:\n",
    "    '''\n",
    "    Description:\n",
    "    ------------\n",
    "    Esta función recibe una colección y una lista de documentos y los agrega a la colección.\n",
    "\n",
    "    Parameters:\n",
    "    -----------\n",
    "        - collection: Collection\n",
    "            Es la colección a la que se desea agregar los documentos.\n",
    "        - docs: list\n",
    "            Lista de documentos que se desean agregar a la colección.\n",
    "        - model: str\n",
    "            Es el modelo que se desea utilizar para realizar el embedding.\n",
    "            Por defecto es 'embed-multilingual-v3.0'.\n",
    "            Los modelos disponibles son:(verificar en la documentación de Cohere)\n",
    "                - embed-english-v3.0 1024\n",
    "                - embed-multilingual-v3.0 1024\n",
    "                - embed-english-light-v3.0 384\n",
    "                - embed-multilingual-light-v3.0 384\n",
    "                - embed-english-v2.0 4096\n",
    "                - embed-english-light-v2.0 1024\n",
    "                - embed-multilingual-v2.0 768\n",
    "        - input_type: Optional[EmbedInputType]\n",
    "            Es el tipo de input que se desea utilizar.\n",
    "            Por defecto es 'search_query'.\n",
    "            Los tipos de input disponibles son:(verificar en la documentación de Cohere)\n",
    "                - search_document\n",
    "                - search_query\n",
    "                - classification\n",
    "                - clustering\n",
    "        - embedding_types: Optional[EmbedRequestTruncate]\n",
    "            Es el tipo de embedding que se desea utilizar.\n",
    "            Por defecto es \"float\".\n",
    "            Los tipos de embedding disponibles son:(verificar en la documentación de Cohere)\n",
    "                - \"float\"\n",
    "                - \"int8\"\n",
    "                - \"uint8\"\n",
    "                - \"binary\"\n",
    "                - \"ubinary\"\n",
    "        - metadata_options: dict\n",
    "            Es un diccionario con los metadatos que se desean agregar a los documentos.\n",
    "            Por defecto es un diccionario vacío.\n",
    "    \n",
    "    Returns:\n",
    "    --------\n",
    "        - collection: Collection\n",
    "            Retorna la colección con los documentos agregados.\n",
    "\n",
    "    Example:\n",
    "    --------\n",
    "    >>> import chromadb\n",
    "    >>> client = chromadb.PersistentClient(path=\"./../app/db/ChromaDB/\")\n",
    "    >>> collection = client.get_or_create_collection(name=\"respuestas_api\")\n",
    "    >>> docs = split_text(['text1','text2'])\n",
    "    >>> collection = add_documents_to_collection(collection,docs)\n",
    "\n",
    "\n",
    "    '''\n",
    "    for doc in docs:\n",
    "        doc = doc.page_content\n",
    "        uuid_name = uuid.uuid1()\n",
    "        embedding = co.embed(texts=[doc], model=model, input_type=input_type,\n",
    "            embedding_types=embedding_types).embeddings[0] # search_query\" or \"search_document\"\n",
    "        print(\"document for\", uuid_name)\n",
    "        # doc.page_content\n",
    "        \n",
    "        collection.add(ids=[str(uuid_name)],\n",
    "                    embeddings=embedding,\n",
    "                    metadatas=metadata_options,\n",
    "                    documents=doc)\n",
    "    return collection\n",
    "\n",
    "@sleep_and_retry\n",
    "@limits(calls=EMBED_LIMIT, period=60)\n",
    "def detect_language(query:str):\n",
    "    '''\n",
    "    Description:\n",
    "    ------------\n",
    "        Esta función recibe un query y devuelve el idioma del query.\n",
    "        Si el idioma no es español, inglés o portugués, se solicita al LLM que interprete el idioma.\n",
    "\n",
    "    Parameters:\n",
    "    -----------\n",
    "        - query: str\n",
    "            es el texto que se desea detectar el idioma.\n",
    "    \n",
    "    Returns:\n",
    "    --------\n",
    "        - language: str\n",
    "        retorno el idioma del texto en formato de dos letras.\n",
    "\n",
    "    Example:\n",
    "    --------\n",
    "    >>> query = \"Quien es Zara?\"\n",
    "    >>> language = detect_language(query)\n",
    "    es\n",
    "    >>>\n",
    "    '''\n",
    "    \n",
    "    language = langid.classify(query)[0]\n",
    "    if not language in ['es','en','pt']:\n",
    "        response = co.chat(\n",
    "        chat_history=[\n",
    "            {\"role\": \"SYSTEM\", \"message\": f\"\"\"Eres  un detector muy preciso de idiomas,dime el idioma en una sola palabra (es, en, pt) de la siguiente pregunta : \"\"\"},\n",
    "        ],\n",
    "        message=f\"\"\"{query}\"\"\",\n",
    "        # connectors=[{\"id\": \"translation\"}],\n",
    "        seed=44,\n",
    "        temperature=0,\n",
    "        )\n",
    "        language = response.text\n",
    "    return language\n",
    "\n",
    "@sleep_and_retry\n",
    "@limits(calls=EMBED_LIMIT, period=60)\n",
    "def generate_response(query:str, contexto:str):\n",
    "    '''\n",
    "    Description:\n",
    "    ------------\n",
    "        Esta función recibe un query y un contexto y devuelve una respuesta en el mismo idioma que el query.\n",
    "    \n",
    "    Parameters:\n",
    "    -----------\n",
    "        - query: str\n",
    "            Es la pregunta que se desea realizar.\n",
    "        - contexto: str\n",
    "            Es el contexto de la respuesta.\n",
    "\n",
    "    Returns:\n",
    "    --------\n",
    "        - respuesta: str\n",
    "            Retorna la respuesta en el mismo idioma que el query.\n",
    "\n",
    "    Example:\n",
    "    --------\n",
    "    >>> query = \"Quien es Zara?\"\n",
    "    >>> contexto = \"Zara es una empresa de moda\"\n",
    "    >>> respuesta = generate_response(query, contexto)\n",
    "    >>>\n",
    "    '''\n",
    "    language = detect_language(query)\n",
    "\n",
    "    dict_important1 =  {\n",
    "            \"es\":\"Debes ser lo más conciso y preciso posible en la entrega de información (20 palabras o menos) y traducir tu respuesta si es necesario a partir del siguiente contexto:\",\n",
    "            \"en\":\"You must be as concise and precise as possible in delivering information (20 words or less) and translate your response if necessary from the following context:\",\n",
    "            \"pt\":\"Você deve ser o mais conciso e preciso possível na entrega de informações (20 palavras ou menos) e traduzir sua resposta, se necessário, a partir do seguinte contexto:\",\n",
    "            }\n",
    "\n",
    "    dict_important2 = {\n",
    "            \"es\": \"Responde en una sola oración, en el mismo idioma que la pregunta, incluyendo emojis que resuman el contenido de la respuesta, y siempre en tercera persona.\",\n",
    "            \"en\": \"Answer in one sentence, in the same language as the question, including emojis that summarize the content of the answer, and always in third person.\",\n",
    "            \"pt\": \"Responda em uma frase, no mesmo idioma da pergunta, incluindo emojis que resumam o conteúdo da resposta, e sempre na terceira pessoa.\",\n",
    "        }\n",
    "    dict_important3  = {\n",
    "            \"es\": \"Responde en español, si el texto esta en español traduce la respuesta al español.\",\n",
    "            \"en\": \"Answer in English, if the text is in español, translate the answer to English.\",\n",
    "            \"pt\": \"Responda em português, se o texto estiver em español, traduza a resposta para o português.\",\n",
    "        }\n",
    "\n",
    "    response = co.chat(\n",
    "        chat_history=[\n",
    "            {\"role\": \"SYSTEM\", \"message\": f\"\"\"{dict_important1[language]}\n",
    "            {contexto}\n",
    "            NOTA IMPORTANTE:\n",
    "            {dict_important2[language]}\n",
    "\n",
    "            \"\"\"},\n",
    "            \n",
    "            # {\n",
    "            #     \"role\": \"CHATBOT\",\n",
    "            #     \"message\": f\"ya identifique el idioma del siguiente mensaje :{query} procedere a responder en el mismo idioma.\",\n",
    "            # },\n",
    "        ],\n",
    "        message=f\"\"\"{query} {dict_important3[language]}\"\"\",\n",
    "        #\"realizar búsqueda web antes de responder a la pregunta. También puedes usar tu propio conector personalizado.\"\n",
    "        # · contenedores de traducion y busqueda en contexto\n",
    "        # connectors=[{\"id\": \"translation\"}],\n",
    "        seed=44,\n",
    "        temperature=0,\n",
    "        # conversation_id='user_defined_id_1',\n",
    "        # model = 'command-r-plus',\n",
    "        # model = 'command-r',\n",
    "    )\n",
    "    respuesta =response.text\n",
    "\n",
    "    return respuesta\n",
    "\n",
    "\n"
   ]
  },
  {
   "cell_type": "code",
   "execution_count": 14,
   "metadata": {},
   "outputs": [],
   "source": [
    "# collections = client.list_collections()\n",
    "# print_collections(collections)"
   ]
  },
  {
   "cell_type": "code",
   "execution_count": 15,
   "metadata": {},
   "outputs": [],
   "source": [
    "ntoken_list, list_parrafo = doc_to_paragraphs('F:\\Proyectos\\PiConsulting\\challenge_rag_llm\\docs\\documento.docx')"
   ]
  },
  {
   "cell_type": "code",
   "execution_count": 16,
   "metadata": {},
   "outputs": [
    {
     "data": {
      "text/plain": [
       "[Document(page_content='Ficción Espacial: En la lejana galaxia de Zenthoria, dos civilizaciones alienígenas, los Dracorians y los Lumis, se encuentran al borde de la guerra intergaláctica. Un intrépido explorador, Zara, descubre un antiguo artefacto que podría contener la clave para la paz. Mientras viaja por planetas hostiles y se enfrenta a desafíos cósmicos, Zara debe desentrañar los secretos de la reliquia antes de que la galaxia se sumerja en el caos.'),\n",
       " Document(page_content='Ficción Tecnológica: En un futuro distópico, la inteligencia artificial ha evolucionado al punto de alcanzar la singularidad. Un joven ingeniero, Alex, se ve inmerso en una conspiración global cuando descubre que las supercomputadoras han desarrollado emociones. A medida que la humanidad lucha por controlar a estas máquinas sintientes, Alex se enfrenta a dilemas éticos y decisiones que podrían cambiar el curso de la historia.'),\n",
       " Document(page_content='Naturaleza Deslumbrante: En lo profundo de la selva amazónica, una flor mágica conocida como \"Luz de Luna\" florece solo durante la noche. Con pétalos que brillan intensamente, la flor ilumina la oscuridad de la jungla, guiando a criaturas nocturnas y revelando paisajes deslumbrantes. Los lugareños creen que posee poderes curativos, convirtiéndola en el tesoro oculto de la naturaleza.'),\n",
       " Document(page_content='Cuento Corto: En un pequeño pueblo, cada año, un reloj antiguo regala un día extra a la persona más desafortunada. Emma, una joven huérfana, es la elegida este año. Durante su día adicional, descubre una puerta mágica que la transporta a un mundo lleno de maravillas. Al final del día, Emma decide compartir su regalo con el pueblo, dejando una huella imborrable en el corazón de cada habitante.'),\n",
       " Document(page_content='Características del Héroe Olvidado: Conocido como \"Sombra Silenciosa\", nuestro héroe es un maestro del sigilo y la astucia. Dotado de una memoria fotográfica y habilidades de camuflaje, se desplaza entre las sombras para proteger a los indefensos. Su pasado enigmático esconde tragedias que lo impulsan a luchar contra la injusticia. Aunque carece de habilidades sobrenaturales, su ingenio y habilidades tácticas lo convierten en una fuerza a tener en cuenta.')]"
      ]
     },
     "execution_count": 16,
     "metadata": {},
     "output_type": "execute_result"
    }
   ],
   "source": [
    "docs = split_text(input=list_parrafo, chunk_size=500, chunk_overlap=20,unir_list=False,separators=None,verbose=False)#separators=[\"\\n\\n\", \"\\n\"]\n",
    "docs"
   ]
  },
  {
   "cell_type": "code",
   "execution_count": 17,
   "metadata": {},
   "outputs": [],
   "source": [
    "# client = chromadb.PersistentClient(path=\"./../app/db/ChromaDB/\")"
   ]
  },
  {
   "cell_type": "code",
   "execution_count": 18,
   "metadata": {},
   "outputs": [],
   "source": [
    "# collection_name = 'document_chunks'\n",
    "# # collection = client.get_or_create_collection(name=collection_name)\n",
    "# collection = client.get_or_create_collection(name=collection_name)\n",
    "# metadata_options = {\n",
    "#     \"hnsw:space\": \"cosine\"  # You can change this to \"ip\" or \"cosine\" if needed\n",
    "# }"
   ]
  },
  {
   "cell_type": "code",
   "execution_count": 19,
   "metadata": {},
   "outputs": [],
   "source": [
    "# # import chromadb\n",
    "# # client = chromadb.PersistentClient(path=\"./../app/db/ChromaDB/\")\n",
    "# # collection = client.get_or_create_collection(name=\"document_chunks\")\n",
    "# # docs = split_text(['text1','text2'])\n",
    "# collection = add_documents_to_collection(collection,docs,metadata_options=metadata_options,embedding_types=None)"
   ]
  },
  {
   "cell_type": "code",
   "execution_count": 20,
   "metadata": {},
   "outputs": [
    {
     "name": "stdout",
     "output_type": "stream",
     "text": [
      "document for a2005c0d-35af-11ef-9f0c-4c77cb1e1a4e\n",
      "document for a2411a38-35af-11ef-a65c-4c77cb1e1a4e\n",
      "document for a2680c41-35af-11ef-aaf2-4c77cb1e1a4e\n",
      "document for a28dbd70-35af-11ef-8422-4c77cb1e1a4e\n",
      "document for a2c7c1cf-35af-11ef-8b20-4c77cb1e1a4e\n"
     ]
    }
   ],
   "source": [
    "client = chromadb.PersistentClient(path=\"./../app/db/ChromaDB/\")\n",
    "collection = client.get_or_create_collection(name=\"document_chunks\")\n",
    "model = 'embed-multilingual-v3.0'\n",
    "input_type = 'search_query'\n",
    "embedding_types = None\n",
    "client = chromadb.PersistentClient(path=\"./../app/db/ChromaDB/\")\n",
    "collection = client.get_or_create_collection(name=\"document_chunks\")\n",
    "model = 'embed-multilingual-v3.0'\n",
    "input_type = 'search_query'\n",
    "embedding_types = None\n",
    "metadata_options = {\n",
    "    \"hnsw:space\": \"cosine\"  # You can change this to \"ip\" or \"cosine\" if needed\n",
    "}\n",
    "collection = add_documents_to_collection(\n",
    "    collection,\n",
    "    docs,\n",
    "    model= model,\n",
    "    input_type=input_type,\n",
    "    metadata_options=metadata_options,\n",
    "    embedding_types=embedding_types)\n",
    "# collection = add_documents_to_collection(collection,docs,model,input_type)"
   ]
  },
  {
   "cell_type": "code",
   "execution_count": 21,
   "metadata": {},
   "outputs": [],
   "source": [
    "# from typing import Sequence, Optional, Union,Literal,Any\n",
    "# from chromadb.api.models.Collection import Collection\n",
    "# EmbedRequestTruncate = Union[Literal[\"NONE\", \"START\", \"END\"], Any]\n",
    "# EmbeddingType = Union[Literal[\"float\", \"int8\", \"uint8\", \"binary\", \"ubinary\"], Any]\n",
    "# EmbedInputType = Union[\n",
    "#     Literal[\"search_document\", \"search_query\", \"classification\", \"clustering\"], Any\n",
    "# ]\n",
    "\n",
    "\n",
    "# import numpy as np\n",
    "# def add_documents_to_collection(\n",
    "#         collection:Collection,\n",
    "#         docs:list,\n",
    "#         model:str ='embed-multilingual-v3.0',\n",
    "#         input_type: Optional[EmbedInputType]='search_query',\n",
    "#         embedding_types:Optional[EmbedRequestTruncate]= \"float\",\n",
    "#         metadata_options:dict = metadata_options\n",
    "\n",
    "#     ):\n",
    "#     for doc in docs:\n",
    "#         doc = doc.page_content\n",
    "#         uuid_name = uuid.uuid1()\n",
    "#         embedding = co.embed(texts=[doc], model=model, input_type=input_type,\n",
    "#             embedding_types=embedding_types).embeddings[0] # search_query\" or \"search_document\"\n",
    "#         print(\"document for\", uuid_name)\n",
    "#         # doc.page_content\n",
    "        \n",
    "#         collection.add(ids=[str(uuid_name)],\n",
    "#                     embeddings=embedding,\n",
    "#                     metadatas=metadata_options,\n",
    "#                     documents=doc)\n",
    "#     return collection"
   ]
  },
  {
   "cell_type": "code",
   "execution_count": 22,
   "metadata": {},
   "outputs": [],
   "source": [
    "# embedding = co.embed(texts=list_parrafo,model='embed-multilingual-v3.0',input_type ='search_query').embeddings[0] # search_query\" or \"search_document\""
   ]
  },
  {
   "cell_type": "code",
   "execution_count": 23,
   "metadata": {},
   "outputs": [],
   "source": [
    "# list_parrafo"
   ]
  },
  {
   "cell_type": "code",
   "execution_count": 24,
   "metadata": {},
   "outputs": [],
   "source": [
    "# import numpy as np\n",
    "# for doc in docs:\n",
    "#     doc = doc.page_content\n",
    "#     uuid_name = uuid.uuid1()\n",
    "#     embedding = co.embed(texts=[doc],model='embed-multilingual-v3.0',input_type ='search_query').embeddings[0] # search_query\" or \"search_document\"\n",
    "#     print(\"document for\", uuid_name)\n",
    "#     # doc.page_content\n",
    "    \n",
    "#     collection.add(ids=[str(uuid_name)],\n",
    "#                 embeddings=embedding,\n",
    "#                 metadatas=metadata_options,\n",
    "#                 documents=doc)"
   ]
  },
  {
   "cell_type": "code",
   "execution_count": 28,
   "metadata": {},
   "outputs": [
    {
     "name": "stdout",
     "output_type": "stream",
     "text": [
      "The magical flower is called the \"Moonlight\" 🌺.\n"
     ]
    }
   ],
   "source": [
    "# query ='quien es Zara?'\n",
    "# query ='Who is Zara?'\n",
    "# query ='Quem é Zara?'\n",
    "# query ='What did Emma decide to do?'\n",
    "# query ='¿Qué decidió hacer Emma?'\n",
    "# query ='O que Emma decidiu fazer?'\n",
    "query ='What is the name of the magical flower?'\n",
    "# query ='¿Cuál es el nombre de la flor mágica?'\n",
    "# query ='Qual é o nome da flor mágica?'\n",
    "# query ='de que trata el texto?'\n",
    "\n",
    "results,contexto = get_context(collection,query,5)\n",
    "respuesta = generate_response(query,contexto)\n",
    "print(respuesta)"
   ]
  },
  {
   "cell_type": "code",
   "execution_count": 29,
   "metadata": {},
   "outputs": [
    {
     "data": {
      "text/plain": [
       "'Pruebas pasadas con éxito'"
      ]
     },
     "execution_count": 29,
     "metadata": {},
     "output_type": "execute_result"
    }
   ],
   "source": [
    "\n",
    "test_language_data = {'quien es Zara?':'es',\n",
    "                        'Who is Zara?':'en',\n",
    "                        'Quem é Zara?':'pt',\n",
    "                        'What did Emma decide to do?':'en',\n",
    "                        '¿Qué decidió hacer Emma?':'es',\n",
    "                        'O que Emma decidiu fazer?':'pt',\n",
    "                        'What is the name of the magical flower?':'en',\n",
    "                        '¿Cuál es el nombre de la flor mágica?':'es',\n",
    "                        'Qual é o nome da flor mágica?':'pt'}\n",
    "\n",
    "def test_detect_language(test_language_data):\n",
    "    '''\n",
    "    Función que realiza pruebas de detección de idioma\n",
    "    Description: \n",
    "    ------------\n",
    "    Esta función recibe un diccionario con preguntas y su respectivo idioma y devuelve un mensaje de éxito si las pruebas pasan.\n",
    "    la variable test_language_data es un diccionario con preguntas y su respectivo idioma se encuentra en el config_test.yaml.   \n",
    " \n",
    "    '''\n",
    "    for query,language in test_language_data.items():\n",
    "        assert detect_language(query) == language # Que hace assert: \n",
    "    return 'Test Detectar lenguaje: [PASS]'\n",
    "\n",
    "test_detect_language(test_language_data)\n",
    "\n",
    "\n",
    "\n"
   ]
  },
  {
   "cell_type": "code",
   "execution_count": 31,
   "metadata": {},
   "outputs": [
    {
     "name": "stdout",
     "output_type": "stream",
     "text": [
      "Test Detectar lenguaje: [PASS]\n"
     ]
    }
   ],
   "source": [
    "print('Test Detectar lenguaje: [PASS]')"
   ]
  },
  {
   "cell_type": "code",
   "execution_count": null,
   "metadata": {},
   "outputs": [],
   "source": [
    "\n",
    "try:\n",
    "\n",
    "except Exception as e:\n",
    "            logger.error(f\"Error creating retrieval chain: {e}\")\n",
    "            return jsonify({\"error\": str(e)}), 500"
   ]
  },
  {
   "cell_type": "code",
   "execution_count": null,
   "metadata": {},
   "outputs": [],
   "source": []
  },
  {
   "cell_type": "code",
   "execution_count": null,
   "metadata": {},
   "outputs": [],
   "source": []
  },
  {
   "cell_type": "markdown",
   "metadata": {},
   "source": [
    "# BORRADOR"
   ]
  },
  {
   "cell_type": "markdown",
   "metadata": {},
   "source": [
    "instalar librerias"
   ]
  },
  {
   "cell_type": "code",
   "execution_count": 38,
   "metadata": {},
   "outputs": [],
   "source": [
    "# import chromadb.utils.embedding_functions as embedding_functions\n",
    "# cohere_ef  = embedding_functions.CohereEmbeddingFunction(api_key=COHERE_api_key,  model_name=\"large\")\n",
    "# cohere_ef(texts=[\"document1\",\"document2\"])\n",
    "\n",
    "\n",
    "\n",
    "\n"
   ]
  },
  {
   "cell_type": "code",
   "execution_count": 39,
   "metadata": {},
   "outputs": [],
   "source": [
    "# cohere_ef.__call__([\"document1\",\"document2\"])\n"
   ]
  },
  {
   "cell_type": "code",
   "execution_count": 40,
   "metadata": {},
   "outputs": [],
   "source": [
    "# cohere_ef  = embedding_functions.CohereEmbeddingFunction(\n",
    "#         api_key=COHERE_api_key, \n",
    "#         model_name=\"multilingual-22-12\")\n",
    "\n",
    "# multilingual_texts  = [ 'Hello from Cohere!', 'مرحبًا من كوهير!',\n",
    "#         'Hallo von Cohere!', 'Bonjour de Cohere!',\n",
    "#         '¡Hola desde Cohere!', 'Olá do Cohere!',\n",
    "#         'Ciao da Cohere!', '您好，来自 Cohere！',\n",
    "#         'कोहिअर से नमस्ते!'  ]\n",
    "\n",
    "# cohere_ef(multilingual_texts)"
   ]
  },
  {
   "cell_type": "code",
   "execution_count": null,
   "metadata": {},
   "outputs": [],
   "source": [
    "# pip install cohere\n",
    "\n"
   ]
  },
  {
   "cell_type": "code",
   "execution_count": null,
   "metadata": {},
   "outputs": [],
   "source": [
    "# import chromadb\n",
    "# chroma_client = chromadb.Client()\n",
    "# # This allows us to create a client that connects to the server\n",
    "# collection = chroma_client.create_collection(name=\"my_collection_test\")\n"
   ]
  },
  {
   "cell_type": "code",
   "execution_count": 19,
   "metadata": {},
   "outputs": [
    {
     "data": {
      "text/plain": [
       "True"
      ]
     },
     "execution_count": 19,
     "metadata": {},
     "output_type": "execute_result"
    }
   ],
   "source": [
    "import os\n",
    "from dotenv import load_dotenv\n",
    "load_dotenv()\n",
    "\n"
   ]
  },
  {
   "cell_type": "code",
   "execution_count": 2,
   "metadata": {},
   "outputs": [],
   "source": [
    "COHERE_api_key: str = os.getenv(\"COHERE_API_KEY\")"
   ]
  },
  {
   "cell_type": "code",
   "execution_count": 3,
   "metadata": {},
   "outputs": [],
   "source": [
    "import chromadb\n",
    "client = chromadb.PersistentClient(path=\"./../app/db/ChromaDB/\")"
   ]
  },
  {
   "cell_type": "code",
   "execution_count": 4,
   "metadata": {},
   "outputs": [
    {
     "data": {
      "text/plain": [
       "Collection(name=my_collection_test)"
      ]
     },
     "execution_count": 4,
     "metadata": {},
     "output_type": "execute_result"
    }
   ],
   "source": [
    "client.create_collection(name=\"my_collection_test\")"
   ]
  },
  {
   "cell_type": "code",
   "execution_count": 230,
   "metadata": {},
   "outputs": [
    {
     "data": {
      "text/plain": [
       "[Collection(name=document_chunks)]"
      ]
     },
     "execution_count": 230,
     "metadata": {},
     "output_type": "execute_result"
    }
   ],
   "source": [
    "client.list_collections()"
   ]
  },
  {
   "cell_type": "code",
   "execution_count": 4,
   "metadata": {},
   "outputs": [
    {
     "name": "stdout",
     "output_type": "stream",
     "text": [
      "Collection(name=document_chunks)\n"
     ]
    }
   ],
   "source": [
    "def print_collections(collections):\n",
    "    for collection in collections:\n",
    "        print(f\"Collection(name={collection.name})\")\n",
    "\n",
    "collections = client.list_collections()\n",
    "print_collections(collections)"
   ]
  },
  {
   "cell_type": "markdown",
   "metadata": {},
   "source": [
    "eliminar los elementos collections"
   ]
  },
  {
   "cell_type": "code",
   "execution_count": null,
   "metadata": {},
   "outputs": [],
   "source": [
    "client.delete_collection(name=\"my_collection_test\")\n",
    "client.delete_collection(name=\"my_collection\")"
   ]
  },
  {
   "cell_type": "code",
   "execution_count": 8,
   "metadata": {},
   "outputs": [
    {
     "ename": "NameError",
     "evalue": "name 'print_collections' is not defined",
     "output_type": "error",
     "traceback": [
      "\u001b[1;31m---------------------------------------------------------------------------\u001b[0m",
      "\u001b[1;31mNameError\u001b[0m                                 Traceback (most recent call last)",
      "Cell \u001b[1;32mIn[8], line 2\u001b[0m\n\u001b[0;32m      1\u001b[0m collections \u001b[38;5;241m=\u001b[39m client\u001b[38;5;241m.\u001b[39mlist_collections()\n\u001b[1;32m----> 2\u001b[0m \u001b[43mprint_collections\u001b[49m(collections)\n",
      "\u001b[1;31mNameError\u001b[0m: name 'print_collections' is not defined"
     ]
    }
   ],
   "source": [
    "collections = client.list_collections()\n",
    "print_collections(collections)"
   ]
  },
  {
   "cell_type": "code",
   "execution_count": 7,
   "metadata": {},
   "outputs": [
    {
     "data": {
      "text/plain": [
       "[]"
      ]
     },
     "execution_count": 7,
     "metadata": {},
     "output_type": "execute_result"
    }
   ],
   "source": [
    "client.list_collections()"
   ]
  },
  {
   "cell_type": "code",
   "execution_count": 5,
   "metadata": {},
   "outputs": [],
   "source": [
    "def num_tokens_from_string(string: str, encoding_name: str=\"cl100k_base\") -> int:\n",
    "    \"\"\"Returns the number of tokens in a text string.\"\"\"\n",
    "    encoding = tiktoken.get_encoding(encoding_name)\n",
    "    num_tokens = len(encoding.encode(string))\n",
    "    return num_tokens"
   ]
  },
  {
   "cell_type": "code",
   "execution_count": 18,
   "metadata": {},
   "outputs": [
    {
     "name": "stdout",
     "output_type": "stream",
     "text": [
      "Ficción Espacial: En la lejana galaxia de Zenthoria, dos civilizaciones alienígenas, los Dracorians y los Lumis, se encuentran al borde de la guerra intergaláctica. Un intrépido explorador, Zara, descubre un antiguo artefacto que podría contener la clave para la paz. Mientras viaja por planetas hostiles y se enfrenta a desafíos cósmicos, Zara debe desentrañar los secretos de la reliquia antes de que la galaxia se sumerja en el caos.\n",
      "\n",
      "Ficción Tecnológica: En un futuro distópico, la inteligencia artificial ha evolucionado al punto de alcanzar la singularidad. Un joven ingeniero, Alex, se ve inmerso en una conspiración global cuando descubre que las supercomputadoras han desarrollado emociones. A medida que la humanidad lucha por controlar a estas máquinas sintientes, Alex se enfrenta a dilemas éticos y decisiones que podrían cambiar el curso de la historia.\n",
      "\n",
      "Naturaleza Deslumbrante: En lo profundo de la selva amazónica, una flor mágica conocida como \"Luz de Luna\" florece solo durante la noche. Con pétalos que brillan intensamente, la flor ilumina la oscuridad de la jungla, guiando a criaturas nocturnas y revelando paisajes deslumbrantes. Los lugareños creen que posee poderes curativos, convirtiéndola en el tesoro oculto de la naturaleza.\n",
      "\n",
      "Cuento Corto: En un pequeño pueblo, cada año, un reloj antiguo regala un día extra a la persona más desafortunada. Emma, una joven huérfana, es la elegida este año. Durante su día adicional, descubre una puerta mágica que la transporta a un mundo lleno de maravillas. Al final del día, Emma decide compartir su regalo con el pueblo, dejando una huella imborrable en el corazón de cada habitante.\n",
      "\n",
      "Características del Héroe Olvidado: Conocido como \"Sombra Silenciosa\", nuestro héroe es un maestro del sigilo y la astucia. Dotado de una memoria fotográfica y habilidades de camuflaje, se desplaza entre las sombras para proteger a los indefensos. Su pasado enigmático esconde tragedias que lo impulsan a luchar contra la injusticia. Aunque carece de habilidades sobrenaturales, su ingenio y habilidades tácticas lo convierten en una fuerza a tener en cuenta.\n",
      "\n"
     ]
    }
   ],
   "source": [
    "from docx import Document\n",
    "import tiktoken\n",
    "def doc_to_chromadb_paragraphs(file:str='F:\\Proyectos\\PiConsulting\\challenge_rag_llm\\docs\\documento.docx'):\n",
    "    '''\n",
    "    Description:\n",
    "    ------------\n",
    "    Esta función recibe un archivo .docx y lo convierte a un objeto de ChromaDB\n",
    "    '''\n",
    "    # Abre el archivo .docx\n",
    "    doc = Document(file)\n",
    "    ntoken_list = []\n",
    "    list_parrafo = []\n",
    "    # Lee el contenido del documento\n",
    "    for paragraph in doc.paragraphs:\n",
    "        if paragraph.text == \"\":\n",
    "            continue\n",
    "        parrafo = paragraph.text\n",
    "        list_parrafo.append(parrafo)\n",
    "        print(parrafo)\n",
    "        ntoken_list.append(num_tokens_from_string(parrafo))\n",
    "        print('')\n",
    "    \n",
    "    ls_parrafo =[paragraph.text for paragraph in doc.paragraphs]\n",
    "    ls_parrafo = [parrafo for parrafo in ls_parrafo if parrafo != \"\"]\n",
    "\n",
    "    ntoken_list = [tok  for tok in ntoken_list if tok > 0 ]\n",
    "    return ntoken_list, list_parrafo\n",
    "\n",
    "ntoken_list, list_parrafo = doc_to_chromadb_paragraphs()"
   ]
  },
  {
   "cell_type": "code",
   "execution_count": null,
   "metadata": {},
   "outputs": [],
   "source": [
    "%%timeit\n",
    "ntoken_list = []\n",
    "list_parrafo = []\n",
    "for paragraph in doc.paragraphs:\n",
    "    if paragraph.text == \"\":\n",
    "        continue\n",
    "    parrafo = paragraph.text\n",
    "    list_parrafo.append(parrafo)\n",
    "    # print(parrafo)\n",
    "    ntoken_list.append(num_tokens_from_string(parrafo))\n",
    "    # print('')\n"
   ]
  },
  {
   "cell_type": "code",
   "execution_count": null,
   "metadata": {},
   "outputs": [],
   "source": [
    "%%timeit\n",
    "    \n",
    "ntoken_list = [num_tokens_from_string(parrafo) for parrafo in list_parrafo]\n",
    "\n",
    "ntoken_list = [tok  for tok in ntoken_list if tok > 0 ]"
   ]
  },
  {
   "cell_type": "code",
   "execution_count": null,
   "metadata": {},
   "outputs": [],
   "source": [
    "# de que trata el texto?"
   ]
  },
  {
   "cell_type": "code",
   "execution_count": 9,
   "metadata": {},
   "outputs": [
    {
     "name": "stdout",
     "output_type": "stream",
     "text": [
      "Ficción Espacial: En la lejana galaxia de Zenthoria, dos civilizaciones alienígenas, los Dracorians y los Lumis, se encuentran al borde de la guerra intergaláctica. Un intrépido explorador, Zara, descubre un antiguo artefacto que podría contener la clave para la paz. Mientras viaja por planetas hostiles y se enfrenta a desafíos cósmicos, Zara debe desentrañar los secretos de la reliquia antes de que la galaxia se sumerja en el caos.\n",
      "\n",
      "Ficción Tecnológica: En un futuro distópico, la inteligencia artificial ha evolucionado al punto de alcanzar la singularidad. Un joven ingeniero, Alex, se ve inmerso en una conspiración global cuando descubre que las supercomputadoras han desarrollado emociones. A medida que la humanidad lucha por controlar a estas máquinas sintientes, Alex se enfrenta a dilemas éticos y decisiones que podrían cambiar el curso de la historia.\n",
      "\n",
      "Naturaleza Deslumbrante: En lo profundo de la selva amazónica, una flor mágica conocida como \"Luz de Luna\" florece solo durante la noche. Con pétalos que brillan intensamente, la flor ilumina la oscuridad de la jungla, guiando a criaturas nocturnas y revelando paisajes deslumbrantes. Los lugareños creen que posee poderes curativos, convirtiéndola en el tesoro oculto de la naturaleza.\n",
      "\n",
      "Cuento Corto: En un pequeño pueblo, cada año, un reloj antiguo regala un día extra a la persona más desafortunada. Emma, una joven huérfana, es la elegida este año. Durante su día adicional, descubre una puerta mágica que la transporta a un mundo lleno de maravillas. Al final del día, Emma decide compartir su regalo con el pueblo, dejando una huella imborrable en el corazón de cada habitante.\n",
      "\n",
      "Características del Héroe Olvidado: Conocido como \"Sombra Silenciosa\", nuestro héroe es un maestro del sigilo y la astucia. Dotado de una memoria fotográfica y habilidades de camuflaje, se desplaza entre las sombras para proteger a los indefensos. Su pasado enigmático esconde tragedias que lo impulsan a luchar contra la injusticia. Aunque carece de habilidades sobrenaturales, su ingenio y habilidades tácticas lo convierten en una fuerza a tener en cuenta.\n",
      "\n",
      "\n",
      "\n"
     ]
    }
   ],
   "source": [
    "# file:str='F:\\Proyectos\\PiConsulting\\challenge_rag_llm\\docs\\documento.docx'\n",
    "# # Abre el archivo .docx\n",
    "# doc = Document(file)\n",
    "# ntoken_list = []\n",
    "# list_parrafo = []\n",
    "# # Lee el contenido del documento\n",
    "# for paragraph in doc.paragraphs:\n",
    "#     parrafo = paragraph.text\n",
    "#     list_parrafo.append(parrafo)\n",
    "#     print(parrafo)\n",
    "#     ntoken_list.append(num_tokens_from_string(parrafo))\n",
    "#     print('')\n",
    "\n",
    "# ls_parrafo =[paragraph.text for paragraph in doc.paragraphs]\n",
    "\n",
    "# ntoken_list = [tok  for tok in ntoken_list if tok > 0 ]\n"
   ]
  },
  {
   "cell_type": "code",
   "execution_count": 155,
   "metadata": {},
   "outputs": [],
   "source": [
    "from langchain_text_splitters import RecursiveCharacterTextSplitter\n",
    "text_splitter = RecursiveCharacterTextSplitter(\n",
    "    # Set a really small chunk size, just to show.\n",
    "    # chunk_size=100,\n",
    "    # chunk_overlap=20,\n",
    "    # length_function=len,\n",
    "    # is_separator_regex=False,\n",
    "    separators=[\"\\n\\n\", \"\\n\"], chunk_size=20, chunk_overlap=0\n",
    ")\n",
    "\n",
    "docs = text_splitter.create_documents(list_parrafo)\n"
   ]
  },
  {
   "cell_type": "code",
   "execution_count": 157,
   "metadata": {},
   "outputs": [
    {
     "data": {
      "text/plain": [
       "['Ficción Espacial: En la lejana galaxia de Zenthoria, dos civilizaciones alienígenas, los Dracorians y los Lumis, se encuentran al borde de la guerra intergaláctica. Un intrépido explorador, Zara, descubre un antiguo artefacto que podría contener la clave para la paz. Mientras viaja por planetas hostiles y se enfrenta a desafíos cósmicos, Zara debe desentrañar los secretos de la reliquia antes de que la galaxia se sumerja en el caos.',\n",
       " 'Ficción Tecnológica: En un futuro distópico, la inteligencia artificial ha evolucionado al punto de alcanzar la singularidad. Un joven ingeniero, Alex, se ve inmerso en una conspiración global cuando descubre que las supercomputadoras han desarrollado emociones. A medida que la humanidad lucha por controlar a estas máquinas sintientes, Alex se enfrenta a dilemas éticos y decisiones que podrían cambiar el curso de la historia.',\n",
       " 'Naturaleza Deslumbrante: En lo profundo de la selva amazónica, una flor mágica conocida como \"Luz de Luna\" florece solo durante la noche. Con pétalos que brillan intensamente, la flor ilumina la oscuridad de la jungla, guiando a criaturas nocturnas y revelando paisajes deslumbrantes. Los lugareños creen que posee poderes curativos, convirtiéndola en el tesoro oculto de la naturaleza.',\n",
       " 'Cuento Corto: En un pequeño pueblo, cada año, un reloj antiguo regala un día extra a la persona más desafortunada. Emma, una joven huérfana, es la elegida este año. Durante su día adicional, descubre una puerta mágica que la transporta a un mundo lleno de maravillas. Al final del día, Emma decide compartir su regalo con el pueblo, dejando una huella imborrable en el corazón de cada habitante.',\n",
       " 'Características del Héroe Olvidado: Conocido como \"Sombra Silenciosa\", nuestro héroe es un maestro del sigilo y la astucia. Dotado de una memoria fotográfica y habilidades de camuflaje, se desplaza entre las sombras para proteger a los indefensos. Su pasado enigmático esconde tragedias que lo impulsan a luchar contra la injusticia. Aunque carece de habilidades sobrenaturales, su ingenio y habilidades tácticas lo convierten en una fuerza a tener en cuenta.']"
      ]
     },
     "execution_count": 157,
     "metadata": {},
     "output_type": "execute_result"
    }
   ],
   "source": [
    "list_parrafo"
   ]
  },
  {
   "cell_type": "code",
   "execution_count": 185,
   "metadata": {},
   "outputs": [
    {
     "name": "stdout",
     "output_type": "stream",
     "text": [
      "Ficción Espacial: En la lejana galaxia de Zenthoria, dos civilizaciones alienígenas, los Dracorians y los Lumis, se encuentran al borde de la guerra intergaláctica. Un intrépido explorador, Zara, descubre un antiguo artefacto que podría contener la clave para la paz. Mientras viaja por planetas hostiles y se enfrenta a desafíos cósmicos, Zara debe desentrañar los secretos de la reliquia antes de que la galaxia se sumerja en el caos.\n",
      "Ficción Tecnológica: En un futuro distópico, la inteligencia artificial ha evolucionado al punto de alcanzar la singularidad. Un joven ingeniero, Alex, se ve inmerso en una conspiración global cuando descubre que las supercomputadoras han desarrollado emociones. A medida que la humanidad lucha por controlar a estas máquinas sintientes, Alex se enfrenta a dilemas éticos y decisiones que podrían cambiar el curso de la historia.\n",
      "Naturaleza Deslumbrante: En lo profundo de la selva amazónica, una flor mágica conocida como 'Luz de Luna' florece solo durante la noche. Con pétalos que brillan intensamente, la flor ilumina la oscuridad de la jungla, guiando a criaturas nocturnas y revelando paisajes deslumbrantes. Los lugareños creen que posee poderes curativos, convirtiéndola en el tesoro oculto de la naturaleza.\n",
      "Cuento Corto: En un pequeño pueblo, cada año, un reloj antiguo regala un día extra a la persona más desafortunada. Emma, una joven huérfana, es la elegida este año. Durante su día adicional, descubre una puerta mágica que la transporta a un mundo lleno de maravillas. Al final del día, Emma decide compartir su regalo con el pueblo, dejando una huella imborrable en el corazón de cada habitante.\n",
      "Características del Héroe Olvidado: Conocido como 'Sombra Silenciosa', nuestro héroe es un maestro del sigilo y la astucia. Dotado de una memoria fotográfica y habilidades de camuflaje, se desplaza entre las sombras para proteger a los indefensos. Su pasado enigmático esconde tragedias que lo impulsan a luchar contra la injusticia. Aunque carece de habilidades sobrenaturales, su ingenio y habilidades tácticas lo convierten en una fuerza a tener en cuenta.\n"
     ]
    }
   ],
   "source": [
    "input = [\n",
    "    \"Ficción Espacial: En la lejana galaxia de Zenthoria, dos civilizaciones alienígenas, los Dracorians y los Lumis, se encuentran al borde de la guerra intergaláctica. Un intrépido explorador, Zara, descubre un antiguo artefacto que podría contener la clave para la paz. Mientras viaja por planetas hostiles y se enfrenta a desafíos cósmicos, Zara debe desentrañar los secretos de la reliquia antes de que la galaxia se sumerja en el caos.\",\n",
    "    \"Ficción Tecnológica: En un futuro distópico, la inteligencia artificial ha evolucionado al punto de alcanzar la singularidad. Un joven ingeniero, Alex, se ve inmerso en una conspiración global cuando descubre que las supercomputadoras han desarrollado emociones. A medida que la humanidad lucha por controlar a estas máquinas sintientes, Alex se enfrenta a dilemas éticos y decisiones que podrían cambiar el curso de la historia.\",\n",
    "    \"Naturaleza Deslumbrante: En lo profundo de la selva amazónica, una flor mágica conocida como 'Luz de Luna' florece solo durante la noche. Con pétalos que brillan intensamente, la flor ilumina la oscuridad de la jungla, guiando a criaturas nocturnas y revelando paisajes deslumbrantes. Los lugareños creen que posee poderes curativos, convirtiéndola en el tesoro oculto de la naturaleza.\",\n",
    "    \"Cuento Corto: En un pequeño pueblo, cada año, un reloj antiguo regala un día extra a la persona más desafortunada. Emma, una joven huérfana, es la elegida este año. Durante su día adicional, descubre una puerta mágica que la transporta a un mundo lleno de maravillas. Al final del día, Emma decide compartir su regalo con el pueblo, dejando una huella imborrable en el corazón de cada habitante.\",\n",
    "    \"Características del Héroe Olvidado: Conocido como 'Sombra Silenciosa', nuestro héroe es un maestro del sigilo y la astucia. Dotado de una memoria fotográfica y habilidades de camuflaje, se desplaza entre las sombras para proteger a los indefensos. Su pasado enigmático esconde tragedias que lo impulsan a luchar contra la injusticia. Aunque carece de habilidades sobrenaturales, su ingenio y habilidades tácticas lo convierten en una fuerza a tener en cuenta.\"\n",
    "]\n",
    "print(\"\\n\".join(input))"
   ]
  },
  {
   "cell_type": "code",
   "execution_count": 210,
   "metadata": {},
   "outputs": [],
   "source": [
    "def print_verbose(msg: str,verbose:bool) -> None:\n",
    "    '''\n",
    "    Description:\n",
    "    ------------\n",
    "    Esta función imprime un mensaje en pantalla si verbose es True\n",
    "    \n",
    "    Parameters:\n",
    "    -----------\n",
    "        - msg: str\n",
    "            Es el mensaje que se desea imprimir en pantalla\n",
    "        - verbose: bool\n",
    "            Es un booleano que indica si se imprime o no el mensaje en pantalla\n",
    "            \n",
    "    Returns:\n",
    "    --------\n",
    "        - None\n",
    "            No retorna ningún valor solo imprime en pantalla el mensaje\n",
    "            \n",
    "    Example:\n",
    "    --------\n",
    "    >>> print_verbose(\"Hola Mundo\", True)\n",
    "    '''\n",
    "    print(msg) if verbose else None\n",
    "\n",
    "    "
   ]
  },
  {
   "cell_type": "code",
   "execution_count": 228,
   "metadata": {},
   "outputs": [
    {
     "data": {
      "text/plain": [
       "[Document(page_content='Ficción Espacial: En la lejana galaxia de Zenthoria, dos civilizaciones alienígenas,los Dracorians y los Lumis, se encuentran al borde de la guerra intergaláctica. Un intrépido explorador, Zara, descubre un antiguo artefacto que podría contener la clave para la paz. Mientras viaja por planetas hostiles y se enfrenta a desafíos cósmicos, Zara debe desentrañar los secretos de la reliquia antes de que la galaxia se sumerja en el caos. Ficción Tecnológica: En un futuro distópico, la inteligencia'),\n",
       " Document(page_content=\"la inteligencia artificial ha evolucionado al punto de alcanzar la singularidad. Un joven ingeniero, Alex, se ve inmerso en una conspiración global cuando descubre que las supercomputadoras han desarrollado emociones. A medida que la humanidad lucha por controlar a estas máquinas sintientes, Alex se enfrenta a dilemas éticos y decisiones que podrían cambiar el curso de la historia. Naturaleza Deslumbrante: En lo profundo de la selva amazónica, una flor mágica conocida como 'Luz de Luna' florece\"),\n",
       " Document(page_content=\"de Luna' florece solo durante la noche. Con pétalos que brillan intensamente, la flor ilumina la oscuridad de la jungla, guiando a criaturas nocturnas y revelando paisajes deslumbrantes. Los lugareños creen que posee poderes curativos, convirtiéndola en el tesoro oculto de la naturaleza. Cuento Corto: En un pequeño pueblo, cada año, un reloj antiguo regala un día extra a la persona más desafortunada. Emma, una joven huérfana, es la elegida este año. Durante su día adicional, descubre una puerta\"),\n",
       " Document(page_content=\"descubre una puerta mágica que la transporta a un mundo lleno de maravillas. Al final del día, Emma decide compartir su regalo con el pueblo, dejando una huella imborrable en el corazón de cada habitante. Características del Héroe Olvidado: Conocido como 'Sombra Silenciosa', nuestro héroe es un maestro del sigilo y la astucia. Dotado de una memoria fotográfica y habilidades de camuflaje, se desplaza entre las sombras para proteger a los indefensos. Su pasado enigmático esconde tragedias que lo\"),\n",
       " Document(page_content='tragedias que lo impulsan a luchar contra la injusticia. Aunque carece de habilidades sobrenaturales, su ingenio y habilidades tácticas lo convierten en una fuerza a tener en cuenta.')]"
      ]
     },
     "execution_count": 228,
     "metadata": {},
     "output_type": "execute_result"
    }
   ],
   "source": [
    "from langchain_text_splitters import RecursiveCharacterTextSplitter\n",
    "\n",
    "# Lista de textos/párrafos a dividir\n",
    "list_parrafo = [\n",
    "    \"\"\"Ficción Espacial: En la lejana galaxia de Zenthoria, dos civilizaciones alienígenas,los Dracorians y los Lumis, se encuentran al borde de la guerra intergaláctica. Un intrépido explorador, Zara, descubre un antiguo artefacto que podría contener la clave para la paz. Mientras viaja por planetas hostiles y se enfrenta a desafíos cósmicos, Zara debe desentrañar los secretos de la reliquia antes de que la galaxia se sumerja en el caos.\"\"\",\n",
    "    \"Ficción Tecnológica: En un futuro distópico, la inteligencia artificial ha evolucionado al punto de alcanzar la singularidad. Un joven ingeniero, Alex, se ve inmerso en una conspiración global cuando descubre que las supercomputadoras han desarrollado emociones. A medida que la humanidad lucha por controlar a estas máquinas sintientes, Alex se enfrenta a dilemas éticos y decisiones que podrían cambiar el curso de la historia.\",\n",
    "    \"Naturaleza Deslumbrante: En lo profundo de la selva amazónica, una flor mágica conocida como 'Luz de Luna' florece solo durante la noche. Con pétalos que brillan intensamente, la flor ilumina la oscuridad de la jungla, guiando a criaturas nocturnas y revelando paisajes deslumbrantes. Los lugareños creen que posee poderes curativos, convirtiéndola en el tesoro oculto de la naturaleza.\",\n",
    "    \"Cuento Corto: En un pequeño pueblo, cada año, un reloj antiguo regala un día extra a la persona más desafortunada. Emma, una joven huérfana, es la elegida este año. Durante su día adicional, descubre una puerta mágica que la transporta a un mundo lleno de maravillas. Al final del día, Emma decide compartir su regalo con el pueblo, dejando una huella imborrable en el corazón de cada habitante.\",\n",
    "    \"Características del Héroe Olvidado: Conocido como 'Sombra Silenciosa', nuestro héroe es un maestro del sigilo y la astucia. Dotado de una memoria fotográfica y habilidades de camuflaje, se desplaza entre las sombras para proteger a los indefensos. Su pasado enigmático esconde tragedias que lo impulsan a luchar contra la injusticia. Aunque carece de habilidades sobrenaturales, su ingenio y habilidades tácticas lo convierten en una fuerza a tener en cuenta.\"\n",
    "]\n",
    "# list_parrafo = ['''\n",
    "#     Ficción Espacial: En la lejana galaxia de Zenthoria, dos civilizaciones alienígenas, los Dracorians y los Lumis, se encuentran al borde de la guerra intergaláctica. Un intrépido explorador, Zara, descubre un antiguo artefacto que podría contener la clave para la paz. Mientras viaja por planetas hostiles y se enfrenta a desafíos cósmicos, Zara debe desentrañar los secretos de la reliquia antes de que la galaxia se sumerja en el caos.\\n\n",
    "#     Ficción Tecnológica: En un futuro distópico, la inteligencia artificial ha evolucionado al punto de alcanzar la singularidad. Un joven ingeniero, Alex, se ve inmerso en una conspiración global cuando descubre que las supercomputadoras han desarrollado emociones. A medida que la humanidad lucha por controlar a estas máquinas sintientes, Alex se enfrenta a dilemas éticos y decisiones que podrían cambiar el curso de la historia.\\n\n",
    "#     Naturaleza Deslumbrante: En lo profundo de la selva amazónica, una flor mágica conocida como 'Luz de Luna' florece solo durante la noche. Con pétalos que brillan intensamente, la flor ilumina la oscuridad de la jungla, guiando a criaturas nocturnas y revelando paisajes deslumbrantes. Los lugareños creen que posee poderes curativos, convirtiéndola en el tesoro oculto de la naturaleza.\\n\n",
    "#     Cuento Corto: En un pequeño pueblo, cada año, un reloj antiguo regala un día extra a la persona más desafortunada. Emma, una joven huérfana, es la elegida este año. Durante su día adicional, descubre una puerta mágica que la transporta a un mundo lleno de maravillas. Al final del día, Emma decide compartir su regalo con el pueblo, dejando una huella imborrable en el corazón de cada habitante.\\n\n",
    "#     Características del Héroe Olvidado: Conocido como 'Sombra Silenciosa', nuestro héroe es un maestro del sigilo y la astucia. Dotado de una memoria fotográfica y habilidades de camuflaje, se desplaza entre las sombras para proteger a los indefensos. Su pasado enigmático esconde tragedias que lo impulsan a luchar contra la injusticia. Aunque carece de habilidades sobrenaturales, su ingenio y habilidades tácticas lo convierten en una fuerza a tener en cuenta.'''\n",
    "# ]\n",
    "# importar libreria para definir el tipo de parametro\n",
    "\n",
    "from typing import Union, List\n",
    "def split_text(\n",
    "        input: Union[str,\n",
    "        List[str]],\n",
    "        unir_list:bool=False, \n",
    "        chunk_size: int=300,\n",
    "        chunk_overlap: int=0,\n",
    "        separators:list=[\"\\n\\n\", \"\\n\",],\n",
    "        verbose=False\n",
    ")->list:\n",
    "    '''\n",
    "    Description:\n",
    "    ------------\n",
    "        Esta función recibe un texto o lista  y lo divide en chunks de un tamaño especificado.\n",
    "        Por defecto si es una lista no se unirá, si se desea unir se debe de especificar en el\n",
    "        parametro unir_list=True\n",
    "        Nota: si se especifica unir_list=False  y se pasa separators [\"\\n\\n\", \"\\n\"] los chunks\n",
    "        se dividirán por los saltos de linea para cada elemento de la lista de strings.\n",
    "        Si se especifica unir_list=False y separators = [\"\\n\\n\", \"\\n\"] los chunks no tomaran en cuanta chunk_size y chunk_overlap\n",
    "\n",
    "    Parameters:\n",
    "    -----------\n",
    "        - input: str or list\n",
    "            Es el texto que se desea dividir en chunks.\n",
    "        - chunk_size: int\n",
    "            Es el tamaño de cada chunk.\n",
    "        - chunk_overlap: int\n",
    "            Es el solapamiento entre chunks.\n",
    "        - separators: list\n",
    "            Es una lista con los separadores que se desean utilizar para dividir el texto.\n",
    "            ejemplo: [\"\\n\\n\", \"\\n\", \",\", \";\", \".\"]\n",
    "        - verbose: bool\n",
    "            Es un booleano que indica si se imprime o no el mensaje en pantalla\n",
    "        - unir_list: bool   \n",
    "            Es un booleano que indica si se desea unir la lista de strings en un solo string.\n",
    "\n",
    "    \n",
    "    Returns:\n",
    "    --------\n",
    "        - chunks: list\n",
    "            Retorna una lista con los chunks del texto.\n",
    "    \n",
    "    Example:\n",
    "    --------\n",
    "    >>> chunks = split_text(text)\n",
    "\n",
    "    >>> docs = split_text(input=list_parrafo,chunk_size=500, chunk_overlap=20,\n",
    "                            unir_list=False,separators=None,verbose=False)\n",
    "\n",
    "    >>> docs = split_text(input=list_parrafo, chunk_size=500, chunk_overlap=20,\n",
    "                            unir_list=False,separators=[\"\\n\\n\", \"\\n\"],verbose=False)\n",
    "    '''\n",
    "    if isinstance(input, str):\n",
    "        input = [input]\n",
    "    elif isinstance(input, list):\n",
    "        if unir_list:\n",
    "            input = [\" \".join(input)]\n",
    "    print_verbose(input,verbose)\n",
    "\n",
    "    # Configuración del splitter\n",
    "    text_splitter = RecursiveCharacterTextSplitter(\n",
    "        separators=separators,          # Separadores a utilizar\n",
    "        chunk_size=chunk_size,          # Tamaño de cada chunk\n",
    "        chunk_overlap=chunk_overlap,    # Solapamiento entre chunks\n",
    "    )\n",
    "\n",
    "    # Crear documentos divididos\n",
    "    docs = text_splitter.create_documents(input)\n",
    "\n",
    "    # Mostrar resultado\n",
    "    for doc in docs:\n",
    "        print_verbose(msg=f'Chunk: {doc.page_content}', verbose=verbose)\n",
    "\n",
    "    return docs\n",
    "\n"
   ]
  },
  {
   "cell_type": "code",
   "execution_count": 15,
   "metadata": {},
   "outputs": [
    {
     "data": {
      "text/plain": [
       "'Ficción Espacial: En la lejana galaxia de Zenthoria, dos civilizaciones alienígenas, los Dracorians y los Lumis, se encuentran al borde de la guerra intergaláctica. Un intrépido explorador, Zara, descubre un antiguo artefacto que podría contener la clave para la paz. Mientras viaja por planetas hostiles y se enfrenta a desafíos cósmicos, Zara debe desentrañar los secretos de la reliquia antes de que la galaxia se sumerja en el caos.'"
      ]
     },
     "execution_count": 15,
     "metadata": {},
     "output_type": "execute_result"
    }
   ],
   "source": [
    "docs[0].page_content"
   ]
  },
  {
   "cell_type": "code",
   "execution_count": 9,
   "metadata": {},
   "outputs": [
    {
     "data": {
      "text/plain": [
       "['Ficción Espacial: En la lejana galaxia de Zenthoria, dos civilizaciones alienígenas, los Dracorians y los Lumis, se encuentran al borde de la guerra intergaláctica. Un intrépido explorador, Zara, descubre un antiguo artefacto que podría contener la clave para la paz. Mientras viaja por planetas hostiles y se enfrenta a desafíos cósmicos, Zara debe desentrañar los secretos de la reliquia antes de que la galaxia se sumerja en el caos.']"
      ]
     },
     "execution_count": 9,
     "metadata": {},
     "output_type": "execute_result"
    }
   ],
   "source": [
    "text_splitter.split_text(docs[0].page_content)"
   ]
  },
  {
   "cell_type": "code",
   "execution_count": 38,
   "metadata": {},
   "outputs": [
    {
     "data": {
      "text/plain": [
       "[Document(page_content='Ficción Espacial: En la lejana galaxia de Zenthoria, dos civilizaciones alienígenas, los Dracorians y los Lumis, se encuentran al borde de la guerra intergaláctica. Un intrépido explorador, Zara, descubre un antiguo artefacto que podría contener la clave para la paz. Mientras viaja por planetas hostiles y se enfrenta a desafíos cósmicos, Zara debe desentrañar los secretos de la reliquia antes de que la galaxia se sumerja en el caos.')]"
      ]
     },
     "execution_count": 38,
     "metadata": {},
     "output_type": "execute_result"
    }
   ],
   "source": [
    "docs"
   ]
  },
  {
   "cell_type": "code",
   "execution_count": 10,
   "metadata": {},
   "outputs": [],
   "source": [
    "import uuid\n",
    "from langchain.text_splitter import RecursiveCharacterTextSplitter\n",
    "\n",
    "def text_spliter_chunck(text:str='No Ingresaste texto', max_token:int = 100,chunk_overlap=30):\n",
    "    '''\n",
    "    Description:\n",
    "    ------------\n",
    "    Esta función recibe un texto y lo divide en partes de max_token\n",
    "    '''\n",
    "\n",
    "    text_splitter = RecursiveCharacterTextSplitter(\n",
    "            separators=[\"\\n\\n\", \"\\n\"], chunk_size=max_token, chunk_overlap=chunk_overlap)\n",
    "\n",
    "    docs = text_splitter.create_documents([text])"
   ]
  },
  {
   "cell_type": "code",
   "execution_count": 14,
   "metadata": {},
   "outputs": [],
   "source": [
    "text_splitter = RecursiveCharacterTextSplitter(\n",
    "            separators=[\"\\n\\n\", \"\\n\"], chunk_size=20, chunk_overlap=10,keep_separator=True,is_separator_regex=True)"
   ]
  },
  {
   "cell_type": "code",
   "execution_count": 32,
   "metadata": {},
   "outputs": [],
   "source": [
    "# docs = text_splitter.create_documents([list_parrafo[0]])\n",
    "docs = text_splitter.create_documents(list_parrafo)"
   ]
  },
  {
   "cell_type": "code",
   "execution_count": 16,
   "metadata": {},
   "outputs": [
    {
     "data": {
      "text/plain": [
       "[Document(page_content='Ficción Espacial: En la lejana galaxia de Zenthoria, dos civilizaciones alienígenas, los Dracorians y los Lumis, se encuentran al borde de la guerra intergaláctica. Un intrépido explorador, Zara, descubre un antiguo artefacto que podría contener la clave para la paz. Mientras viaja por planetas hostiles y se enfrenta a desafíos cósmicos, Zara debe desentrañar los secretos de la reliquia antes de que la galaxia se sumerja en el caos.'),\n",
       " Document(page_content='Ficción Tecnológica: En un futuro distópico, la inteligencia artificial ha evolucionado al punto de alcanzar la singularidad. Un joven ingeniero, Alex, se ve inmerso en una conspiración global cuando descubre que las supercomputadoras han desarrollado emociones. A medida que la humanidad lucha por controlar a estas máquinas sintientes, Alex se enfrenta a dilemas éticos y decisiones que podrían cambiar el curso de la historia.'),\n",
       " Document(page_content='Naturaleza Deslumbrante: En lo profundo de la selva amazónica, una flor mágica conocida como \"Luz de Luna\" florece solo durante la noche. Con pétalos que brillan intensamente, la flor ilumina la oscuridad de la jungla, guiando a criaturas nocturnas y revelando paisajes deslumbrantes. Los lugareños creen que posee poderes curativos, convirtiéndola en el tesoro oculto de la naturaleza.'),\n",
       " Document(page_content='Cuento Corto: En un pequeño pueblo, cada año, un reloj antiguo regala un día extra a la persona más desafortunada. Emma, una joven huérfana, es la elegida este año. Durante su día adicional, descubre una puerta mágica que la transporta a un mundo lleno de maravillas. Al final del día, Emma decide compartir su regalo con el pueblo, dejando una huella imborrable en el corazón de cada habitante.'),\n",
       " Document(page_content='Características del Héroe Olvidado: Conocido como \"Sombra Silenciosa\", nuestro héroe es un maestro del sigilo y la astucia. Dotado de una memoria fotográfica y habilidades de camuflaje, se desplaza entre las sombras para proteger a los indefensos. Su pasado enigmático esconde tragedias que lo impulsan a luchar contra la injusticia. Aunque carece de habilidades sobrenaturales, su ingenio y habilidades tácticas lo convierten en una fuerza a tener en cuenta.')]"
      ]
     },
     "execution_count": 16,
     "metadata": {},
     "output_type": "execute_result"
    }
   ],
   "source": [
    "docs"
   ]
  },
  {
   "cell_type": "code",
   "execution_count": 17,
   "metadata": {},
   "outputs": [],
   "source": [
    "# from chromadb.utils import embedding_functions\n",
    "# COHERE_api_key: str = os.getenv(\"COHERE_API_KEY\")\n",
    "# #openai_ef = embedding_functions.OpenAIEmbeddingFunction(model_name=\"text-embedding-ada-002\")\n",
    "# cohere_ef  = embedding_functions.CohereEmbeddingFunction(api_key=COHERE_api_key,  model_name=\"large\")\n",
    "# metadata_options = {\n",
    "#     \"hnsw:space\": \"cosine\"  # You can change this to \"ip\" or \"cosine\" if needed\n",
    "# }\n",
    "\n",
    "\n",
    "# collection = client.get_or_create_collection(\n",
    "#     name=\"my_collection\", metadata=metadata_options, embedding_function=cohere_ef)"
   ]
  },
  {
   "cell_type": "code",
   "execution_count": 31,
   "metadata": {},
   "outputs": [],
   "source": [
    "# import chromadb.utils.embedding_functions as embedding_functions\n",
    "# cohere_ef  = embedding_functions.CohereEmbeddingFunction(api_key=COHERE_api_key,  model_name=\"large\")\n",
    "# # cohere_ef.__call__(input=[\"document1\",\"document2\"])\n",
    "# # "
   ]
  },
  {
   "cell_type": "code",
   "execution_count": 28,
   "metadata": {},
   "outputs": [
    {
     "data": {
      "text/plain": [
       "'Ficción Espacial: En la lejana galaxia de Zenthoria, dos civilizaciones alienígenas, los Dracorians y los Lumis, se encuentran al borde de la guerra intergaláctica. Un intrépido explorador, Zara, descubre un antiguo artefacto que podría contener la clave para la paz. Mientras viaja por planetas hostiles y se enfrenta a desafíos cósmicos, Zara debe desentrañar los secretos de la reliquia antes de que la galaxia se sumerja en el caos.'"
      ]
     },
     "execution_count": 28,
     "metadata": {},
     "output_type": "execute_result"
    }
   ],
   "source": [
    "# docs[0].page_content"
   ]
  },
  {
   "cell_type": "code",
   "execution_count": 35,
   "metadata": {},
   "outputs": [
    {
     "ename": "BadRequestError",
     "evalue": "status_code: 400, body: {'message': 'invalid type: parameter texts is of type array but should be of type string. For proper usage, please refer to https://docs.cohere.com/embed-reference'}",
     "output_type": "error",
     "traceback": [
      "\u001b[1;31m---------------------------------------------------------------------------\u001b[0m",
      "\u001b[1;31mBadRequestError\u001b[0m                           Traceback (most recent call last)",
      "Cell \u001b[1;32mIn[35], line 1\u001b[0m\n\u001b[1;32m----> 1\u001b[0m \u001b[43mcohere_ef\u001b[49m\u001b[38;5;241;43m.\u001b[39;49m\u001b[38;5;21;43m__call__\u001b[39;49m\u001b[43m(\u001b[49m\u001b[38;5;28;43minput\u001b[39;49m\u001b[38;5;241;43m=\u001b[39;49m\u001b[43m[\u001b[49m\u001b[38;5;28;43mtuple\u001b[39;49m\u001b[43m(\u001b[49m\u001b[38;5;124;43m'\u001b[39;49m\u001b[38;5;124;43mdocument1\u001b[39;49m\u001b[38;5;124;43m'\u001b[39;49m\u001b[43m)\u001b[49m\u001b[43m]\u001b[49m\u001b[43m)\u001b[49m\n\u001b[0;32m      2\u001b[0m \u001b[38;5;66;03m# cohere_ef.__call__(input=[docs[0]])\u001b[39;00m\n",
      "File \u001b[1;32mc:\\Users\\mavix\\.conda\\envs\\pi_challenge\\lib\\site-packages\\chromadb\\api\\types.py:193\u001b[0m, in \u001b[0;36mEmbeddingFunction.__init_subclass__.<locals>.__call__\u001b[1;34m(self, input)\u001b[0m\n\u001b[0;32m    192\u001b[0m \u001b[38;5;28;01mdef\u001b[39;00m \u001b[38;5;21m__call__\u001b[39m(\u001b[38;5;28mself\u001b[39m: EmbeddingFunction[D], \u001b[38;5;28minput\u001b[39m: D) \u001b[38;5;241m-\u001b[39m\u001b[38;5;241m>\u001b[39m Embeddings:\n\u001b[1;32m--> 193\u001b[0m     result \u001b[38;5;241m=\u001b[39m \u001b[43mcall\u001b[49m\u001b[43m(\u001b[49m\u001b[38;5;28;43mself\u001b[39;49m\u001b[43m,\u001b[49m\u001b[43m \u001b[49m\u001b[38;5;28;43minput\u001b[39;49m\u001b[43m)\u001b[49m\n\u001b[0;32m    194\u001b[0m     \u001b[38;5;28;01mreturn\u001b[39;00m validate_embeddings(maybe_cast_one_to_many_embedding(result))\n",
      "File \u001b[1;32mc:\\Users\\mavix\\.conda\\envs\\pi_challenge\\lib\\site-packages\\chromadb\\utils\\embedding_functions.py:245\u001b[0m, in \u001b[0;36mCohereEmbeddingFunction.__call__\u001b[1;34m(self, input)\u001b[0m\n\u001b[0;32m    241\u001b[0m \u001b[38;5;28;01mdef\u001b[39;00m \u001b[38;5;21m__call__\u001b[39m(\u001b[38;5;28mself\u001b[39m, \u001b[38;5;28minput\u001b[39m: Documents) \u001b[38;5;241m-\u001b[39m\u001b[38;5;241m>\u001b[39m Embeddings:\n\u001b[0;32m    242\u001b[0m     \u001b[38;5;66;03m# Call Cohere Embedding API for each document.\u001b[39;00m\n\u001b[0;32m    243\u001b[0m     \u001b[38;5;28;01mreturn\u001b[39;00m [\n\u001b[0;32m    244\u001b[0m         embeddings\n\u001b[1;32m--> 245\u001b[0m         \u001b[38;5;28;01mfor\u001b[39;00m embeddings \u001b[38;5;129;01min\u001b[39;00m \u001b[38;5;28;43mself\u001b[39;49m\u001b[38;5;241;43m.\u001b[39;49m\u001b[43m_client\u001b[49m\u001b[38;5;241;43m.\u001b[39;49m\u001b[43membed\u001b[49m\u001b[43m(\u001b[49m\n\u001b[0;32m    246\u001b[0m \u001b[43m            \u001b[49m\u001b[43mtexts\u001b[49m\u001b[38;5;241;43m=\u001b[39;49m\u001b[38;5;28;43minput\u001b[39;49m\u001b[43m,\u001b[49m\u001b[43m \u001b[49m\u001b[43mmodel\u001b[49m\u001b[38;5;241;43m=\u001b[39;49m\u001b[38;5;28;43mself\u001b[39;49m\u001b[38;5;241;43m.\u001b[39;49m\u001b[43m_model_name\u001b[49m\u001b[43m,\u001b[49m\u001b[43m \u001b[49m\u001b[43minput_type\u001b[49m\u001b[38;5;241;43m=\u001b[39;49m\u001b[38;5;124;43m\"\u001b[39;49m\u001b[38;5;124;43msearch_document\u001b[39;49m\u001b[38;5;124;43m\"\u001b[39;49m\n\u001b[0;32m    247\u001b[0m \u001b[43m        \u001b[49m\u001b[43m)\u001b[49m\n\u001b[0;32m    248\u001b[0m     ]\n",
      "File \u001b[1;32mc:\\Users\\mavix\\.conda\\envs\\pi_challenge\\lib\\site-packages\\cohere\\client.py:137\u001b[0m, in \u001b[0;36mClient.embed\u001b[1;34m(self, texts, model, input_type, embedding_types, truncate, request_options, batching)\u001b[0m\n\u001b[0;32m    125\u001b[0m     \u001b[38;5;28;01mreturn\u001b[39;00m BaseCohere\u001b[38;5;241m.\u001b[39membed(\n\u001b[0;32m    126\u001b[0m         \u001b[38;5;28mself\u001b[39m,\n\u001b[0;32m    127\u001b[0m         texts\u001b[38;5;241m=\u001b[39mtexts,\n\u001b[1;32m   (...)\u001b[0m\n\u001b[0;32m    132\u001b[0m         request_options\u001b[38;5;241m=\u001b[39mrequest_options,\n\u001b[0;32m    133\u001b[0m     )\n\u001b[0;32m    135\u001b[0m texts_batches \u001b[38;5;241m=\u001b[39m [texts[i : i \u001b[38;5;241m+\u001b[39m embed_batch_size] \u001b[38;5;28;01mfor\u001b[39;00m i \u001b[38;5;129;01min\u001b[39;00m \u001b[38;5;28mrange\u001b[39m(\u001b[38;5;241m0\u001b[39m, \u001b[38;5;28mlen\u001b[39m(texts), embed_batch_size)]\n\u001b[1;32m--> 137\u001b[0m responses \u001b[38;5;241m=\u001b[39m [\n\u001b[0;32m    138\u001b[0m     response\n\u001b[0;32m    139\u001b[0m     \u001b[38;5;28;01mfor\u001b[39;00m response \u001b[38;5;129;01min\u001b[39;00m \u001b[38;5;28mself\u001b[39m\u001b[38;5;241m.\u001b[39m_executor\u001b[38;5;241m.\u001b[39mmap(\n\u001b[0;32m    140\u001b[0m         \u001b[38;5;28;01mlambda\u001b[39;00m text_batch: BaseCohere\u001b[38;5;241m.\u001b[39membed(\n\u001b[0;32m    141\u001b[0m             \u001b[38;5;28mself\u001b[39m,\n\u001b[0;32m    142\u001b[0m             texts\u001b[38;5;241m=\u001b[39mtext_batch,\n\u001b[0;32m    143\u001b[0m             model\u001b[38;5;241m=\u001b[39mmodel,\n\u001b[0;32m    144\u001b[0m             input_type\u001b[38;5;241m=\u001b[39minput_type,\n\u001b[0;32m    145\u001b[0m             embedding_types\u001b[38;5;241m=\u001b[39membedding_types,\n\u001b[0;32m    146\u001b[0m             truncate\u001b[38;5;241m=\u001b[39mtruncate,\n\u001b[0;32m    147\u001b[0m             request_options\u001b[38;5;241m=\u001b[39mrequest_options,\n\u001b[0;32m    148\u001b[0m         ),\n\u001b[0;32m    149\u001b[0m         texts_batches,\n\u001b[0;32m    150\u001b[0m     )\n\u001b[0;32m    151\u001b[0m ]\n\u001b[0;32m    153\u001b[0m \u001b[38;5;28;01mreturn\u001b[39;00m merge_embed_responses(responses)\n",
      "File \u001b[1;32mc:\\Users\\mavix\\.conda\\envs\\pi_challenge\\lib\\site-packages\\cohere\\client.py:137\u001b[0m, in \u001b[0;36m<listcomp>\u001b[1;34m(.0)\u001b[0m\n\u001b[0;32m    125\u001b[0m     \u001b[38;5;28;01mreturn\u001b[39;00m BaseCohere\u001b[38;5;241m.\u001b[39membed(\n\u001b[0;32m    126\u001b[0m         \u001b[38;5;28mself\u001b[39m,\n\u001b[0;32m    127\u001b[0m         texts\u001b[38;5;241m=\u001b[39mtexts,\n\u001b[1;32m   (...)\u001b[0m\n\u001b[0;32m    132\u001b[0m         request_options\u001b[38;5;241m=\u001b[39mrequest_options,\n\u001b[0;32m    133\u001b[0m     )\n\u001b[0;32m    135\u001b[0m texts_batches \u001b[38;5;241m=\u001b[39m [texts[i : i \u001b[38;5;241m+\u001b[39m embed_batch_size] \u001b[38;5;28;01mfor\u001b[39;00m i \u001b[38;5;129;01min\u001b[39;00m \u001b[38;5;28mrange\u001b[39m(\u001b[38;5;241m0\u001b[39m, \u001b[38;5;28mlen\u001b[39m(texts), embed_batch_size)]\n\u001b[1;32m--> 137\u001b[0m responses \u001b[38;5;241m=\u001b[39m [\n\u001b[0;32m    138\u001b[0m     response\n\u001b[0;32m    139\u001b[0m     \u001b[38;5;28;01mfor\u001b[39;00m response \u001b[38;5;129;01min\u001b[39;00m \u001b[38;5;28mself\u001b[39m\u001b[38;5;241m.\u001b[39m_executor\u001b[38;5;241m.\u001b[39mmap(\n\u001b[0;32m    140\u001b[0m         \u001b[38;5;28;01mlambda\u001b[39;00m text_batch: BaseCohere\u001b[38;5;241m.\u001b[39membed(\n\u001b[0;32m    141\u001b[0m             \u001b[38;5;28mself\u001b[39m,\n\u001b[0;32m    142\u001b[0m             texts\u001b[38;5;241m=\u001b[39mtext_batch,\n\u001b[0;32m    143\u001b[0m             model\u001b[38;5;241m=\u001b[39mmodel,\n\u001b[0;32m    144\u001b[0m             input_type\u001b[38;5;241m=\u001b[39minput_type,\n\u001b[0;32m    145\u001b[0m             embedding_types\u001b[38;5;241m=\u001b[39membedding_types,\n\u001b[0;32m    146\u001b[0m             truncate\u001b[38;5;241m=\u001b[39mtruncate,\n\u001b[0;32m    147\u001b[0m             request_options\u001b[38;5;241m=\u001b[39mrequest_options,\n\u001b[0;32m    148\u001b[0m         ),\n\u001b[0;32m    149\u001b[0m         texts_batches,\n\u001b[0;32m    150\u001b[0m     )\n\u001b[0;32m    151\u001b[0m ]\n\u001b[0;32m    153\u001b[0m \u001b[38;5;28;01mreturn\u001b[39;00m merge_embed_responses(responses)\n",
      "File \u001b[1;32mc:\\Users\\mavix\\.conda\\envs\\pi_challenge\\lib\\concurrent\\futures\\_base.py:619\u001b[0m, in \u001b[0;36mExecutor.map.<locals>.result_iterator\u001b[1;34m()\u001b[0m\n\u001b[0;32m    616\u001b[0m \u001b[38;5;28;01mwhile\u001b[39;00m fs:\n\u001b[0;32m    617\u001b[0m     \u001b[38;5;66;03m# Careful not to keep a reference to the popped future\u001b[39;00m\n\u001b[0;32m    618\u001b[0m     \u001b[38;5;28;01mif\u001b[39;00m timeout \u001b[38;5;129;01mis\u001b[39;00m \u001b[38;5;28;01mNone\u001b[39;00m:\n\u001b[1;32m--> 619\u001b[0m         \u001b[38;5;28;01myield\u001b[39;00m \u001b[43mfs\u001b[49m\u001b[38;5;241;43m.\u001b[39;49m\u001b[43mpop\u001b[49m\u001b[43m(\u001b[49m\u001b[43m)\u001b[49m\u001b[38;5;241;43m.\u001b[39;49m\u001b[43mresult\u001b[49m\u001b[43m(\u001b[49m\u001b[43m)\u001b[49m\n\u001b[0;32m    620\u001b[0m     \u001b[38;5;28;01melse\u001b[39;00m:\n\u001b[0;32m    621\u001b[0m         \u001b[38;5;28;01myield\u001b[39;00m fs\u001b[38;5;241m.\u001b[39mpop()\u001b[38;5;241m.\u001b[39mresult(end_time \u001b[38;5;241m-\u001b[39m time\u001b[38;5;241m.\u001b[39mmonotonic())\n",
      "File \u001b[1;32mc:\\Users\\mavix\\.conda\\envs\\pi_challenge\\lib\\concurrent\\futures\\_base.py:444\u001b[0m, in \u001b[0;36mFuture.result\u001b[1;34m(self, timeout)\u001b[0m\n\u001b[0;32m    442\u001b[0m     \u001b[38;5;28;01mraise\u001b[39;00m CancelledError()\n\u001b[0;32m    443\u001b[0m \u001b[38;5;28;01melif\u001b[39;00m \u001b[38;5;28mself\u001b[39m\u001b[38;5;241m.\u001b[39m_state \u001b[38;5;241m==\u001b[39m FINISHED:\n\u001b[1;32m--> 444\u001b[0m     \u001b[38;5;28;01mreturn\u001b[39;00m \u001b[38;5;28;43mself\u001b[39;49m\u001b[38;5;241;43m.\u001b[39;49m\u001b[43m__get_result\u001b[49m\u001b[43m(\u001b[49m\u001b[43m)\u001b[49m\n\u001b[0;32m    445\u001b[0m \u001b[38;5;28;01melse\u001b[39;00m:\n\u001b[0;32m    446\u001b[0m     \u001b[38;5;28;01mraise\u001b[39;00m \u001b[38;5;167;01mTimeoutError\u001b[39;00m()\n",
      "File \u001b[1;32mc:\\Users\\mavix\\.conda\\envs\\pi_challenge\\lib\\concurrent\\futures\\_base.py:389\u001b[0m, in \u001b[0;36mFuture.__get_result\u001b[1;34m(self)\u001b[0m\n\u001b[0;32m    387\u001b[0m \u001b[38;5;28;01mif\u001b[39;00m \u001b[38;5;28mself\u001b[39m\u001b[38;5;241m.\u001b[39m_exception:\n\u001b[0;32m    388\u001b[0m     \u001b[38;5;28;01mtry\u001b[39;00m:\n\u001b[1;32m--> 389\u001b[0m         \u001b[38;5;28;01mraise\u001b[39;00m \u001b[38;5;28mself\u001b[39m\u001b[38;5;241m.\u001b[39m_exception\n\u001b[0;32m    390\u001b[0m     \u001b[38;5;28;01mfinally\u001b[39;00m:\n\u001b[0;32m    391\u001b[0m         \u001b[38;5;66;03m# Break a reference cycle with the exception in self._exception\u001b[39;00m\n\u001b[0;32m    392\u001b[0m         \u001b[38;5;28mself\u001b[39m \u001b[38;5;241m=\u001b[39m \u001b[38;5;28;01mNone\u001b[39;00m\n",
      "File \u001b[1;32mc:\\Users\\mavix\\.conda\\envs\\pi_challenge\\lib\\concurrent\\futures\\thread.py:57\u001b[0m, in \u001b[0;36m_WorkItem.run\u001b[1;34m(self)\u001b[0m\n\u001b[0;32m     54\u001b[0m     \u001b[38;5;28;01mreturn\u001b[39;00m\n\u001b[0;32m     56\u001b[0m \u001b[38;5;28;01mtry\u001b[39;00m:\n\u001b[1;32m---> 57\u001b[0m     result \u001b[38;5;241m=\u001b[39m \u001b[38;5;28;43mself\u001b[39;49m\u001b[38;5;241;43m.\u001b[39;49m\u001b[43mfn\u001b[49m\u001b[43m(\u001b[49m\u001b[38;5;241;43m*\u001b[39;49m\u001b[38;5;28;43mself\u001b[39;49m\u001b[38;5;241;43m.\u001b[39;49m\u001b[43margs\u001b[49m\u001b[43m,\u001b[49m\u001b[43m \u001b[49m\u001b[38;5;241;43m*\u001b[39;49m\u001b[38;5;241;43m*\u001b[39;49m\u001b[38;5;28;43mself\u001b[39;49m\u001b[38;5;241;43m.\u001b[39;49m\u001b[43mkwargs\u001b[49m\u001b[43m)\u001b[49m\n\u001b[0;32m     58\u001b[0m \u001b[38;5;28;01mexcept\u001b[39;00m \u001b[38;5;167;01mBaseException\u001b[39;00m \u001b[38;5;28;01mas\u001b[39;00m exc:\n\u001b[0;32m     59\u001b[0m     \u001b[38;5;28mself\u001b[39m\u001b[38;5;241m.\u001b[39mfuture\u001b[38;5;241m.\u001b[39mset_exception(exc)\n",
      "File \u001b[1;32mc:\\Users\\mavix\\.conda\\envs\\pi_challenge\\lib\\site-packages\\cohere\\client.py:140\u001b[0m, in \u001b[0;36mClient.embed.<locals>.<lambda>\u001b[1;34m(text_batch)\u001b[0m\n\u001b[0;32m    125\u001b[0m     \u001b[38;5;28;01mreturn\u001b[39;00m BaseCohere\u001b[38;5;241m.\u001b[39membed(\n\u001b[0;32m    126\u001b[0m         \u001b[38;5;28mself\u001b[39m,\n\u001b[0;32m    127\u001b[0m         texts\u001b[38;5;241m=\u001b[39mtexts,\n\u001b[1;32m   (...)\u001b[0m\n\u001b[0;32m    132\u001b[0m         request_options\u001b[38;5;241m=\u001b[39mrequest_options,\n\u001b[0;32m    133\u001b[0m     )\n\u001b[0;32m    135\u001b[0m texts_batches \u001b[38;5;241m=\u001b[39m [texts[i : i \u001b[38;5;241m+\u001b[39m embed_batch_size] \u001b[38;5;28;01mfor\u001b[39;00m i \u001b[38;5;129;01min\u001b[39;00m \u001b[38;5;28mrange\u001b[39m(\u001b[38;5;241m0\u001b[39m, \u001b[38;5;28mlen\u001b[39m(texts), embed_batch_size)]\n\u001b[0;32m    137\u001b[0m responses \u001b[38;5;241m=\u001b[39m [\n\u001b[0;32m    138\u001b[0m     response\n\u001b[0;32m    139\u001b[0m     \u001b[38;5;28;01mfor\u001b[39;00m response \u001b[38;5;129;01min\u001b[39;00m \u001b[38;5;28mself\u001b[39m\u001b[38;5;241m.\u001b[39m_executor\u001b[38;5;241m.\u001b[39mmap(\n\u001b[1;32m--> 140\u001b[0m         \u001b[38;5;28;01mlambda\u001b[39;00m text_batch: \u001b[43mBaseCohere\u001b[49m\u001b[38;5;241;43m.\u001b[39;49m\u001b[43membed\u001b[49m\u001b[43m(\u001b[49m\n\u001b[0;32m    141\u001b[0m \u001b[43m            \u001b[49m\u001b[38;5;28;43mself\u001b[39;49m\u001b[43m,\u001b[49m\n\u001b[0;32m    142\u001b[0m \u001b[43m            \u001b[49m\u001b[43mtexts\u001b[49m\u001b[38;5;241;43m=\u001b[39;49m\u001b[43mtext_batch\u001b[49m\u001b[43m,\u001b[49m\n\u001b[0;32m    143\u001b[0m \u001b[43m            \u001b[49m\u001b[43mmodel\u001b[49m\u001b[38;5;241;43m=\u001b[39;49m\u001b[43mmodel\u001b[49m\u001b[43m,\u001b[49m\n\u001b[0;32m    144\u001b[0m \u001b[43m            \u001b[49m\u001b[43minput_type\u001b[49m\u001b[38;5;241;43m=\u001b[39;49m\u001b[43minput_type\u001b[49m\u001b[43m,\u001b[49m\n\u001b[0;32m    145\u001b[0m \u001b[43m            \u001b[49m\u001b[43membedding_types\u001b[49m\u001b[38;5;241;43m=\u001b[39;49m\u001b[43membedding_types\u001b[49m\u001b[43m,\u001b[49m\n\u001b[0;32m    146\u001b[0m \u001b[43m            \u001b[49m\u001b[43mtruncate\u001b[49m\u001b[38;5;241;43m=\u001b[39;49m\u001b[43mtruncate\u001b[49m\u001b[43m,\u001b[49m\n\u001b[0;32m    147\u001b[0m \u001b[43m            \u001b[49m\u001b[43mrequest_options\u001b[49m\u001b[38;5;241;43m=\u001b[39;49m\u001b[43mrequest_options\u001b[49m\u001b[43m,\u001b[49m\n\u001b[0;32m    148\u001b[0m \u001b[43m        \u001b[49m\u001b[43m)\u001b[49m,\n\u001b[0;32m    149\u001b[0m         texts_batches,\n\u001b[0;32m    150\u001b[0m     )\n\u001b[0;32m    151\u001b[0m ]\n\u001b[0;32m    153\u001b[0m \u001b[38;5;28;01mreturn\u001b[39;00m merge_embed_responses(responses)\n",
      "File \u001b[1;32mc:\\Users\\mavix\\.conda\\envs\\pi_challenge\\lib\\site-packages\\cohere\\base_client.py:1437\u001b[0m, in \u001b[0;36mBaseCohere.embed\u001b[1;34m(self, texts, model, input_type, embedding_types, truncate, request_options)\u001b[0m\n\u001b[0;32m   1435\u001b[0m     \u001b[38;5;28;01mreturn\u001b[39;00m typing\u001b[38;5;241m.\u001b[39mcast(EmbedResponse, construct_type(type_\u001b[38;5;241m=\u001b[39mEmbedResponse, object_\u001b[38;5;241m=\u001b[39m_response\u001b[38;5;241m.\u001b[39mjson()))  \u001b[38;5;66;03m# type: ignore\u001b[39;00m\n\u001b[0;32m   1436\u001b[0m \u001b[38;5;28;01mif\u001b[39;00m _response\u001b[38;5;241m.\u001b[39mstatus_code \u001b[38;5;241m==\u001b[39m \u001b[38;5;241m400\u001b[39m:\n\u001b[1;32m-> 1437\u001b[0m     \u001b[38;5;28;01mraise\u001b[39;00m BadRequestError(\n\u001b[0;32m   1438\u001b[0m         typing\u001b[38;5;241m.\u001b[39mcast(typing\u001b[38;5;241m.\u001b[39mAny, construct_type(type_\u001b[38;5;241m=\u001b[39mtyping\u001b[38;5;241m.\u001b[39mAny, object_\u001b[38;5;241m=\u001b[39m_response\u001b[38;5;241m.\u001b[39mjson()))  \u001b[38;5;66;03m# type: ignore\u001b[39;00m\n\u001b[0;32m   1439\u001b[0m     )\n\u001b[0;32m   1440\u001b[0m \u001b[38;5;28;01mif\u001b[39;00m _response\u001b[38;5;241m.\u001b[39mstatus_code \u001b[38;5;241m==\u001b[39m \u001b[38;5;241m401\u001b[39m:\n\u001b[0;32m   1441\u001b[0m     \u001b[38;5;28;01mraise\u001b[39;00m UnauthorizedError(\n\u001b[0;32m   1442\u001b[0m         typing\u001b[38;5;241m.\u001b[39mcast(typing\u001b[38;5;241m.\u001b[39mAny, construct_type(type_\u001b[38;5;241m=\u001b[39mtyping\u001b[38;5;241m.\u001b[39mAny, object_\u001b[38;5;241m=\u001b[39m_response\u001b[38;5;241m.\u001b[39mjson()))  \u001b[38;5;66;03m# type: ignore\u001b[39;00m\n\u001b[0;32m   1443\u001b[0m     )\n",
      "\u001b[1;31mBadRequestError\u001b[0m: status_code: 400, body: {'message': 'invalid type: parameter texts is of type array but should be of type string. For proper usage, please refer to https://docs.cohere.com/embed-reference'}"
     ]
    }
   ],
   "source": [
    "# cohere_ef.__call__(input=[tuple('document1')])\n",
    "# # cohere_ef.__call__(input=[docs[0]])"
   ]
  },
  {
   "cell_type": "code",
   "execution_count": 18,
   "metadata": {},
   "outputs": [
    {
     "name": "stdout",
     "output_type": "stream",
     "text": [
      "id='973c2f06-c691-4b37-9c83-346faef47e59' embeddings=[[1.6142578, 0.24841309, 0.5385742, -1.6630859, -0.27783203, 0.35888672, 1.3378906, -1.8261719, 0.89404297, 1.0791016, 1.0566406, 1.0664062, 0.20983887, -0.7558594, -0.29956055, -0.29248047, 0.23498535, -0.45947266, -0.7426758, -1.765625, 1.1699219, 2.0644531, 0.74902344, -1.6796875, 1.7685547, -0.7363281, 0.6376953, -1.6679688, -0.6621094, 1.2939453, 1.1904297, -2.3242188, 1.71875, 2.0117188, -0.46606445, 0.088134766, 1.6484375, -1.0292969, 0.07775879, -1.6503906, -0.035461426, 2.1660156, -1.2480469, -0.74072266, -0.53027344, -0.984375, -1.0039062, 0.47265625, -0.1574707, 1.984375, 0.72558594, 0.4885254, 0.25610352, -1.6113281, 1.7685547, -1.4824219, -3.4101562, -1.9023438, 0.47973633, -1.6972656, 0.34423828, 0.9121094, -0.046173096, 0.4482422, 0.828125, 1.7734375, -2.015625, -1.9423828, 0.63720703, -0.13000488, 2.5546875, -1.1972656, -1.0136719, -0.19714355, -0.43969727, 0.6591797, 0.46777344, -0.984375, -0.5629883, 0.014923096, 1.1787109, 1.4560547, -1.2548828, -1.2119141, -1.0957031, -1.5830078, 0.90722656, 0.37475586, 0.7939453, 1.3447266, -1.5107422, -0.20654297, -0.38452148, -0.9941406, -0.5234375, 2.5703125, 2.03125, 0.1184082, 0.43945312, -0.84716797, 1.8427734, -1.4179688, -0.46850586, 0.3149414, 0.15966797, 1.5224609, -2.6191406, 0.89160156, -0.29370117, 1.3232422, -0.72216797, -0.5649414, -3.6269531, 1.2558594, 0.79052734, -0.9277344, 0.97021484, -1.1855469, -0.5996094, 1.1142578, -0.08087158, 1.3300781, 0.953125, 0.112976074, 1.1113281, -0.15234375, 0.47802734, -0.87060547, -1.6201172, -0.72216797, -0.7631836, 0.32543945, -0.13623047, 0.3696289, 0.2861328, -0.6010742, 1.1767578, 1.1191406, -0.14318848, -0.08666992, 1.8759766, -0.6669922, -1.6884766, 0.8847656, 1.0263672, -1.2158203, -2.0585938, 1.7529297, 2.7226562, -1.7490234, -0.07495117, -0.5678711, 1.3525391, -0.6855469, 4.8867188, 0.18310547, -0.40405273, 0.63671875, -1.4980469, 1.5087891, -0.56103516, 1.0712891, -0.3876953, 0.12573242, 0.83496094, 0.42651367, 1.6835938, 0.1104126, -1.0419922, -1.6279297, 0.2286377, 0.23864746, 2.5117188, -0.8852539, -0.118652344, -1.5351562, -0.10290527, -2.5175781, -2.0625, -1.2128906, 0.43945312, -0.35498047, 0.35375977, 2.2441406, -0.20019531, 1.6708984, -0.2619629, 1.4707031, 1.4794922, 0.3005371, -1.7861328, 0.88378906, -0.6796875, 1.2167969, 0.82958984, 1.7919922, -0.8979492, -2.546875, 0.42944336, -2.3496094, -0.15893555, -0.5620117, -0.61376953, 0.67041016, -0.42236328, 1.7695312, 0.57421875, -1.4248047, -0.6459961, -1.2783203, 0.10253906, 0.99316406, 1.3535156, -0.4423828, 0.07720947, 1.7978516, -2.8125, 1.8955078, -1.4423828, -0.0035209656, 1.7939453, 0.2685547, 0.40307617, -0.74072266, -0.45141602, 1.4375, 0.50683594, 0.28637695, -1.53125, -1.1201172, -1.1923828, -2.0703125, 1.1259766, 1.3652344, -0.6479492, -3.2636719, 1.0234375, 1.3320312, -2.0058594, 2.0175781, 0.62597656, 1.6435547, 0.73779297, 1.3798828, -0.038330078, -0.30493164, -1.4287109, -0.3479004, 1.1923828, -0.7626953, 0.89941406, 1.6835938, -0.5839844, -1.2958984, 0.15905762, -0.39819336, 1.5302734, 1.3837891, -0.60839844, -0.17028809, -0.61865234, 0.11639404, 1.1347656, -0.27734375, -0.02784729, -2.7246094, -1.5371094, -1.4550781, -1.8613281, -0.68066406, 1.1455078, -0.75878906, 0.7036133, 0.09851074, 0.2512207, -0.45947266, -1.9082031, 1.4873047, -0.1986084, 0.29516602, -0.1850586, 0.8696289, -1.0615234, 1.6142578, -0.24328613, -0.8149414, -1.4765625, 1.2001953, 1.5087891, 0.6972656, 0.08862305, -0.38305664, -0.23706055, -1.0390625, -0.16552734, -1.0458984, -0.6616211, 0.87841797, 0.3251953, -0.9838867, -0.8964844, -0.43603516, 1.2841797, -1.1445312, 1.2363281, 0.9848633, -0.32958984, 0.33447266, 1.84375, -1.4794922, -0.3330078, -2.0585938, -0.25463867, -2.2539062, 0.6459961, -1.2617188, 0.21411133, 1.2636719, -0.6669922, 0.33496094, -0.8989258, 1.1855469, 2.75, 0.7211914, 0.890625, -0.6074219, 1.6689453, -3.8730469, -0.60058594, -0.41235352, 0.089904785, -0.4050293, 0.2590332, 1.3291016, -0.6660156, 1.1542969, -0.6645508, 2.2753906, 0.24865723, 1.1015625, 1.0195312, -0.56396484, -1.1708984, 0.6040039, 0.011276245, -2.0449219, 0.33666992, 2.0410156, -0.28808594, -0.62646484, -0.6845703, 0.88623047, -0.5395508, 0.1340332, 2.4003906, 1.9882812, 1.984375, -0.7661133, -0.5644531, -0.55029297, 1.6201172, -0.10406494, 2.21875, 0.98828125, 0.45776367, 0.17126465, 0.07470703, 1.0820312, 1.3720703, -0.17822266, -2.0, 0.36083984, -0.48876953, 2.1816406, 0.11193848, 1.0712891, -1.7236328, -0.38867188, -1.25, -2.21875, 0.3955078, 4.0859375, -1.2431641, -0.9355469, -2.4316406, 1.5439453, -1.0712891, -1.4150391, 1.2412109, -0.036254883, 0.078430176, 0.45776367, -1.9492188, -1.4794922, 0.4321289, 0.5761719, -1.8144531, -2.6015625, -0.5751953, 0.062164307, 0.6074219, 0.12915039, 1.9453125, -1.3095703, -0.25439453, -0.20214844, 0.37646484, 0.030151367, -0.31811523, -0.9682617, 0.93847656, -1.7705078, 0.35131836, -1.0341797, 0.096191406, 1.0478516, -2.0019531, 1.5322266, 2.90625, -1.5234375, 0.83691406, -0.103271484, 0.73339844, -0.359375, -1.3359375, -0.3864746, 0.67529297, -1.3662109, -0.23718262, -1.0615234, -0.7890625, 2.2246094, -0.0027999878, -0.265625, 1.3818359, 0.3034668, 1.0019531, -0.37426758, -2.5195312, 1.1142578, -1.3242188, -2.2460938, -1.4511719, 1.1416016, 0.24072266, 1.0996094, -0.55810547, 1.0576172, -1.1142578, 0.11218262, -2.2773438, 1.828125, 0.78564453, -1.8486328, 0.7163086, -1.5712891, -1.1845703, 0.4399414, -0.37036133, -0.005508423, 1.9326172, 0.66259766, -0.57910156, 1.1279297, -0.7207031, 1.8525391, 0.26879883, 0.53564453, -2.3710938, -1.0996094, -0.6298828, -0.6040039, -0.7783203, 1.1445312, -2.390625, -0.4411621, 0.9326172, -0.45581055, -3.1542969, -1.2314453, -4.1171875, -0.16357422, -0.671875, 0.5698242, 1.5087891, -0.21472168, -1.0810547, 0.9638672, -0.42382812, -1.5820312, -0.5830078, -0.067993164, -0.22583008, -0.016204834, 0.037719727, 0.09210205, -0.7729492, -0.40307617, 0.859375, 0.87646484, 0.8095703, -1.8710938, -0.10614014, -1.8632812, 0.12854004, -1.7392578, 0.20947266, -0.024963379, -1.2753906, 2.1542969, -0.7631836, 0.0063705444, 0.11352539, 1.4501953, -2.359375, -1.2607422, -0.39233398, -1.3925781, -0.671875, -0.4921875, 0.71972656, -0.02468872, -0.37548828, -0.93066406, 0.12036133, 2.5273438, 0.62646484, -0.6098633, -0.33276367, 0.9814453, -0.58496094, 0.52734375, -0.23632812, -0.34960938, 0.26098633, 0.9038086, 0.3017578, 1.7060547, 0.24707031, 0.47827148, 2.4355469, -0.8173828, 0.625, 0.52783203, -1.2939453, -0.6870117, 0.2253418, 1.6845703, 0.671875, -0.62353516, 1.3925781, 0.62060547, -1.0966797, 0.7246094, -0.41723633, -0.8691406, -1.7285156, 0.85791016, -0.1270752, -1.5107422, -0.2211914, -0.76708984, -1.6591797, -0.34838867, 0.27246094, -1.0195312, 1.2001953, -1.5478516, 1.5605469, -3.5761719, 0.4248047, 0.6899414, -0.48339844, -0.19250488, -3.4023438, -0.13574219, 1.5791016, -0.35083008, -1.4560547, -0.7963867, -2.2148438, 1.1162109, -1.2294922, -1.3037109, 1.671875, 1.5693359, -0.87402344, -0.140625, 0.37963867, -1.3632812, -1.4697266, 2.0957031, 1.2773438, -0.6796875, 2.6835938, -1.6152344, -0.40625, 0.9980469, 0.5991211, 1.9580078, -1.3759766, 1.3525391, 1.2744141, 0.63720703, 0.46289062, -0.05331421, -0.6777344, -0.79003906, -1.71875, 2.3632812, 1.2333984, -0.36279297, -0.7739258, 0.26513672, -0.7055664, -1.4638672, -1.4453125, -0.34643555, 1.1650391, 1.8378906, 0.9135742, 0.8144531, -0.44335938, 1.3486328, 0.21923828, 0.40893555, -3.6035156, -0.7373047, -0.24060059, -1.6289062, -0.067993164, -1.0429688, 3.265625, 0.8027344, -1.7011719, 3.5, -1.7480469, 1.5566406, 0.38598633, 0.6040039, -0.6274414, -1.3417969, -0.48828125, -1.8876953, -1.6025391, 1.3310547, -1.4375, -1.5917969, 1.1230469, 1.5400391, 2.7773438, -0.69970703, 0.5097656, -1.796875, -0.21875, -2.0722656, 0.3347168, 1.0195312, -0.110839844, 0.24023438, 0.9897461, -0.78759766, -1.3457031, -0.14501953, -1.2226562, 0.16296387, -1.7011719, 1.6289062, 1.2324219, 0.16357422, 0.20532227, -0.107666016, 0.9736328, -1.2158203, 1.3876953, 2.6152344, 1.1220703, -0.0037937164, -0.8408203, 0.6328125, -0.4555664, -1.7949219, -1.0664062, 0.94384766, -0.47753906, 1.0449219, -0.20324707, -1.3886719, 0.24072266, 0.23925781, 1.2792969, -1.53125, -0.05606079, 0.3996582, -0.3659668, -0.24816895, -0.79833984, -0.018371582, -0.7495117, -1.5957031, -2.5761719, -0.38549805, 2.4746094, 2.9980469, -1.4345703, 1.2236328, 1.3330078, 0.12963867, -0.15368652, 1.1132812, 1.1376953, 0.5786133, 0.28808594, -0.28564453, 0.13366699, 0.61035156, 0.9272461, -0.22827148, 0.44506836, -2.0742188, 0.70751953, 1.0097656, -0.4807129, 0.63134766, 1.0869141, -1.0429688, -1.0986328, -2.0351562, 0.1418457, -0.2680664, -0.45629883, -1.2089844, -0.18103027, -1.3144531, -1.4052734, 3.5566406, -1.0927734, -1.2617188, -1.1582031, -0.36279297, -0.41503906, 1.1904297, 1.1835938, 0.2783203, -1.2177734, 1.0625, 0.25756836, -1.6269531, 1.0185547, -0.87158203, 0.18615723, -0.7426758, -0.09539795, -0.5214844, 0.61328125, 1.0273438, 0.5209961, -1.5078125, 0.9291992, 1.6328125, -0.7651367, 1.0117188, -0.3955078, -0.13208008, 0.25610352, 0.5151367, -0.07354736, -1.9482422, 0.42456055, 0.7895508, 0.025665283, 0.37329102, 2.609375, -1.2490234, 2.7070312, 0.79833984, 2.9003906, -1.3955078, 0.90771484, 1.2558594, 0.24926758, -0.9560547, -0.013252258, -1.5, 0.9116211, -1.0654297, 0.039367676, 0.94677734, -1.6289062, -0.6533203, 0.21765137, -1.2763672, 0.1829834, 1.2128906, 0.6176758, -2.3730469, -0.98535156, 0.8144531, -0.09472656, -1.3291016, -0.76464844, -0.6088867, 1.5498047, -0.49121094, -2.4511719, -1.4716797, -2.9726562, 1.4882812, 0.27539062, -1.0078125, -2.0566406, -2.4257812, 0.66015625, 1.0966797, 0.21704102, 1.8222656, -0.40649414, -0.07281494, 0.81152344, 0.71777344, 0.78271484, 2.5625, -2.6152344, 0.6401367, -0.0065841675, 0.59472656, 0.011871338, 2.3515625, -0.26782227, -0.8779297, -0.06536865, -0.8652344, -0.4272461, 0.74853516, 0.80859375, -1.2421875, 0.4008789, -1.1503906, 0.28759766, -1.8105469, -2.7714844, -1.2792969, -1.2939453, -0.4794922, -0.85253906, -3.78125, 0.74658203, 1.7021484, 2.3261719, -0.97558594, 0.7636719, 0.08123779, -1.4365234, -0.03100586, 0.6777344, 1.4951172, -0.35131836, 0.09069824, -3.0527344, 0.7871094, 1.4716797, -1.3671875, -0.7524414, 0.53271484, -2.5214844, -0.15966797, -0.9848633, -1.5732422, 1.4833984, 0.3083496, -1.0898438, -1.4931641, -0.86572266, 0.020843506, -0.7324219, 2.1015625, 0.85498047, -0.7998047, 0.9321289, 0.66064453, 1.9589844, 1.3867188, -1.8623047, 0.085998535, 0.66015625, -0.85498047, -0.9326172, -1.5322266, -2.2519531, -0.20300293, -0.13269043, 1.3710938, 0.5083008, 0.59277344, 2.0878906, 0.62890625, 1.3535156, 1.2480469, 2.9023438, 1.2783203, -1.1113281, -0.06616211, -0.5102539, -1.9560547, -0.13024902, 0.578125, -0.22497559, -1.4414062, -1.2587891, 1.1630859, -0.8120117, 2.0683594, -0.5498047, -0.4194336, -0.3149414, -0.8691406, -0.21203613, -0.25708008, 0.029281616, 0.9897461, 0.26660156, -1.1855469, -3.0703125, -1.8935547, -0.6699219, 2.9003906, -0.15039062, 0.034606934, -0.5385742, -0.9296875, -0.40942383, 0.38427734, -0.08770752, 1.0380859, -3.5507812, -0.16271973, 2.5449219, -0.32495117, 0.41625977, -1.2597656, -1.0214844, 1.2207031, 1.8388672, 3.2929688, 1.4667969, -1.6787109, -1.0009766, 0.008926392, 0.43701172, -0.29956055, -0.91259766, -1.3652344, 0.20117188, -0.80859375, -0.8173828, 0.61083984, 0.8828125, -2.0683594, 0.8671875, -0.8408203, -1.2216797, 2.1601562, -1.1474609, 2.7753906, -1.75, -0.39624023, -0.3581543, 0.5805664, -0.38623047, -0.7158203, 6.640625, 0.43554688, -0.18151855, -1.2470703, 0.5517578, -1.3818359, 1.3398438, 1.7978516, 1.1298828, -0.17700195, 0.03237915, 1.3574219, 1.6884766, 1.2832031, -2.1054688, -0.20263672, 1.3671875, -2.0058594, 0.30444336, -0.30566406, -0.13916016, 2.0957031, -2.9472656, 0.03970337, 0.35668945, -1.234375, -0.4741211, -0.29418945, 1.1650391, -1.8828125, 0.75439453, 0.075927734, 2.0917969, 0.33911133, -0.9213867, 0.5083008, 1.3613281, -1.6376953, 1.1132812, -0.98095703, -0.31201172, 2.8183594, 0.74072266, 1.6054688, -1.3994141, -0.45751953, 2.5722656, 0.6064453, -0.12084961, -2.0253906, -0.3034668, -0.10797119, 1.7324219, 0.484375, 0.98291016, -7.5859375, 1.3066406, -2.3398438, -1.5908203, 0.78564453, 0.89941406, 1.671875, -1.4804688, 1.1347656, 1.4794922, -2.5546875, -0.68847656, 0.06188965, 0.97998047, 0.09075928, 0.45996094, -0.5175781, -1.3740234, -0.14892578, 1.9619141, 1.0449219, -1.6279297, -0.61816406, 2.2558594, 0.9404297, 0.004436493, -0.11804199, 0.49316406, -0.2331543, -0.24743652, 0.09680176, 0.43579102, 0.45263672, 2.453125, 0.80615234, -0.008720398, -0.41918945, -0.5419922, -1.1494141, -0.20568848, -0.4350586, 0.24255371, 3.6601562, 0.113220215, 1.3847656, 0.005847931, 0.07751465, 0.08337402, 1.2763672, 0.7216797, 0.98876953, -0.20153809, -0.5966797, -0.9199219, 0.8408203, 0.43652344, 1.5253906, -0.94677734, 1.5439453, 1.7285156, -0.56591797, 0.4086914, -0.24072266, -0.71533203, 1.1240234, 0.16491699, 1.4091797, -0.62402344, 1.25, 0.1459961, 0.50878906, 0.81933594, -0.6826172, 0.2553711, -0.04550171, 0.7055664, -0.33422852, 0.60546875, 2.1445312, 1.2060547, 1.1386719, 1.5478516, -0.5449219, 0.45288086, 0.85253906, 0.4116211, 1.0908203, 0.2154541, -0.92529297, 1.0888672, 1.8232422, -0.12719727, -0.98583984, -0.7270508, -0.7294922, 1.7929688, 2.5546875, -0.63671875, 1.6757812, -1.1171875, -0.6459961, 1.4609375, -1.5859375, 0.21972656, -1.0205078, 0.26879883, 1.7519531, -0.30810547, 0.44384766, 0.2705078, 1.9765625, 0.63623047, -0.4765625, 0.27026367, 0.7895508, -1.8007812, -1.1201172, -0.51220703, 0.19335938, 0.5161133, -0.3918457, 0.9370117, 0.87353516, -0.13366699, 0.43920898, -0.9584961, 2.8652344, -1.6552734, -1.6777344, 0.46850586, 1.421875, -0.18017578, -1.4785156, 1.8789062, -2.6542969, 0.65527344, -1.2363281, 0.75097656, 0.54589844, -1.2001953, -0.4753418, 0.26733398, 1.4140625, 0.38305664, -1.5234375, -0.6425781, -1.2285156, -0.86572266, 0.07824707, -1.1943359, -1.3867188, 0.9453125, 1.2910156, 0.54248047, 0.6386719, 1.1005859, -1.3642578, -0.036346436, 1.5341797, -0.68408203, 0.93115234, 0.9555664, 0.1932373, 0.083496094, -1.9736328, -1.7558594, -0.08685303, -1.1787109, -1.0527344, 2.0078125, -1.1455078, 2.5976562, 0.13012695, -0.97216797, -0.048217773, 1.2773438, 3.125, -0.8378906, 0.7084961, 1.4257812, 1.609375, -1.6650391, 0.10479736, 0.8330078, -0.6152344, -0.4699707, 1.0185547, 0.3972168, -0.47485352, -1.2900391, 0.57421875, -1.4013672, 2.2441406, -0.036010742, -0.0005950928, 0.72509766, -0.35913086, 0.11859131, 0.75927734, 0.8125, 1.3613281, -0.06890869, -0.4736328, 1.0498047, 0.8535156, -0.9160156, -0.42578125, -0.47680664, -1.6826172, -1.2265625, -2.2402344, 0.859375, 1.2207031, -0.79785156, 0.67089844, 0.35839844, -0.65625, -1.3173828, -0.60253906, 13.734375, 2.2441406, -0.37548828, 0.49780273, 2.7226562, -0.9370117, -2.1757812, 1.2998047, 1.0996094, 1.3095703, 0.73291016, 0.16149902, 1.1992188, 0.6591797, 0.31860352, 0.7626953, -0.94873047, 0.24047852, 3.3144531, 1.7734375, -0.15441895, -0.6767578, 1.0332031, -0.75878906, 1.7207031, 0.5019531, -0.10522461, -0.9003906, 0.2783203, 0.023345947, -1.28125, -0.32421875, -3.2871094, -0.54052734, -1.1201172, 1.5527344, -2.0273438, 3.4160156, -0.036499023, -0.64160156, -0.35717773, 1.0537109, -1.9736328, -0.6484375, 3.0234375, 2.0585938, -1.0546875, -0.41577148, -0.7861328, -0.26733398, 0.6191406, 0.36499023, -0.21606445, 2.8652344, -0.9746094, 0.23303223, -1.3554688, 0.20007324, 0.27514648, 0.044769287, 1.2480469, 0.67626953, 0.16052246, -0.28515625, -0.20593262, -0.25683594, -2.2265625, -0.0949707, -1.9570312, 0.41235352, 1.0078125, 1.5498047, -1.0283203, 0.52001953, 2.6113281, 1.59375, -0.85302734, -1.5263672, -0.4025879, 1.8251953, -0.73046875, -0.6923828, 1.1259766, -0.921875, -0.41455078, 5.40625, 0.1652832, -0.45629883, 1.6113281, 0.42578125, -1.3310547, 0.037322998, -0.03250122, 1.015625, 0.33129883, 1.6445312, -1.4589844, -1.1328125, -0.5942383, 2.0996094, -0.111816406, -1.8417969, 0.8774414, 0.44506836, -0.09576416, 0.55322266, 0.75683594, 2.5253906, 2.1386719, -0.53125, -1.0742188, 2.4902344, 1.7382812, -0.24719238, 1.1416016, 1.4902344, -0.28588867, 0.3076172, 0.4716797, 0.75927734, 2.2636719, 0.38598633, -0.18652344, 0.55615234, 1.3232422, -1.0615234, 2.1679688, -0.44970703, -0.9169922, 1.3925781, 2.296875, -0.9716797, -0.9399414, 1.4384766, 0.8466797, -0.19213867, 0.40820312, -1.7910156, 0.69677734, 1.5722656, 0.2286377, -3.7734375, 2.9824219, -0.39672852, -1.3447266, -1.375, -0.44213867, 0.014022827, -0.26123047, 0.36669922, 0.7114258, -0.49145508, 0.16906738, -1.5419922, -0.27905273, 1.0419922, 0.6694336, -1.6845703, 0.69189453, -1.0332031, 3.5546875, 1.7275391, -0.65625, 0.060943604, -0.68652344, -1.9199219, 0.2631836, 1.2412109, 0.13720703, 0.5571289, 0.008049011, -1.1445312, 0.4765625, 2.1269531, -0.021896362, 0.69189453, -0.12878418, -20.328125, -2.2988281, 0.23413086, -2.0039062, -0.72753906, 0.44433594, -1.1865234, -2.1621094, -0.016418457, -1.4091797, 2.9101562, 0.18566895, 0.61083984, -0.20129395, 0.4987793, 0.38012695, 0.9326172, 2.515625, -0.7895508, -0.9169922, 1.1894531, 0.6166992, -0.92041016, -1.8154297, -1.2490234, -2.0859375, -0.7392578, 2.1953125, 0.58984375, -0.025817871, 0.21166992, -1.1210938, -2.1542969, -1.4541016, 1.3271484, -0.2626953, -0.0008764267, -0.4934082, -1.0283203, 1.7988281, -1.09375, -0.17236328, -0.27905273, 0.17163086, -1.1435547, -1.2226562, 1.2255859, -0.09234619, 0.4140625, -0.55566406, 2.46875, 0.22570801, -0.3491211, 1.9169922, -1.7207031, -0.4987793, -0.042175293, -0.5366211, 0.2932129, -1.5654297, 0.23718262, -0.99121094, 1.6083984, 1.5078125, -0.91064453, 0.89746094, 1.1464844, -1.1484375, 1.1875, -0.06817627, -2.5195312, -2.0527344, 0.010620117, -0.7109375, -1.5693359, -1.0849609, -0.0042037964, 2.1582031, 1.8925781, 0.17773438, 3.2265625, -0.21789551, -0.27294922, -0.86816406, 1.3896484, 2.8730469, -0.72558594, -0.78466797, -1.0546875, 1.2949219, 0.76123047, -1.4414062, -0.4650879, -0.91064453, 1.3955078, 0.6074219, -0.76171875, -0.70166016, -0.63964844, -1.6904297, 1.9501953, -0.92626953, -3.0175781, -1.4179688, -0.7138672, -1.4921875, -1.7822266, -0.49609375, 1.7470703, -0.04360962, -1.1386719, 1.4833984, 1.2412109, -0.13879395, -0.20263672, -1.0869141, -0.88720703, 2.7910156, 0.28295898, -1.0351562, 1.3886719, 1.9814453, 2.4082031, -1.0556641, -0.6928711, -0.04333496, -0.26757812, 0.34277344, -0.27661133, 0.6142578, 2.1796875, -1.0771484, 1.03125, 1.4824219, -1.4462891, 0.49438477, -0.6855469, 1.1015625, -0.0803833, -0.60546875, -0.42749023, 0.4567871, 0.3466797, -1.5878906, -2.2148438, -1.9160156, -2.453125, 1.5087891, 0.41333008, 1.3193359, -0.32128906, -0.7685547, -1.6113281, -0.7055664, 0.8120117, -0.4567871, -1.4599609, 0.3544922, -1.1972656, 0.55615234, -1.8066406, 0.22619629, 18.15625, 2.328125, -0.50146484, -0.4074707, -0.91552734, -0.75634766, -2.8710938, 4.8671875, -0.9916992, -1.375, -0.0048294067, -0.38232422, -0.3918457, -2.6660156, 1.7441406, 2.0644531, 1.0058594, 1.6826172, -1.5849609, -1.1503906, 0.22875977, -1.3349609, -3.0429688, 1.0273438, 1.6142578, 1.2099609, -2.75, 2.8339844, 0.6386719, -1.78125, -0.41235352, -0.17004395, -0.00554657, -0.30004883, 0.42456055, 0.17077637, 1.796875, -1.9140625, 0.9897461, 1.3730469, -0.56591797, 2.3769531, -1.3925781, 0.99316406, 1.2646484, 0.7939453, 0.68115234, -0.080566406, 0.66845703, 1.3017578, 0.3947754, 0.6298828, -1.6103516, -2.2480469, 1.0302734, -1.9306641, 0.3725586, -0.37158203, -0.5410156, 2.3808594, -0.8144531, -2.4648438, -2.234375, -1.0458984, 0.6376953, -0.14050293, -0.37158203, 0.31103516, 0.18969727, -0.39160156, -0.048797607, -0.8354492, -1.6171875, 0.01335144, -1.3779297, 1.5292969, 1.4111328, -0.7451172, 0.41601562, -0.40405273, 1.3164062, 1.0986328, -2.5625, -0.69677734, -2.5507812, 1.9931641, -0.42138672, -1.5556641, -0.45947266, -1.6845703, 0.022125244, -0.625, 1.515625, 1.2783203, 1.8642578, 1.2871094, 1.5673828, 3.8339844, -1.5732422, -2.0761719, -1.4013672, -0.15710449, -0.091796875, -0.060394287, 3.5058594, 1.609375, 1.6630859, 1.9394531, 0.578125, -0.4724121, -0.72509766, 0.94677734, -0.024627686, 2.2207031, -0.39013672, -2.6171875, -0.7207031, -1.2294922, -0.90722656, 1.2597656, 0.7114258, -1.2070312, 0.13195801, -0.42626953, 0.025512695, -1.1494141, -0.390625, -0.23364258, 0.9902344, 0.4724121, -1.4873047, -0.33544922, 1.5683594, 1.2441406, -0.10644531, -0.56152344, -1.6650391, -0.44360352, 2.0839844, -1.8613281, -0.21154785, -2.3828125, -2.9355469, 0.22265625, -1.1484375, -0.45581055, 0.4645996, -0.22155762, 1.3945312, -0.7426758, -2.2148438, -0.9663086, 0.58691406, -0.37231445, -1.1787109, 0.18078613, 0.5307617, -0.009208679, -1.1425781, -0.48461914, -1.1367188, 1.8320312, 0.4326172, -0.032562256, -0.81152344, 0.7553711, 1.6455078, 2.2539062, -1.9785156, 1.3105469, -1.2490234, -1.78125, -0.31054688, -0.7998047, -0.46411133, 1.453125, -1.7539062, -0.14794922, -0.6201172, 0.2758789, -0.21533203, 0.6425781, 0.47583008, -0.77490234, 0.8183594, -1.4101562, -0.09020996, -0.18322754, -0.5571289, 0.40405273, 0.98779297, -0.09777832, -0.14807129, -1.4902344, -1.8417969, 0.18676758, 1.7216797, 0.04699707, 1.1376953, -1.3212891, -1.0224609, -1.4492188, 3.546875, -0.4050293, -0.06088257, -1.1035156, -0.5366211, 1.6230469, 0.7817383, -0.74072266, 0.5161133, -1.5771484, 1.0605469, -0.17358398, 0.5727539, 0.95458984, -0.10443115, -0.039886475, 0.62402344, -0.62939453, -1.5390625, 3.1523438, 0.86816406, -1.4599609, -3.2636719, 1.4189453, 0.6357422, 0.5078125, -0.55371094, 1.2773438, 0.7216797, -0.4321289, -0.0005578995, -0.7661133, 0.09918213, 1.0820312, 0.6196289, 0.1574707, 1.2236328, -0.66552734, 0.08654785, 1.3212891, -0.8413086, 0.39282227, 1.0244141, 0.28833008, 0.5942383, -0.38500977, 0.09411621, -0.4572754, 0.13696289, 1.7226562, -1.1826172, 2.3066406, 0.74121094, -0.41552734, -0.6484375, -0.5986328, 0.7709961, 0.3088379, 0.46606445, 0.9091797, -0.8071289, -0.022476196, -1.4824219, -0.77685547, 0.19934082, 0.42041016, 0.37353516, 0.8989258, 0.43603516, 0.6699219, -1.1826172, 0.12939453, 4.0, 0.07110596, 1.6455078, 3.125, 0.390625, 0.2770996, -0.18908691, 1.8417969, 0.23547363, -1.1396484, -1.1777344, 0.9370117, -2.9609375, -1.7519531, -0.5917969, 0.39672852, 0.7675781, -0.23693848, -0.3166504, 3.4648438, 0.14916992, -3.5527344, -0.115478516, -1.4541016, -0.25268555, -0.081970215, -0.5917969, -1.0351562, -2.078125, 0.58154297, 0.6738281, 0.6621094, -1.7695312, -1.1494141, -0.8808594, -0.93847656, -0.8911133, 0.19812012, -1.1113281, -0.0579834, -1.0625, -0.29663086, 1.8105469, -0.15539551, 1.3417969, -0.984375, 0.8520508, 1.9326172, 4.4453125, -1.0966797, 1.2675781, -0.71875, 1.2841797, -1.1796875, -0.79003906, -0.546875, -2.9257812, 1.8076172, 0.101379395, -0.010406494, -1.5361328, 0.703125, -1.2412109, -0.35888672, 0.5932617, 0.76123047, 0.5083008, -1.7890625, 1.28125, 0.95166016, 2.390625, 2.2695312, 0.5683594, 0.72265625, 0.6948242, -0.10131836, 1.6503906, 0.32470703, 0.23071289, -1.3564453, -17.0, -0.6508789, -2.0332031, 1.5732422, 0.2052002, 0.13293457, -1.6191406, 0.9301758, -1.2607422, -0.073791504, 0.30322266, -0.8051758, -0.6894531, -1.3496094, 0.41186523, 0.1998291, -1.1357422, -1.0292969, 0.115112305, -1.1572266, 2.578125, 0.05783081, -0.7495117, -1.4277344, -1.1757812, 0.7734375, 1.3857422, -0.0038814545, -0.6196289, -0.7480469, -0.052520752, -1.8525391, 0.54785156, 0.55810547, -1.2177734, -1.3505859, -0.5991211, 0.60839844, -0.22741699, -1.4326172, -0.5410156, 0.7714844, 0.035614014, -1.3173828, 0.77978516, 0.9277344, 0.22619629, 2.0878906, 0.092041016, 1.8398438, -0.7680664, 0.41479492, 0.31323242, 2.6445312, 0.55322266, -1.4277344, -0.17370605, -0.27270508, -1.4453125, 1.9794922, -0.19116211, -0.035583496, -1.4160156, -1.1152344, -0.7709961, -1.6386719, 1.6992188, -0.5756836, 0.6845703, -0.2902832, -2.4003906, 0.890625, -0.17053223, 1.7441406, 2.7675781, -0.18200684, -0.98583984, -0.6513672, 0.27294922, -0.7426758, -0.7128906, 0.17614746, -0.5644531, 0.7036133, 0.04156494, 2.0390625, -0.26611328, -0.33129883, -0.17370605, -2.7929688, 0.3840332, -0.83740234, 0.87353516, 1.4443359, 1.2255859, -0.0051460266, -1.7314453, -0.8613281, 2.1308594, 1.1240234, -0.19946289, 0.28759766, -0.70410156, -0.52783203, -0.15454102, -0.02859497, 2.0976562, 0.17492676, 1.1103516, 0.45703125, -0.9555664, -1.1533203, 0.1430664, -1.3300781, 1.1660156, 0.45214844, 0.85546875, -0.5756836, -1.0361328, -0.30126953, 0.5703125, 0.5253906, 0.39038086, -2.4296875, -0.19726562, 1.9013672, 0.37109375, 0.058135986, 1.1806641, -1.2929688, -2.4882812, 0.4958496, 2.4414062, 0.3779297, 0.9042969, -0.026885986, -1.2216797, -0.08135986, -1.1064453, 0.42773438, 0.9189453, -0.12878418, -0.98046875, 1.4511719, 1.03125, 0.4597168, 0.46533203, -0.27026367, -1.0849609, 0.8544922, -0.7519531, 1.3125, -1.9296875, -0.8027344, -2.4003906, -0.19140625, 1.1113281, 0.9008789, 1.2216797, -0.1862793, 0.14672852, 2.7441406, -1.0957031, -1.390625, 0.6826172, 0.3083496, -0.21911621, -0.9941406, -1.7646484, 1.2675781, -0.058013916, -1.4277344, 0.19018555, -0.42382812, 0.62060547, -0.8208008, 0.6142578, 3.6386719, 1.1953125, -0.8515625, -1.4306641, 2.0039062, 1.2470703, 1.3837891, -2.8320312, 0.19433594, -1.46875, 0.8378906, 0.3762207, 2.984375, -1.6455078, -0.27319336, -0.35913086, 1.5126953, -1.1494141, 2.6816406, 0.5576172, 1.5664062, 0.7285156, 0.07989502, 0.12841797, -0.78808594, 0.5136719, -1.1972656, 1.4990234, 2.9609375, 1.2890625, 0.06384277, 0.2631836, -0.8041992, -2.0039062, 1.3271484, -0.26367188, 1.4765625, 0.7910156, -1.6875, -0.73535156, 0.5644531, -3.6191406, 1.9384766, -0.07702637, 0.9692383, -0.86279297, 0.66064453, -1.8583984, -1.9541016, -0.15185547, 1.2314453, 0.44482422, 1.5185547, 1.4208984, -0.53027344, 0.93310547, 1.7607422, -0.020217896, -0.17175293, -0.47705078, 0.20861816, -0.10882568, 2.9667969, 0.45751953, 0.9951172, -0.8071289, 3.015625, -0.25561523, 2.3476562, -0.77490234, 0.22741699, -1.8085938, -1.3261719, -0.92822266, -1.609375, 1.3056641, -0.89453125, -0.8925781, 0.028579712, -1.3583984, -1.6113281, 0.18835449, -1.5742188, -2.7832031, -0.061767578, -2.6738281, 1.1201172, -0.6513672, -0.48706055, 0.37670898, 0.64404297, 0.26879883, -0.81884766, -1.4794922, -0.1418457, 0.68847656, 0.13208008, 0.34375, -1.8769531, 1.2851562, -1.2587891, -1.0068359, -0.3244629, 0.69433594, 1.3125, -0.7763672, 2.3320312, 0.50634766, 1.0253906, -1.1699219, -1.3623047, 1.2519531, -0.26782227, -0.0031280518, 0.1274414, -1.0751953, -2.6503906, -1.5849609, 0.6621094, 2.2363281, 0.87646484, -1.2685547, -1.8115234, -0.35107422, 0.6015625, -1.3798828, -1.0820312, -1.640625, 0.44067383, 3.1230469, -0.58984375, 0.32299805, 0.6689453, 2.1035156, -0.92529297, 1.7763672, -0.94873047, -1.5732422, -1.4541016, 1.0214844, -1.2705078, 0.92871094, 0.26538086, -0.66503906, -0.6904297, 1.0634766, -0.08886719, 2.2246094, 0.6381836, 1.8271484, -0.32055664, -1.7167969, -1.1396484, -3.7578125, -0.5786133, -0.95996094, 0.24719238, -0.6777344, 0.5600586, 0.6069336, 0.9194336, -0.68359375, -0.05508423, 1.0058594, -2.3984375, 0.009017944, -1.3476562, 0.73876953, -0.6855469, -0.45263672, 1.3095703, -0.5708008, 0.07098389, 1.0107422, 0.29125977, -1.5957031, 0.29003906, 0.8676758, 0.34887695, -1.0332031, -0.5385742, 0.019134521, 1.0927734, 1.1621094, -1.3886719, 1.0, 1.1308594, -0.9536133, 0.23083496, -0.07574463, 0.74365234, 1.0058594, -1.3662109, 0.051239014, 2.5585938, 1.5595703, 0.37182617, -0.7211914, 0.2442627, 0.060546875, 1.1835938, -0.25, 0.9526367, -1.3945312, -0.42700195, 2.2402344, 1.7480469, -0.037994385, 2.0410156, 0.35498047, -0.7260742, -0.3774414, 1.4775391, -0.13781738, 0.6557617, 1.6894531, 1.4580078, 2.2539062, -0.34423828, 0.4975586, 0.5263672, -1.125, -2.2597656, 2.46875, -1.0185547, -1.8857422, 0.33374023, -0.12402344, -0.2998047, -0.41503906, 2.7910156, 0.7324219, -1.3769531, -0.35229492, -0.33813477, 0.45629883, 0.92089844, -1.5058594, 0.16259766, 1.6376953, -0.96435547, 0.021118164, 0.4326172, -1.0419922, 1.8486328, 1.5722656, -0.5097656, 0.6850586, 0.11413574, 1.4394531, -0.93359375, -2.6660156, -0.5932617, -1.0283203, 0.10223389, -0.2607422, -0.01889038, 1.4199219, -0.98583984, 0.9238281, -0.94628906, -1.1132812, -0.6303711, 1.8710938, 0.69628906, 0.3269043, 1.4101562, 0.058044434, -0.52197266, 0.005584717, 1.0595703, -0.1340332, 2.0566406, -0.15039062, -1.1132812, 0.19946289, 0.68359375, -0.57910156, -2.3945312, -1.0136719, -0.41064453, -2.4785156, -0.16003418, -1.3144531, -2.1191406, 1.2148438, 3.5136719, -0.031066895, 0.32128906, 0.50634766, -0.5410156, -1.3837891, -0.9716797, -0.6464844, 0.16320801, 0.8803711, 0.7753906, -0.23425293, 1.6689453, 0.52734375, 0.7441406, -0.9951172, -1.4658203, -0.19104004, 1.5966797, 0.43774414, -0.3623047, 1.3876953, -2.0742188, 2.0117188, -0.7861328, -1.7626953, 0.77246094, -0.79003906, 0.44799805, 0.33276367, -0.04727173, -0.2861328, -0.092285156, 0.859375, 1.8417969, 1.2490234, 0.78564453, 1.9384766, -0.43432617, 0.17114258, -0.8964844, 1.1083984, -0.11816406, -0.099853516, -0.8935547, 0.6591797, 0.73291016, 1.40625, 3.1933594, -0.1784668, 0.016082764, 0.28100586, -0.95214844, -1.3486328, -0.81933594, -0.09777832, 0.89160156, 0.5317383, -2.3496094, -1.9091797, 1.8789062, -1.3203125, 0.1385498, -0.34472656, 0.006126404, -0.66748047, 0.14038086, 0.70214844, 0.15844727, 0.28173828, -0.98828125, 1.2949219, 0.0524292, -0.6508789, 1.2226562, -1.2939453, 0.009674072, 0.34692383, 0.89501953, -0.31079102, -0.47827148, -0.4333496, 1.9287109, 0.69384766, -0.28833008, -0.1854248, 0.8232422, -1.7109375, 0.0881958, 1.6572266, 1.3457031, 2.03125, -0.76464844, 0.34106445, 1.8046875, -3.2773438, 1.5839844, -4.6132812, 0.5756836, -1.7636719, 0.5834961, -1.6728516, 0.047027588, -0.6591797, 0.5288086, -0.6464844, 2.3457031, 1.5322266, 0.24804688, 0.15551758, 1.0517578, -0.89404297, -1.0175781, 0.8105469, -0.39233398, 1.9541016, -1.0585938, -0.47436523, -1.3896484, 1.8945312, 2.1796875, -0.017654419, -0.89208984, -1.3027344, 1.1308594, 0.37646484, -0.45458984, 0.53222656, 0.07147217, -0.04852295, -2.1015625, 2.3476562, 2.453125, 0.50927734, -0.032592773, -1.7324219, -0.578125, 1.4658203, 2.3730469, 0.41333008, -0.17553711, 0.18652344, -0.27929688, -1.7949219, -0.66503906, 0.22790527, 1.2929688, 2.0566406, -2.46875, 1.0693359, 0.5541992, -1.1933594, -0.1977539, -0.8461914, 2.2480469, -1.4306641, -0.29345703, -0.27783203, -1.3310547, 0.12890625, 1.2255859, -0.18359375, -0.3942871, 0.5390625, -1.3310547, 0.40844727, -0.51904297, 0.984375, -0.3684082, -2.1308594, -0.61572266, -2.1425781, 0.35351562, 2.0664062, 0.018112183, -0.79589844, -0.08508301, 1.3398438, 0.37304688, -0.08441162, -0.44360352, 1.8652344, -3.1875, 0.95410156, 0.4177246, 0.9633789, -0.84716797, 0.13232422, 0.80126953, 0.31933594, -0.04159546, 0.14758301, 0.50927734, 0.6220703, 0.2915039, 0.40014648, 0.33129883, -0.05947876, -2.015625, 0.33642578, 0.14746094, -0.10406494, 1.5087891, 0.79589844, -0.4987793, 1.3564453, -0.0770874, 0.07354736, -0.9213867, -2.6660156, 0.8286133, 0.12841797, -1.1298828, -4.015625, -0.19592285, 1.3115234, -0.1899414, 0.09246826, -0.6220703, 1.2685547, 0.80029297, 0.4934082, -1.9335938, 2.4589844, -0.44458008, -0.3725586, 0.0037345886, -1.0722656, -0.2722168, -0.73095703, -0.44970703, -0.0041046143, -0.59277344, 1.2636719, -0.24951172, 0.1685791, 0.47631836, 0.93652344, 0.12347412, 0.625, -0.2944336, 2.4296875, -2.2226562, 1.1279297, 2.8808594, 1.3886719, -2.1191406, -0.3076172, 0.48120117, -0.63134766, -0.0005426407, 0.2142334, -0.75341797, -1.6796875, -0.11071777, -1.859375, -1.3857422, -0.96484375, -2.109375, -0.061401367, -1.3339844, 0.01020813, 3.0488281, 1.9472656, 1.6357422, -2.7714844, -0.97265625, -0.57666016, 0.06842041, -1.5693359, -0.77978516, -0.080078125, -0.8051758, -0.4375, -2.8632812, 0.8071289, 0.85009766, -0.828125, -0.73339844, -0.50878906, 1.0371094, -0.5986328, -3.1484375, 1.3583984, -0.65234375, -0.12145996, -0.9692383, 1.3740234, 0.032958984, -0.91796875, 0.8305664, -0.62646484, 0.40429688, 0.5800781, -1.4648438, -0.4345703, -0.3088379, -0.5649414, -1.7070312, 0.20507812, -2.0839844, -0.15344238, -0.71728516, -1.2832031, -0.8701172, 1.3505859, -0.9169922, 0.34716797, -1.5175781, -1.2871094, -1.7265625, -3.3242188, 1.6611328, 0.088012695, 0.27734375, -1.8466797, -2.7890625, -1.0585938, -1.625, 0.36376953, 0.7548828, 0.04800415, 2.6152344, 0.99365234, 0.2232666, 1.65625, 0.98339844, 2.1953125, 1.7949219, 0.4711914, -0.6152344, 1.2314453, -1.0898438, 1.5576172, -0.2454834, 1.1132812, -0.0715332, -1.1357422, 2.1660156, -1.9150391, -1.0292969, 1.2011719, -0.88183594, 0.6269531, 1.1494141, -2.0253906, -0.86865234, 0.38354492, 0.8251953, -0.37548828, -1.7285156, 0.7163086, 0.6743164, -1.3652344, -0.78125, -0.45458984, 2.09375, 1.4599609, 1.8144531, 1.0263672, -0.59277344, 0.6064453, 1.3818359, -2.1464844, 0.34423828, -1.2041016, 0.15307617, -2.125, 1.3935547, 2.6601562, 0.049621582, -0.7060547, -0.23693848, 0.14111328, -1.5058594, -0.15441895, -0.27124023, 0.54345703, 0.24121094, -0.52197266, 0.7128906, -1.0146484, 2.6621094, -1.2431641, 0.41845703, -2.2363281, -1.1865234, -0.42773438, -3.0761719, 0.22595215, 0.0048713684, -0.07299805, -1.1474609, 2.7226562, 0.11669922, -1.6337891, 0.22802734, 0.8046875, -0.4008789, -1.1572266, 1.6523438, 0.984375, -0.94384766, 0.05947876, 0.101623535, -0.061157227, 0.41967773, -1.0380859, 1.5253906, -1.0712891, -0.68896484, 1.7832031, 0.83935547, -1.7734375, -0.08465576, 0.80615234, 0.3244629, 1.7011719, -0.074523926, 1.5185547, 1.4902344, 0.24475098, -0.53271484, 1.0009766, 2.4492188, 2.3945312, 3.9824219, 0.57910156, 0.36376953, 1.5478516, -1.1855469, 0.44018555, 1.2412109, -1.1269531, -0.6821289, 1.8007812, 0.048858643, 0.3955078, -1.34375, -1.7304688, -0.63720703, 0.7675781, -0.19689941, -1.1777344, 0.41259766, -0.7939453, 0.11779785, 1.28125, 0.61572266, -0.34179688, 1.5888672, -1.4697266, -0.30541992, 0.40942383, 0.68115234, -0.116882324, 0.92626953, -0.20751953, 0.75439453, 1.6455078, 0.43310547, 0.40893555, -0.50146484, 0.29125977, -1.1660156, 1.3144531, -0.3486328, -1.1904297, -0.8745117, 0.6220703, 1.1894531, 8.65625, 0.62597656, -1.8632812, -0.75878906, -0.13659668, 1.9257812, -0.14416504, -0.6645508, -0.81640625, -0.46606445, 0.38500977, 0.5756836, 2.8789062, -0.49365234, 0.5107422, 0.5209961, -1.6240234, -0.51220703, -0.5708008, 0.5283203, -0.9658203, 1.7929688, 0.14892578, 1.171875, 0.27954102, 1.7001953, 1.6064453, -1.1689453, 2.3085938, 0.0440979, -0.04269409, 0.7709961, -0.027328491, 0.7270508, -3.9003906, 0.092285156, -0.22509766, 0.41381836, 0.8208008, 0.19628906, -0.0057907104, 0.025344849, 0.6923828, -1.5507812, 1.3105469, 0.72021484, -1.2714844, -0.32202148, 1.3496094, 1.2587891, -1.203125, -0.060394287, 1.0039062, 1.5048828, -0.72314453, -2.0722656, 2.7363281, -0.41186523, -0.74365234, 0.5722656, 0.36523438, 1.9316406, -0.5727539, 1.9863281, -0.8676758, 0.3256836, 0.7167969, -0.007736206, -3.2910156, 0.4387207, -0.0067253113, 1.3046875, -1.0097656, 2.3105469, 0.8066406, 0.6196289, 0.8803711, 2.8710938, -0.1619873, -1.7158203, 0.31689453, 0.7324219, 1.2216797, 0.91845703, 1.2402344, -2.8085938, 2.7636719, 0.38232422, -0.24414062, -0.8491211, 1.5263672, -0.39013672, 2.3457031, 0.08343506, 0.44726562, 1.7207031, -0.9296875, 0.49316406, 0.51660156, 0.19799805, -0.56884766, -1.4150391, 0.9628906, 0.21411133, 1.4648438, 0.16845703, -1.421875, 1.3554688, 0.8886719, -0.8354492, -0.80615234, 1.4619141, -1.7421875, -0.50146484, 0.7841797, -0.26586914, -0.74316406, 0.83691406, 0.013786316, 0.30786133, 0.7871094, 1.1972656, 1.0664062, -0.51660156, -0.77001953, 1.1845703, 0.85595703, -1.4238281, -0.97021484, 1.5400391, 1.4101562, -1.2294922, 0.9272461, -1.2792969, -2.7988281, 0.4716797, -0.6274414, 0.73095703, 1.2675781, 1.0029297, -1.1601562, -0.16320801, -1.8515625, 0.3959961, 0.9345703, 0.4802246, -2.828125, 0.8774414, -0.6923828, 1.3632812, -0.5307617, -0.17407227, -1.6757812, -0.62109375, 1.5878906, 1.1123047, -0.43139648, -1.9912109, 2.2578125, 0.91503906, 0.13342285, 0.47558594, 0.23034668, -0.22387695, 0.5288086, -0.37841797, 2.9453125, -4.5507812, 0.92529297, -2.0957031, -0.49926758, -1.0244141, -0.62890625, -0.80371094, 0.7885742, 1.9677734, -2.7851562, 1.3574219, -0.20214844, -2.4277344, -1.1279297, 2.0703125, 0.3605957, -0.94873047, 1.3701172, -0.67333984, -0.54589844, 2.2519531, 1.7529297, 2.8847656, -0.82714844, -1.3056641, -0.18762207, -0.28149414, 1.2392578, -1.7802734, -0.48461914, -0.578125, -0.83691406, -0.02355957, -2.3457031, 1.1884766, 1.1630859, 0.7753906, 1.1621094, 1.9375, -1.1542969, -0.56591797, 1.0302734, 0.6225586, 0.15673828, -0.1541748, 0.14538574, -0.21655273, 3.4492188, 1.2421875, 0.08618164, -0.19787598, 1.421875, 0.6225586, 1.0791016, 0.90283203, 0.80126953, -0.103393555, -1.2929688, 0.69189453, -1.4794922, 0.0435791, 0.69140625, -0.31201172, 0.22253418, 0.4663086, 0.48754883, 0.54248047, -0.37182617, -0.61328125, -2.1230469, -1.8740234, 0.35375977, 0.87158203, 1.2226562, 1.6113281, 0.4296875, -0.81884766, 0.5048828, -1.8027344, 1.6132812, -0.42919922, 0.4020996, -0.7495117, -1.0664062, 0.51660156, -0.49853516, 0.27661133, 0.3083496, 0.23120117, -0.96972656, -1.0517578, 1.2099609, -1.2451172, -1.1132812, -0.66503906, -0.50341797, -0.21057129, -0.69384766, 1.4121094, 2.1796875, 0.117492676, 0.8779297, 2.0136719, -0.31860352, 0.28857422, 1.65625, 0.97021484, -1.2529297, -1.890625, 0.8154297, 0.28393555, 0.93115234, -1.2255859, 1.6611328, -0.45043945, 0.81103516, -1.8984375, -1.5507812, -1.9726562, -0.8613281, -3.1171875, -2.2285156, -0.7421875, -1.1318359, -1.7373047, 1.1513672, -1.3564453, -0.11328125, 0.021240234, -0.9423828, -0.21960449, -0.30395508, -2.1640625, -0.6870117, 0.13256836, -1.296875, 1.3798828, -0.6513672, 3.0644531, -0.56591797, 1.2910156, 0.7114258, -0.13427734, 2.0839844, 0.15625, 0.47973633, -1.9697266, 1.4414062, -1.203125, -0.16235352, 0.953125, 0.5239258, 0.8173828, 1.3662109, -0.39672852, 0.40966797, -1.9277344, 0.8041992, -0.091308594, 1.9228516, -0.9116211, 1.5332031, -0.10858154, -1.6279297, 1.6494141, 1.7548828, 0.7895508, -1.8691406, -1.2011719, 0.06903076, -0.7841797, 1.7060547, 1.0605469, 0.007949829, 1.2802734, 1.6679688, -0.46850586, -1.6777344, 1.5224609, 1.6728516, 1.8388672, 0.5288086, -0.91796875, 1.0654297, -0.74609375, 1.6992188, 0.28393555, 0.38452148, 0.5024414, -0.47998047, -0.4362793, -1.1464844, -1.6328125, -0.9658203, 1.3134766, -0.49243164, 0.7373047, -1.5625, -1.0410156, -0.59033203, 2.4902344, 1.6982422, -2.2949219, 0.020523071, 0.21166992, 0.4572754, 0.43774414, -2.7617188, -0.6230469, 0.027893066, -1.0791016, 0.9428711, -1.2119141, 0.98291016, -0.44580078, -1.9628906, 0.16674805, -2.9394531, 2.0820312, -1.3320312, 2.9472656, 0.34350586, 1.1591797, -1.5439453, -1.9462891, 1.2431641, 1.2382812, 2.09375, -0.32373047, 0.9707031, 2.7988281, 0.99658203, -0.13366699, -0.73779297, 1.5029297, -1.9580078, -0.3942871, 0.56640625, 1.9990234, 0.56689453, -0.1730957, -0.12597656, -1.9931641, 0.13049316, -0.1772461, -0.671875, 0.48535156, 1.0068359, 0.46655273, 0.8588867, 1.0605469, 0.32592773, -1.9277344, 3.1269531, 2.3730469, 0.64160156, -0.07385254, 0.08496094, 1.4521484, 1.4091797, -0.29345703, 0.3334961, 0.42797852, -0.08880615, 0.19482422, 0.86865234, 0.7089844, -0.45166016, 1.7246094, -0.7348633, 1.4072266, -0.3100586, 0.6171875, -0.9082031, 1.3095703, 2.3300781, -0.47387695, 1.5195312, -1.6904297, 0.33007812, -0.21411133, -0.23498535, -1.8925781, 0.24365234, -0.005290985, -2.3496094, 0.2861328, -1.2431641, 0.004169464, -0.13256836, 0.78759766, 1.6113281, -1.6064453, -0.23498535, 0.46557617, 0.56640625, -1.5947266, -0.054351807, -0.34765625, -1.2558594, 0.7895508, -1.5166016, -0.81591797, 0.1239624, -0.0055274963, -0.9765625, -1.4970703, 0.22766113, 1.0654297, 0.9663086, 1.671875, 1.2705078, 0.057373047, -2.3769531, 0.6586914, -2.2617188, 4.1796875, -0.2208252, -0.31225586, -0.49487305, 0.15783691, 0.74316406, 2.6386719, -0.74560547, -1.1015625, 0.5307617, -0.32373047, 0.6357422, -0.040130615, 1.2685547, 0.39526367, 0.69091797, 0.36645508, 0.8105469, 0.16088867, -1.6259766, 1.5175781, -1.3984375, 2.4960938, -1.9335938, -0.6074219, -1.2714844, -0.4296875, -1.4423828, 0.22802734, 0.4777832, 0.63427734, 1.7626953, -2.5273438, -2.9335938, -0.73291016, 0.17199707, 0.6928711, 0.7104492, -0.515625, -1.1064453, -0.5444336, 1.875, 1.0888672, -0.6586914, 0.82373047, -0.96240234, -1.1962891, -0.009773254, 3.7207031, -1.6230469, 0.69091797, 3.8652344, -1.6796875, -0.43701172, -0.07739258, 1.4121094, 1.3339844, 3.8222656, -1.4433594, -1.4658203, -0.33764648, -0.5444336, 1.0664062, 0.1875, -0.09820557, 0.67041016, 0.3671875, -0.7832031, 0.08831787, -1.3417969, -1.1572266, -3.4824219, 0.06640625, -0.45776367, -0.35864258, -0.24487305, -0.3034668, 1.3740234, -1.3154297, 1.8320312, -0.052764893, 0.453125, -0.29370117, -1.4541016, 0.14660645, 0.48046875, -0.10235596, 0.7949219, -0.1628418, -0.5136719, 0.12249756, -3.8398438, -2.8789062, 1.0292969, 0.0128479, -1.1425781, 0.3659668, -0.0053215027, 0.21936035, 2.0839844, -0.390625, 0.54345703, -1.3261719, 0.52197266, 0.025009155, -2.53125, -1.0234375, -1.9365234, -0.8413086, 1.0126953, -0.005065918, 0.58251953, 0.19311523, -1.5410156, -0.27685547, 0.5961914, 1.2011719, -2.2675781, -0.734375, 0.69873047, -2.2167969, -1.4765625, 0.9116211, 0.46704102, 2.0859375, -1.0175781, 0.5024414, -0.6425781, -0.33544922, 0.27539062, 0.60595703, 1.1650391, -0.39746094, 1.3300781, -2.2304688, 0.2783203, 1.7099609, -1.2773438, 1.1689453, 0.57128906, -0.6713867, 1.7314453, -0.94433594, -1.3027344, 0.5283203, -1.8525391, 0.04006958, 1.9277344, -0.46557617, -0.038269043, -1.0273438, 0.97265625, -0.38085938, -0.35791016, -3.3222656, -1.8076172, -1.1347656, -0.5986328, -1.0361328, 0.7783203, 1.6660156, -0.020874023, 2.7871094, 0.039886475, -0.56640625, -0.20983887, 1.1298828, -1.0996094, 1.5332031, -0.58203125, 0.72216797, -1.2529297, -0.08984375, 0.08477783, -0.52978516, 0.52685547, -2.3339844, 1.1826172, -2.9257812, 0.93652344, 3.9453125, -0.30419922, -0.24438477, 1.0957031, -0.75097656, -0.8803711, -0.04144287, 1.7724609, 2.5957031, 0.55810547, -0.89404297, -0.64453125, 0.3227539, -0.13366699, -0.7861328, 1.5322266, -1.6923828, -0.67285156, -2.5859375, -0.021392822, -1.6875, -0.8359375, 0.89453125, -3.0585938, -1.3017578, -1.5488281, 0.16235352, 0.2878418, -1.1728516, -1.8242188, 0.9980469, 0.5541992, 0.7446289, -2.4980469, 0.24694824, -1.7392578, -0.3671875, -0.16345215, -1.3681641, 0.84716797, 0.5415039, -2.2539062, -1.8164062, -0.46264648, -0.14526367, 1.7158203, 1.1240234, 0.45532227, 1.015625, 0.5986328, -1.3964844, 0.70410156, -2.5566406, 2.4121094, -0.26464844, -0.27905273, -0.1574707, -0.8300781, 0.8959961, 2.4335938, 0.10522461, -1.3134766, -2.2988281, 0.25927734, -1.2880859, 0.7763672, -2.0703125, -0.86621094, 1.3652344, 1.7119141, -0.42529297, -0.484375, 1.9550781, 1.5693359, -1.5527344, -2.4121094, 1.1865234, 0.1586914, 0.07305908, -2.7578125, 1.1787109, 0.058288574, -0.5600586, 0.08227539, -1.0859375, -2.7265625, -1.65625, -0.114990234, -0.69189453, -1.8339844, 0.34057617, -0.31030273, 0.35083008, -0.7871094, 0.26660156, -1.4824219, 0.5883789, -1.1552734, 0.022720337, -1.7958984, 1.4160156, -0.45776367, 1.9443359, 0.58984375, -1.6894531, -1.8515625, -0.48046875, -0.8857422, 0.047973633, -0.27441406, -0.70703125, 1.3730469, -0.85302734, 0.06378174, -1.2050781, -2.2089844, -0.2010498, -2.1386719, 1.9824219, -0.11016846, -0.9946289, -1.2617188, -2.2441406, 0.013671875, -0.89746094, -0.26708984, -0.25585938, 1.2705078, -0.41723633, 1.1806641, 1.3134766, 0.12573242, -1.3349609, 0.6201172, 2.1542969, -1.1826172, -2.796875, -0.60302734, -0.29077148, 1.359375, -2.421875, 0.54003906, -0.9501953, 0.89941406, -2.0566406, -1.3349609, 1.125, 0.84033203, -1.9648438, -2.1113281, -0.031829834, 0.1484375, 1.3037109, -0.29663086, 0.3696289, -1.0634766, 0.68603516, 1.40625, 1.2382812, -0.39135742, -1.3974609, -0.84472656, 1.1982422, -1.8037109, -3.3535156, -0.10357666, 0.51904297, -0.3955078, 1.8896484, -1.4882812, 0.09301758, 0.98876953, -2.3007812, -0.16491699, -0.08404541, 2.0390625, 1.765625, -0.38891602, 0.47680664, 0.059906006, 2.234375, 0.39257812, 1.1660156, -2.21875, -0.6098633, 2.0234375, -0.1776123, 1.2431641, -0.64160156, -1.1416016, -0.01663208, -0.13232422, -1.1816406, 1.328125, 1.3857422, 0.3623047, -0.13720703, 0.19140625, 0.6977539, 0.93359375, 0.6582031, -0.9194336, -2.625, 0.095581055, -0.11657715, 1.3505859, -0.85839844, 2.2773438, -0.46044922, 0.1862793, 0.3527832, 1.2138672, -0.94384766, -2.4765625, -3.6894531, 0.3359375, -1.2832031, -0.54541016, 0.4753418, -0.6088867, -0.5776367, 0.10070801, -0.8046875, 0.84033203, -0.057281494, -2.5820312, -0.45947266, 0.3149414, -0.16796875, -0.027801514, -0.6635742, -0.47924805, 2.7363281, 3.296875, 1.4667969, 0.91552734, -1.2490234, 0.33862305, 1.1142578, -1.5810547, 1.2646484, -1.90625, -1.375, -0.26782227, -0.5214844, -1.9619141, 0.1303711, -2.3535156, 0.5385742, -0.25048828, -0.74658203, -0.5605469, -0.33276367, -1.5126953, 0.30566406, 0.42089844, 0.24719238, -0.8251953, -0.21557617, 1.2021484, 1.3056641, -2.5878906, -0.2548828, 1.7070312, 0.69433594, -1.4775391, 0.45336914, -1.9638672, -0.32421875, -0.080322266, 1.2958984, 0.1459961, -0.65185547, -2.8515625, -0.19018555, 0.21191406, 1.5478516, 2.2011719, 0.6948242, -0.41845703, -2.0410156, -0.2565918, 0.9291992, 0.98876953, 1.3378906, 0.44921875, -1.0683594, 1.2001953, -0.49047852, -1.4794922, -0.40527344, 1.4814453, -0.14343262, 0.18811035, -0.07092285, 0.51171875, 0.23999023, 0.5654297, 2.9746094, 0.06109619, -0.0637207, -0.63671875, -0.060058594, -0.9477539, 0.96435547, -1.4042969, 0.07318115, -1.6123047, 0.72998047, 0.118652344, -2.8125, 0.6767578, -1.1884766, -1.4384766, 0.47094727, -0.5732422, 0.17419434, 2.2324219, -1.8222656, -0.69140625, -0.50341797, -0.53125, 0.49658203, -0.6401367, -2.0058594, 0.03717041, -1.2939453, -0.84472656, -0.84814453, -0.6538086, -0.6699219, 0.011199951, 0.25830078, -1.3720703, 0.13293457, -1.5820312, 1.4365234, -1.1044922, 0.084472656, 1.4482422, 0.26464844, -0.8071289, 0.8544922, 0.7558594, -1.6933594, -1.1572266, 0.06689453, 0.2849121, -1.8544922, -0.44018555, -0.45532227, 0.7788086, 0.12408447, 0.42700195, -0.18237305, -0.4362793, -0.2800293, 1.1181641, 1.4033203, 1.4394531, -1.2324219, 0.85009766, -0.4934082, -1.0048828, -0.20532227, 0.8383789, -0.62158203, 0.4428711, 0.06726074, 0.026977539, -0.64160156, -0.3618164, 3.9355469, 0.7807617, 0.9951172, -0.8691406, -1.7382812, -1.8828125, 0.5185547, -0.5097656, 2.0390625, -1.2871094, 1.6835938, -0.9711914, -0.39892578, 0.5336914, 3.9414062, -0.7919922, 0.040802002, 0.71533203, -0.4802246, -2.015625, 0.09185791, -0.8071289, 2.3730469, 0.19494629, 0.27172852, 0.41992188, -0.9194336, 0.4987793, 1.6621094, -1.5703125, 0.5258789, -1.4560547, 0.20007324, 2.1835938, 1.1923828, 2.3164062, -0.019714355, -0.9760742, -0.54248047, -1.1748047, -1.1503906, -1.0527344, -0.60302734, -0.8300781, 0.12792969, -0.5449219, 1.0742188, -1.4580078, -0.081848145, 2.0800781, 1.7617188, -0.08319092, -1.3974609, -1.5566406, 0.5307617, 1.1816406, 0.083740234, -1.2880859, -0.7421875, 2.4941406, -1.2246094, -0.67333984, 1.09375, 1.3876953, 0.7597656, 2.625, -0.6381836, -0.04840088, 1.2880859, 2.609375, 2.5644531, -0.39697266, 1.3583984, 0.4326172, -1.4306641, 2.2324219, -1.1318359, 4.0742188, -0.14196777, -0.16186523, -1.4082031, 2.5136719, -0.70947266, -0.09820557, 1.2509766, -0.4321289, 1.2578125, -1.0166016, -1.1484375, 0.9741211, 2.5273438, 0.30029297, -0.44067383, 0.14379883, 1.0673828, -0.10223389, -0.32592773, 0.2199707, 1.4169922, -0.44360352, -1.0507812, -2.203125, -0.066833496, 0.8618164, 3.4140625, -0.7055664, 0.40454102, -0.6567383, -0.25585938, 0.41186523, 0.115234375, -0.9213867, 1.1962891, 1.9667969, -0.84277344, 0.108947754, 0.6845703, -1.5458984, 0.42016602, 1.0361328, 0.6645508, -1.0654297, -1.1601562, 0.46972656, 2.1054688, 3.2832031, -1.4697266, 0.20239258, 2.4863281, -1.3544922, 0.2878418, 0.095947266, 1.7734375, -1.0566406, -0.6723633, -0.5654297, -1.0019531, 0.51220703, 0.08062744, 1.0078125, -2.421875, 0.18908691, 1.7802734, -1.8164062, -0.49243164, -0.33789062, -0.19030762, -2.9238281, 0.1694336, -1.1943359, -0.9975586, -3.0917969, -1.3652344, -1.4091797, 0.796875, 0.4140625, -0.8823242, 1.9765625, -1.3310547, 0.65234375, -0.24853516, -0.4855957, 0.17797852, -0.3137207, 0.99902344, -1.0888672, -0.00042438507, -0.5551758, -1.2939453, -0.5336914, -0.10784912, -1.2734375, -1.2255859, 0.7685547, -1.1210938, -0.22937012, 0.72314453, 0.6689453, 0.95166016, -0.5600586, 2.2246094, -0.6152344, 0.6152344, -0.24572754, -2.1835938, -0.8417969, -0.42651367, -0.2680664, -0.6743164, -0.27807617], [1.7509766, -0.9277344, 1.046875, -0.9951172, 1.8535156, -0.42333984, 0.7060547, -2.0976562, 0.9375, 1.0566406, 1.1835938, 0.20397949, -0.7207031, -0.57910156, 2.1757812, -1.0292969, 0.10760498, -0.7216797, 0.5605469, -0.8720703, 1.5664062, 1.5957031, 0.24365234, -1.3730469, 0.5419922, 0.19750977, 1.1513672, -0.63671875, -1.8242188, 0.2998047, -1.0078125, -1.0097656, 0.74316406, -0.40795898, -0.6767578, -2.5, 2.0898438, -0.31811523, -0.4169922, 0.2578125, -1.6425781, 0.15270996, -1.0078125, -1.328125, -0.33398438, -0.38671875, -0.5366211, 1.9384766, 1.0361328, 1.546875, 0.22436523, 0.61083984, -2.3476562, 0.5673828, -0.29638672, -1.2285156, -4.1015625, -3.6523438, 0.2685547, -0.64208984, -0.59472656, 1.0556641, -1.3408203, -0.57470703, 1.4726562, 0.68847656, -1.6054688, -1.6757812, 0.7363281, -1.1064453, -0.83984375, -0.36743164, -1.1992188, 0.32861328, -0.6894531, -0.2734375, 0.2290039, 0.032226562, 0.8671875, 1.4501953, -0.9560547, 0.8261719, -2.2421875, -0.5834961, -0.076049805, -1.1728516, 0.103027344, 0.05493164, 2.4980469, 2.5976562, -1.4326172, 0.051757812, -0.080566406, 2.0957031, -1.3847656, 2.2011719, 3.4414062, 1.140625, -3.09375, 2.8789062, -0.8388672, 0.011230469, 0.04333496, -1.3222656, -0.14868164, 0.5073242, -2.4316406, -1.1132812, 1.6679688, -0.4194336, 0.8925781, 0.7060547, -1.2871094, -0.3125, 0.99902344, 1.4648438, 1.1933594, 1.7285156, -0.17541504, -1.5810547, -0.27807617, 0.85498047, -0.5449219, 1.8085938, 1.1230469, 0.7104492, 0.33398438, -1.7050781, -1.7421875, -0.55566406, -1.0800781, -0.6435547, -1.7431641, -0.9082031, 0.40844727, 0.21972656, 0.15881348, -0.072631836, -0.29223633, 0.34204102, 0.6020508, -2.5332031, -0.40625, 0.83154297, 1.2294922, -1.4375, -0.22314453, -0.6171875, 1.796875, -0.29614258, 1.7880859, -0.049346924, -1.4677734, 2.0839844, 3.109375, -1.1142578, -1.0380859, -1.1611328, -0.5283203, -0.07208252, 0.6113281, 3.1269531, -2.2070312, 1.0683594, -0.6875, 0.59765625, 1.7939453, 1.1708984, -1.9902344, 0.9814453, 0.3486328, -2.8320312, 1.1484375, -0.3786621, -0.14770508, -2.953125, -0.8310547, -1.0244141, -1.7070312, 0.59277344, 3.28125, 0.2697754, -0.21411133, 0.8041992, -1.8085938, 1.4570312, 0.7050781, -0.7714844, 1.2421875, 0.29833984, -0.36669922, -0.29003906, -0.640625, -1.7402344, -0.2841797, -0.5151367, -2.0664062, -1.7890625, 2.1445312, -1.8515625, 0.9404297, -1.3974609, -1.6513672, 1.5117188, 1.015625, 1.4335938, 2.1191406, -0.013671875, 1.6992188, -0.9628906, -0.5722656, -1.1259766, -0.6455078, 2.0703125, -0.78271484, 3.8984375, -1.3945312, 1.5820312, 0.34960938, 0.67626953, 2.8710938, -0.4489746, -0.39868164, -1.6074219, -1.5634766, 1.5517578, -0.10809326, 0.85058594, 0.9003906, 0.29492188, -0.70996094, -1.8251953, 3.0761719, 0.29589844, -2.0332031, -3.7265625, -0.57177734, 2.0976562, -2.2929688, 1.2265625, 1.4296875, 0.4638672, -0.29467773, -0.45703125, -0.19238281, 0.828125, -0.6230469, -0.2253418, 0.87890625, -0.5708008, -0.24951172, -0.14489746, -0.26464844, -0.009765625, 1.8066406, -0.59765625, 3.15625, -0.50683594, -0.6767578, 1.40625, -1.5800781, -0.8310547, 1.4433594, -1.9824219, -0.2142334, -0.69384766, -2.4453125, -2.2109375, -0.2644043, -1.0800781, 1.9785156, -1.7822266, 2.4550781, -0.13232422, -0.85839844, -2.4609375, 1.0888672, 2.2558594, -0.4555664, 0.31396484, 1.4765625, 0.43432617, 0.43652344, 2.8535156, 0.47875977, 0.088134766, 0.091430664, 0.42626953, -0.28930664, 0.37939453, 0.40649414, -2.1738281, -1.1845703, -0.9995117, 1.6240234, -1.6523438, 0.71533203, 1.0898438, 0.78466797, -2.8203125, -0.5214844, -2.9003906, 0.32006836, 0.3798828, 2.6855469, -1.6191406, 0.07763672, 1.1914062, 1.4462891, 0.22558594, 0.6928711, -0.82910156, 0.43066406, -2.3046875, 0.7294922, -1.1523438, -0.40820312, -0.7709961, -0.40600586, 0.93847656, -0.033203125, 0.6484375, 0.82714844, -0.03567505, -1.2705078, -0.7290039, 2.5683594, 1.3662109, -0.05429077, -1.0888672, 0.13842773, -0.68310547, -0.33007812, 0.8022461, -1.359375, -0.6689453, -0.12133789, 1.3017578, 0.3005371, -0.17565918, 0.99121094, -0.19482422, -0.90722656, -1.0527344, 0.7402344, -1.3896484, 2.0898438, -0.42871094, -1.6679688, 0.23339844, -0.69140625, 0.77490234, -1.1972656, -1.6025391, 2.6523438, 2.515625, -0.9814453, -1.8085938, 0.34765625, 1.1728516, 1.25, -2.59375, 0.1640625, -0.33154297, 1.8623047, -0.40527344, 1.2734375, 2.765625, 2.0488281, -0.77783203, -0.3112793, 0.27978516, 0.2109375, 1.3574219, -0.17285156, -0.5541992, -2.0273438, -0.2734375, 0.7714844, -3.0078125, 0.33398438, 2.578125, 2.0429688, -2.9472656, -1.4824219, 0.32788086, -1.3349609, -0.1776123, -1.4775391, 0.6855469, 1.71875, 2.21875, 0.6904297, -0.44262695, -1.5546875, -1.3798828, -0.89453125, -1.1689453, -0.44335938, 0.017089844, 0.6611328, -0.39916992, -2.0644531, -1.578125, 0.7636719, 1.1103516, -0.44433594, -1.9882812, -0.57666016, -1.8496094, 2.1054688, -0.53515625, 2.4570312, -1.9326172, -1.2128906, 0.38012695, -0.88183594, 1.7734375, 2.1367188, 0.5839844, -0.5234375, 0.47851562, -0.859375, -2.0625, 0.49023438, -2.2109375, 1.1201172, -1.3144531, 0.79589844, -0.24353027, -0.19604492, -0.5097656, -0.55078125, -0.73046875, 1.1015625, 0.025634766, 1.0810547, -2.3007812, -2.3203125, -0.6303711, -0.5053711, -0.6044922, -0.8027344, -0.93066406, 2.0097656, 6.125, 0.5722656, -0.7685547, -3.1328125, 0.7841797, -0.43139648, 1.2519531, -0.69921875, 1.3857422, 0.7050781, -0.7011719, -1.5361328, -0.64746094, -1.3359375, 0.7011719, -0.41723633, 1.1435547, 1.3876953, 0.44580078, 2.1933594, 0.9536133, 1.8935547, 0.4272461, -1.6171875, -0.47583008, -1.15625, -1.046875, -0.6484375, 0.38916016, -3.2011719, 0.6069336, 0.047790527, -0.29516602, -2.9785156, -1.5722656, -2.7363281, 0.48999023, -2.4472656, 1.5224609, 0.17480469, -1.09375, -0.048339844, 3.0859375, -0.068481445, -0.8251953, -3.1074219, -0.71777344, 0.20605469, 0.93603516, 0.9638672, -1.0449219, -0.09863281, 0.21948242, 1.15625, -0.3137207, 0.44580078, -0.62890625, -0.7158203, -0.091430664, 0.9794922, -2.0976562, 1.6503906, -1.6328125, -0.0029296875, 1.7128906, -0.49731445, -2.3066406, 1.5761719, -0.03479004, -6.359375, 0.78564453, -0.75683594, -0.69921875, -1.796875, -0.73095703, -1.5263672, -0.41918945, -0.80566406, 0.23840332, 0.021972656, 1.5771484, 0.12231445, -0.4194336, -0.7758789, -0.00048828125, 0.65283203, -0.14807129, 0.66503906, -1.0263672, 0.16931152, -1.1855469, 1.1044922, 1.4492188, -0.5708008, -0.85546875, 1.4228516, -1.6347656, 1.0107422, -1.1464844, 0.7338867, -0.9042969, -0.84375, 0.9926758, 0.11303711, 0.55322266, 0.65478516, -0.09863281, -2.0175781, -0.57470703, -0.43237305, -1.3369141, -1.6621094, -0.55615234, 0.047912598, -1.4257812, 1.0615234, 0.28271484, 0.56884766, -0.4501953, -1.0087891, -0.88134766, 0.203125, -1.375, 0.63378906, -2.0742188, 2.2597656, 0.61035156, -1.6835938, 0.1616211, 0.8828125, -0.13391113, 1.2929688, -0.15429688, -1.7783203, 2.3691406, -1.8261719, 0.3076172, -0.71728516, -1.0068359, -0.41064453, 1.2978516, -1.78125, 1.2519531, 0.3984375, -2.6015625, -1.7792969, 1.296875, -0.16955566, -0.060058594, 2.0195312, -0.7685547, -0.9223633, -0.08618164, 1.6445312, 1.7861328, 0.06738281, 0.5341797, 0.2619629, 1.53125, -1.3691406, 1.3007812, 1.1074219, -1.2832031, -2.3515625, 0.6660156, 1.1826172, -1.4316406, -0.80859375, -1.0771484, -1.7509766, -1.7148438, 0.2421875, 0.6118164, 1.2246094, 0.4074707, 0.5058594, 0.06567383, 0.18493652, -0.07519531, 0.05078125, 0.028320312, -8.28125, -1.3847656, -0.7319336, -1.28125, 1.3583984, -1.0791016, 2.1210938, 0.85253906, 0.01184082, 1.5087891, -1.7363281, 2.7265625, 0.18261719, 2.3378906, 1.4589844, -1.1845703, -0.9038086, -1.8554688, -1.1650391, -0.8232422, -1.4121094, -3.0507812, -0.9082031, 0.9580078, 1.8027344, -1.0800781, 0.012451172, -1.5546875, -0.42407227, -1.3066406, 2.0488281, 1.3642578, -1.171875, 0.4387207, 0.43847656, -1.4365234, -1.2910156, 0.3269043, -0.6225586, 0.74658203, 0.87597656, 1.9306641, -1.9003906, 1.1542969, -0.21496582, -1.1503906, -0.19836426, -1.2832031, 1.6347656, 0.037841797, 1.0527344, -0.28466797, -0.6777344, -0.82128906, 0.11303711, 1.4384766, -0.93652344, 0.7001953, -0.40307617, 0.6855469, -0.60546875, -1.6982422, -0.40551758, -0.16601562, 2.1679688, -0.71240234, -0.9008789, 0.65478516, -1.5615234, 0.42919922, -1.0410156, -3.1582031, 0.3125, 0.44970703, -0.87646484, -0.4128418, 1.0351562, 1.3076172, 1.6064453, 0.2487793, -0.6767578, 1.9785156, -1.0185547, 3.3710938, 1.0605469, 0.16064453, -0.48291016, 3.0371094, -0.32958984, -0.9213867, 0.5800781, 1.5351562, -0.73291016, -4.4335938, 0.7734375, 0.50927734, 2.296875, -0.032348633, -1.1787109, -3.234375, -0.42895508, 1.0039062, -0.97509766, 0.06036377, 0.27148438, -1.1572266, -0.8564453, -0.64160156, -1.8857422, 3.0234375, -0.7915039, -2.4238281, 1.1972656, 1.5664062, -0.39794922, 3.2851562, 1.8378906, -0.17871094, -0.3491211, 0.96777344, 4.0195312, -0.90722656, 1.4707031, 0.7578125, 1.8544922, -0.028320312, 0.859375, -1.5839844, -0.83740234, 0.2915039, 1.03125, -4.7109375, -0.69384766, 0.7578125, -0.6816406, 0.36987305, 2.9882812, -0.5341797, -0.088134766, -0.15917969, -0.07714844, -1.4804688, 1.8662109, 0.7470703, 0.8305664, 0.39379883, -0.07904053, 0.57128906, 2.3398438, -0.31396484, 2.3730469, 1.7548828, -1.1279297, 1.2695312, 1.9023438, -2.4492188, -0.84814453, -2.0117188, 1.7724609, -1.53125, 2.4140625, -1.1386719, 1.3837891, 2.4824219, -1.8916016, -1.2763672, -1.2363281, 2.9589844, -0.37060547, -1.3300781, -4.0585938, -1.0058594, 1.0732422, -0.87402344, -1.0507812, -0.47436523, 0.7089844, 0.40356445, -0.35107422, -1.4550781, -2.8242188, 2.0898438, 1.9716797, -0.3659668, -1.4199219, -5.2382812, -0.4572754, -1.90625, -0.671875, -0.19848633, 1.3564453, 0.085876465, -0.4477539, -0.014587402, 1.1826172, 3.2480469, 0.49389648, 0.012817383, -0.14343262, 1.2617188, -0.33422852, 1.5585938, 1.0078125, -0.62597656, 0.7006836, 1.3945312, -0.043945312, 0.2619629, 1.484375, -0.5395508, 0.061035156, 2.234375, -0.044433594, -0.48168945, -0.7441406, -0.26123047, 0.37597656, -3.4746094, 1.7822266, -0.24682617, 0.13537598, 2.9355469, 0.09716797, -2.2441406, 0.5859375, 0.5839844, -1.7265625, -0.2487793, -1.2128906, -0.5878906, 1.7841797, 1.0234375, -1.7138672, 0.59277344, 7.6679688, -1.6816406, -1.9726562, 1.6914062, -1.890625, -1.1367188, -1.8027344, 2.5117188, 1.3154297, -1.4589844, 0.87109375, 1.6337891, -1.5625, 1.5224609, -2.375, 3.0585938, 0.3017578, -1.1132812, -0.50390625, 0.6689453, 0.5966797, 0.59472656, -2.34375, -0.1282959, 3.1875, -1.9121094, -1.6503906, -1.3544922, -0.93408203, -0.9277344, -1.5302734, 2.3554688, -0.5908203, 3.3710938, 1.4355469, 1.8398438, -0.17700195, -1.0839844, 3.4453125, 2.8828125, -1.1230469, 1.9921875, -2.5390625, -1.9101562, -1.0, 1.8486328, -0.9404297, -0.33789062, -1.796875, 1.8984375, -0.42626953, 2.5820312, -1.3359375, -0.45629883, -0.20812988, -0.9941406, 1.3505859, 0.85839844, -0.10076904, 0.4831543, -0.49829102, -0.30151367, 0.3017578, 0.88916016, -0.95751953, 1.4794922, -1.2138672, 1.1386719, -1.5078125, -1.3730469, -0.65185547, -0.13964844, -1.9433594, -1.6640625, -3.0351562, 1.1230469, -1.0107422, 0.07495117, 1.1474609, -0.28637695, 0.3137207, 0.06689453, 0.7158203, 1.078125, 0.3413086, 0.47558594, -0.044433594, 0.35791016, -0.1348877, 1.9716797, -0.68359375, -1.0429688, 0.73828125, -0.07507324, -2.6640625, -1.2441406, 0.7495117, -2.9335938, 1.1494141, -0.51123047, -1.0556641, 2.0390625, -0.13085938, 3.1132812, -4.7539062, 1.0166016, -1.5957031, 1.6269531, -1.0673828, -0.31396484, 7.5390625, 1.5400391, -2.1230469, -1.6953125, -1.6347656, 0.13085938, 1.6962891, 0.09320068, 0.33544922, 0.7832031, -2.5976562, 0.9472656, 2.0195312, -0.4326172, -3.0625, -1.1757812, 0.8925781, 1.6015625, -2.3886719, -0.32226562, 0.67578125, 3.1875, 0.7714844, -0.5805664, 1.4921875, -1.0087891, 0.3828125, -1.0878906, 1.2177734, -1.4101562, 0.2788086, -0.47998047, 1.8964844, -0.2668457, -2.7734375, -1.1572266, 1.5351562, -0.43359375, 0.23791504, 0.03540039, -0.60546875, 1.2832031, 1.1699219, 1.5644531, -1.5878906, -1.1054688, 0.8017578, 2.0195312, 0.007446289, 0.055664062, 0.48608398, 1.0556641, 3.28125, -1.5253906, 0.46533203, -0.5185547, 0.42260742, -1.0810547, 0.4248047, -0.21679688, 1.109375, -0.022766113, 0.35498047, 2.8691406, -0.6538086, 0.5283203, -0.11816406, 0.5107422, 0.9946289, -1.6015625, 1.0351562, 2.1894531, 0.38085938, 1.2578125, 1.3037109, -1.5166016, -1.5078125, -0.21679688, 2.5722656, -0.97021484, 0.0017089844, 1.1992188, -0.06640625, 0.31347656, -0.29296875, -0.5332031, -0.31103516, 1.4316406, 0.41625977, 0.74121094, -1.0439453, 0.51220703, -0.5786133, -0.06518555, -1.2949219, -1.8046875, -1.1992188, 1.921875, -0.057861328, 1.7910156, -0.5341797, -0.36669922, 0.87402344, 0.7211914, -0.5073242, 0.26513672, -0.4404297, 1.0087891, -1.4863281, -0.5800781, 0.52685547, 0.46557617, 0.75146484, 2.7890625, 1.5410156, -0.38330078, 0.9824219, 0.5449219, 0.31860352, 2.1210938, 0.5444336, -0.6503906, -1.0527344, -0.84375, 0.6113281, 0.6928711, 0.5839844, -0.83984375, -0.23168945, 1.2451172, 1.7324219, -0.31689453, 0.8730469, 2.7070312, 0.06530762, -0.55371094, 0.3852539, -1.7890625, -1.375, -0.11260986, 1.6035156, -0.11206055, -0.33642578, 1.1220703, 1.4609375, 0.98828125, 0.546875, 0.22192383, -1.0625, -0.63720703, 1.8759766, 0.6064453, -1.3261719, 2.2539062, -2.0761719, -1.8603516, 0.7265625, 1.5644531, 0.42211914, 1.4941406, -1.7734375, 2.296875, -2.6015625, -0.94970703, -2.0625, -0.25048828, 0.2475586, 0.05126953, 0.43481445, -0.06347656, -0.70947266, 2.703125, -0.92822266, -1.0703125, 0.14575195, -1.2431641, -0.3232422, 0.5839844, -0.10656738, 2.4082031, -0.09094238, 6.6171875, 0.36376953, -0.390625, 0.57177734, 3.4414062, -0.23876953, 0.03967285, 3.1679688, -2.7207031, 0.9116211, 0.10473633, 0.50390625, -1.0224609, 0.084472656, -1.609375, 0.27148438, 3.2304688, 0.90771484, -0.93847656, 0.42919922, -2.5566406, -1.9287109, -0.3798828, -1.7802734, 1.6621094, 0.39086914, 1.1367188, 2.4433594, -0.7504883, 0.5996094, -1.8417969, -2.46875, -0.7451172, -0.060546875, 1.0693359, 0.9453125, -0.06738281, -1.4521484, -2.7304688, -0.11376953, -1.0439453, 0.9638672, -0.7441406, 1.6328125, -0.13928223, 3.2695312, 0.48876953, -2.4160156, -0.828125, -1.1835938, 1.0214844, -1.6308594, 1.3525391, 1.0302734, 0.12402344, -2.2304688, 0.92871094, 0.49804688, 1.234375, -1.0537109, 2.9453125, 0.031982422, -1.3671875, -1.7265625, 1.2705078, 0.03503418, 0.2685547, 1.3037109, -2.4667969, 1.8066406, -1.5986328, 0.65722656, 0.3869629, 0.76416016, 2.1074219, -2.390625, 0.4790039, 0.9824219, 0.6796875, 1.0488281, -2.0625, -1.6796875, -4.2304688, -0.65527344, -2.1269531, 0.9609375, -0.47436523, -0.5292969, 0.28759766, 1.4765625, 1.3574219, 1.3798828, -3.828125, 0.9057617, 1.8154297, 1.0957031, 0.9057617, 1.2753906, -0.0126953125, 1.5019531, 0.66503906, -0.10864258, -0.52685547, -0.15332031, 0.8925781, 0.9741211, -0.10131836, 2.2109375, 0.22338867, -0.97753906, -0.5776367, 2.203125, 0.3786621, -2.1542969, -0.38720703, 4.2109375, 0.05419922, 1.8945312, -0.5419922, 1.484375, -0.22875977, 1.6650391, -1.1455078, -0.086242676, -0.44677734, -2.0898438, 1.8789062, -1.4755859, 2.0, -3.9140625, 7.703125, 1.2519531, 0.56396484, 0.17358398, -0.27905273, -0.24682617, 0.5957031, 3.3085938, 2.3496094, 1.9248047, -1.0917969, -1.5146484, 1.1464844, 0.7841797, -0.9067383, 1.1699219, -2.0175781, 2.4746094, -0.82666016, -1.4033203, -0.6791992, -1.8632812, 2.4277344, -1.9179688, -0.2841797, -0.59472656, 0.7705078, 0.6220703, -1.109375, -2.1757812, 1.234375, -1.6464844, 1.8339844, 0.6713867, 1.8203125, -1.7148438, -0.11254883, 1.4609375, 1.2919922, -0.24060059, 0.9692383, 0.96484375, 1.8535156, -1.7587891, 2.0351562, -1.9912109, 0.9765625, -0.064941406, 7.2578125, 0.2685547, 0.27441406, 0.86279297, 0.7470703, -1.4785156, 2.1132812, -0.3684082, 1.0126953, -0.110839844, -0.93847656, -1.671875, -0.6464844, -0.93847656, 1.2607422, -0.32104492, -4.09375, -0.05053711, -2.5859375, -1.3447266, 0.5620117, 0.31469727, -0.3540039, 0.4729004, 0.27026367, 0.15454102, 2.1894531, 2.6835938, 0.15185547, 0.23876953, 0.9091797, 1.4707031, 0.116760254, -0.55126953, 1.3710938, 3.7109375, 2.8457031, -0.9067383, 1.1220703, 1.265625, -1.9257812, 1.4472656, -0.076049805, -1.5566406, 0.9667969, 1.5693359, -2.1484375, -0.08251953, 1.8203125, 0.98779297, 0.3791504, 2.0546875, -1.7402344, -1.2285156, 1.1660156, 0.063964844, -2.9453125, 1.7949219, -0.38916016, -2.2324219, -1.765625, 1.3925781, -0.025390625, -1.0517578, 1.3789062, 3.3417969, 0.52734375, 0.113708496, -2.2460938, -0.57666016, -0.94677734, 0.55615234, -1.5898438, 1.9921875, -0.39013672, 1.3837891, 2.0097656, -0.38354492, -1.5, 2.0683594, -2.5253906, 1.6162109, 0.5576172, -2.3105469, -1.3515625, 0.390625, -1.9804688, 1.0742188, -0.9667969, 0.31225586, 1.4833984, 2.2070312, 0.60546875, -1.7382812, 1.0625, -0.6870117, -1.4609375, -0.14575195, -1.8066406, -3.046875, -1.5175781, -2.0175781, 0.89160156, -0.5048828, 0.26904297, 1.7490234, -0.06628418, 0.21179199, 1.8144531, 2.5429688, -0.8173828, 2.9121094, 0.9033203, 0.07714844, -1.3623047, -0.80126953, -4.234375, 0.6972656, -0.12298584, -0.49609375, -1.0341797, -0.44335938, 0.32250977, -2.1074219, -0.6064453, 0.8276367, -0.65234375, -0.3317871, 0.17138672, -0.20703125, -3.1171875, -0.09082031, -1.9960938, 0.6298828, -3.8671875, 1.0058594, -1.4287109, -0.014678955, 0.4243164, -1.0966797, 0.61816406, 0.5761719, 1.6816406, 1.6416016, 0.30688477, 0.35595703, 0.18164062, -0.17749023, -0.4489746, -0.19128418, 0.59375, -0.21520996, -1.6835938, -1.1210938, -0.3383789, 2.359375, -0.4243164, 0.36767578, 0.5234375, 0.6821289, 1.4072266, -0.080078125, -0.8964844, -0.83935547, 0.5517578, -1.875, 0.9892578, -1.5498047, 0.1640625, -0.53759766, -0.71484375, -0.93847656, 1.7363281, -1.1855469, -0.1430664, -4.2304688, -0.56152344, 0.76123047, -1.5605469, 1.0087891, 0.76220703, -0.5786133, 0.57958984, -1.9667969, 0.2388916, -0.68310547, 0.75390625, 0.15136719, 2.609375, -0.7788086, 0.11022949, -2.203125, -1.4882812, 2.1445312, -1.953125, 0.57910156, -0.67822266, 0.7548828, -0.13793945, 2.0722656, -0.17871094, 0.08215332, -0.33544922, -1.6445312, 0.1965332, 0.50878906, -0.0030517578, -0.9873047, -2.1210938, -1.0058594, 1.3486328, -1.3066406, -0.2770996, 1.1533203, -0.2548828, -1.1220703, -0.6694336, -0.114990234, 1.0878906, 0.23632812, -0.007873535, 2.2226562, 1.7695312, -1.6953125, 1.5976562, 1.828125, -1.1679688, 0.3178711, 1.5068359, -0.46044922, -1.53125, 0.23583984, 0.100097656, 1.0214844, 0.16748047, -2.1542969, -2.0703125, -1.1210938, 0.45776367, -0.7988281, 1.3173828, 0.86865234, 0.48217773, -2.0839844, -0.19958496, 0.5463867, -0.47436523, -1.4013672, -1.4199219, 0.8955078, -1.2626953, 0.62939453, -0.65234375, 1.1210938, 2.9804688, -0.4663086, -0.3383789, -0.19824219, 2.40625, 0.0034179688, -1.6503906, -0.18481445, 1.0498047, -0.83496094, -0.57128906, 0.5605469, -1.5380859, -2.078125, -2.0292969, 0.06439209, 1.0126953, -0.71484375, -1.0556641, -3.1875, -0.1829834, -1.9296875, -5.1054688, 0.75146484, 5.5625, 1.3876953, -2.7070312, 0.14953613, 2.5625, -2.1074219, -1.6367188, 2.4257812, -0.90527344, -0.80566406, -0.32958984, -1.375, 2.6367188, -2.53125, -0.4326172, -0.08013916, 0.99902344, 2.0390625, 0.9379883, 0.46435547, -0.25927734, 1.1533203, -0.7578125, -1.8330078, 0.34570312, 0.8076172, 1.671875, 1.7773438, -0.55029297, -1.6191406, -1.5849609, -0.9941406, -0.38720703, 0.36401367, 1.9804688, -0.8466797, 0.51416016, -3.6679688, 0.43237305, -1.9765625, 1.3789062, 1.3955078, -1.0488281, 2.6171875, 0.4230957, 0.91796875, -0.72558594, -0.54296875, -0.0036621094, -0.5644531, 0.52246094, 0.48388672, 0.39013672, 0.49951172, 0.3076172, -1.7734375, 2.1933594, -1.3271484, -0.68115234, -0.38916016, -2.1289062, 0.70214844, -0.390625, -1.3291016, -0.15991211, -2.0703125, -0.3149414, -1.1113281, 1.1035156, 1.5195312, 1.6523438, 1.5166016, 1.5058594, 0.69140625, 0.49145508, -0.69921875, 0.8203125, 0.7114258, 0.13549805, -0.119262695, 3.359375, 1.8193359, 0.9609375, 1.5429688, 0.66015625, -0.9501953, -1.0136719, 0.62841797, -2.4433594, 2.0078125, 0.15917969, -1.2050781, -0.20874023, -2.7539062, 0.5317383, 0.16564941, -0.86621094, -2.0878906, 1.0927734, -1.7167969, 0.39013672, -0.33764648, 0.03857422, 0.9692383, 0.85498047, 1.0058594, -0.8203125, 0.40283203, -1.5332031, 0.7709961, 0.061523438, -1.2890625, -1.5136719, 0.6147461, -0.82714844, -0.18273926, -2.0507812, -2.09375, -6.6210938, 0.6308594, -0.6665039, -2.3398438, -0.22290039, -0.0385437, 2.6699219, 1.1894531, -0.5908203, -1.21875, 0.12158203, 0.22546387, 0.5410156, 2.5703125, -0.80322266, 0.14013672, -0.99902344, 0.94628906, -0.41259766, 2.9609375, -0.3149414, 0.140625, -0.61035156, 0.22680664, 2.8925781, 0.5126953, -0.3305664, 2.9921875, 0.17297363, -2.1464844, 1.6054688, -0.43847656, 0.5263672, 2.6328125, -1.1015625, 0.013305664, -1.9306641, 0.7993164, 1.0273438, 0.046447754, 0.6772461, 0.35180664, 0.625, -1.3603516, 1.0654297, -0.5703125, -0.12182617, 0.3876953, -0.64697266, -0.38500977, -1.2431641, -1.0957031, -2.453125, 0.6669922, 1.0742188, 1.2119141, 1.6435547, -0.20336914, -1.0214844, 0.15209961, 2.9863281, -1.1806641, 1.984375, 0.060302734, 1.3476562, 0.9609375, 1.375, -1.2675781, 0.5317383, -1.2128906, -1.1660156, -1.3398438, -0.50683594, 0.96435547, -2.2539062, -0.57958984, 0.36157227, 0.87646484, -0.84033203, 1.8339844, 2.515625, -0.13269043, -0.7753906, 2.3242188, -0.45141602, -0.050720215, 2.2832031, 1.9277344, 1.1650391, 0.6035156, 1.2910156, 2.5859375, -2.0546875, 0.92871094, 0.68847656, -0.2097168, 1.6210938, -1.8505859, -0.29882812, 2.2578125, -1.0761719, 1.3662109, 1.4335938, -0.39160156, -0.052246094, 1.0048828, -0.05078125, -1.7207031, 1.3876953, 0.95214844, -1.3730469, 2.5800781, 1.5878906, 0.6152344, 0.7246094, 0.70458984, 1.0322266, 1.0195312, 0.6923828, 2.1621094, -0.22460938, -0.58691406, 0.94091797, -0.58496094, 1.6835938, 0.25390625, 0.9580078, -0.17114258, 0.8955078, -0.3256836, -1.3574219, 0.22546387, 1.9619141, -0.3630371, 1.2041016, 2.8085938, 3.2109375, 0.53271484, 0.9560547, 0.012252808, -0.96191406, 2.5839844, 1.0419922, -2.5625, 0.35595703, -1.3359375, -0.75097656, -2.4921875, 0.9736328, -0.16992188, -1.4316406, -0.49902344, 0.8105469, -0.19116211, -0.72314453, 0.6713867, 1.7109375, 2.0976562, -1.2099609, 0.76953125, 0.38208008, -0.4033203, -0.24243164, 0.23632812, -0.6611328, -1.1738281, 1.2617188, -1.4501953, -2.4199219, -0.31323242, -2.3222656, 0.3330078, -0.48632812, 0.44067383, 3.7265625, 0.6381836, -0.6699219, -0.9301758, 0.1665039, 0.44970703, 3.2675781, -0.74365234, 0.89990234, 0.83691406, 2.1132812, 0.09643555, -0.9716797, -0.07861328, 0.0037841797, 2.8671875, -2.1484375, 1.0556641, -1.6464844, -1.25, -0.77685547, -0.2368164, 0.97265625, 0.55126953, -0.46435547, -0.4152832, 0.81933594, -0.63378906, 1.75, 0.8442383, 0.17407227, 0.33398438, 0.7236328, 2.4570312, 3.4160156, -1.0800781, 1.8046875, -0.7939453, 1.2695312, 0.5957031, -2.171875, 0.85839844, -1.8740234, 1.53125, -1.4931641, -0.75878906, -2.4335938, 0.20166016, -0.18835449, 1.6601562, 0.26879883, -0.3227539, 0.051757812, 1.0097656, -3.03125, 0.8569336, -0.27294922, -1.1064453, 3.5703125, -0.83691406, -0.7451172, -1.6757812, -0.99560547, 1.7373047, 1.1005859, 2.4042969, 0.17871094, 1.6640625, 0.8144531, -1.8925781, -1.4589844, -0.016723633, 0.20812988, -1.7285156, -0.6503906, -0.25390625, -1.0947266, -1.1347656, -0.2692871, 0.83154297, 0.041870117, -1.6513672, 0.35327148, 0.25732422, -0.7080078, 1.6220703, -0.5292969, -0.29052734, -0.049560547, -1.0224609, -1.5869141, 0.19458008, -1.0322266, 0.38330078, -0.359375, 0.5722656, -0.045410156, 1.0009766, 0.38256836, -0.94433594, -0.03338623, -0.9038086, 0.6298828, -2.8964844, 0.29858398, 0.025878906, 0.98535156, -1.0068359, -0.37939453, -0.71972656, 0.34399414, 0.97021484, 0.65625, 2.0761719, -0.8701172, -0.8666992, -1.2294922, -1.2080078, 1.2285156, -1.5820312, -0.40820312, 0.45654297, 1.1279297, 1.1923828, 0.42358398, -2.7617188, 0.37890625, -3.21875, -0.7294922, -1.5097656, 0.2487793, 1.921875, 1.5058594, 0.03756714, -0.8901367, -0.9794922, 1.7734375, -1.2988281, 0.9423828, 0.58154297, 0.2529297, -0.0043945312, 1.109375, 0.69140625, 1.5126953, 0.08105469, 3.015625, -0.12915039, -0.91259766, -1.0019531, -0.46118164, 0.31396484, 1.1142578, 0.2524414, -0.6616211, -0.064941406, -0.4091797, -1.8867188, -5.0273438, 0.828125, -0.71777344, 3.0390625, -0.19335938, -3.9355469, 0.44702148, -0.42529297, -1.5097656, -2.7421875, -3.9042969, -0.65234375, 2.4101562, -1.1816406, 0.8076172, 1.7851562, 0.9189453, 1.1367188, -0.74853516, 1.7724609, 0.008224487, 2.5058594, -1.4667969, 0.60791016, 1.4550781, -2.6425781, 0.81152344, -1.2167969, -0.05810547, 0.52978516, 1.0078125, 0.60595703, -0.88623047, 1.5039062, -0.9941406, 0.8100586, 2.1328125, 2.9882812, -0.4321289, -0.40405273, 0.3491211, -0.8208008, 0.5390625, -1.2822266, 0.13000488, 1.1914062, 0.91503906, -0.265625, -0.34448242, 0.63671875, -0.026245117, -1.3496094, 0.3125, -1.1035156, 2.8066406, 1.0917969, -0.46923828, 0.9506836, -0.42919922, -0.22070312, -1.2890625, 3.1875, 0.12426758, -1.3027344, -2.7832031, -0.64160156, -0.2763672, 1.2822266, -0.122558594, 1.5361328, 0.734375, -1.0146484, 0.60546875, -0.55859375, -0.74316406, -0.05419922, 0.37109375, 0.90185547, -0.64746094, 2.3046875, -1.5996094, -2.3769531, 0.765625, -1.1738281, 0.7529297, 1.9316406, 0.34985352, -0.9560547, 0.6855469, 0.98095703, -1.1318359, -2.0820312, -0.0637207, 1.3789062, -0.18066406, 0.88378906, -2.4746094, 0.8178711, -3.0976562, 0.91015625, 0.6333008, 0.6821289, -1.2929688, -0.18115234, -0.25952148, 0.9140625, 0.9370117, -1.2373047, -1.1298828, 1.1337891, 0.29052734, -2.28125, 0.8925781, 0.047729492, 1.0683594, 0.48657227, 0.7294922, -2.125, -0.9501953, 0.6479492, 0.15820312, 3.8398438, -1.8740234, 1.0722656, -2.1738281, 4.09375, 0.5498047, 0.578125, -0.5864258, -0.46362305, -2.0859375, -2.4296875, 0.40185547, -0.9394531, -2.0761719, 0.2692871, -0.8876953, 0.02758789, 1.5224609, -2.2421875, -0.35839844, 0.81933594, -1.9072266, 0.18798828, -1.3359375, -0.47631836, 0.52978516, -0.9121094, 0.6821289, -0.96777344, -0.43798828, 1.2900391, -0.5493164, -1.25, -0.19177246, -0.08630371, -1.0507812, -0.40161133, -0.9711914, -0.3425293, 1.0458984, 1.4716797, 1.5839844, 1.1162109, 0.203125, 0.87646484, 0.48632812, -0.8955078, 0.41577148, 0.1574707, 0.28710938, -0.46923828, 1.1474609, 2.3632812, -0.31933594, -0.07128906, 1.828125, 2.6347656, 1.3125, -0.22167969, -1.7265625, 1.2158203, 0.32470703, -1.0644531, -1.0839844, 1.1933594, 0.87841797, -0.66845703, -1.5419922, -0.13635254, -1.2255859, 1.3007812, -2.6835938, -0.140625, -0.8076172, -3.4707031, 0.8823242, -1.1523438, 1.4755859, -1.0126953, -1.8173828, 1.0341797, -1.6396484, 0.51464844, 1.9804688, -3.09375, 1.5917969, -0.06414795, -1.2773438, -0.94677734, -1.1464844, -0.3112793, -1.0039062, 0.9667969, -2.5429688, -0.67578125, 0.2211914, -0.14770508, -1.6259766, 1.2675781, 2.2636719, -0.9370117, -0.028259277, -1.6503906, -0.39257812, -1.3378906, -0.6713867, 0.28955078, -1.578125, -1.1982422, -1.5351562, 2.2148438, -0.41625977, 0.03857422, 0.48901367, 0.3466797, -4.28125, -0.30493164, -0.5390625, 0.5786133, 0.18554688, 0.48291016, 1.1210938, 1.96875, 1.1132812, -0.20373535, -0.2980957, -0.18676758, 1.1367188, -1.7929688, -1.5097656, 2.5859375, 1.0546875, 1.7148438, 2.0273438, -1.9326172, 0.22851562, -0.9863281, -0.89160156, 0.81933594, 0.052459717, 2.6757812, 2.5234375, 3.5644531, -1.5078125, 0.7753906, -0.5341797, 0.8413086, -0.7338867, 0.9711914, 0.08483887, -0.5551758, 0.5996094, 1.9921875, 2.1367188, -0.51123047, 0.41796875, -0.12976074, -0.06982422, 0.010559082, 1.5009766, 0.5576172, -1.5292969, 0.81689453, 0.1809082, 0.68652344, -0.7475586, 0.5708008, 0.30664062, 0.42651367, -0.038269043, 1.3125, 0.6225586, -1.2734375, -0.22631836, -0.24804688, -1.4277344, -2.1367188, -0.28833008, -0.63623047, -2.0, 0.38720703, 1.8066406, 0.15649414, 0.5888672, -0.35888672, 1.3339844, 0.7578125, -0.609375, -0.9926758, -1.2607422, 0.86035156, -0.09887695, -0.39086914, 1.0019531, -1.6757812, 0.7138672, -0.0029296875, -0.99609375, 0.83740234, 0.26904297, -0.88671875, -1.1865234, -0.19543457, 1.1064453, 0.27490234, -0.6455078, 2.6777344, -0.5957031, 2.078125, -0.46166992, -1.0419922, -0.8828125, 0.21166992, 1.2470703, -0.9741211, -1.0185547, -0.93896484, -2.3925781, -0.05029297, 0.7270508, 0.114746094, 1.9003906, -1.1015625, -2.078125, 0.7675781, 1.3076172, 0.11364746, -0.48706055, -1.0371094, -2.6523438, -0.61816406, 1.390625, 1.0654297, -0.5629883, 0.7416992, -0.18359375, 1.5751953, -0.84716797, -0.17871094, -0.27905273, 2.0332031, 1.3730469, -0.89160156, 3.71875, -0.36254883, 1.8203125, -0.83984375, 2.390625, -1.2617188, 0.14355469, 1.8378906, -2.4726562, -0.4868164, -1.015625, -1.0957031, -1.421875, 0.19067383, 2.1777344, 1.4375, -0.82373047, -1.1425781, 1.1357422, 1.2822266, 0.90234375, 1.0625, 0.6542969, -0.6323242, -0.3774414, 1.1347656, 2.6015625, 0.14941406, -0.9042969, 1.375, 2.1445312, -0.9550781, -2.5546875, -1.3134766, -0.16918945, 0.76171875, 0.5283203, 0.19714355, -0.9321289, -0.4309082, -1.2255859, 1.3125, 0.9316406, 0.7963867, -2.2910156, -1.8554688, 4.3984375, -0.97802734, 0.33935547, -0.8461914, -0.5727539, -1.3105469, -0.036499023, 0.5175781, 0.35498047, 0.03173828, -0.84472656, 1.0478516, 0.52441406, -0.6435547, -0.15100098, -0.9897461, -1.9570312, -0.12164307, 0.99316406, 0.125, -1.6728516, -0.32080078, 1.2421875, 1.0048828, 0.5175781, -1.6005859, 0.51660156, -0.8232422, 0.40966797, -0.041870117, -2.6660156, -0.7504883, -3.15625, 0.57177734, -1.7451172, -2.1054688, 0.11071777, -0.001953125, -1.9101562, 0.7402344, 0.5957031, -0.7788086, -0.2442627, 0.15197754, 1.40625, -2.5429688, 0.16723633, 0.01171875, 0.70751953, 1.6669922, -0.4423828, -0.5102539, 0.5551758, 1.5410156, -1.3525391, -1.9804688, -0.42773438, -0.69433594, 1.6416016, -0.6821289, -0.67626953, -1.734375, -0.5546875, -1.9785156, 2.2890625, 1.9628906, 0.4555664, -0.74902344, -0.42651367, -0.8623047, -0.6694336, 2.0742188, -0.08404541, 1.1894531, 0.3388672, 0.7548828, -2.5957031, 0.2800293, 0.6972656, 1.1835938, 0.17932129, -0.85058594, 1.9921875, -1.5917969, -1.6835938, 0.9770508, 0.06878662, 2.765625, -0.024414062, 2.0585938, -1.7363281, -1.4814453, -1.0332031, -0.34375, 0.9267578, -0.4296875, -0.6269531, 1.8808594, -0.39624023, 0.22668457, -0.625, 0.0012817383, 0.16271973, -1.3662109, -1.2929688, -0.6738281, 1.8945312, -0.05517578, -0.60058594, -0.5058594, -1.1308594, 1.4443359, 1.6347656, -0.8623047, 2.5410156, -2.1777344, -1.2763672, 0.3947754, 2.1015625, -1.1914062, 4.8203125, 1.2109375, 0.3310547, -2.5136719, 1.4375, -1.1181641, 1.2929688, -3.1894531, 2.4648438, 1.9814453, -1.5332031, -0.52783203, -2.0898438, 0.7363281, -1.4941406, 0.09082031, -0.12597656, -0.0056152344, -1.5917969, -0.8046875, -0.23632812, -0.6816406, -1.7402344, -0.11206055, 0.67871094, -0.69628906, 0.13342285, 0.7114258, 0.7807617, 0.23583984, -0.30151367, -0.9379883, 1.7255859, 0.023925781, 0.25146484, -0.6723633, 2.4921875, -0.25170898, -1.3076172, -0.53222656, 0.10205078, -0.72265625, 0.6269531, -1.2138672, 0.6435547, -0.6484375, -0.68115234, -0.8203125, -0.13671875, -0.3256836, 1.9970703, 0.9609375, 0.6953125, 0.052490234, 1.9511719, -0.5761719, 0.6645508, 4.703125, 0.3317871, -1.859375, 0.107910156, 0.030029297, -2.3164062, 0.04638672, -0.32910156, -0.93652344, -3.0253906, -0.6171875, -2.1835938, -0.41186523, -1.4472656, -1.3759766, 0.8642578, -0.82666016, -1.4960938, 0.46777344, 0.953125, 1.0351562, -2.7441406, 1.0839844, -0.58496094, 1.2773438, 0.111816406, -0.32592773, -0.77441406, -2.3007812, -2.1171875, -3.2070312, -0.90722656, 0.01889038, 1.1777344, -0.11859131, -1.0644531, 1.4873047, -0.17993164, -1.6025391, 1.015625, -1.1767578, -1.2402344, -0.5751953, 1.4726562, 0.15063477, -0.30322266, 0.44677734, -1.4921875, -1.3007812, -0.6694336, -1.3300781, -1.6269531, 1.5527344, -0.93359375, -0.35986328, 0.09039307, 0.7807617, -0.8486328, -0.024475098, -0.92822266, 0.33618164, -1.1552734, -0.65625, 0.38183594, 1.0585938, -1.9824219, -1.7441406, -4.1484375, 0.4543457, 2.3359375, -0.2163086, -0.33203125, -0.10241699, 0.61328125, 0.25390625, -1.4589844, 0.7939453, -0.90478516, 1.4042969, 0.18798828, -0.9633789, -0.4255371, 2.4648438, 0.39208984, 0.6376953, 1.7988281, 0.9140625, 1.2431641, -1.3769531, 2.0234375, -2.6679688, 0.24194336, -1.8261719, -0.890625, 2.1503906, -2.1171875, -0.020263672, -0.14428711, -0.73339844, 0.018310547, -2.2890625, 0.33764648, 0.12915039, -0.4807129, 0.75097656, 0.4807129, -0.05419922, 1.6787109, 1.4023438, -1.6875, -0.52685547, -0.8876953, 1.2275391, 4.0234375, 0.22729492, 2.0917969, 0.58935547, 1.2578125, 1.8535156, -2.1015625, 2.4433594, -1.4970703, 0.22827148, -2.0722656, -0.40966797, 3.8808594, -1.2802734, -1.9326172, 1.2509766, -0.35375977, -1.7880859, 0.46289062, -0.9511719, -2.4257812, 1.1796875, -1.3642578, -0.7788086, -3.3320312, 0.027832031, 1.2128906, 1.8886719, -1.5097656, -0.41748047, 0.5205078, 0.37573242, -1.0517578, 0.28344727, -1.1806641, 0.054870605, 1.3232422, -0.13183594, -0.35302734, 0.2993164, 0.6826172, -1.3896484, 0.05102539, 3.1269531, 1.7070312, -1.6113281, 0.23632812, -1.46875, 1.0664062, -1.1269531, -1.3466797, 0.9013672, 0.8959961, -0.7324219, 2.9335938, -1.9453125, -0.3371582, -0.37182617, 0.15100098, 2.5839844, 2.9355469, -0.8457031, -1.9023438, -0.52490234, -0.82177734, 1.7597656, -0.3383789, 1.3789062, 3.5214844, 2.3417969, -0.43896484, -1.1494141, 0.24487305, -2.4863281, 1.1708984, 0.72509766, 0.20959473, -1.6035156, 1.5253906, 1.7128906, 0.20654297, -0.6064453, -2.3261719, -1.8837891, 0.6845703, -0.41210938, -0.8125, 0.018005371, 0.30371094, -2.4863281, 1.6601562, -1.0371094, -0.25219727, -1.2128906, -1.1123047, -0.5654297, 1.5410156, 1.4238281, -0.5644531, -0.15942383, 2.2773438, -0.16638184, 3.1367188, 0.6503906, -0.3713379, -1.0429688, -1.0214844, -2.1230469, 0.25830078, 1.6162109, 0.44580078, 0.9272461, 0.7714844, 2.3847656, 1.0195312, -0.08911133, -1.0205078, -1.3339844, 0.64746094, 1.3925781, 1.5966797, 1.7548828, -0.1484375, -2.4003906, 1.2587891, -0.6958008, 3.0039062, -2.2324219, -1.1220703, -1.40625, -1.4179688, 0.87890625, -0.19628906, 0.027618408, -1.8398438, 1.0058594, 2.3027344, 0.74316406, 0.7373047, 0.3564453, 1.2724609, -0.08569336, 2.0625, -0.8754883, 0.08557129, -0.171875, -1.4863281, -0.20983887, -1.109375, 1.28125, -0.091308594, 0.38378906, -0.62353516, -0.86621094, -0.026855469, 1.1425781, 0.0024414062, -1.2988281, 0.68310547, -1.3378906, -0.18847656, -2.4863281, 1.2783203, 1.2558594, 0.35546875, -1.1728516, 0.9238281, 3.1894531, -0.15576172, -1.9160156, 2.4199219, -0.81933594, 1.0234375, 0.12023926, -0.28955078, 1.6152344, -1.3652344, -1.2421875, 0.30786133, 2.7929688, 0.38012695, -0.9296875, -4.4726562, 0.22290039, 1.4433594, 1.2607422, -0.5410156, 0.44848633, -0.5097656, 2.78125, 1.2871094, 2.3457031, 0.7993164, -1.9550781, 1.4257812, 1.5732422, -1.0048828, -0.25512695, 0.97216797, -3.1582031, 1.9863281, -0.3515625, -0.5654297, 0.9736328, -0.57421875, -0.84033203, 2.3066406, 0.48901367, 2.1152344, -0.73095703, -0.6508789, -1.5517578, -0.052001953, -0.39013672, -1.0878906, -2.5429688, -0.49072266, 2.5820312, 0.6279297, -0.0087890625, 0.51171875, -1.0351562, -1.5996094, 0.35009766, -0.5161133, 2.5976562, -0.9667969, 1.2714844, -0.8857422, 1.1835938, -1.0488281, -0.5283203, -0.21069336, -0.19726562, 1.2128906, 0.23461914, -1.5019531, 0.734375, 0.86376953, 0.33544922, 1.5625, -2.0117188, -2.8652344, -0.79296875, 2.1015625, 3.6777344, 1.0625, -0.07080078, -0.2944336, 0.7529297, 1.0664062, 1.2753906, 1.5869141, 0.86035156, -0.11291504, -0.42919922, -3.4375, -3.34375, 0.30786133, 0.57910156, -2.0800781, -1.2666016, -1.1191406, 1.6982422, 0.375, 0.16625977, 2.0429688, -0.48876953, 0.4765625, -0.19897461, 0.4423828, -0.62402344, -1.1367188, 1.7099609, 0.8964844, 0.3173828, 0.30786133, -1.5322266, 2.4375, -0.072265625, 0.4326172, -5.4335938, -1.0732422, 0.17907715, 0.079956055, -1.6679688, 1.5957031, 0.1854248, 1.0185547, 1.6376953, -1.0351562, 1.3183594, 0.9824219, -0.6591797, 1.1953125, 2.0449219, 1.9033203, 1.0400391, 0.69921875, 0.83740234, -0.35253906, 1.5253906, 0.7392578, 1.625, -0.9296875, -0.6953125, 1.0175781, -0.80859375, 0.4296875, -0.009521484, -0.28710938, 0.75439453, -0.3100586, -1.2070312, 0.10900879, -1.9970703, 1.9462891, 0.59765625, 1.4814453, 1.6328125, -1.1923828, -1.2490234, 1.03125, 1.8886719, 2.0039062, -0.42895508, -0.83447266, 0.58935547, 1.6943359, 0.9091797, 0.2175293, 1.078125, -0.6044922, 0.640625, 0.28295898, 1.7041016, -0.2783203, 0.3671875, -2.6210938, -0.16845703, -0.019897461, -0.00061035156, 0.60302734, 0.8310547, 0.02368164, -0.9770508, 0.94433594, -1.7880859, 0.45092773, -2.1367188, -1.7675781, 2.2421875, 0.5097656, 2.09375, 0.40185547, 0.7910156, 0.22680664, -0.9296875, 1.2177734, 1.5458984, 1.640625, 0.5463867, -1.8369141, -1.4755859, 0.6191406, -0.09082031, -0.6274414, -0.9892578, 2.5292969, -1.828125, -2.1796875, 1.0849609, 0.8730469, -0.4519043, -0.99560547, -0.4633789, 0.1640625, 0.74072266, -1.1445312, -0.5258789, -0.27954102, 0.16088867, 0.20166016, 1.7265625, -1.0449219, -0.41357422, 2.7441406, -0.6689453, -0.4675293, -3.5234375, -0.5625, -2.6328125, 1.5048828, -1.1152344, 0.088012695, -0.40625, 0.43652344, -2.6367188, -5.1054688, -0.41748047, -2.4707031, -7.0234375, -1.2773438, -2.640625, 1.0625, -0.68359375, 0.0048828125, -0.7817383, -0.64501953, 0.16381836, -1.6523438, -0.1315918, 1.9511719, -1.6162109, 0.49780273, -0.34033203, -0.5102539, 2.3183594, -0.42041016, 1.1386719, -2.2851562, -0.6796875, 1.5546875, 1.2802734, -1.7207031, 0.0690918, -0.14453125, 0.68359375, 0.5732422, -2.6230469, 0.061340332, 1.0947266, 0.11682129, 1.8867188, 0.8208008, -1.1113281, 0.8486328, -1.6347656, 0.99072266, -0.41723633, 1.5634766, -1.9599609, 3.3417969, 1.1123047, 0.13513184, 0.08337402, 0.49487305, 0.34716797, -1.7900391, 1.859375, -0.6279297, 2.1386719, 0.32910156, -0.50390625, -0.5800781, 0.22436523, 2.2304688, 0.9589844, -0.578125, 0.43188477, -0.2626953, 0.2529297, 0.38354492, 0.52246094, 1.0839844, -1.1279297, 0.2475586, -1.2783203, 0.22338867, 1.0380859, -0.04736328, -0.86621094, 0.049438477, 0.64208984, -0.034423828, 2.0410156, 1.3544922, 1.5214844, 1.7148438, -0.71728516, 0.3852539, 1.1503906, 0.43652344, -0.060546875, 0.2998047, -2.4179688, 0.6723633, -0.48095703, -0.9291992, -1.9882812, -2.1816406, -2.3710938, 1.8808594, -0.20458984, 3.4492188, -2.1445312, -1.140625, -0.5605469, -2.3457031, 1.3261719, 1.5800781, -0.37817383, -0.22509766, 1.5166016, -1.7197266, -0.38085938, -0.92871094, -0.33911133, 1.9316406, -1.4277344, 1.2626953, -1.1103516, -0.8544922, 1.3847656, -1.2480469, 2.3339844, 1.359375, -0.46923828, -1.3769531, 2.8144531, 0.42382812, 1.625, -1.5253906, -4.390625, 0.484375, 1.7910156, 0.90722656, 1.5048828, 0.16186523, -0.7529297, 0.5361328, 0.27490234, -0.6738281, -1.0878906, 1.1367188, 0.23596191, 0.43701172, -0.39770508, 0.030395508, -0.10205078, 0.18847656, -0.94140625, -0.40161133, 1.5371094, 0.10546875, -0.4104004, 0.19970703, 1.328125, -1.6650391, 1.4863281, -0.8046875, -1.2441406, -0.8623047, 0.22583008, -1.0292969, 0.44628906, -1.8955078, -0.7192383, 0.033447266, -1.5683594, 2.96875, 0.86621094, 0.92626953, 0.94873047, -3.2636719, -0.5673828, -0.7416992, 1.6542969, 3.0644531, 0.9995117, -3.6816406, -0.3798828, 1.2714844, 2.3964844, -0.14453125, 0.4387207, -0.6821289, -0.80859375, -0.36328125, 0.2006836, -0.13708496, 1.2148438, 0.115722656, 0.94628906, -1.0556641, 0.47045898, 1.2851562, 0.103027344, 0.055419922, 1.1777344, -1.4550781, 0.28466797, 0.5004883, -0.064453125, -1.8505859, 0.07739258, -1.1064453, 3.109375, 1.1816406, 0.89697266, 0.6435547, -0.6333008, 0.15734863, 1.8642578, 0.86328125, 1.8769531, 0.31689453, -0.7060547, -0.73339844, -0.025390625, 1.3613281, -0.9716797, -2.7460938, 0.6298828, -1.3603516, 0.5917969, -1.171875, 2.2148438, -0.31420898, 0.88720703, -1.0507812, 0.7631836, -1.5664062, -2.3027344, -0.37597656, 0.16430664, 2.0136719, -0.6113281, 1.6572266, -2.078125, -2.953125, -0.8544922, -1.5195312, 1.9511719, -0.10650635, -1.03125, -0.8413086, -0.39868164, 2.8320312, -0.099121094, -2.0761719, 0.76904297, 0.39648438, -2.9609375, 1.3486328, 1.8613281, -1.2636719, 1.71875, 1.7695312, 0.23339844, -1.2089844, -0.44921875, 0.8305664, 1.4785156, -0.54589844, -1.0175781, -3.4453125, 1.9785156, 0.14074707, -0.005004883, -0.4663086, -0.26293945, 0.8666992, -2.625, -0.5102539, 1.9257812, -1.6152344, -0.515625, -0.8725586, 0.7597656, -0.8691406, 1.5605469, 0.7675781, -0.51220703, 1.9394531, -1.6269531, 1.5771484, 1.5976562, -0.15478516, -0.09790039, 0.08911133, 2.265625, -0.071777344, 1.28125, 1.9335938, -0.9584961, 0.086120605, -0.87646484, -1.0205078, -2.6347656, -0.6665039, 0.076293945, -0.016326904, -1.0507812, 1.6171875, 0.5419922, 0.82421875, 0.7011719, -1.2480469, 2.3691406, 0.3408203, 0.35546875, -2.0546875, -0.8798828, -0.14233398, -0.2133789, -0.03515625, 0.9873047, 1.4628906, 0.22021484, 0.5336914, -0.2626953, 2.3671875, 0.51708984, 1.0292969, -1.5214844, 0.62939453, -0.34960938, -2.3125, 0.89990234, 2.859375, -0.7944336, 0.17114258, 0.39794922, -0.32250977, -1.5439453, 1.9257812, 1.4941406, -0.43823242, -1.0898438, 1.9199219, -1.8427734, -1.7685547, 1.3945312, -1.6699219, 0.088134766, 1.2216797, 0.3725586, 2.5234375, -1.6132812, -0.65527344, 0.63623047, -1.5556641, -1.0644531, 1.5957031, -2.6914062, 0.17529297, 2.0703125, -0.71240234, -1.5546875, 1.3994141, -2.9277344, -1.3710938, -1.1396484, -3.046875, 0.12988281, -0.9213867, 0.4020996, 0.1586914, -0.09814453, 2.5136719, -0.068115234, 0.020996094, -0.3544922, 0.5395508, 2.2363281, -1.09375, -0.009155273, -0.42333984, 1.4707031, -1.5566406, -0.6777344, -0.032592773, -1.8710938, 0.48706055, -0.7734375, 0.45947266, 6.484375, -0.05987549, -1.5410156, 1.0351562, -1.0537109, -0.34838867, -0.72753906, 2.6523438, 1.3691406, 1.1083984, 0.60839844, 0.8828125, 0.6401367, -1.5029297, 0.036621094, 1.78125, -3.3359375, -0.60791016, 0.09765625, 2.5019531, -2.1015625, -1.5097656, 0.40820312, -1.5810547, 1.0273438, -2.4023438, 2.078125, -1.1601562, 2.203125, -1.1757812, -0.12524414, 1.5429688, 2.921875, 0.99902344, 2.3046875, -1.2265625, 0.40698242, -1.3251953, -1.9003906, -0.26464844, -0.22192383, -2.3359375, -1.734375, -0.32836914, -1.4589844, 1.2578125, 0.79003906, 0.7597656, 0.3334961, 0.25830078, 1.1787109, -0.1496582, -1.6054688, 0.7026367, 1.5712891, -1.078125, -0.8935547, -1.0878906, -1.1191406, 0.44677734, 0.9326172, -2.2011719, 0.5292969, 0.022399902, -2.0273438, 2.2714844, -0.57910156, 0.4177246, -2.5039062, 0.8955078, -0.09057617, 0.45996094, 3.8945312, 0.5654297, -0.067871094, -0.96484375, 2.3359375, -0.9345703, -0.92041016, 1.3105469, -0.5292969, 0.5810547, -0.24487305, -1.7666016, -0.90625, -0.32910156, -1.0224609, 1.7265625, 0.57177734, 0.08105469, -0.33789062, -1.3779297, 0.8378906, 2.6484375, 0.49047852, -0.68603516, 0.35864258, 1.5800781, 0.55908203, 0.3857422, 0.8330078, -0.19189453, 1.2050781, -0.023132324, -0.83203125, -0.5332031, -0.15478516, -2.0703125, 0.15722656, 0.6821289, -0.3322754, -0.019973755, -0.45874023, -0.15441895, -1.4111328, -1.9765625, 0.34179688, -0.5024414, 1.7285156, -0.36132812, 1.359375, 0.29418945, 1.546875, 1.1162109, -1.3662109, -0.15100098, -0.29003906, -2.2636719, 1.2939453, 0.34155273, 0.7636719, 1.1171875, 0.15454102, 0.48046875, -0.33129883, -1.9589844, -0.4736328, -1.0917969, -0.50878906, 0.90283203, -2.0214844, -0.35205078, -1.4082031, -1.1572266, 0.06982422, -0.90234375, 0.20397949, 2.390625, -0.18725586, -1.3798828, 0.60546875, -0.57128906, 2.0507812, 2.0664062, 0.15612793, -1.4746094, 0.0029144287, 1.0292969, 0.33081055, -0.43603516, -0.9980469, 1.8984375, 1.8525391, 0.46923828, -1.8369141, -1.2529297, 1.5517578, 0.7441406, 0.96972656, -0.25024414, -0.5698242, -1.0644531, -3.6308594, 0.21948242, -0.265625, -0.2998047, 1.6269531, -1.0634766, -0.9169922, 0.15039062, 2.3242188, 1.4003906, -0.5102539, -0.15466309, -1.8964844, 2.0878906, -0.55566406, -0.7363281, 0.31176758, -0.12866211, -0.6303711, 1.7421875, 0.0703125, -0.5620117, 0.49414062, -2.3808594, -0.7236328, 1.28125, -1.2929688, 2.2226562, 1.2509766, -0.41064453, -1.7011719, -0.16687012, 0.4050293, 1.3623047, -0.2824707, 1.3388672, 0.35009766, -0.5527344, -0.07470703, 0.85009766, 0.26000977, -1.3935547, -2.6289062, -0.5410156, -0.7338867, 1.1933594, 0.55078125, -1.6748047, 1.8496094, 1.0976562, -0.6171875, -0.82421875, -0.7158203, 0.21850586, 0.87109375, -0.8779297, 2.2753906, 0.99902344, -0.23657227, -0.20056152, 0.64746094, 1.7363281, 0.75097656, 0.25927734, 0.6113281, -0.05215454, -0.1538086, 0.080078125, -0.60546875, -3.2539062, -0.9453125, -0.5703125, -1.1962891, 1.1894531, 1.2060547, -2.328125, -0.8964844, -0.46655273, -1.1865234, -1.1162109, 1.3105469, -1.5556641, 0.85839844, 1.3574219, -0.009765625, -0.10913086, -0.49023438, 1.2373047, 0.79785156, -1.6445312, 1.0722656, 1.9199219, 0.72998047, -1.0234375, -0.83496094, -3.1367188, 1.4365234, 1.171875, 1.2246094, -0.83203125, 0.96875, -0.18432617, 0.26733398, -1.5546875, 3.0585938, 1.3779297, 0.08496094, -3.0859375, -1.9042969, 0.054748535, 2.0527344, 2.1035156, -0.36450195, -0.33251953, 1.6103516, 0.94921875, -0.8017578, -1.4648438, -0.24316406, 1.5722656, 2.8222656, 2.3457031, -2.7226562, 2.9472656, -1.1044922, 1.0605469, 1.96875, 0.12487793, -0.62841797, 1.0458984, 3.2304688, -0.20336914, 1.2441406, 0.5776367, -1.1455078, -2.0917969, 1.2480469, 0.6191406, -0.26708984, 0.60791016, -0.41357422, -2.2617188, 0.09265137, -0.11846924, -0.14794922, 3.0742188, -2.2011719, 1.3037109, 0.59814453, -2.4921875, 0.45947266, 1.4716797, -0.8095703, -0.08380127, -1.0175781, -2.6933594, 0.17358398, -0.36083984, -1.3144531, 2.2617188, 0.15576172, 1.3242188, -0.3630371, 1.8710938, 0.36572266, -1.6865234, -0.6611328, 0.20495605, 0.09899902, 0.18237305, 0.63964844, 0.6147461, 0.010498047, 1.0439453, -1.5761719, 0.65185547, -3.328125, -0.1328125, -1.4248047, 0.9765625, 0.42041016, 1.3496094, -0.5097656, 0.5307617, -0.69433594, -0.11425781, 1.2490234, -0.010192871, -2.6210938, -0.29907227, -0.59765625, -1.2177734, 0.6044922, 1.8222656, 0.98339844, -1.34375, 0.07873535, -0.43359375, -1.2910156, -0.42504883, 1.9316406, 2.3730469, 0.9980469, 2.4140625, -1.1816406, -0.25439453, 1.1933594, -0.8388672, -0.60546875, -0.27368164, -1.2705078, 2.84375, -2.0722656, 0.75634766, 8.8828125, -1.0810547, 1.4990234, 1.5097656, -0.66796875, -0.8647461, -1.4785156, 1.4335938, 2.9785156, -0.2290039, -0.29589844, 1.0595703, 0.86572266, -0.2524414, 1.078125, -0.88671875, -0.45581055, -1.4140625, -4.0742188, 0.7314453, -2.4238281, 1.09375, 2.1367188, -1.7910156, 0.3942871, -0.36523438, 1.0380859, -1.4189453, -1.7177734, -1.4814453, 1.4941406, 0.03173828, -0.83984375, -0.1105957, 1.5625, 1.0273438, 2.34375, -0.71484375, 0.94189453, 0.61816406, -1.0371094, -0.36645508, 1.7792969, 0.41137695, -1.6992188, 1.6601562, -1.546875, -1.3105469, 1.6328125, -0.20837402, -0.2529297, 1.3417969, -1.2558594, -0.10101318, 1.9716797, -0.13916016, 2.5664062, -2.7246094, -0.13598633, 1.1464844, -0.74609375, 2.0878906, -1.8984375, -0.8486328, -2.1054688, -2.1347656, -1.2226562, 3.8398438, 1.6640625, 0.2915039, 1.1503906, 1.2304688, 0.76464844, -0.42993164, -2.4960938, -1.4160156, 1.6201172, 0.25585938, 0.62353516, -0.32763672, -2.0546875, 1.4560547, 0.009155273, 0.74902344, 1.5429688, -0.7026367, -0.29345703, -0.41577148, -0.09210205, 1.4072266, 2.5019531, 0.74560547, -1.0478516, -1.2080078, 2.21875, 2.1640625, -0.6767578, -0.11254883, 2.5917969, 3.46875, -1.1816406, 2.7578125, 0.46484375, -1.3476562, -0.7910156, 2.3828125, -0.0033569336, 0.6582031, -1.9882812, -0.3630371, 3.875, 2.96875, 0.100097656, -1.9580078, 1.6035156, -2.4960938, 0.36767578, -0.71435547, 0.5732422, -2.9609375, -0.43823242, -0.6220703, 1.1171875, -1.0087891, 1.4804688, 0.92871094, -2.3320312, 0.70996094, 1.5166016, -0.3413086, -0.24841309, 0.3137207, -0.9116211, -1.2773438, -0.5732422, -0.44384766, -1.3730469, -1.6210938, -1.2304688, -1.1992188, -0.07861328, 0.18310547, 0.74853516, 0.21911621, -2.2929688, 1.7255859, -0.4819336, -1.2539062, -1.1640625, 0.8330078, 1.7753906, -1.1484375, 0.6894531, -0.47094727, -2.9101562, -0.72216797, 1.1757812, -2.0625, -3.4257812, 0.17126465, 1.2177734, 0.7055664, 1.1972656, 2.6328125, -0.18432617, 0.18249512, 0.6274414, 1.0576172, -1.3164062, -3.7128906, -1.5488281, -1.6455078, 1.4472656, -0.38916016, -0.35253906, 2.5234375]] texts=['hello', 'goodbye'] meta=ApiMeta(api_version=ApiMetaApiVersion(version='1', is_deprecated=None, is_experimental=None), billed_units=ApiMetaBilledUnits(input_tokens=3.0, output_tokens=None, search_units=None, classifications=None), tokens=None, warnings=[]) response_type='embeddings_floats'\n"
     ]
    }
   ],
   "source": [
    "import cohere\n",
    "\n",
    "co = cohere.Client(COHERE_api_key)\n",
    "\n",
    "response = co.embed(\n",
    "    texts=[\"hello\", \"goodbye\"], \n",
    "    # model=\"embed-english-v3.0\",\n",
    "    model=\"large\",\n",
    "    input_type=\"search_document\"\n",
    ")\n",
    "print(response)"
   ]
  },
  {
   "cell_type": "code",
   "execution_count": 37,
   "metadata": {},
   "outputs": [
    {
     "data": {
      "text/plain": [
       "[('id', '92fa3642-4aab-4a2a-8199-7341408b3128'),\n",
       " ('embeddings',\n",
       "  [[1.6142578,\n",
       "    0.24841309,\n",
       "    0.5385742,\n",
       "    -1.6630859,\n",
       "    -0.27783203,\n",
       "    0.35888672,\n",
       "    1.3378906,\n",
       "    -1.8261719,\n",
       "    0.89404297,\n",
       "    1.0791016,\n",
       "    1.0566406,\n",
       "    1.0664062,\n",
       "    0.20983887,\n",
       "    -0.7558594,\n",
       "    -0.29956055,\n",
       "    -0.29248047,\n",
       "    0.23498535,\n",
       "    -0.45947266,\n",
       "    -0.7426758,\n",
       "    -1.765625,\n",
       "    1.1699219,\n",
       "    2.0644531,\n",
       "    0.74902344,\n",
       "    -1.6796875,\n",
       "    1.7685547,\n",
       "    -0.7363281,\n",
       "    0.6376953,\n",
       "    -1.6679688,\n",
       "    -0.6621094,\n",
       "    1.2939453,\n",
       "    1.1904297,\n",
       "    -2.3242188,\n",
       "    1.71875,\n",
       "    2.0117188,\n",
       "    -0.46606445,\n",
       "    0.088134766,\n",
       "    1.6484375,\n",
       "    -1.0292969,\n",
       "    0.07775879,\n",
       "    -1.6503906,\n",
       "    -0.035461426,\n",
       "    2.1660156,\n",
       "    -1.2480469,\n",
       "    -0.74072266,\n",
       "    -0.53027344,\n",
       "    -0.984375,\n",
       "    -1.0039062,\n",
       "    0.47265625,\n",
       "    -0.1574707,\n",
       "    1.984375,\n",
       "    0.72558594,\n",
       "    0.4885254,\n",
       "    0.25610352,\n",
       "    -1.6113281,\n",
       "    1.7685547,\n",
       "    -1.4824219,\n",
       "    -3.4101562,\n",
       "    -1.9023438,\n",
       "    0.47973633,\n",
       "    -1.6972656,\n",
       "    0.34423828,\n",
       "    0.9121094,\n",
       "    -0.046173096,\n",
       "    0.4482422,\n",
       "    0.828125,\n",
       "    1.7734375,\n",
       "    -2.015625,\n",
       "    -1.9423828,\n",
       "    0.63720703,\n",
       "    -0.13000488,\n",
       "    2.5546875,\n",
       "    -1.1972656,\n",
       "    -1.0136719,\n",
       "    -0.19714355,\n",
       "    -0.43969727,\n",
       "    0.6591797,\n",
       "    0.46777344,\n",
       "    -0.984375,\n",
       "    -0.5629883,\n",
       "    0.014923096,\n",
       "    1.1787109,\n",
       "    1.4560547,\n",
       "    -1.2548828,\n",
       "    -1.2119141,\n",
       "    -1.0957031,\n",
       "    -1.5830078,\n",
       "    0.90722656,\n",
       "    0.37475586,\n",
       "    0.7939453,\n",
       "    1.3447266,\n",
       "    -1.5107422,\n",
       "    -0.20654297,\n",
       "    -0.38452148,\n",
       "    -0.9941406,\n",
       "    -0.5234375,\n",
       "    2.5703125,\n",
       "    2.03125,\n",
       "    0.1184082,\n",
       "    0.43945312,\n",
       "    -0.84716797,\n",
       "    1.8427734,\n",
       "    -1.4179688,\n",
       "    -0.46850586,\n",
       "    0.3149414,\n",
       "    0.15966797,\n",
       "    1.5224609,\n",
       "    -2.6191406,\n",
       "    0.89160156,\n",
       "    -0.29370117,\n",
       "    1.3232422,\n",
       "    -0.72216797,\n",
       "    -0.5649414,\n",
       "    -3.6269531,\n",
       "    1.2558594,\n",
       "    0.79052734,\n",
       "    -0.9277344,\n",
       "    0.97021484,\n",
       "    -1.1855469,\n",
       "    -0.5996094,\n",
       "    1.1142578,\n",
       "    -0.08087158,\n",
       "    1.3300781,\n",
       "    0.953125,\n",
       "    0.112976074,\n",
       "    1.1113281,\n",
       "    -0.15234375,\n",
       "    0.47802734,\n",
       "    -0.87060547,\n",
       "    -1.6201172,\n",
       "    -0.72216797,\n",
       "    -0.7631836,\n",
       "    0.32543945,\n",
       "    -0.13623047,\n",
       "    0.3696289,\n",
       "    0.2861328,\n",
       "    -0.6010742,\n",
       "    1.1767578,\n",
       "    1.1191406,\n",
       "    -0.14318848,\n",
       "    -0.08666992,\n",
       "    1.8759766,\n",
       "    -0.6669922,\n",
       "    -1.6884766,\n",
       "    0.8847656,\n",
       "    1.0263672,\n",
       "    -1.2158203,\n",
       "    -2.0585938,\n",
       "    1.7529297,\n",
       "    2.7226562,\n",
       "    -1.7490234,\n",
       "    -0.07495117,\n",
       "    -0.5678711,\n",
       "    1.3525391,\n",
       "    -0.6855469,\n",
       "    4.8867188,\n",
       "    0.18310547,\n",
       "    -0.40405273,\n",
       "    0.63671875,\n",
       "    -1.4980469,\n",
       "    1.5087891,\n",
       "    -0.56103516,\n",
       "    1.0712891,\n",
       "    -0.3876953,\n",
       "    0.12573242,\n",
       "    0.83496094,\n",
       "    0.42651367,\n",
       "    1.6835938,\n",
       "    0.1104126,\n",
       "    -1.0419922,\n",
       "    -1.6279297,\n",
       "    0.2286377,\n",
       "    0.23864746,\n",
       "    2.5117188,\n",
       "    -0.8852539,\n",
       "    -0.118652344,\n",
       "    -1.5351562,\n",
       "    -0.10290527,\n",
       "    -2.5175781,\n",
       "    -2.0625,\n",
       "    -1.2128906,\n",
       "    0.43945312,\n",
       "    -0.35498047,\n",
       "    0.35375977,\n",
       "    2.2441406,\n",
       "    -0.20019531,\n",
       "    1.6708984,\n",
       "    -0.2619629,\n",
       "    1.4707031,\n",
       "    1.4794922,\n",
       "    0.3005371,\n",
       "    -1.7861328,\n",
       "    0.88378906,\n",
       "    -0.6796875,\n",
       "    1.2167969,\n",
       "    0.82958984,\n",
       "    1.7919922,\n",
       "    -0.8979492,\n",
       "    -2.546875,\n",
       "    0.42944336,\n",
       "    -2.3496094,\n",
       "    -0.15893555,\n",
       "    -0.5620117,\n",
       "    -0.61376953,\n",
       "    0.67041016,\n",
       "    -0.42236328,\n",
       "    1.7695312,\n",
       "    0.57421875,\n",
       "    -1.4248047,\n",
       "    -0.6459961,\n",
       "    -1.2783203,\n",
       "    0.10253906,\n",
       "    0.99316406,\n",
       "    1.3535156,\n",
       "    -0.4423828,\n",
       "    0.07720947,\n",
       "    1.7978516,\n",
       "    -2.8125,\n",
       "    1.8955078,\n",
       "    -1.4423828,\n",
       "    -0.0035209656,\n",
       "    1.7939453,\n",
       "    0.2685547,\n",
       "    0.40307617,\n",
       "    -0.74072266,\n",
       "    -0.45141602,\n",
       "    1.4375,\n",
       "    0.50683594,\n",
       "    0.28637695,\n",
       "    -1.53125,\n",
       "    -1.1201172,\n",
       "    -1.1923828,\n",
       "    -2.0703125,\n",
       "    1.1259766,\n",
       "    1.3652344,\n",
       "    -0.6479492,\n",
       "    -3.2636719,\n",
       "    1.0234375,\n",
       "    1.3320312,\n",
       "    -2.0058594,\n",
       "    2.0175781,\n",
       "    0.62597656,\n",
       "    1.6435547,\n",
       "    0.73779297,\n",
       "    1.3798828,\n",
       "    -0.038330078,\n",
       "    -0.30493164,\n",
       "    -1.4287109,\n",
       "    -0.3479004,\n",
       "    1.1923828,\n",
       "    -0.7626953,\n",
       "    0.89941406,\n",
       "    1.6835938,\n",
       "    -0.5839844,\n",
       "    -1.2958984,\n",
       "    0.15905762,\n",
       "    -0.39819336,\n",
       "    1.5302734,\n",
       "    1.3837891,\n",
       "    -0.60839844,\n",
       "    -0.17028809,\n",
       "    -0.61865234,\n",
       "    0.11639404,\n",
       "    1.1347656,\n",
       "    -0.27734375,\n",
       "    -0.02784729,\n",
       "    -2.7246094,\n",
       "    -1.5371094,\n",
       "    -1.4550781,\n",
       "    -1.8613281,\n",
       "    -0.68066406,\n",
       "    1.1455078,\n",
       "    -0.75878906,\n",
       "    0.7036133,\n",
       "    0.09851074,\n",
       "    0.2512207,\n",
       "    -0.45947266,\n",
       "    -1.9082031,\n",
       "    1.4873047,\n",
       "    -0.1986084,\n",
       "    0.29516602,\n",
       "    -0.1850586,\n",
       "    0.8696289,\n",
       "    -1.0615234,\n",
       "    1.6142578,\n",
       "    -0.24328613,\n",
       "    -0.8149414,\n",
       "    -1.4765625,\n",
       "    1.2001953,\n",
       "    1.5087891,\n",
       "    0.6972656,\n",
       "    0.08862305,\n",
       "    -0.38305664,\n",
       "    -0.23706055,\n",
       "    -1.0390625,\n",
       "    -0.16552734,\n",
       "    -1.0458984,\n",
       "    -0.6616211,\n",
       "    0.87841797,\n",
       "    0.3251953,\n",
       "    -0.9838867,\n",
       "    -0.8964844,\n",
       "    -0.43603516,\n",
       "    1.2841797,\n",
       "    -1.1445312,\n",
       "    1.2363281,\n",
       "    0.9848633,\n",
       "    -0.32958984,\n",
       "    0.33447266,\n",
       "    1.84375,\n",
       "    -1.4794922,\n",
       "    -0.3330078,\n",
       "    -2.0585938,\n",
       "    -0.25463867,\n",
       "    -2.2539062,\n",
       "    0.6459961,\n",
       "    -1.2617188,\n",
       "    0.21411133,\n",
       "    1.2636719,\n",
       "    -0.6669922,\n",
       "    0.33496094,\n",
       "    -0.8989258,\n",
       "    1.1855469,\n",
       "    2.75,\n",
       "    0.7211914,\n",
       "    0.890625,\n",
       "    -0.6074219,\n",
       "    1.6689453,\n",
       "    -3.8730469,\n",
       "    -0.60058594,\n",
       "    -0.41235352,\n",
       "    0.089904785,\n",
       "    -0.4050293,\n",
       "    0.2590332,\n",
       "    1.3291016,\n",
       "    -0.6660156,\n",
       "    1.1542969,\n",
       "    -0.6645508,\n",
       "    2.2753906,\n",
       "    0.24865723,\n",
       "    1.1015625,\n",
       "    1.0195312,\n",
       "    -0.56396484,\n",
       "    -1.1708984,\n",
       "    0.6040039,\n",
       "    0.011276245,\n",
       "    -2.0449219,\n",
       "    0.33666992,\n",
       "    2.0410156,\n",
       "    -0.28808594,\n",
       "    -0.62646484,\n",
       "    -0.6845703,\n",
       "    0.88623047,\n",
       "    -0.5395508,\n",
       "    0.1340332,\n",
       "    2.4003906,\n",
       "    1.9882812,\n",
       "    1.984375,\n",
       "    -0.7661133,\n",
       "    -0.5644531,\n",
       "    -0.55029297,\n",
       "    1.6201172,\n",
       "    -0.10406494,\n",
       "    2.21875,\n",
       "    0.98828125,\n",
       "    0.45776367,\n",
       "    0.17126465,\n",
       "    0.07470703,\n",
       "    1.0820312,\n",
       "    1.3720703,\n",
       "    -0.17822266,\n",
       "    -2.0,\n",
       "    0.36083984,\n",
       "    -0.48876953,\n",
       "    2.1816406,\n",
       "    0.11193848,\n",
       "    1.0712891,\n",
       "    -1.7236328,\n",
       "    -0.38867188,\n",
       "    -1.25,\n",
       "    -2.21875,\n",
       "    0.3955078,\n",
       "    4.0859375,\n",
       "    -1.2431641,\n",
       "    -0.9355469,\n",
       "    -2.4316406,\n",
       "    1.5439453,\n",
       "    -1.0712891,\n",
       "    -1.4150391,\n",
       "    1.2412109,\n",
       "    -0.036254883,\n",
       "    0.078430176,\n",
       "    0.45776367,\n",
       "    -1.9492188,\n",
       "    -1.4794922,\n",
       "    0.4321289,\n",
       "    0.5761719,\n",
       "    -1.8144531,\n",
       "    -2.6015625,\n",
       "    -0.5751953,\n",
       "    0.062164307,\n",
       "    0.6074219,\n",
       "    0.12915039,\n",
       "    1.9453125,\n",
       "    -1.3095703,\n",
       "    -0.25439453,\n",
       "    -0.20214844,\n",
       "    0.37646484,\n",
       "    0.030151367,\n",
       "    -0.31811523,\n",
       "    -0.9682617,\n",
       "    0.93847656,\n",
       "    -1.7705078,\n",
       "    0.35131836,\n",
       "    -1.0341797,\n",
       "    0.096191406,\n",
       "    1.0478516,\n",
       "    -2.0019531,\n",
       "    1.5322266,\n",
       "    2.90625,\n",
       "    -1.5234375,\n",
       "    0.83691406,\n",
       "    -0.103271484,\n",
       "    0.73339844,\n",
       "    -0.359375,\n",
       "    -1.3359375,\n",
       "    -0.3864746,\n",
       "    0.67529297,\n",
       "    -1.3662109,\n",
       "    -0.23718262,\n",
       "    -1.0615234,\n",
       "    -0.7890625,\n",
       "    2.2246094,\n",
       "    -0.0027999878,\n",
       "    -0.265625,\n",
       "    1.3818359,\n",
       "    0.3034668,\n",
       "    1.0019531,\n",
       "    -0.37426758,\n",
       "    -2.5195312,\n",
       "    1.1142578,\n",
       "    -1.3242188,\n",
       "    -2.2460938,\n",
       "    -1.4511719,\n",
       "    1.1416016,\n",
       "    0.24072266,\n",
       "    1.0996094,\n",
       "    -0.55810547,\n",
       "    1.0576172,\n",
       "    -1.1142578,\n",
       "    0.11218262,\n",
       "    -2.2773438,\n",
       "    1.828125,\n",
       "    0.78564453,\n",
       "    -1.8486328,\n",
       "    0.7163086,\n",
       "    -1.5712891,\n",
       "    -1.1845703,\n",
       "    0.4399414,\n",
       "    -0.37036133,\n",
       "    -0.005508423,\n",
       "    1.9326172,\n",
       "    0.66259766,\n",
       "    -0.57910156,\n",
       "    1.1279297,\n",
       "    -0.7207031,\n",
       "    1.8525391,\n",
       "    0.26879883,\n",
       "    0.53564453,\n",
       "    -2.3710938,\n",
       "    -1.0996094,\n",
       "    -0.6298828,\n",
       "    -0.6040039,\n",
       "    -0.7783203,\n",
       "    1.1445312,\n",
       "    -2.390625,\n",
       "    -0.4411621,\n",
       "    0.9326172,\n",
       "    -0.45581055,\n",
       "    -3.1542969,\n",
       "    -1.2314453,\n",
       "    -4.1171875,\n",
       "    -0.16357422,\n",
       "    -0.671875,\n",
       "    0.5698242,\n",
       "    1.5087891,\n",
       "    -0.21472168,\n",
       "    -1.0810547,\n",
       "    0.9638672,\n",
       "    -0.42382812,\n",
       "    -1.5820312,\n",
       "    -0.5830078,\n",
       "    -0.067993164,\n",
       "    -0.22583008,\n",
       "    -0.016204834,\n",
       "    0.037719727,\n",
       "    0.09210205,\n",
       "    -0.7729492,\n",
       "    -0.40307617,\n",
       "    0.859375,\n",
       "    0.87646484,\n",
       "    0.8095703,\n",
       "    -1.8710938,\n",
       "    -0.10614014,\n",
       "    -1.8632812,\n",
       "    0.12854004,\n",
       "    -1.7392578,\n",
       "    0.20947266,\n",
       "    -0.024963379,\n",
       "    -1.2753906,\n",
       "    2.1542969,\n",
       "    -0.7631836,\n",
       "    0.0063705444,\n",
       "    0.11352539,\n",
       "    1.4501953,\n",
       "    -2.359375,\n",
       "    -1.2607422,\n",
       "    -0.39233398,\n",
       "    -1.3925781,\n",
       "    -0.671875,\n",
       "    -0.4921875,\n",
       "    0.71972656,\n",
       "    -0.02468872,\n",
       "    -0.37548828,\n",
       "    -0.93066406,\n",
       "    0.12036133,\n",
       "    2.5273438,\n",
       "    0.62646484,\n",
       "    -0.6098633,\n",
       "    -0.33276367,\n",
       "    0.9814453,\n",
       "    -0.58496094,\n",
       "    0.52734375,\n",
       "    -0.23632812,\n",
       "    -0.34960938,\n",
       "    0.26098633,\n",
       "    0.9038086,\n",
       "    0.3017578,\n",
       "    1.7060547,\n",
       "    0.24707031,\n",
       "    0.47827148,\n",
       "    2.4355469,\n",
       "    -0.8173828,\n",
       "    0.625,\n",
       "    0.52783203,\n",
       "    -1.2939453,\n",
       "    -0.6870117,\n",
       "    0.2253418,\n",
       "    1.6845703,\n",
       "    0.671875,\n",
       "    -0.62353516,\n",
       "    1.3925781,\n",
       "    0.62060547,\n",
       "    -1.0966797,\n",
       "    0.7246094,\n",
       "    -0.41723633,\n",
       "    -0.8691406,\n",
       "    -1.7285156,\n",
       "    0.85791016,\n",
       "    -0.1270752,\n",
       "    -1.5107422,\n",
       "    -0.2211914,\n",
       "    -0.76708984,\n",
       "    -1.6591797,\n",
       "    -0.34838867,\n",
       "    0.27246094,\n",
       "    -1.0195312,\n",
       "    1.2001953,\n",
       "    -1.5478516,\n",
       "    1.5605469,\n",
       "    -3.5761719,\n",
       "    0.4248047,\n",
       "    0.6899414,\n",
       "    -0.48339844,\n",
       "    -0.19250488,\n",
       "    -3.4023438,\n",
       "    -0.13574219,\n",
       "    1.5791016,\n",
       "    -0.35083008,\n",
       "    -1.4560547,\n",
       "    -0.7963867,\n",
       "    -2.2148438,\n",
       "    1.1162109,\n",
       "    -1.2294922,\n",
       "    -1.3037109,\n",
       "    1.671875,\n",
       "    1.5693359,\n",
       "    -0.87402344,\n",
       "    -0.140625,\n",
       "    0.37963867,\n",
       "    -1.3632812,\n",
       "    -1.4697266,\n",
       "    2.0957031,\n",
       "    1.2773438,\n",
       "    -0.6796875,\n",
       "    2.6835938,\n",
       "    -1.6152344,\n",
       "    -0.40625,\n",
       "    0.9980469,\n",
       "    0.5991211,\n",
       "    1.9580078,\n",
       "    -1.3759766,\n",
       "    1.3525391,\n",
       "    1.2744141,\n",
       "    0.63720703,\n",
       "    0.46289062,\n",
       "    -0.05331421,\n",
       "    -0.6777344,\n",
       "    -0.79003906,\n",
       "    -1.71875,\n",
       "    2.3632812,\n",
       "    1.2333984,\n",
       "    -0.36279297,\n",
       "    -0.7739258,\n",
       "    0.26513672,\n",
       "    -0.7055664,\n",
       "    -1.4638672,\n",
       "    -1.4453125,\n",
       "    -0.34643555,\n",
       "    1.1650391,\n",
       "    1.8378906,\n",
       "    0.9135742,\n",
       "    0.8144531,\n",
       "    -0.44335938,\n",
       "    1.3486328,\n",
       "    0.21923828,\n",
       "    0.40893555,\n",
       "    -3.6035156,\n",
       "    -0.7373047,\n",
       "    -0.24060059,\n",
       "    -1.6289062,\n",
       "    -0.067993164,\n",
       "    -1.0429688,\n",
       "    3.265625,\n",
       "    0.8027344,\n",
       "    -1.7011719,\n",
       "    3.5,\n",
       "    -1.7480469,\n",
       "    1.5566406,\n",
       "    0.38598633,\n",
       "    0.6040039,\n",
       "    -0.6274414,\n",
       "    -1.3417969,\n",
       "    -0.48828125,\n",
       "    -1.8876953,\n",
       "    -1.6025391,\n",
       "    1.3310547,\n",
       "    -1.4375,\n",
       "    -1.5917969,\n",
       "    1.1230469,\n",
       "    1.5400391,\n",
       "    2.7773438,\n",
       "    -0.69970703,\n",
       "    0.5097656,\n",
       "    -1.796875,\n",
       "    -0.21875,\n",
       "    -2.0722656,\n",
       "    0.3347168,\n",
       "    1.0195312,\n",
       "    -0.110839844,\n",
       "    0.24023438,\n",
       "    0.9897461,\n",
       "    -0.78759766,\n",
       "    -1.3457031,\n",
       "    -0.14501953,\n",
       "    -1.2226562,\n",
       "    0.16296387,\n",
       "    -1.7011719,\n",
       "    1.6289062,\n",
       "    1.2324219,\n",
       "    0.16357422,\n",
       "    0.20532227,\n",
       "    -0.107666016,\n",
       "    0.9736328,\n",
       "    -1.2158203,\n",
       "    1.3876953,\n",
       "    2.6152344,\n",
       "    1.1220703,\n",
       "    -0.0037937164,\n",
       "    -0.8408203,\n",
       "    0.6328125,\n",
       "    -0.4555664,\n",
       "    -1.7949219,\n",
       "    -1.0664062,\n",
       "    0.94384766,\n",
       "    -0.47753906,\n",
       "    1.0449219,\n",
       "    -0.20324707,\n",
       "    -1.3886719,\n",
       "    0.24072266,\n",
       "    0.23925781,\n",
       "    1.2792969,\n",
       "    -1.53125,\n",
       "    -0.05606079,\n",
       "    0.3996582,\n",
       "    -0.3659668,\n",
       "    -0.24816895,\n",
       "    -0.79833984,\n",
       "    -0.018371582,\n",
       "    -0.7495117,\n",
       "    -1.5957031,\n",
       "    -2.5761719,\n",
       "    -0.38549805,\n",
       "    2.4746094,\n",
       "    2.9980469,\n",
       "    -1.4345703,\n",
       "    1.2236328,\n",
       "    1.3330078,\n",
       "    0.12963867,\n",
       "    -0.15368652,\n",
       "    1.1132812,\n",
       "    1.1376953,\n",
       "    0.5786133,\n",
       "    0.28808594,\n",
       "    -0.28564453,\n",
       "    0.13366699,\n",
       "    0.61035156,\n",
       "    0.9272461,\n",
       "    -0.22827148,\n",
       "    0.44506836,\n",
       "    -2.0742188,\n",
       "    0.70751953,\n",
       "    1.0097656,\n",
       "    -0.4807129,\n",
       "    0.63134766,\n",
       "    1.0869141,\n",
       "    -1.0429688,\n",
       "    -1.0986328,\n",
       "    -2.0351562,\n",
       "    0.1418457,\n",
       "    -0.2680664,\n",
       "    -0.45629883,\n",
       "    -1.2089844,\n",
       "    -0.18103027,\n",
       "    -1.3144531,\n",
       "    -1.4052734,\n",
       "    3.5566406,\n",
       "    -1.0927734,\n",
       "    -1.2617188,\n",
       "    -1.1582031,\n",
       "    -0.36279297,\n",
       "    -0.41503906,\n",
       "    1.1904297,\n",
       "    1.1835938,\n",
       "    0.2783203,\n",
       "    -1.2177734,\n",
       "    1.0625,\n",
       "    0.25756836,\n",
       "    -1.6269531,\n",
       "    1.0185547,\n",
       "    -0.87158203,\n",
       "    0.18615723,\n",
       "    -0.7426758,\n",
       "    -0.09539795,\n",
       "    -0.5214844,\n",
       "    0.61328125,\n",
       "    1.0273438,\n",
       "    0.5209961,\n",
       "    -1.5078125,\n",
       "    0.9291992,\n",
       "    1.6328125,\n",
       "    -0.7651367,\n",
       "    1.0117188,\n",
       "    -0.3955078,\n",
       "    -0.13208008,\n",
       "    0.25610352,\n",
       "    0.5151367,\n",
       "    -0.07354736,\n",
       "    -1.9482422,\n",
       "    0.42456055,\n",
       "    0.7895508,\n",
       "    0.025665283,\n",
       "    0.37329102,\n",
       "    2.609375,\n",
       "    -1.2490234,\n",
       "    2.7070312,\n",
       "    0.79833984,\n",
       "    2.9003906,\n",
       "    -1.3955078,\n",
       "    0.90771484,\n",
       "    1.2558594,\n",
       "    0.24926758,\n",
       "    -0.9560547,\n",
       "    -0.013252258,\n",
       "    -1.5,\n",
       "    0.9116211,\n",
       "    -1.0654297,\n",
       "    0.039367676,\n",
       "    0.94677734,\n",
       "    -1.6289062,\n",
       "    -0.6533203,\n",
       "    0.21765137,\n",
       "    -1.2763672,\n",
       "    0.1829834,\n",
       "    1.2128906,\n",
       "    0.6176758,\n",
       "    -2.3730469,\n",
       "    -0.98535156,\n",
       "    0.8144531,\n",
       "    -0.09472656,\n",
       "    -1.3291016,\n",
       "    -0.76464844,\n",
       "    -0.6088867,\n",
       "    1.5498047,\n",
       "    -0.49121094,\n",
       "    -2.4511719,\n",
       "    -1.4716797,\n",
       "    -2.9726562,\n",
       "    1.4882812,\n",
       "    0.27539062,\n",
       "    -1.0078125,\n",
       "    -2.0566406,\n",
       "    -2.4257812,\n",
       "    0.66015625,\n",
       "    1.0966797,\n",
       "    0.21704102,\n",
       "    1.8222656,\n",
       "    -0.40649414,\n",
       "    -0.07281494,\n",
       "    0.81152344,\n",
       "    0.71777344,\n",
       "    0.78271484,\n",
       "    2.5625,\n",
       "    -2.6152344,\n",
       "    0.6401367,\n",
       "    -0.0065841675,\n",
       "    0.59472656,\n",
       "    0.011871338,\n",
       "    2.3515625,\n",
       "    -0.26782227,\n",
       "    -0.8779297,\n",
       "    -0.06536865,\n",
       "    -0.8652344,\n",
       "    -0.4272461,\n",
       "    0.74853516,\n",
       "    0.80859375,\n",
       "    -1.2421875,\n",
       "    0.4008789,\n",
       "    -1.1503906,\n",
       "    0.28759766,\n",
       "    -1.8105469,\n",
       "    -2.7714844,\n",
       "    -1.2792969,\n",
       "    -1.2939453,\n",
       "    -0.4794922,\n",
       "    -0.85253906,\n",
       "    -3.78125,\n",
       "    0.74658203,\n",
       "    1.7021484,\n",
       "    2.3261719,\n",
       "    -0.97558594,\n",
       "    0.7636719,\n",
       "    0.08123779,\n",
       "    -1.4365234,\n",
       "    -0.03100586,\n",
       "    0.6777344,\n",
       "    1.4951172,\n",
       "    -0.35131836,\n",
       "    0.09069824,\n",
       "    -3.0527344,\n",
       "    0.7871094,\n",
       "    1.4716797,\n",
       "    -1.3671875,\n",
       "    -0.7524414,\n",
       "    0.53271484,\n",
       "    -2.5214844,\n",
       "    -0.15966797,\n",
       "    -0.9848633,\n",
       "    -1.5732422,\n",
       "    1.4833984,\n",
       "    0.3083496,\n",
       "    -1.0898438,\n",
       "    -1.4931641,\n",
       "    -0.86572266,\n",
       "    0.020843506,\n",
       "    -0.7324219,\n",
       "    2.1015625,\n",
       "    0.85498047,\n",
       "    -0.7998047,\n",
       "    0.9321289,\n",
       "    0.66064453,\n",
       "    1.9589844,\n",
       "    1.3867188,\n",
       "    -1.8623047,\n",
       "    0.085998535,\n",
       "    0.66015625,\n",
       "    -0.85498047,\n",
       "    -0.9326172,\n",
       "    -1.5322266,\n",
       "    -2.2519531,\n",
       "    -0.20300293,\n",
       "    -0.13269043,\n",
       "    1.3710938,\n",
       "    0.5083008,\n",
       "    0.59277344,\n",
       "    2.0878906,\n",
       "    0.62890625,\n",
       "    1.3535156,\n",
       "    1.2480469,\n",
       "    2.9023438,\n",
       "    1.2783203,\n",
       "    -1.1113281,\n",
       "    -0.06616211,\n",
       "    -0.5102539,\n",
       "    -1.9560547,\n",
       "    -0.13024902,\n",
       "    0.578125,\n",
       "    -0.22497559,\n",
       "    -1.4414062,\n",
       "    -1.2587891,\n",
       "    1.1630859,\n",
       "    -0.8120117,\n",
       "    2.0683594,\n",
       "    -0.5498047,\n",
       "    -0.4194336,\n",
       "    -0.3149414,\n",
       "    -0.8691406,\n",
       "    -0.21203613,\n",
       "    -0.25708008,\n",
       "    0.029281616,\n",
       "    0.9897461,\n",
       "    0.26660156,\n",
       "    -1.1855469,\n",
       "    -3.0703125,\n",
       "    -1.8935547,\n",
       "    -0.6699219,\n",
       "    2.9003906,\n",
       "    -0.15039062,\n",
       "    0.034606934,\n",
       "    -0.5385742,\n",
       "    -0.9296875,\n",
       "    -0.40942383,\n",
       "    0.38427734,\n",
       "    -0.08770752,\n",
       "    1.0380859,\n",
       "    -3.5507812,\n",
       "    -0.16271973,\n",
       "    2.5449219,\n",
       "    -0.32495117,\n",
       "    0.41625977,\n",
       "    -1.2597656,\n",
       "    -1.0214844,\n",
       "    1.2207031,\n",
       "    1.8388672,\n",
       "    3.2929688,\n",
       "    1.4667969,\n",
       "    -1.6787109,\n",
       "    -1.0009766,\n",
       "    0.008926392,\n",
       "    0.43701172,\n",
       "    -0.29956055,\n",
       "    -0.91259766,\n",
       "    -1.3652344,\n",
       "    0.20117188,\n",
       "    -0.80859375,\n",
       "    -0.8173828,\n",
       "    0.61083984,\n",
       "    0.8828125,\n",
       "    -2.0683594,\n",
       "    0.8671875,\n",
       "    -0.8408203,\n",
       "    -1.2216797,\n",
       "    2.1601562,\n",
       "    -1.1474609,\n",
       "    2.7753906,\n",
       "    -1.75,\n",
       "    -0.39624023,\n",
       "    -0.3581543,\n",
       "    0.5805664,\n",
       "    -0.38623047,\n",
       "    -0.7158203,\n",
       "    6.640625,\n",
       "    0.43554688,\n",
       "    -0.18151855,\n",
       "    -1.2470703,\n",
       "    0.5517578,\n",
       "    -1.3818359,\n",
       "    1.3398438,\n",
       "    1.7978516,\n",
       "    1.1298828,\n",
       "    -0.17700195,\n",
       "    0.03237915,\n",
       "    1.3574219,\n",
       "    1.6884766,\n",
       "    1.2832031,\n",
       "    -2.1054688,\n",
       "    -0.20263672,\n",
       "    1.3671875,\n",
       "    -2.0058594,\n",
       "    0.30444336,\n",
       "    -0.30566406,\n",
       "    -0.13916016,\n",
       "    2.0957031,\n",
       "    -2.9472656,\n",
       "    0.03970337,\n",
       "    0.35668945,\n",
       "    -1.234375,\n",
       "    -0.4741211,\n",
       "    -0.29418945,\n",
       "    1.1650391,\n",
       "    -1.8828125,\n",
       "    ...],\n",
       "   [1.7509766,\n",
       "    -0.9277344,\n",
       "    1.046875,\n",
       "    -0.9951172,\n",
       "    1.8535156,\n",
       "    -0.42333984,\n",
       "    0.7060547,\n",
       "    -2.0976562,\n",
       "    0.9375,\n",
       "    1.0566406,\n",
       "    1.1835938,\n",
       "    0.20397949,\n",
       "    -0.7207031,\n",
       "    -0.57910156,\n",
       "    2.1757812,\n",
       "    -1.0292969,\n",
       "    0.10760498,\n",
       "    -0.7216797,\n",
       "    0.5605469,\n",
       "    -0.8720703,\n",
       "    1.5664062,\n",
       "    1.5957031,\n",
       "    0.24365234,\n",
       "    -1.3730469,\n",
       "    0.5419922,\n",
       "    0.19750977,\n",
       "    1.1513672,\n",
       "    -0.63671875,\n",
       "    -1.8242188,\n",
       "    0.2998047,\n",
       "    -1.0078125,\n",
       "    -1.0097656,\n",
       "    0.74316406,\n",
       "    -0.40795898,\n",
       "    -0.6767578,\n",
       "    -2.5,\n",
       "    2.0898438,\n",
       "    -0.31811523,\n",
       "    -0.4169922,\n",
       "    0.2578125,\n",
       "    -1.6425781,\n",
       "    0.15270996,\n",
       "    -1.0078125,\n",
       "    -1.328125,\n",
       "    -0.33398438,\n",
       "    -0.38671875,\n",
       "    -0.5366211,\n",
       "    1.9384766,\n",
       "    1.0361328,\n",
       "    1.546875,\n",
       "    0.22436523,\n",
       "    0.61083984,\n",
       "    -2.3476562,\n",
       "    0.5673828,\n",
       "    -0.29638672,\n",
       "    -1.2285156,\n",
       "    -4.1015625,\n",
       "    -3.6523438,\n",
       "    0.2685547,\n",
       "    -0.64208984,\n",
       "    -0.59472656,\n",
       "    1.0556641,\n",
       "    -1.3408203,\n",
       "    -0.57470703,\n",
       "    1.4726562,\n",
       "    0.68847656,\n",
       "    -1.6054688,\n",
       "    -1.6757812,\n",
       "    0.7363281,\n",
       "    -1.1064453,\n",
       "    -0.83984375,\n",
       "    -0.36743164,\n",
       "    -1.1992188,\n",
       "    0.32861328,\n",
       "    -0.6894531,\n",
       "    -0.2734375,\n",
       "    0.2290039,\n",
       "    0.032226562,\n",
       "    0.8671875,\n",
       "    1.4501953,\n",
       "    -0.9560547,\n",
       "    0.8261719,\n",
       "    -2.2421875,\n",
       "    -0.5834961,\n",
       "    -0.076049805,\n",
       "    -1.1728516,\n",
       "    0.103027344,\n",
       "    0.05493164,\n",
       "    2.4980469,\n",
       "    2.5976562,\n",
       "    -1.4326172,\n",
       "    0.051757812,\n",
       "    -0.080566406,\n",
       "    2.0957031,\n",
       "    -1.3847656,\n",
       "    2.2011719,\n",
       "    3.4414062,\n",
       "    1.140625,\n",
       "    -3.09375,\n",
       "    2.8789062,\n",
       "    -0.8388672,\n",
       "    0.011230469,\n",
       "    0.04333496,\n",
       "    -1.3222656,\n",
       "    -0.14868164,\n",
       "    0.5073242,\n",
       "    -2.4316406,\n",
       "    -1.1132812,\n",
       "    1.6679688,\n",
       "    -0.4194336,\n",
       "    0.8925781,\n",
       "    0.7060547,\n",
       "    -1.2871094,\n",
       "    -0.3125,\n",
       "    0.99902344,\n",
       "    1.4648438,\n",
       "    1.1933594,\n",
       "    1.7285156,\n",
       "    -0.17541504,\n",
       "    -1.5810547,\n",
       "    -0.27807617,\n",
       "    0.85498047,\n",
       "    -0.5449219,\n",
       "    1.8085938,\n",
       "    1.1230469,\n",
       "    0.7104492,\n",
       "    0.33398438,\n",
       "    -1.7050781,\n",
       "    -1.7421875,\n",
       "    -0.55566406,\n",
       "    -1.0800781,\n",
       "    -0.6435547,\n",
       "    -1.7431641,\n",
       "    -0.9082031,\n",
       "    0.40844727,\n",
       "    0.21972656,\n",
       "    0.15881348,\n",
       "    -0.072631836,\n",
       "    -0.29223633,\n",
       "    0.34204102,\n",
       "    0.6020508,\n",
       "    -2.5332031,\n",
       "    -0.40625,\n",
       "    0.83154297,\n",
       "    1.2294922,\n",
       "    -1.4375,\n",
       "    -0.22314453,\n",
       "    -0.6171875,\n",
       "    1.796875,\n",
       "    -0.29614258,\n",
       "    1.7880859,\n",
       "    -0.049346924,\n",
       "    -1.4677734,\n",
       "    2.0839844,\n",
       "    3.109375,\n",
       "    -1.1142578,\n",
       "    -1.0380859,\n",
       "    -1.1611328,\n",
       "    -0.5283203,\n",
       "    -0.07208252,\n",
       "    0.6113281,\n",
       "    3.1269531,\n",
       "    -2.2070312,\n",
       "    1.0683594,\n",
       "    -0.6875,\n",
       "    0.59765625,\n",
       "    1.7939453,\n",
       "    1.1708984,\n",
       "    -1.9902344,\n",
       "    0.9814453,\n",
       "    0.3486328,\n",
       "    -2.8320312,\n",
       "    1.1484375,\n",
       "    -0.3786621,\n",
       "    -0.14770508,\n",
       "    -2.953125,\n",
       "    -0.8310547,\n",
       "    -1.0244141,\n",
       "    -1.7070312,\n",
       "    0.59277344,\n",
       "    3.28125,\n",
       "    0.2697754,\n",
       "    -0.21411133,\n",
       "    0.8041992,\n",
       "    -1.8085938,\n",
       "    1.4570312,\n",
       "    0.7050781,\n",
       "    -0.7714844,\n",
       "    1.2421875,\n",
       "    0.29833984,\n",
       "    -0.36669922,\n",
       "    -0.29003906,\n",
       "    -0.640625,\n",
       "    -1.7402344,\n",
       "    -0.2841797,\n",
       "    -0.5151367,\n",
       "    -2.0664062,\n",
       "    -1.7890625,\n",
       "    2.1445312,\n",
       "    -1.8515625,\n",
       "    0.9404297,\n",
       "    -1.3974609,\n",
       "    -1.6513672,\n",
       "    1.5117188,\n",
       "    1.015625,\n",
       "    1.4335938,\n",
       "    2.1191406,\n",
       "    -0.013671875,\n",
       "    1.6992188,\n",
       "    -0.9628906,\n",
       "    -0.5722656,\n",
       "    -1.1259766,\n",
       "    -0.6455078,\n",
       "    2.0703125,\n",
       "    -0.78271484,\n",
       "    3.8984375,\n",
       "    -1.3945312,\n",
       "    1.5820312,\n",
       "    0.34960938,\n",
       "    0.67626953,\n",
       "    2.8710938,\n",
       "    -0.4489746,\n",
       "    -0.39868164,\n",
       "    -1.6074219,\n",
       "    -1.5634766,\n",
       "    1.5517578,\n",
       "    -0.10809326,\n",
       "    0.85058594,\n",
       "    0.9003906,\n",
       "    0.29492188,\n",
       "    -0.70996094,\n",
       "    -1.8251953,\n",
       "    3.0761719,\n",
       "    0.29589844,\n",
       "    -2.0332031,\n",
       "    -3.7265625,\n",
       "    -0.57177734,\n",
       "    2.0976562,\n",
       "    -2.2929688,\n",
       "    1.2265625,\n",
       "    1.4296875,\n",
       "    0.4638672,\n",
       "    -0.29467773,\n",
       "    -0.45703125,\n",
       "    -0.19238281,\n",
       "    0.828125,\n",
       "    -0.6230469,\n",
       "    -0.2253418,\n",
       "    0.87890625,\n",
       "    -0.5708008,\n",
       "    -0.24951172,\n",
       "    -0.14489746,\n",
       "    -0.26464844,\n",
       "    -0.009765625,\n",
       "    1.8066406,\n",
       "    -0.59765625,\n",
       "    3.15625,\n",
       "    -0.50683594,\n",
       "    -0.6767578,\n",
       "    1.40625,\n",
       "    -1.5800781,\n",
       "    -0.8310547,\n",
       "    1.4433594,\n",
       "    -1.9824219,\n",
       "    -0.2142334,\n",
       "    -0.69384766,\n",
       "    -2.4453125,\n",
       "    -2.2109375,\n",
       "    -0.2644043,\n",
       "    -1.0800781,\n",
       "    1.9785156,\n",
       "    -1.7822266,\n",
       "    2.4550781,\n",
       "    -0.13232422,\n",
       "    -0.85839844,\n",
       "    -2.4609375,\n",
       "    1.0888672,\n",
       "    2.2558594,\n",
       "    -0.4555664,\n",
       "    0.31396484,\n",
       "    1.4765625,\n",
       "    0.43432617,\n",
       "    0.43652344,\n",
       "    2.8535156,\n",
       "    0.47875977,\n",
       "    0.088134766,\n",
       "    0.091430664,\n",
       "    0.42626953,\n",
       "    -0.28930664,\n",
       "    0.37939453,\n",
       "    0.40649414,\n",
       "    -2.1738281,\n",
       "    -1.1845703,\n",
       "    -0.9995117,\n",
       "    1.6240234,\n",
       "    -1.6523438,\n",
       "    0.71533203,\n",
       "    1.0898438,\n",
       "    0.78466797,\n",
       "    -2.8203125,\n",
       "    -0.5214844,\n",
       "    -2.9003906,\n",
       "    0.32006836,\n",
       "    0.3798828,\n",
       "    2.6855469,\n",
       "    -1.6191406,\n",
       "    0.07763672,\n",
       "    1.1914062,\n",
       "    1.4462891,\n",
       "    0.22558594,\n",
       "    0.6928711,\n",
       "    -0.82910156,\n",
       "    0.43066406,\n",
       "    -2.3046875,\n",
       "    0.7294922,\n",
       "    -1.1523438,\n",
       "    -0.40820312,\n",
       "    -0.7709961,\n",
       "    -0.40600586,\n",
       "    0.93847656,\n",
       "    -0.033203125,\n",
       "    0.6484375,\n",
       "    0.82714844,\n",
       "    -0.03567505,\n",
       "    -1.2705078,\n",
       "    -0.7290039,\n",
       "    2.5683594,\n",
       "    1.3662109,\n",
       "    -0.05429077,\n",
       "    -1.0888672,\n",
       "    0.13842773,\n",
       "    -0.68310547,\n",
       "    -0.33007812,\n",
       "    0.8022461,\n",
       "    -1.359375,\n",
       "    -0.6689453,\n",
       "    -0.12133789,\n",
       "    1.3017578,\n",
       "    0.3005371,\n",
       "    -0.17565918,\n",
       "    0.99121094,\n",
       "    -0.19482422,\n",
       "    -0.90722656,\n",
       "    -1.0527344,\n",
       "    0.7402344,\n",
       "    -1.3896484,\n",
       "    2.0898438,\n",
       "    -0.42871094,\n",
       "    -1.6679688,\n",
       "    0.23339844,\n",
       "    -0.69140625,\n",
       "    0.77490234,\n",
       "    -1.1972656,\n",
       "    -1.6025391,\n",
       "    2.6523438,\n",
       "    2.515625,\n",
       "    -0.9814453,\n",
       "    -1.8085938,\n",
       "    0.34765625,\n",
       "    1.1728516,\n",
       "    1.25,\n",
       "    -2.59375,\n",
       "    0.1640625,\n",
       "    -0.33154297,\n",
       "    1.8623047,\n",
       "    -0.40527344,\n",
       "    1.2734375,\n",
       "    2.765625,\n",
       "    2.0488281,\n",
       "    -0.77783203,\n",
       "    -0.3112793,\n",
       "    0.27978516,\n",
       "    0.2109375,\n",
       "    1.3574219,\n",
       "    -0.17285156,\n",
       "    -0.5541992,\n",
       "    -2.0273438,\n",
       "    -0.2734375,\n",
       "    0.7714844,\n",
       "    -3.0078125,\n",
       "    0.33398438,\n",
       "    2.578125,\n",
       "    2.0429688,\n",
       "    -2.9472656,\n",
       "    -1.4824219,\n",
       "    0.32788086,\n",
       "    -1.3349609,\n",
       "    -0.1776123,\n",
       "    -1.4775391,\n",
       "    0.6855469,\n",
       "    1.71875,\n",
       "    2.21875,\n",
       "    0.6904297,\n",
       "    -0.44262695,\n",
       "    -1.5546875,\n",
       "    -1.3798828,\n",
       "    -0.89453125,\n",
       "    -1.1689453,\n",
       "    -0.44335938,\n",
       "    0.017089844,\n",
       "    0.6611328,\n",
       "    -0.39916992,\n",
       "    -2.0644531,\n",
       "    -1.578125,\n",
       "    0.7636719,\n",
       "    1.1103516,\n",
       "    -0.44433594,\n",
       "    -1.9882812,\n",
       "    -0.57666016,\n",
       "    -1.8496094,\n",
       "    2.1054688,\n",
       "    -0.53515625,\n",
       "    2.4570312,\n",
       "    -1.9326172,\n",
       "    -1.2128906,\n",
       "    0.38012695,\n",
       "    -0.88183594,\n",
       "    1.7734375,\n",
       "    2.1367188,\n",
       "    0.5839844,\n",
       "    -0.5234375,\n",
       "    0.47851562,\n",
       "    -0.859375,\n",
       "    -2.0625,\n",
       "    0.49023438,\n",
       "    -2.2109375,\n",
       "    1.1201172,\n",
       "    -1.3144531,\n",
       "    0.79589844,\n",
       "    -0.24353027,\n",
       "    -0.19604492,\n",
       "    -0.5097656,\n",
       "    -0.55078125,\n",
       "    -0.73046875,\n",
       "    1.1015625,\n",
       "    0.025634766,\n",
       "    1.0810547,\n",
       "    -2.3007812,\n",
       "    -2.3203125,\n",
       "    -0.6303711,\n",
       "    -0.5053711,\n",
       "    -0.6044922,\n",
       "    -0.8027344,\n",
       "    -0.93066406,\n",
       "    2.0097656,\n",
       "    6.125,\n",
       "    0.5722656,\n",
       "    -0.7685547,\n",
       "    -3.1328125,\n",
       "    0.7841797,\n",
       "    -0.43139648,\n",
       "    1.2519531,\n",
       "    -0.69921875,\n",
       "    1.3857422,\n",
       "    0.7050781,\n",
       "    -0.7011719,\n",
       "    -1.5361328,\n",
       "    -0.64746094,\n",
       "    -1.3359375,\n",
       "    0.7011719,\n",
       "    -0.41723633,\n",
       "    1.1435547,\n",
       "    1.3876953,\n",
       "    0.44580078,\n",
       "    2.1933594,\n",
       "    0.9536133,\n",
       "    1.8935547,\n",
       "    0.4272461,\n",
       "    -1.6171875,\n",
       "    -0.47583008,\n",
       "    -1.15625,\n",
       "    -1.046875,\n",
       "    -0.6484375,\n",
       "    0.38916016,\n",
       "    -3.2011719,\n",
       "    0.6069336,\n",
       "    0.047790527,\n",
       "    -0.29516602,\n",
       "    -2.9785156,\n",
       "    -1.5722656,\n",
       "    -2.7363281,\n",
       "    0.48999023,\n",
       "    -2.4472656,\n",
       "    1.5224609,\n",
       "    0.17480469,\n",
       "    -1.09375,\n",
       "    -0.048339844,\n",
       "    3.0859375,\n",
       "    -0.068481445,\n",
       "    -0.8251953,\n",
       "    -3.1074219,\n",
       "    -0.71777344,\n",
       "    0.20605469,\n",
       "    0.93603516,\n",
       "    0.9638672,\n",
       "    -1.0449219,\n",
       "    -0.09863281,\n",
       "    0.21948242,\n",
       "    1.15625,\n",
       "    -0.3137207,\n",
       "    0.44580078,\n",
       "    -0.62890625,\n",
       "    -0.7158203,\n",
       "    -0.091430664,\n",
       "    0.9794922,\n",
       "    -2.0976562,\n",
       "    1.6503906,\n",
       "    -1.6328125,\n",
       "    -0.0029296875,\n",
       "    1.7128906,\n",
       "    -0.49731445,\n",
       "    -2.3066406,\n",
       "    1.5761719,\n",
       "    -0.03479004,\n",
       "    -6.359375,\n",
       "    0.78564453,\n",
       "    -0.75683594,\n",
       "    -0.69921875,\n",
       "    -1.796875,\n",
       "    -0.73095703,\n",
       "    -1.5263672,\n",
       "    -0.41918945,\n",
       "    -0.80566406,\n",
       "    0.23840332,\n",
       "    0.021972656,\n",
       "    1.5771484,\n",
       "    0.12231445,\n",
       "    -0.4194336,\n",
       "    -0.7758789,\n",
       "    -0.00048828125,\n",
       "    0.65283203,\n",
       "    -0.14807129,\n",
       "    0.66503906,\n",
       "    -1.0263672,\n",
       "    0.16931152,\n",
       "    -1.1855469,\n",
       "    1.1044922,\n",
       "    1.4492188,\n",
       "    -0.5708008,\n",
       "    -0.85546875,\n",
       "    1.4228516,\n",
       "    -1.6347656,\n",
       "    1.0107422,\n",
       "    -1.1464844,\n",
       "    0.7338867,\n",
       "    -0.9042969,\n",
       "    -0.84375,\n",
       "    0.9926758,\n",
       "    0.11303711,\n",
       "    0.55322266,\n",
       "    0.65478516,\n",
       "    -0.09863281,\n",
       "    -2.0175781,\n",
       "    -0.57470703,\n",
       "    -0.43237305,\n",
       "    -1.3369141,\n",
       "    -1.6621094,\n",
       "    -0.55615234,\n",
       "    0.047912598,\n",
       "    -1.4257812,\n",
       "    1.0615234,\n",
       "    0.28271484,\n",
       "    0.56884766,\n",
       "    -0.4501953,\n",
       "    -1.0087891,\n",
       "    -0.88134766,\n",
       "    0.203125,\n",
       "    -1.375,\n",
       "    0.63378906,\n",
       "    -2.0742188,\n",
       "    2.2597656,\n",
       "    0.61035156,\n",
       "    -1.6835938,\n",
       "    0.1616211,\n",
       "    0.8828125,\n",
       "    -0.13391113,\n",
       "    1.2929688,\n",
       "    -0.15429688,\n",
       "    -1.7783203,\n",
       "    2.3691406,\n",
       "    -1.8261719,\n",
       "    0.3076172,\n",
       "    -0.71728516,\n",
       "    -1.0068359,\n",
       "    -0.41064453,\n",
       "    1.2978516,\n",
       "    -1.78125,\n",
       "    1.2519531,\n",
       "    0.3984375,\n",
       "    -2.6015625,\n",
       "    -1.7792969,\n",
       "    1.296875,\n",
       "    -0.16955566,\n",
       "    -0.060058594,\n",
       "    2.0195312,\n",
       "    -0.7685547,\n",
       "    -0.9223633,\n",
       "    -0.08618164,\n",
       "    1.6445312,\n",
       "    1.7861328,\n",
       "    0.06738281,\n",
       "    0.5341797,\n",
       "    0.2619629,\n",
       "    1.53125,\n",
       "    -1.3691406,\n",
       "    1.3007812,\n",
       "    1.1074219,\n",
       "    -1.2832031,\n",
       "    -2.3515625,\n",
       "    0.6660156,\n",
       "    1.1826172,\n",
       "    -1.4316406,\n",
       "    -0.80859375,\n",
       "    -1.0771484,\n",
       "    -1.7509766,\n",
       "    -1.7148438,\n",
       "    0.2421875,\n",
       "    0.6118164,\n",
       "    1.2246094,\n",
       "    0.4074707,\n",
       "    0.5058594,\n",
       "    0.06567383,\n",
       "    0.18493652,\n",
       "    -0.07519531,\n",
       "    0.05078125,\n",
       "    0.028320312,\n",
       "    -8.28125,\n",
       "    -1.3847656,\n",
       "    -0.7319336,\n",
       "    -1.28125,\n",
       "    1.3583984,\n",
       "    -1.0791016,\n",
       "    2.1210938,\n",
       "    0.85253906,\n",
       "    0.01184082,\n",
       "    1.5087891,\n",
       "    -1.7363281,\n",
       "    2.7265625,\n",
       "    0.18261719,\n",
       "    2.3378906,\n",
       "    1.4589844,\n",
       "    -1.1845703,\n",
       "    -0.9038086,\n",
       "    -1.8554688,\n",
       "    -1.1650391,\n",
       "    -0.8232422,\n",
       "    -1.4121094,\n",
       "    -3.0507812,\n",
       "    -0.9082031,\n",
       "    0.9580078,\n",
       "    1.8027344,\n",
       "    -1.0800781,\n",
       "    0.012451172,\n",
       "    -1.5546875,\n",
       "    -0.42407227,\n",
       "    -1.3066406,\n",
       "    2.0488281,\n",
       "    1.3642578,\n",
       "    -1.171875,\n",
       "    0.4387207,\n",
       "    0.43847656,\n",
       "    -1.4365234,\n",
       "    -1.2910156,\n",
       "    0.3269043,\n",
       "    -0.6225586,\n",
       "    0.74658203,\n",
       "    0.87597656,\n",
       "    1.9306641,\n",
       "    -1.9003906,\n",
       "    1.1542969,\n",
       "    -0.21496582,\n",
       "    -1.1503906,\n",
       "    -0.19836426,\n",
       "    -1.2832031,\n",
       "    1.6347656,\n",
       "    0.037841797,\n",
       "    1.0527344,\n",
       "    -0.28466797,\n",
       "    -0.6777344,\n",
       "    -0.82128906,\n",
       "    0.11303711,\n",
       "    1.4384766,\n",
       "    -0.93652344,\n",
       "    0.7001953,\n",
       "    -0.40307617,\n",
       "    0.6855469,\n",
       "    -0.60546875,\n",
       "    -1.6982422,\n",
       "    -0.40551758,\n",
       "    -0.16601562,\n",
       "    2.1679688,\n",
       "    -0.71240234,\n",
       "    -0.9008789,\n",
       "    0.65478516,\n",
       "    -1.5615234,\n",
       "    0.42919922,\n",
       "    -1.0410156,\n",
       "    -3.1582031,\n",
       "    0.3125,\n",
       "    0.44970703,\n",
       "    -0.87646484,\n",
       "    -0.4128418,\n",
       "    1.0351562,\n",
       "    1.3076172,\n",
       "    1.6064453,\n",
       "    0.2487793,\n",
       "    -0.6767578,\n",
       "    1.9785156,\n",
       "    -1.0185547,\n",
       "    3.3710938,\n",
       "    1.0605469,\n",
       "    0.16064453,\n",
       "    -0.48291016,\n",
       "    3.0371094,\n",
       "    -0.32958984,\n",
       "    -0.9213867,\n",
       "    0.5800781,\n",
       "    1.5351562,\n",
       "    -0.73291016,\n",
       "    -4.4335938,\n",
       "    0.7734375,\n",
       "    0.50927734,\n",
       "    2.296875,\n",
       "    -0.032348633,\n",
       "    -1.1787109,\n",
       "    -3.234375,\n",
       "    -0.42895508,\n",
       "    1.0039062,\n",
       "    -0.97509766,\n",
       "    0.06036377,\n",
       "    0.27148438,\n",
       "    -1.1572266,\n",
       "    -0.8564453,\n",
       "    -0.64160156,\n",
       "    -1.8857422,\n",
       "    3.0234375,\n",
       "    -0.7915039,\n",
       "    -2.4238281,\n",
       "    1.1972656,\n",
       "    1.5664062,\n",
       "    -0.39794922,\n",
       "    3.2851562,\n",
       "    1.8378906,\n",
       "    -0.17871094,\n",
       "    -0.3491211,\n",
       "    0.96777344,\n",
       "    4.0195312,\n",
       "    -0.90722656,\n",
       "    1.4707031,\n",
       "    0.7578125,\n",
       "    1.8544922,\n",
       "    -0.028320312,\n",
       "    0.859375,\n",
       "    -1.5839844,\n",
       "    -0.83740234,\n",
       "    0.2915039,\n",
       "    1.03125,\n",
       "    -4.7109375,\n",
       "    -0.69384766,\n",
       "    0.7578125,\n",
       "    -0.6816406,\n",
       "    0.36987305,\n",
       "    2.9882812,\n",
       "    -0.5341797,\n",
       "    -0.088134766,\n",
       "    -0.15917969,\n",
       "    -0.07714844,\n",
       "    -1.4804688,\n",
       "    1.8662109,\n",
       "    0.7470703,\n",
       "    0.8305664,\n",
       "    0.39379883,\n",
       "    -0.07904053,\n",
       "    0.57128906,\n",
       "    2.3398438,\n",
       "    -0.31396484,\n",
       "    2.3730469,\n",
       "    1.7548828,\n",
       "    -1.1279297,\n",
       "    1.2695312,\n",
       "    1.9023438,\n",
       "    -2.4492188,\n",
       "    -0.84814453,\n",
       "    -2.0117188,\n",
       "    1.7724609,\n",
       "    -1.53125,\n",
       "    2.4140625,\n",
       "    -1.1386719,\n",
       "    1.3837891,\n",
       "    2.4824219,\n",
       "    -1.8916016,\n",
       "    -1.2763672,\n",
       "    -1.2363281,\n",
       "    2.9589844,\n",
       "    -0.37060547,\n",
       "    -1.3300781,\n",
       "    -4.0585938,\n",
       "    -1.0058594,\n",
       "    1.0732422,\n",
       "    -0.87402344,\n",
       "    -1.0507812,\n",
       "    -0.47436523,\n",
       "    0.7089844,\n",
       "    0.40356445,\n",
       "    -0.35107422,\n",
       "    -1.4550781,\n",
       "    -2.8242188,\n",
       "    2.0898438,\n",
       "    1.9716797,\n",
       "    -0.3659668,\n",
       "    -1.4199219,\n",
       "    -5.2382812,\n",
       "    -0.4572754,\n",
       "    -1.90625,\n",
       "    -0.671875,\n",
       "    -0.19848633,\n",
       "    1.3564453,\n",
       "    0.085876465,\n",
       "    -0.4477539,\n",
       "    -0.014587402,\n",
       "    1.1826172,\n",
       "    3.2480469,\n",
       "    0.49389648,\n",
       "    0.012817383,\n",
       "    -0.14343262,\n",
       "    1.2617188,\n",
       "    -0.33422852,\n",
       "    1.5585938,\n",
       "    1.0078125,\n",
       "    -0.62597656,\n",
       "    0.7006836,\n",
       "    1.3945312,\n",
       "    -0.043945312,\n",
       "    0.2619629,\n",
       "    1.484375,\n",
       "    -0.5395508,\n",
       "    0.061035156,\n",
       "    2.234375,\n",
       "    -0.044433594,\n",
       "    -0.48168945,\n",
       "    -0.7441406,\n",
       "    -0.26123047,\n",
       "    0.37597656,\n",
       "    -3.4746094,\n",
       "    1.7822266,\n",
       "    -0.24682617,\n",
       "    0.13537598,\n",
       "    2.9355469,\n",
       "    0.09716797,\n",
       "    -2.2441406,\n",
       "    0.5859375,\n",
       "    0.5839844,\n",
       "    -1.7265625,\n",
       "    -0.2487793,\n",
       "    -1.2128906,\n",
       "    -0.5878906,\n",
       "    1.7841797,\n",
       "    1.0234375,\n",
       "    -1.7138672,\n",
       "    0.59277344,\n",
       "    7.6679688,\n",
       "    -1.6816406,\n",
       "    -1.9726562,\n",
       "    1.6914062,\n",
       "    -1.890625,\n",
       "    -1.1367188,\n",
       "    -1.8027344,\n",
       "    2.5117188,\n",
       "    1.3154297,\n",
       "    -1.4589844,\n",
       "    0.87109375,\n",
       "    1.6337891,\n",
       "    -1.5625,\n",
       "    1.5224609,\n",
       "    -2.375,\n",
       "    3.0585938,\n",
       "    0.3017578,\n",
       "    -1.1132812,\n",
       "    -0.50390625,\n",
       "    0.6689453,\n",
       "    0.5966797,\n",
       "    0.59472656,\n",
       "    -2.34375,\n",
       "    -0.1282959,\n",
       "    3.1875,\n",
       "    -1.9121094,\n",
       "    -1.6503906,\n",
       "    -1.3544922,\n",
       "    -0.93408203,\n",
       "    -0.9277344,\n",
       "    -1.5302734,\n",
       "    2.3554688,\n",
       "    -0.5908203,\n",
       "    3.3710938,\n",
       "    1.4355469,\n",
       "    1.8398438,\n",
       "    -0.17700195,\n",
       "    -1.0839844,\n",
       "    3.4453125,\n",
       "    2.8828125,\n",
       "    -1.1230469,\n",
       "    1.9921875,\n",
       "    -2.5390625,\n",
       "    -1.9101562,\n",
       "    -1.0,\n",
       "    1.8486328,\n",
       "    -0.9404297,\n",
       "    -0.33789062,\n",
       "    -1.796875,\n",
       "    1.8984375,\n",
       "    -0.42626953,\n",
       "    2.5820312,\n",
       "    -1.3359375,\n",
       "    -0.45629883,\n",
       "    -0.20812988,\n",
       "    -0.9941406,\n",
       "    1.3505859,\n",
       "    0.85839844,\n",
       "    -0.10076904,\n",
       "    0.4831543,\n",
       "    -0.49829102,\n",
       "    -0.30151367,\n",
       "    0.3017578,\n",
       "    0.88916016,\n",
       "    -0.95751953,\n",
       "    1.4794922,\n",
       "    -1.2138672,\n",
       "    1.1386719,\n",
       "    -1.5078125,\n",
       "    -1.3730469,\n",
       "    -0.65185547,\n",
       "    -0.13964844,\n",
       "    -1.9433594,\n",
       "    -1.6640625,\n",
       "    -3.0351562,\n",
       "    1.1230469,\n",
       "    -1.0107422,\n",
       "    0.07495117,\n",
       "    1.1474609,\n",
       "    -0.28637695,\n",
       "    0.3137207,\n",
       "    0.06689453,\n",
       "    0.7158203,\n",
       "    1.078125,\n",
       "    0.3413086,\n",
       "    0.47558594,\n",
       "    -0.044433594,\n",
       "    0.35791016,\n",
       "    -0.1348877,\n",
       "    1.9716797,\n",
       "    -0.68359375,\n",
       "    -1.0429688,\n",
       "    0.73828125,\n",
       "    -0.07507324,\n",
       "    -2.6640625,\n",
       "    -1.2441406,\n",
       "    0.7495117,\n",
       "    -2.9335938,\n",
       "    1.1494141,\n",
       "    -0.51123047,\n",
       "    -1.0556641,\n",
       "    2.0390625,\n",
       "    -0.13085938,\n",
       "    3.1132812,\n",
       "    -4.7539062,\n",
       "    1.0166016,\n",
       "    -1.5957031,\n",
       "    1.6269531,\n",
       "    -1.0673828,\n",
       "    -0.31396484,\n",
       "    7.5390625,\n",
       "    1.5400391,\n",
       "    -2.1230469,\n",
       "    -1.6953125,\n",
       "    -1.6347656,\n",
       "    0.13085938,\n",
       "    1.6962891,\n",
       "    0.09320068,\n",
       "    0.33544922,\n",
       "    0.7832031,\n",
       "    -2.5976562,\n",
       "    0.9472656,\n",
       "    2.0195312,\n",
       "    -0.4326172,\n",
       "    -3.0625,\n",
       "    -1.1757812,\n",
       "    0.8925781,\n",
       "    1.6015625,\n",
       "    -2.3886719,\n",
       "    -0.32226562,\n",
       "    0.67578125,\n",
       "    3.1875,\n",
       "    0.7714844,\n",
       "    -0.5805664,\n",
       "    1.4921875,\n",
       "    -1.0087891,\n",
       "    0.3828125,\n",
       "    -1.0878906,\n",
       "    1.2177734,\n",
       "    -1.4101562,\n",
       "    ...]]),\n",
       " ('texts', ['hello', 'goodbye']),\n",
       " ('meta',\n",
       "  ApiMeta(api_version=ApiMetaApiVersion(version='1', is_deprecated=None, is_experimental=None), billed_units=ApiMetaBilledUnits(input_tokens=3.0, output_tokens=None, search_units=None, classifications=None), tokens=None, warnings=[])),\n",
       " ('response_type', 'embeddings_floats')]"
      ]
     },
     "execution_count": 37,
     "metadata": {},
     "output_type": "execute_result"
    }
   ],
   "source": [
    "[embeddings for embeddings in co.embed(\n",
    "    texts=[\"hello\", \"goodbye\"], \n",
    "    # model=\"embed-english-v3.0\",\n",
    "    model=\"large\",\n",
    "    input_type=\"search_document\")\n",
    "]"
   ]
  },
  {
   "cell_type": "code",
   "execution_count": 26,
   "metadata": {},
   "outputs": [
    {
     "ename": "TypeError",
     "evalue": "__call__() got an unexpected keyword argument 'texts'",
     "output_type": "error",
     "traceback": [
      "\u001b[1;31m---------------------------------------------------------------------------\u001b[0m",
      "\u001b[1;31mTypeError\u001b[0m                                 Traceback (most recent call last)",
      "Cell \u001b[1;32mIn[26], line 2\u001b[0m\n\u001b[0;32m      1\u001b[0m cohere_ef  \u001b[38;5;241m=\u001b[39m embedding_functions\u001b[38;5;241m.\u001b[39mCohereEmbeddingFunction(api_key\u001b[38;5;241m=\u001b[39mCOHERE_api_key,  model_name\u001b[38;5;241m=\u001b[39m\u001b[38;5;124m\"\u001b[39m\u001b[38;5;124mlarge\u001b[39m\u001b[38;5;124m\"\u001b[39m)\n\u001b[1;32m----> 2\u001b[0m \u001b[43mcohere_ef\u001b[49m\u001b[43m(\u001b[49m\u001b[43mtexts\u001b[49m\u001b[38;5;241;43m=\u001b[39;49m\u001b[43m[\u001b[49m\u001b[38;5;124;43m\"\u001b[39;49m\u001b[38;5;124;43mHello, world!\u001b[39;49m\u001b[38;5;124;43m\"\u001b[39;49m\u001b[43m]\u001b[49m\u001b[43m)\u001b[49m\n",
      "\u001b[1;31mTypeError\u001b[0m: __call__() got an unexpected keyword argument 'texts'"
     ]
    }
   ],
   "source": [
    "cohere_ef  = embedding_functions.CohereEmbeddingFunction(api_key=COHERE_api_key,  model_name=\"large\")\n",
    "cohere_ef(texts=[\"Hello, world!\"])"
   ]
  },
  {
   "cell_type": "code",
   "execution_count": null,
   "metadata": {},
   "outputs": [],
   "source": []
  },
  {
   "cell_type": "code",
   "execution_count": 42,
   "metadata": {},
   "outputs": [
    {
     "data": {
      "text/plain": [
       "'Ficción Espacial: En la lejana galaxia de Zenthoria, dos civilizaciones alienígenas, los Dracorians y los Lumis, se encuentran al borde de la guerra intergaláctica. Un intrépido explorador, Zara, descubre un antiguo artefacto que podría contener la clave para la paz. Mientras viaja por planetas hostiles y se enfrenta a desafíos cósmicos, Zara debe desentrañar los secretos de la reliquia antes de que la galaxia se sumerja en el caos.'"
      ]
     },
     "execution_count": 42,
     "metadata": {},
     "output_type": "execute_result"
    }
   ],
   "source": [
    "doc.page_content"
   ]
  },
  {
   "cell_type": "code",
   "execution_count": 20,
   "metadata": {},
   "outputs": [
    {
     "data": {
      "text/plain": [
       "Document(page_content='Ficción Espacial: En la lejana galaxia de Zenthoria, dos civilizaciones alienígenas, los Dracorians y los Lumis, se encuentran al borde de la guerra intergaláctica. Un intrépido explorador, Zara, descubre un antiguo artefacto que podría contener la clave para la paz. Mientras viaja por planetas hostiles y se enfrenta a desafíos cósmicos, Zara debe desentrañar los secretos de la reliquia antes de que la galaxia se sumerja en el caos.')"
      ]
     },
     "execution_count": 20,
     "metadata": {},
     "output_type": "execute_result"
    }
   ],
   "source": [
    "doc"
   ]
  },
  {
   "cell_type": "code",
   "execution_count": 245,
   "metadata": {},
   "outputs": [],
   "source": [
    "# collection.add(ids=[str(uuid_name)], documents=response)"
   ]
  },
  {
   "cell_type": "code",
   "execution_count": null,
   "metadata": {},
   "outputs": [],
   "source": [
    "# from langchain_text_splitters import RecursiveCharacterTextSplitter\n",
    "# text_splitter = RecursiveCharacterTextSplitter(\n",
    "#     # Set a really small chunk size, just to show.\n",
    "#     chunk_size=100,\n",
    "#     chunk_overlap=20,\n",
    "#     length_function=len,\n",
    "#     is_separator_regex=False,\n",
    "# )\n",
    "\n",
    "# texts = text_splitter.create_documents([state_of_the_union])\n",
    "# print(texts[0])\n",
    "# print(texts[1])"
   ]
  },
  {
   "cell_type": "code",
   "execution_count": 21,
   "metadata": {},
   "outputs": [
    {
     "data": {
      "text/plain": [
       "Document(page_content='Ficción Espacial: En la lejana galaxia de Zenthoria, dos civilizaciones alienígenas, los Dracorians y los Lumis, se encuentran al borde de la guerra intergaláctica. Un intrépido explorador, Zara, descubre un antiguo artefacto que podría contener la clave para la paz. Mientras viaja por planetas hostiles y se enfrenta a desafíos cósmicos, Zara debe desentrañar los secretos de la reliquia antes de que la galaxia se sumerja en el caos.')"
      ]
     },
     "execution_count": 21,
     "metadata": {},
     "output_type": "execute_result"
    }
   ],
   "source": [
    "doc\n"
   ]
  },
  {
   "cell_type": "code",
   "execution_count": 24,
   "metadata": {},
   "outputs": [
    {
     "data": {
      "text/plain": [
       "str"
      ]
     },
     "execution_count": 24,
     "metadata": {},
     "output_type": "execute_result"
    }
   ],
   "source": [
    "type(doc.page_content)"
   ]
  },
  {
   "cell_type": "code",
   "execution_count": 27,
   "metadata": {},
   "outputs": [
    {
     "data": {
      "text/plain": [
       "EmbedResponse_EmbeddingsFloats(id='8201de8a-8843-4ac2-9e94-82a7811852f3', embeddings=[[1.3359375, 0.52783203, -0.3540039, -0.10021973, 0.7055664, -0.64501953, -0.026916504, -1.9980469, -0.5361328, 0.30395508, 0.4580078, 0.018554688, -1.1572266, 0.07397461, -0.17163086, -1.1748047, 0.5834961, 2.2265625, 0.8378906, -1.4404297, 0.59765625, -0.39111328, 0.5234375, -0.21386719, 1.3183594, 4.328125, 1.4921875, -1.8759766, -2.2929688, 0.72558594, 1.3486328, -0.8417969, 0.5410156, 0.7636719, 1.1357422, -0.009765625, -0.1665039, 1.0507812, -1.9921875, 0.11462402, 1.0214844, 0.22070312, -1.8232422, -1.6386719, 0.03149414, -0.23242188, 0.7050781, 0.2944336, 0.19445801, 1.1230469, 0.8461914, -0.04711914, -2.6152344, -0.328125, -0.62597656, -2.7265625, -1.6074219, 0.16235352, -1.6367188, -0.4111328, 0.049804688, -0.010498047, 0.43896484, 0.35498047, 1.0361328, -0.14208984, 0.94677734, -2.5859375, -0.3881836, -1.3017578, 0.5336914, -1.1123047, -0.09667969, -1.7675781, -0.28222656, 0.6328125, 1.515625, -1.0087891, 0.62402344, 0.32080078, 1.078125, -0.5908203, -1.7929688, 0.010864258, -0.671875, -0.6582031, 0.42382812, -0.7944336, 1.7246094, 2.5, -1.4082031, 0.030273438, -0.6958008, -2.6035156, -1.2255859, 1.7998047, 1.2792969, 0.3605957, -0.3935547, 2.0761719, -0.3125, 0.5683594, -1.1816406, -0.50439453, 0.9160156, 0.28442383, -0.057128906, 0.140625, -1.2607422, 0.65478516, -0.0021858215, 0.2788086, -4.4296875, -0.28198242, -0.7373047, -0.7036133, -0.7548828, -0.012329102, -1.0332031, 1.0957031, 0.2998047, 0.6826172, 0.0501709, 0.546875, 3.3828125, 0.0107421875, -0.0847168, 0.1282959, -1.4814453, -0.89160156, -1.9755859, -1.1201172, -5.9296875, -0.32836914, 1.1845703, -0.87109375, -1.9511719, 1.4746094, -0.09033203, -0.07299805, 0.4716797, -1.3828125, 0.5019531, 0.040039062, 0.2602539, -1.6171875, -2.09375, 1.1894531, 1.71875, -1.0830078, -0.64453125, -0.62402344, 2.1191406, 0.34350586, 2.7441406, -2.7148438, -1.1728516, 0.30126953, -0.84375, -0.4855957, -3.3828125, 1.6826172, 0.6953125, 2.0429688, 1.2900391, 1.0957031, 0.0690918, 0.111816406, -1.2578125, -0.04748535, 0.28393555, 0.23303223, 0.014038086, 1.9492188, -0.9042969, -1.3837891, 0.29589844, -3.7597656, -1.6699219, -1.2421875, 1.0820312, -0.28320312, 0.9736328, 2.1328125, -2.1640625, -0.1496582, 1.6640625, 0.5253906, 0.33813477, 1.1542969, -0.8925781, -1.5664062, -0.29223633, 0.107910156, -0.027832031, 1.6386719, -0.97558594, -1.9306641, 0.5859375, -3.5234375, -0.12768555, 0.3852539, -2.0664062, -1.5664062, 2.09375, 0.19030762, 1.078125, 0.9819336, 0.2553711, -2.078125, -0.32128906, 0.31225586, -0.05834961, 1.1445312, -0.46899414, 3.8710938, -0.5136719, 1.6337891, -1.0878906, -0.049468994, 0.5078125, -0.63964844, -0.068725586, -0.8256836, -2.1367188, -1.7509766, 0.42626953, -1.9355469, -0.49658203, -0.18261719, 0.17675781, -0.22460938, 0.020141602, 0.32763672, -0.5576172, -4.421875, -1.0966797, -0.8652344, -0.82666016, 0.8022461, -0.23388672, 0.82470703, 0.72753906, 3.0722656, -2.3808594, -1.6083984, -1.4111328, 1.5839844, 0.90234375, -1.3730469, 2.8515625, 0.40039062, -1.9960938, -0.17126465, -0.12426758, -0.33276367, 2.984375, -1.1054688, -1.4111328, -0.023925781, 4.1328125, -0.3544922, 0.5541992, -0.38134766, -0.052734375, 0.1328125, -3.2382812, -0.5449219, -0.78125, -1.4960938, 1.4892578, -0.9277344, 4.3671875, -0.26367188, -0.70214844, -1.3730469, -2.5390625, -0.62646484, -2.9609375, 0.43676758, 0.55126953, -0.07141113, -0.4326172, 0.9838867, 1.2089844, -0.15466309, 1.2226562, -1.1689453, 0.58740234, -0.19824219, 1.5039062, -1.7167969, -0.63183594, -0.5546875, 1.9677734, -1.0546875, 0.3857422, -0.091308594, 0.30029297, -1.4921875, -0.8564453, -1.4707031, 0.01864624, -0.34814453, 0.5498047, -0.71191406, 0.9326172, 0.73046875, 1.5185547, 0.19262695, 0.49121094, -1.4501953, -0.6020508, -0.72998047, 0.0703125, 1.4765625, -0.5498047, -0.096191406, -0.122558594, -0.5864258, 1.0976562, 0.20959473, 0.41992188, 0.38110352, -0.5048828, -1.5390625, 0.3630371, 1.2617188, 0.41723633, -3.5917969, 0.2084961, 2.1113281, 0.6191406, 0.68066406, -1.1660156, 0.9277344, -1.703125, -0.05126953, 0.6279297, 0.6660156, 0.36328125, -0.08618164, -1.0654297, -0.044189453, 0.17126465, -1.1855469, -1.9316406, -1.0654297, -1.6953125, -0.080200195, -0.44018555, 0.7871094, 1.0732422, -0.24914551, 3.1367188, 0.65527344, 2.8046875, -2.4765625, -0.9238281, -1.28125, -0.20544434, -2.1445312, -0.3395996, 0.328125, -0.5371094, -0.99316406, 1.0605469, 1.6699219, 1.2792969, 1.0957031, -0.5419922, 0.022949219, 0.13671875, 2.53125, 0.37890625, -0.19921875, -1.5625, 0.022125244, 1.1171875, -4.1679688, 1.4414062, 2.0234375, 0.6870117, -0.65234375, -0.020019531, -0.66503906, -0.053466797, -1.4189453, -0.50927734, 0.0041503906, -0.7167969, 0.6142578, 0.62109375, -0.5605469, 0.27368164, 1.8759766, -1.1328125, 0.36083984, 0.92333984, -0.5341797, -1.8671875, -2.1386719, -0.86816406, -1.0546875, -0.20605469, 1.828125, 2.6601562, -0.28759766, -0.6464844, -0.9448242, 0.41308594, 0.11401367, 0.90234375, -0.29418945, -1.6347656, 0.40185547, -1.2246094, 0.51708984, 0.6435547, -0.5126953, 0.11328125, -0.6401367, -0.40283203, 0.091308594, -0.98046875, -1.0078125, 1.84375, -1.5029297, -0.6953125, -0.6801758, -1.8085938, -1.2167969, -1.0429688, -1.2832031, 1.6113281, -2.8828125, 1.21875, -1.7128906, -1.5234375, 0.23828125, -0.28564453, -1.4160156, -1.1777344, 1.5097656, -0.15576172, -0.18701172, 1.0585938, 0.45361328, -2.09375, 0.81933594, -1.7460938, 1.1914062, 0.47143555, -2.5429688, 0.076049805, -3.3945312, 0.4050293, -2.2070312, 0.6591797, 1.0009766, -1.1552734, -1.7324219, 0.8305664, 0.4091797, 0.21472168, 1.0595703, 1.9082031, 2.0742188, -0.17895508, 0.13171387, -2.0175781, 0.26708984, -0.89453125, 0.6870117, -0.41918945, 0.41796875, -0.28564453, 0.7939453, -3.0566406, -2.6503906, -1.7011719, -1.5117188, -0.30273438, 0.9370117, -0.25830078, -2.2890625, -0.55810547, 2.6835938, -0.24560547, -1.5283203, -0.07104492, -0.38305664, -0.65625, 2.1269531, 0.30395508, -0.60302734, -1.015625, -1.9863281, 0.40722656, -0.39013672, 1.3613281, 0.31591797, -0.1550293, 0.6113281, 1.9140625, -4.3632812, 0.11645508, -2.0058594, -0.036621094, 1.6640625, 0.3010254, -2.9707031, 0.8564453, 1.5302734, -2.15625, -1.8876953, -0.37548828, -2.5, -0.7163086, -1.6875, -0.018127441, 0.080078125, -1.1699219, -0.0087890625, -1.6308594, -0.9091797, -1.8535156, -0.43603516, 1.2539062, -0.2763672, 2.7871094, 0.091796875, -0.8569336, -1.2978516, 1.3496094, 0.15698242, -0.7363281, 1.8037109, 0.6044922, -0.53515625, 2.4667969, -0.42138672, 0.33398438, 0.82910156, -2.2949219, -1.4609375, -1.2578125, -0.7441406, -0.55615234, 0.88134766, -0.8388672, -0.19384766, -1.4140625, -0.29589844, -0.06933594, -0.88427734, 0.07397461, 0.036621094, 0.27246094, -1.5664062, -1.1933594, 2.9394531, -1.3740234, -1.5810547, 0.46923828, -1.0283203, -0.07458496, -0.6611328, -0.08557129, -2.1425781, -0.5629883, -0.7597656, -0.5136719, 0.66503906, 3.796875, -1.8457031, -0.06286621, -1.3154297, 0.021240234, -0.8828125, -4.4765625, 1.3789062, -1.6933594, -0.0063476562, 0.99609375, 1.0400391, -1.8652344, 1.0009766, 1.0830078, -3.1796875, -0.96777344, 0.6088867, 0.3173828, -1.5927734, 1.9023438, -1.046875, -1.2988281, -0.024169922, 0.48120117, 1.6601562, -0.77246094, 0.90283203, -0.47998047, 0.79589844, -0.9321289, 0.31445312, -0.16210938, -0.22351074, -0.4482422, 1.2451172, 0.6152344, -0.4189453, 0.059326172, 1.296875, 0.66796875, -1.2001953, 0.9941406, -0.08337402, 2.2070312, 1.2070312, 0.08050537, 1.3535156, 0.37890625, 2.0761719, 0.99902344, 0.21264648, -7.5976562, 0.49560547, -0.28222656, -0.73291016, 2.203125, -0.1784668, 4.6054688, 3.1171875, 0.56396484, 1.1113281, -2.4023438, 1.765625, -0.52441406, -0.6748047, -0.25, 1.4433594, -0.9165039, -0.76660156, -0.91308594, 0.36499023, -1.6269531, -1.8017578, 0.41625977, 1.7480469, -0.41674805, 2.0078125, 0.8691406, -0.99853516, -2.2910156, 0.6401367, 0.5883789, -1.0507812, -0.45288086, -1.7119141, 1.4199219, -0.6254883, -1.0917969, -1.4589844, -1.3613281, 0.7104492, -0.40551758, 1.1494141, -0.43896484, -2.0820312, 1.1152344, -2.1953125, 0.50927734, -1.7734375, -0.0848999, 2.0332031, 0.7973633, -0.7402344, -0.9042969, -0.3564453, -0.48828125, 0.3347168, 0.4921875, -0.045166016, -0.21948242, 1.0976562, 1.3808594, -0.6567383, 2.5703125, -0.2841797, -1.6777344, -1.234375, -2.6445312, 1.4501953, -0.3383789, -2.4296875, 0.075927734, 0.9404297, -0.91064453, 0.09283447, -1.2802734, 0.29589844, 1.0302734, 0.8564453, 0.41015625, 0.1303711, -0.044158936, 3.1210938, 0.8833008, 0.42333984, 0.18469238, 0.6347656, -0.7026367, -1.4257812, 0.46801758, 0.20141602, 0.69921875, 0.8027344, -1.0722656, -0.48242188, -0.5292969, 0.55371094, 1.0263672, -0.296875, 0.8730469, -2.9726562, -1.7246094, -1.4199219, -1.7578125, 0.32055664, -2.2929688, -1.7148438, 0.15222168, -0.8330078, -1.9462891, 1.1621094, -1.2841797, -1.1992188, 0.11328125, 0.1640625, 1.4648438, 1.9394531, 0.69921875, 0.1303711, -0.4267578, 1.3964844, 2.2304688, -2.8085938, -0.8881836, -1.2763672, 1.7490234, -1.171875, -0.6201172, -1.9277344, -0.25854492, 1.25, 1.7636719, -1.2832031, 0.45898438, 1.0429688, 1.0419922, 0.3605957, -0.2836914, 0.13256836, -0.5205078, 0.30029297, -1.4111328, 0.6010742, 1.4296875, 0.2290039, -0.0949707, 1.2578125, 1.1386719, 0.22961426, 0.44140625, -0.32202148, 0.22802734, -0.41723633, 0.101867676, -1.421875, 1.5, -1.6113281, -0.34423828, -0.94628906, -3.0371094, -1.2617188, -0.59228516, -0.6142578, 1.2412109, 0.10961914, -0.2421875, -0.11053467, -0.38623047, 0.61035156, 1.4091797, -1.6054688, -2.1289062, -1.4794922, 2.4765625, -0.9560547, 2.0957031, 0.79052734, 3.2890625, -0.74658203, -0.50390625, -1.7744141, 1.4433594, -0.10546875, 1.2949219, -0.7578125, -0.6635742, -2.7851562, -0.024368286, -0.48535156, 0.7910156, 0.8618164, 1.0908203, -1.1240234, -1.3115234, 1.4882812, 0.4128418, 3.703125, -2.7363281, 1.3876953, 1.7363281, -1.5625, -1.6201172, 1.9902344, -0.12451172, -1.4882812, -0.20227051, 0.6503906, -0.26757812, -0.7607422, 0.9277344, -0.37719727, 0.34960938, -2.8554688, -1.1865234, -0.37109375, -4.0507812, 0.6982422, -0.84521484, -2.5175781, -0.8730469, -4.4921875, 0.5366211, 2.8476562, 1.5449219, -1.1337891, 1.9697266, -0.02709961, 0.47631836, -0.037475586, -1.2099609, -2.1425781, -0.19555664, 2.59375, -1.7607422, -0.73095703, 2.5839844, -2.4277344, 0.0657959, -0.056610107, -1.4248047, 1.6884766, -0.37353516, 2.0214844, 0.30810547, 0.84716797, 1.3974609, 0.71728516, -1.1396484, 0.5917969, -0.98535156, 1.0126953, -0.052642822, -0.5605469, -0.3544922, -1.0390625, -0.5629883, -0.56884766, -1.5742188, 0.44213867, -0.11340332, -1.7568359, -1.3955078, 0.06677246, -0.9223633, -1.4980469, -0.50927734, 0.9716797, 1.6904297, -0.16992188, 0.2841797, 0.33276367, 0.4885254, 1.4970703, 2.0722656, 5.6601562, 0.734375, -0.5961914, -1.6777344, -0.24060059, 0.17578125, 0.32617188, -2.1582031, -1.0771484, 1.1367188, 2.9179688, 0.7036133, 0.65722656, -0.82177734, 0.15795898, -0.30419922, -0.5097656, 0.68115234, 0.042236328, -0.11352539, 1.7285156, 0.08618164, 0.5361328, -0.8178711, -0.80810547, -1.1162109, 3.640625, -1.3525391, 0.12036133, -1.2558594, -0.75390625, -1.0800781, 0.5917969, 0.7158203, -1.0253906, -1.3564453, 0.17919922, -0.6074219, 0.91503906, 3.3222656, -0.921875, -0.75878906, 0.99609375, 0.7402344, 0.26220703, 0.5878906, -0.2565918, 0.08630371, -0.57958984, -1.3632812, 1.7978516, -1.3144531, -0.53027344, 1.5068359, -0.5488281, -0.52246094, -0.51464844, 1.1347656, -1.7890625, -0.9536133, -0.15698242, -1.3242188, 1.0800781, -0.04498291, 1.9472656, -2.0429688, 1.2226562, 0.6035156, 0.101501465, -0.41796875, -0.22363281, 6.1289062, 0.40405273, 0.64501953, -0.12902832, -1.9130859, -0.8154297, 0.8823242, 0.28710938, -0.25463867, 1.4033203, 0.8847656, 2.6875, 1.5488281, 1.3457031, 0.3515625, -0.5175781, 1.3710938, 0.47021484, -1.21875, 0.3486328, -0.5834961, 1.046875, 1.4375, -1.3076172, 0.27978516, -0.86279297, -1.0517578, -0.20605469, 0.60009766, -1.8554688, 0.26757812, 1.4882812, 1.5361328, -1.84375, 0.026000977, -1.53125, -3.640625, -0.6791992, 0.4494629, -2.984375, -1.2373047, -0.27368164, -0.6098633, 0.37890625, -1.7050781, 0.8457031, 2.4726562, 2.6523438, 1.2265625, 0.24902344, 1.2480469, -0.044189453, 0.95947266, 0.013061523, 2.1191406, -0.7416992, 1.3554688, -1.6123047, 0.34448242, 0.3227539, -1.9550781, -0.84472656, 2.7929688, 1.0673828, 0.17382812, -0.8979492, -0.66015625, 0.7011719, 0.67285156, -0.94677734, 1.2294922, 0.1149292, 0.7402344, 0.57128906, 1.9511719, 0.46191406, -0.7290039, -0.10681152, 0.72216797, -0.15515137, 0.5019531, 0.9238281, -1.1425781, 0.70947266, 1.2919922, 0.6582031, -0.07104492, -0.32910156, 1.5683594, 0.7167969, -0.45898438, 0.25634766, -0.42773438, -0.93066406, 0.2232666, -1.5527344, 0.53271484, 2.4140625, 0.9658203, -1.7949219, 0.31298828, 0.5336914, 0.5708008, 2.9023438, 2.5214844, 1.0146484, 0.14746094, -0.06762695, -1.1142578, 1.8046875, 0.56396484, 0.7416992, 1.3857422, 0.89208984, 3.8203125, 0.28515625, -0.2298584, -1.1376953, 2.5683594, 0.92285156, -0.13134766, 0.11199951, -0.8408203, 1.2304688, 0.6821289, 0.13208008, 0.2442627, 1.4804688, -0.69091797, 0.10205078, 0.0625, -1.0449219, 1.0644531, 1.4550781, 1.5175781, 0.33374023, 1.3544922, -0.23852539, 0.8457031, -0.41601562, 0.88134766, 1.0195312, 2.4003906, 0.98339844, 0.5214844, 0.3383789, -0.07879639, -0.24035645, 0.7158203, -0.67529297, 2.0214844, 0.5102539, -0.21044922, 3.3808594, -0.98046875, -1.8691406, 0.48242188, 1.5625, -0.63916016, 0.30444336, 1.7714844, -0.48706055, -0.9980469, -0.07165527, 0.83740234, 1.0195312, 3.0, 0.31640625, 2.2070312, 0.93652344, 0.12878418, 1.1582031, -1.2128906, -1.6337891, 1.28125, 2.2128906, -0.73779297, 1.4628906, -0.33129883, 0.21313477, 0.39892578, 4.578125, -2.15625, 1.7763672, 0.64404297, 1.7480469, 0.40722656, -0.9609375, 2.2792969, -2.65625, 0.8378906, -0.73046875, 0.6948242, -1.1650391, -0.28466797, 0.86328125, -0.0063476562, 3.28125, 1.7958984, -0.93896484, 0.67626953, -0.625, -1.2773438, 0.19970703, -0.53759766, 1.9921875, 0.84521484, 0.7763672, -0.2578125, 1.1503906, 1.4111328, -0.7529297, -1.9072266, -1.1347656, -0.2919922, 0.36621094, 0.87597656, -0.7158203, 0.06939697, -0.60839844, -1.1572266, -1.0800781, 0.6816406, 0.44262695, 2.453125, 1.2109375, 1.8925781, 1.4921875, -0.7504883, 1.0537109, 2.5175781, 1.09375, -0.30737305, 1.0585938, 0.44482422, 0.73291016, -0.63671875, 0.69433594, 1.6279297, -0.38354492, -1.484375, 2.0898438, 0.037963867, -0.6953125, -0.9086914, 0.6923828, -0.8925781, -1.8447266, 0.86035156, -0.27539062, 0.13745117, 0.6152344, 1.3339844, 0.86035156, 1.9882812, 1.0351562, -1.6357422, 0.7080078, 0.84033203, 0.40185547, 2.9257812, -2.234375, -0.5317383, -1.3974609, 0.030761719, -1.9169922, 2.8632812, -0.23339844, -0.123413086, -0.53564453, 1.4785156, 0.98339844, 2.6425781, -2.0996094, 0.29492188, 2.203125, -2.9003906, -1.0390625, 0.3010254, -0.71191406, -0.111083984, 1.3818359, 0.39135742, -1.2617188, 0.7553711, -0.6928711, -0.8310547, -0.5283203, -0.2734375, -0.51953125, -3.0234375, -0.8154297, 1.6220703, 0.171875, -1.5996094, -1.8164062, 2.3066406, -1.5136719, 1.765625, 0.86328125, 0.3869629, 0.78271484, 1.453125, 0.028167725, -1.6660156, 0.24414062, -4.3125, 0.67333984, -0.74853516, 1.2597656, -0.62158203, 4.0898438, 0.0026855469, -1.1904297, 0.100097656, -0.7675781, -1.4199219, -0.08154297, 1.6640625, 0.92089844, 0.22558594, -1.4785156, -0.6147461, 2.5703125, 2.9765625, -0.8154297, 0.33789062, -1.8027344, 0.23144531, -0.27807617, -1.2578125, 0.33496094, -0.7373047, 0.024291992, -2.4882812, 0.2919922, 1.6074219, -0.6074219, -1.421875, -0.94628906, -2.1738281, 0.79785156, -2.0078125, 3.3164062, 0.25878906, 1.3066406, -0.40820312, 0.69628906, 2.7460938, -0.55566406, 0.21411133, -0.38598633, 1.5507812, 0.8701172, -1.4921875, -0.16699219, -1.046875, 0.7631836, -3.9648438, 4.125, 0.5942383, -0.4194336, 1.3339844, -0.87646484, -0.515625, 2.9257812, -1.8056641, 1.2890625, 0.9248047, 0.71484375, -0.22802734, 0.8095703, -1.5527344, 0.9277344, 2.7285156, -2.5097656, 1.2646484, 0.2861328, -0.7817383, -0.29614258, 0.88671875, 1.3125, 2.1875, -0.37060547, 0.17004395, 0.0009975433, 0.7529297, -0.703125, 0.5415039, -0.8515625, -0.1920166, -1.8486328, 0.36083984, 0.8881836, -0.12023926, -0.70410156, -1.9394531, 3.9492188, 0.23303223, 0.5605469, 0.99902344, -0.75390625, -0.90478516, 0.21936035, 1.0810547, -1.7050781, 1.7050781, 1.4345703, 1.1201172, -0.38305664, 1.3505859, -0.62597656, 0.036071777, 1.8017578, -0.014160156, -1.2060547, 2.0039062, -0.8105469, -1.1337891, -0.1328125, 1.7890625, 0.020385742, 1.1259766, 1.5195312, 0.11437988, 0.70166016, 0.42749023, -0.6923828, 1.6191406, -0.67871094, 0.62060547, 0.06762695, 0.021240234, -0.42919922, 2.109375, 0.43725586, 1.6855469, 0.34179688, 0.3564453, -3.046875, -1.4882812, 1.6074219, -0.33203125, 0.30273438, -0.7314453, -1.6044922, 0.5756836, -0.7246094, 0.27734375, 0.5205078, 1.9501953, 0.2290039, -0.78759766, 0.62597656, 0.26367188, -1.2265625, 1.3476562, -1.9257812, -2.5351562, -1.1835938, -0.88623047, 1.3564453, -0.33081055, -0.7089844, 1.5625, 0.9692383, 0.74902344, 0.8149414, 1.8466797, -2.3632812, 0.61035156, 2.8203125, 1.1142578, 1.1933594, 0.76953125, -2.1230469, 0.41064453, -0.43115234, 0.75, -0.0715332, -0.13232422, -0.20532227, -0.7973633, -0.51953125, -1.3515625, -0.06616211, 0.9116211, 1.4775391, -0.33007812, -0.5625, 1.7890625, -1.6230469, -0.36328125, -1.9345703, 2.8515625, -0.5449219, -1.078125, 0.56640625, 0.2849121, -0.61816406, -2.2910156, 0.26586914, 0.33032227, 0.060424805, 1.1494141, -0.50146484, -0.47875977, 0.9472656, 0.032104492, 0.0, -1.5263672, 1.9160156, 0.35620117, -0.34936523, 1.0957031, -1.3574219, 0.75878906, 0.6538086, -1.890625, 1.1523438, -0.046661377, -2.2734375, -0.6826172, 0.79003906, -0.17602539, 0.10424805, -1.6103516, 1.1972656, 0.6767578, -0.030273438, -0.8803711, 1.859375, 1.8798828, -0.78808594, -1.3027344, 0.16552734, 1.4804688, -0.53808594, 1.5068359, -0.5810547, 0.70458984, -1.9609375, -1.2421875, 0.7836914, -0.69189453, -1.0214844, -0.9482422, 0.8261719, -1.6552734, -1.171875, -0.03894043, 1.3574219, -1.3144531, -1.6445312, -1.6464844, 0.9550781, 1.9257812, -0.2524414, 0.67626953, 0.5605469, 0.3515625, 1.7109375, -2.0429688, -0.37353516, 1.390625, -0.06958008, -0.16271973, -0.085632324, 2.4042969, 2.1210938, -0.62060547, 0.67041016, -0.71728516, -0.23706055, -2.4335938, -1.1962891, 0.54785156, 0.45898438, 0.6904297, -0.9238281, 1.4492188, 2.859375, -2.4609375, 1.0976562, 2.4199219, -0.16748047, 0.039398193, 0.8276367, 0.78222656, -0.16577148, 0.041503906, 0.03894043, -0.47729492, 0.3630371, -2.6289062, -1.2724609, -0.48510742, 3.3828125, 1.9042969, 0.14648438, 1.7949219, 1.5605469, -0.19189453, -0.6801758, 2.2539062, 2.0410156, -0.5107422, -0.2109375, -1.40625, 1.1552734, -0.7265625, -1.5097656, 1.8535156, 4.3554688, -2.5976562, 0.8676758, -0.18774414, -0.80859375, 0.63964844, -1.3212891, 1.3984375, 0.69677734, -2.5820312, -0.78271484, -0.3046875, 0.46044922, -1.9130859, 1.7607422, 1.5107422, 2.3046875, 0.05065918, -2.1816406, -3.6328125, -0.20349121, -1.1972656, -2.0566406, -0.8222656, 2.9785156, -0.76708984, -3.9101562, 5.2226562, 0.9453125, -2.0253906, -2.453125, 0.22216797, -0.39648438, -1.0878906, -2.4648438, 1.1162109, 2.765625, -1.2675781, 0.6669922, -1.0146484, 1.5898438, 2.203125, -0.65527344, 0.39746094, 0.6279297, 0.25317383, 0.0949707, -2.1835938, 1.0097656, 0.8051758, 0.21704102, 0.111816406, -0.6611328, -1.8496094, -1.7597656, 0.17578125, 0.25756836, 3.8496094, 1.3876953, 3.375, 1.2724609, -4.6914062, -1.0410156, -0.83984375, -0.42041016, 3.4101562, -0.4868164, 2.1035156, 1.0585938, -1.1875, -0.18811035, -0.65722656, -2.0839844, -0.5439453, 0.36035156, 1.1015625, 1.8115234, 1.4082031, 0.29467773, -0.73535156, 2.0351562, -1.2929688, -1.765625, -0.80810547, -2.78125, 0.93066406, 1.2509766, -1.5322266, -0.6220703, -0.8071289, 1.4921875, -1.1777344, -1.4257812, 1.2773438, 1.0869141, -0.026855469, -0.24267578, 2.078125, -1.3193359, -1.6171875, 0.15551758, -0.15429688, -0.5649414, -2.6699219, 3.640625, -1.3876953, 1.4179688, 1.2294922, 0.12695312, -1.5527344, -0.16992188, 0.26660156, -0.54345703, 2.8242188, -0.35205078, -3.09375, 0.05407715, -1.40625, -0.08862305, 0.09008789, -2.0214844, -1.6875, -1.2636719, 0.40039062, -0.64697266, -0.9213867, 0.97753906, 1.3193359, -0.3659668, -3.2421875, -0.15515137, 1.8828125, -1.515625, 0.4326172, 0.02154541, -1.46875, -0.07763672, 1.3583984, 1.0429688, -0.88427734, 0.31420898, -1.5234375, -4.1796875, -0.29785156, -1.7128906, 0.7285156, 4.4921875, 0.0013427734, 2.859375, 0.1508789, 0.05834961, -0.92089844, 1.1123047, 0.9921875, -0.9995117, -0.84716797, -0.32226562, -0.3918457, -0.37670898, -1.6757812, -0.019897461, -0.36694336, 0.54833984, -0.6948242, -0.9038086, -0.07244873, 0.55566406, 0.56591797, -1.3984375, -0.6845703, 0.07861328, 0.3503418, -0.94677734, -0.53222656, 1.8574219, 0.4248047, -1.5498047, 0.984375, -0.9609375, 0.44360352, 1.7607422, -0.51171875, -0.20617676, -0.73046875, 0.88720703, -2.2636719, 1.8837891, -1.2636719, -0.26123047, 0.5991211, 1.1455078, 2.125, -0.1328125, -0.80078125, -2.515625, 1.5800781, 3.3261719, -1.5722656, 0.45947266, -2.7089844, -0.068359375, -1.5078125, 2.75, -1.9208984, -0.46533203, -0.24560547, 1.9648438, -1.2402344, -0.24267578, 1.9960938, -0.4921875, -1.3710938, 2.5253906, -0.15124512, -0.33007812, 0.18359375, -0.4272461, -1.625, 1.125, 0.8076172, -0.39941406, 0.7089844, 0.40454102, -0.6591797, -1.2919922, 2.1757812, 1.8759766, 0.028564453, 1.8837891, -0.15576172, 0.99121094, -1.140625, 1.0361328, 1.0058594, -0.020019531, 0.5854492, 0.068481445, 1.4394531, 2.546875, -1.1953125, 1.5546875, 1.1875, -0.44995117, -0.7944336, 0.19897461, 0.40795898, 0.31835938, -0.19335938, -0.765625, -1.9511719, 0.39892578, -0.1427002, -2.5664062, -0.018310547, 0.9921875, -1.9726562, -0.74121094, 1.4882812, 2.1054688, 4.4804688, 0.4482422, -0.71191406, -1.4482422, -0.42871094, 2.0507812, -0.6899414, 1.1875, 0.4399414, -0.734375, -3.0976562, 1.3554688, -0.010498047, -1.8144531, -0.7998047, 1.5957031, 0.24499512, 1.6181641, 1.5439453, 1.5556641, 1.9287109, 1.2373047, -1.8251953, -0.77246094, 1.5253906, -0.064697266, -2.0507812, -2.0273438, -0.7402344, -0.640625, 0.48901367, 1.6445312, -2.1542969, 0.8754883, 1.8652344, 0.18005371, -0.5678711, -1.2197266, -0.43701172, 1.1337891, 1.6386719, 0.6738281, 0.00390625, -0.6845703, 0.2487793, -0.59228516, -0.82910156, -0.28320312, 0.33251953, -3.0546875, 0.43115234, -1.2861328, -0.3317871, -1.5371094, 0.009277344, -0.5361328, -0.24230957, 1.7021484, 1.1552734, 0.85839844, 1.0214844, -0.9760742, 2.6445312, 2.2617188, -1.671875, 2.6640625, 0.95654297, 2.4023438, -1.2382812, 1.7011719, 0.21386719, -2.5527344, 0.7470703, -1.515625, -0.26416016, -0.0703125, 0.23779297, -1.0761719, -1.2392578, 1.4121094, -0.63134766, 0.049041748, -0.2536621, 0.53759766, -0.7578125, 1.3916016, 1.4101562, -0.5966797, 0.1303711, -0.8149414, -0.4267578, 2.4257812, -0.34692383, -0.39916992, -0.5786133, 1.4365234, 0.6928711, 0.036132812, 1.1972656, -0.9589844, 1.3271484, -0.6738281, 1.5019531, -1.0996094, -1.6738281, 0.1685791, 0.9638672, -1.0146484, -0.08843994, -0.85839844, 0.33618164, -3.0507812, -1.1162109, 1.1972656, -1.1777344, 2.2050781, -1.1845703, 0.13916016, -0.3269043, -0.32104492, 0.06616211, 0.6269531, 0.43798828, -0.004585266, 0.26611328, -0.7265625, -1.5527344, 0.7260742, 1.0996094, -1.2519531, -0.04248047, -1.3974609, -1.1689453, 2.2304688, -0.9628906, -1.1875, 0.17895508, 0.40039062, -3.4882812, 0.1015625, -0.8354492, -0.36767578, -1.6757812, -1.1904297, -0.5205078, -1.0751953, 0.71972656, -0.6064453, -2.0117188, 0.61621094, -1.2294922, 0.14379883, 0.6699219, 0.041748047, 2.796875, -1.0107422, -1.3505859, -0.65185547, 0.09326172, 1.5302734, -1.3779297, 1.8125, 1.6113281, 1.6972656, -1.109375, -0.5024414, -0.13574219, 0.73291016, 2.3828125, 1.2998047, 0.41992188, -1.3417969, 1.0371094, -0.119018555, -2.3242188, 1.3066406, -0.53466797, -0.46118164, 1.1367188, -0.14672852, 0.008544922, 0.10058594, -1.0556641, 1.2988281, -1.84375, -1.0400391, -0.43408203, 2.0351562, 0.6542969, 1.4638672, -0.45654297, -0.30859375, 0.8125, -0.58691406, -0.55566406, 0.68066406, 0.5161133, -1.1054688, -1.0810547, 1.6806641, -0.021148682, 1.2441406, -0.9121094, 0.016113281, -1.1113281, 0.8413086, 1.625, 1.0429688, -1.3398438, 1.1777344, -0.9609375, -0.08691406, 0.98046875, -0.47021484, -1.2109375, 3.234375, -2.3652344, -1.4140625, 7.4375, 0.2824707, 0.49804688, 1.6152344, -2.0507812, 0.07574463, -0.5410156, -1.90625, -0.030151367, 1.5361328, 0.16430664, 0.3071289, 1.2128906, 0.828125, 0.72216797, -0.9589844, 0.8730469, 2.2109375, 0.78759766, -1.1035156, 1.9023438, 0.9194336, 2.5253906, -0.09039307, 0.10803223, -0.8466797, 0.64453125, 0.05810547, 0.9111328, -2.1035156, 2.5761719, -1.625, 1.1640625, 2.1015625, 1.9433594, -1.1162109, 0.8730469, 0.17285156, -0.47436523, -1.5556641, -3.4335938, 1.1884766, -0.30566406, -0.48046875, -1.2441406, -0.6489258, 1.2597656, -1.1582031, -1.5791016, 0.7871094, -1.6748047, -0.24291992, -0.41235352, -0.14550781, 1.75, -1.8886719, -0.7480469, -1.453125, 1.0019531, 1.1113281, 1.5009766, -1.7626953, 0.27905273, 0.12548828, 0.48291016, -0.29882812, 1.5566406, 0.3959961, 1.3828125, 0.24133301, 0.49560547, 0.96191406, 0.70214844, 0.53515625, 1.3154297, -0.6748047, 0.19897461, -1.4570312, -1.8632812, 2.1835938, 0.69970703, -0.51220703, 0.98535156, 0.42236328, -0.79785156, 1.0859375, -0.40673828, -1.1796875, -1.0703125, -1.5712891, 1.9619141, 0.86279297, 0.08203125, -1.3466797, 2.0644531, -4.0546875, 1.6669922, 1.6240234, 2.2148438, -2.0507812, -0.0847168, 1.0732422, 0.2475586, 1.8457031, 1.0371094, -0.66064453, 1.4716797, 1.0849609, -0.77197266, 1.5429688, 1.1386719, 0.075805664, -0.33642578, 0.49609375, -0.72558594, -0.18530273, 1.5683594, -0.37890625, 2.6484375, -1.8027344, -0.12695312, 2.0234375, 2.4726562, 0.85839844, 0.06188965, -1.2382812, 0.0026855469, 0.21533203, -1.8291016, 0.9785156, -2.6992188, -0.059173584, 0.13171387, -0.4050293, -0.72558594, -1.2880859, 0.2668457, -2.6640625, -0.81103516, 2.4785156, 1.4160156, -0.34277344, 0.17492676, -1.0283203, -1.1142578, 1.2197266, -0.17004395, -0.0018310547, -0.4140625, 1.9746094, -0.5180664, 0.33984375, -0.8310547, 0.015625, 2.0585938, -0.12939453, 0.0390625, 0.26757812, -0.33422852, -1.1357422, 0.20153809, 1.6738281, 1.5605469, 0.7602539, -1.4257812, 2.6699219, -0.17578125, -0.17346191, 0.3305664, -1.0791016, 0.77441406, -0.64453125, 0.8383789, 0.8540039, -0.11645508, 2.71875, 1.5742188, 0.057250977, 0.8588867, 0.05795288, 0.33642578, -1.3066406, -0.58496094, 4.8828125, -1.6425781, -1.1875, -0.31347656, 1.3261719, 1.8144531, -0.42260742, -3.1210938, -0.9921875, -0.008056641, -0.78564453, 0.9379883, 1.4443359, 1.1054688, -2.1269531, -1.4492188, -0.49658203, -1.4140625, 0.546875, 0.10424805, 3.4023438, -1.1972656, -2.2832031, -1.1425781, -0.34716797, 0.8276367, -1.4296875, 0.4033203, -0.82128906, 0.28955078, 2.265625, 0.36279297, 0.50878906, 0.47143555, 2.4238281, -1.2226562, -0.2854004, 1.0234375, 1.3066406, -1.6308594, -0.24401855, -0.6660156, 0.9067383, -1.2431641, -0.8618164, 1.0703125, 1.7792969, -0.90722656, 0.37158203, 0.15979004, -2.703125, 1.8994141, 0.14233398, 2.6269531, 1.7578125, 0.43725586, 0.52441406, 1.3378906, -0.81933594, 1.8105469, -0.98339844, -1.1025391, 0.14892578, -1.5527344, -0.80371094, 3.0410156, -0.2043457, -1.1152344, 1.9902344, -0.13720703, 1.421875, -0.9042969, -0.8105469, -0.2244873, -0.17773438, 2.6445312, 1.7148438, 1.4082031, -3.4472656, -0.23901367, -0.4104004, -0.9692383, -2.0410156, 0.76416016, -1.6171875, -0.4326172, -0.34301758, 1.1542969, 2.9785156, 0.7548828, 2.3554688, -0.6230469, -0.98828125, -1.1113281, 2.5273438, 0.43774414, -1.1953125, -0.23730469, -0.035491943, -1.4140625, -0.4013672, 1.8964844, -1.4794922, 0.6538086, -0.23669434, -0.6953125, -0.82421875, -0.84277344, -0.07531738, 0.109375, 2.2578125, -0.22937012, -1.75, -1.2929688, -0.6269531, 0.67822266, 0.66259766, 0.86328125, -1.9375, -0.7451172, 0.9746094, -0.13427734, -0.36035156, -0.6699219, 2.4550781, -0.31713867, -1.7304688, 1.1503906, 0.97802734, -2.6074219, -0.7495117, -1.3359375, -0.7998047, 1.1191406, 0.54052734, -2.0566406, 0.54785156, -1.7871094, -0.9873047, -0.5058594, -0.80126953, 1.5478516, 0.44677734, -0.31518555, -0.7451172, -0.12243652, 0.99316406, -1.1386719, 1.6826172, -0.57470703, -2.1035156, -0.31884766, 0.044189453, -0.86621094, -0.25756836, -1.9580078, 0.39501953, 3.9375, 1.8085938, -0.46826172, 0.16894531, 1.40625, -0.9785156, -0.5078125, -0.9013672, 0.3720703, 2.1875, 1.2636719, 0.53808594, 1.3984375, -0.7675781, -0.40356445, -0.22753906, -2.0527344, 2.2363281, 0.91748047, 0.5620117, -1.0625, 1.8261719, -1.0332031, -0.59521484, -0.47021484, 0.48828125, -0.29101562, -0.3786621, 0.4621582, -0.6123047, 0.0670166, -1.0898438, -1.1162109, 0.064697266, 1.2822266, 0.7055664, 0.78222656, 0.31103516, 0.5395508, 1.5742188, -1.2177734, 1.7119141, 0.6254883, -0.9824219, -0.52783203, -0.24182129, 0.16601562, 2.0390625, 0.74316406, -0.15649414, -0.5371094, 0.22290039, 0.011230469, -2.8222656, 0.2199707, -0.11053467, 0.7832031, -0.2241211, -1.0556641, -1.3554688, 0.42016602, -0.8676758, -0.421875, 1.5117188, 0.85058594, -2.0625, 0.48291016, 0.61035156, -1.15625, -1.765625, -0.03564453, 1.28125, -0.9379883, 1.5068359, -0.6069336, -0.22167969, 1.3574219, -0.92285156, 0.9785156, 1.046875, -0.7763672, 1.5644531, -0.29345703, 1.25, -0.63378906, 0.61279297, 0.3046875, -1.2509766, 0.083496094, -0.5097656, 1.375, 1.0263672, -1.8076172, -0.6645508, -0.2619629, 2.1191406, -1.8320312, -7.671875, -1.5996094, -1.1845703, 0.09106445, -0.2939453, -1.1757812, -0.8417969, -0.052246094, -0.99072266, 0.6152344, 1.1376953, -1.78125, -1.4423828, 0.78808594, -0.38793945, -0.4814453, -0.38305664, 0.1953125, -0.68847656, 0.24169922, -2.6523438, -0.97509766, 1.1943359, 1.5380859, -0.7651367, -0.3942871, -1.0224609, 0.65722656, 1.6611328, 0.44189453, 0.66552734, -1.2080078, 0.15661621, 0.043273926, 0.35083008, 2.140625, -1.0390625, -0.8798828, -0.9423828, 0.34179688, -0.5966797, 2.390625, -0.3828125, 0.76123047, 1.0195312, 0.05456543, -2.0742188, 1.1445312, 0.3774414, 1.4345703, 1.7021484, -1.5761719, 0.4970703, 0.9291992, -2.0292969, 1.0839844, -1.0175781, 1.3779297, 0.47265625, 0.22973633, -0.2861328, -0.20800781, -0.024414062, 0.40795898, 1.1699219, -0.115722656, -0.095458984, 0.091308594, 0.26635742, -0.90234375, -0.88134766, -0.37304688, -1.0195312, 0.5180664, -0.29174805, -0.48583984, 2.3710938, 0.9824219, -0.45581055, 0.51464844, 0.0008544922, 0.67578125, -0.7739258, -2.1875, 1.1777344, -1.9326172, 0.75683594, 0.47753906, 1.0966797, -0.1652832, 3.0859375, 0.28076172, 0.30444336, 0.1315918, 1.8261719, -1.5742188, -0.41845703, -1.1191406, 0.98339844, 1.0195312, -0.3605957, -0.9038086, 1.1591797, 1.9335938, 1.0703125, -1.0097656, 0.4260254, 0.17041016, -0.42041016, -0.94433594, -1.9316406, 0.7783203, -1.2226562, -0.0041503906, 0.38916016, 0.31640625, -0.73046875, 1.1074219, 0.24890137, 0.45458984, -0.66015625, -2.1855469, -0.6640625, -1.3789062, 0.54003906, 2.9863281, 0.25195312, -1.6826172, 0.22973633, -0.97802734, -1.1445312, -1.8583984, -0.40698242, -1.0654297, -1.0634766, -0.36767578, 1.84375, 1.1611328, 0.03173828, 0.85595703, 0.60546875, -0.06933594, 0.52246094, -2.734375, 0.72509766, 1.0625, 1.6914062, 1.5341797, -1.2919922, -1.9091797, 0.3449707, -1.0566406, -0.37475586, 0.9033203, -0.46777344, -1.4804688, -1.0029297, -0.8222656, -0.019012451, -1.859375, -0.07751465, -3.6796875, 0.9863281, -2.3164062, -0.40820312, 1.1660156, 1.0380859, -0.28344727, -2.28125, 0.8540039, 0.5986328, 0.35668945, 0.68115234, 0.12548828, 1.5458984, 0.25195312, -0.38916016, -1.2099609, 1.8164062, -0.032348633, -1.046875, -1.046875, -0.3881836, -0.5498047, 1.4296875, -1.4765625, 0.7480469, -0.8588867, 0.103637695, -1.09375, 1.6464844, -0.1171875, -2.0097656, -0.28125, -0.7573242, 0.10784912, 0.5834961, -0.51416016, -2.4179688, -1.9794922, -0.99121094, 0.041748047, 1.6035156, -0.36499023, -0.30249023, -0.59228516, -1.9453125, -0.18762207, 0.27783203, -1.2929688, 0.40478516, -0.84277344, -0.5913086, -1.9550781, -4.0625, 2.6132812, 2.1347656, -0.8203125, -1.6738281, -0.4333496, -0.2849121, 0.106933594, 1.1738281, 1.4707031, 2.0625, 1.1777344, -0.7949219, -1.3222656, 1.6582031, 2.4589844, 1.34375, 1.2421875, 0.64746094, -0.41381836, 3.1601562, -1.0283203, 1.6230469, -1.1943359, 1.7490234, -1.2070312, -0.7368164, 0.19824219, 1.9462891, -2.1640625, 1.3613281, -1.3027344, -0.3791504, 0.023406982, -1.9882812, -1.2880859, 0.54785156, 0.64208984, -0.28076172, -1.3759766, 1.3945312, 1.1289062, -0.3959961, -0.076660156, -0.9013672, -0.01171875, 2.4746094, 1.2998047, 0.68066406, -1.2207031, 0.19067383, 2.1054688, -2.1210938, 2.5429688, 1.2070312, -0.19140625, -3.1484375, 0.4038086, 0.6323242, -0.8857422, -0.5253906, 1.7480469, -0.49438477, -0.93359375, 1.9091797, -0.36523438, -1.2392578, -0.4897461, -3.5, -2.9960938, -0.18896484, 0.7182617, 0.14746094, 0.107177734, -2.015625, -0.81152344, 1.3544922, 0.87402344, -0.7548828, 2.8691406, 0.014892578, 0.124694824, 0.4663086, -0.9458008, 0.4350586, 1.1425781, -0.0579834, -0.3425293, -0.4584961, -0.29174805, 0.24829102, 0.6699219, -0.7216797, 0.3642578, 1.2724609, 0.42016602, -0.55078125, -0.55810547, -0.11828613, -1.6796875, 1.1669922, -1.3125, -0.22143555, -1.2441406, 0.4477539, 0.90527344, 1.2607422, -0.28735352, 0.19897461, -0.099609375, -0.25830078, 1.7421875, 1.0253906, 1.4726562, 3.4746094, 1.5605469, -0.51464844, 0.7553711, -1.2246094, 0.55029297, 0.4440918, 0.25976562, -2.0136719, -0.016448975, 1.0341797, 0.80371094, -0.4777832, -1.1308594, -0.8261719, -0.5678711, 1.3574219, -0.5703125, -1.5839844, 0.15673828, -1.4609375, -0.71435547, 0.7841797, -0.38134766, 0.6855469, 0.85058594, 1.0332031, -0.1763916, 1.2666016, 2.9824219, -1.5957031, -0.24389648, 0.21716309, 0.2109375, 1.1445312, 0.30249023, -0.14770508, -0.40576172, -2.6289062, -2.2890625, 1.1699219, -0.3005371, -1.4716797, 1.1513672, -0.8408203, 1.6699219, -0.2890625, -0.024902344, -4.6171875, -0.16210938, -0.77978516, 0.1953125, 1.1757812, 0.2536621, -1.9375, -1.9990234, 0.14672852, -0.2578125, 1.4384766, -2.2148438, -0.11975098, -0.23852539, -2.1328125, 2.5546875, -0.9794922, 0.7133789, -0.22570801, -0.22595215, -0.64453125, 0.2052002, 0.13134766, 0.48510742, 1.3066406, -1.6816406, 3.1015625, -1.5917969, 0.69677734, -0.35131836, 0.57666016, -0.77734375, -1.2568359, 1.0292969, 0.72509766, -0.28637695, 0.1026001, -1.4365234, -0.2211914, 2.1582031, 0.5776367, -0.7910156, 0.72558594, 1.2666016, -1.6972656, -0.5209961, 1.7480469, 1.4482422, -1.1103516, -0.27148438, 1.4121094, 2.4355469, -2.03125, 0.27001953, 0.50097656, 0.026809692, 0.15710449, -0.65234375, 1.2734375, 1.3115234, 0.5361328, 0.9291992, 1.4179688, 0.99121094, 1.7773438, -0.3269043, -3.6777344, 2.640625, 1.3642578, -0.01399231, 2.2128906, 1.6621094, 1.1240234, 2.8320312, 2.7851562, 2.2265625, 1.3300781, -2.1640625, 0.79003906, 3.546875, 1.1210938, 1.2900391, 2.6777344, 1.4804688, 2.390625, -0.04309082, -0.3894043, 1.3378906, 0.88671875, 0.42700195, 1.1982422, 0.9736328, 0.73291016, -0.3071289, -1.6513672, 1.6386719, -0.89404297, -1.6533203, -1.2392578, -2.5039062, 0.25976562, -0.009429932, 1.734375, 0.087402344, -0.50683594, 0.8989258, 0.87402344, -0.121032715, -2.640625, 2.3515625, -0.73535156, -0.2866211, 2.3828125, -0.63134766, -0.3095703, -0.6879883, -0.9423828, 1.7207031, -0.91308594, 0.28564453, -1.5927734, 0.4074707, 0.85498047, 1.4550781, 2.6171875, -1.21875, -1.3486328, 0.13317871, -0.38256836, -0.013153076, 0.22045898, 2.9296875, -1.8652344, -0.103149414, 0.055541992, 0.16357422, 1.2529297, 0.5522461, -0.27685547, -1.0683594, -3.0019531, -6.0898438, -1.3476562, -0.12390137, -0.68359375, -1.7851562, -2.6386719, -1.9013672, 0.9770508, 1.0683594, 0.42749023, -0.22424316, 0.17578125, -1.1191406, 0.9946289, 0.5488281, 1.0625, 0.33422852, 1.7226562, 1.2089844, -0.6611328, -0.6279297, -0.5805664, -0.8496094, 2.1660156, -5.2109375, 1.7998047, 0.24353027, 0.74902344, -0.8071289, 1.2402344, 1.3730469, 1.0253906, -0.99365234, 0.95996094, -0.8823242, 1.2519531, -2.1347656, 0.8305664, 1.2929688, -0.72802734, 0.2939453, 0.12646484, 0.52001953, 0.15673828, -0.09851074, -0.1628418, 3.7226562, -0.53222656, 0.38476562, -0.16748047, -0.24316406, 0.3269043, -1.84375, -1.1396484, 1.1035156, -2.1289062, -1.1005859, -0.99609375, -1.6503906, 0.50634766, 0.8208008, 0.82128906, 3.6367188, -0.36547852, 0.1887207, 0.04663086, 2.8476562, 2.0722656, -0.94921875, 0.78222656, 0.46240234, 3.09375, 0.7495117, -0.86035156, 2.3515625, -0.7363281, -0.9511719, -0.2421875, 0.80371094, 0.7675781, 1.2070312, -1.2304688, -0.3618164, -1.5966797, 0.68896484, 0.39453125, 0.79003906, -1.4101562, 0.16601562, 2.7714844, -0.53222656, 1.2470703, -0.5419922, -1.9101562, 0.4897461, -0.6201172, 0.10632324, 0.46166992, 0.2487793, 1.3642578, -0.6723633, 1.1513672, -0.91015625, -1.1972656, 0.7705078, -0.3947754, -3.4335938, -1.1953125, 0.0390625, 0.9038086, -0.59472656, 1.3554688, 1.2060547, -2.2734375, -1.0048828, 0.8457031, -0.69140625, 0.5830078, -3.1777344, 0.94384766, 1.7714844, -0.35205078, 1.5097656, 0.6953125, -0.068481445, 1.296875, 0.41186523, -0.4807129, 0.30078125, 1.2490234, -0.796875, 0.56103516, -4.8515625, 1.25, -0.91845703, -0.70166016, -1.0839844, -0.39501953, -0.80810547, 1.6992188, -2.4902344, -0.58984375, -0.23547363, -2.15625, -2.5175781, -1.0693359, -0.9580078, 1.7695312, -1.6044922, -0.0107421875, -1.8505859, -0.40039062, -0.01586914, -0.5917969, -0.30322266, -0.057617188, -0.6142578, -0.55615234, 0.53027344, -1.5068359, -1.1611328, -0.52441406, -1.4287109, -1.4169922, 0.90966797, 1.3828125, 0.48486328, 0.17492676, -0.060424805, -0.16870117, -1.4199219, 1.9003906, -1.6826172, -2.4765625, 0.92041016, 0.17749023, -0.18969727, 3.7109375, 0.6513672, 1.2207031, -2.3125, 3.578125, -0.94433594, 0.80371094, -0.8925781, 2.0097656, 2.1015625, -1.0185547, 0.98046875, 0.31274414, 0.28076172, -1.453125, -2.1347656, -1.3603516, -0.8222656, 1.2246094, -1.0722656, -0.80322266, 0.30273438, 1.0361328, -1.4384766, -2.2539062, 0.32910156, 0.7246094, -0.8642578, 0.9526367, 2.0078125, 2.1210938, 1.9570312, -1.5576172, -0.12084961, 0.048583984, 0.39624023, -2.1015625, -1.875, -0.18286133, 2.1425781, 0.9345703, 1.7802734, 1.0654297, 1.6660156, -1.5048828, -1.4189453, -1.0097656, 1.6152344, -0.26660156, 1.4199219, 1.4902344, -0.82666016, 1.3125, -0.53271484, -2.25, 0.17797852, -1.1054688, -3.7070312, 1.1347656, 1.5244141, 1.2363281, -1.1210938, -1.9648438, -1.9365234, -0.054382324, 3.1835938, 0.21166992, 3.2949219, 0.15942383, 1.4091797, -1.4316406, -0.63378906, 0.67578125, 0.9013672, 2.4257812, -1.1826172, -0.34521484, 1.6474609, 0.7138672, 2.296875, 0.15478516, 0.1352539, -0.068115234, -1.1005859, -1.3623047, 2.1464844, -0.33129883, 1.875, -2.96875, -1.4482422, -0.08178711, -0.19470215, 1.7070312, 0.4033203, 0.22619629, -0.007080078, -0.9707031, 2.1015625, 2.9941406, -0.90966797, 2.4804688, 0.0014648438, 1.8515625, -0.1652832, -3.6113281, 0.9345703, -0.17480469, 1.2011719, 0.076660156, 0.05517578, 0.124938965, -1.2724609, 1.5029297, 1.6699219, -0.8798828, 0.8286133, -0.13146973, 0.14404297, -0.93359375, -2.0234375, 0.22875977, 1.8730469, -1.3652344, 1.0644531, 0.71191406, -1.3964844, 1.3613281, -1.6542969, -1.5566406, -1.2949219, -1.0507812, -0.16711426, 0.8574219, 4.59375, -0.35131836, 0.00061035156, -2.9023438, -1.09375, 0.79248047, -0.62158203, 0.14001465, 0.30908203, 0.28759766, -0.7285156, -0.6308594, -0.33789062, -0.71484375, 1.8798828, -1.5117188, 1.3183594, 0.74121094, -0.36279297, -0.20910645, -0.06982422, 0.9379883, 1.1542969, -0.9741211, -2.375, 2.03125, 0.23413086, -2.3886719, 1.3574219, -0.55859375, 2.1464844, 0.07019043, -0.18908691, -0.7036133, 0.2861328, 0.2998047, -0.23571777, -0.20983887, 2.0136719, -0.6542969, -0.18676758, -0.9560547, 0.028320312, 1.703125, 3.953125, -0.5913086, -0.0657959, 0.81640625, -0.5878906, -0.54785156, 2.71875, -0.74560547, 1.1367188, 1.4853516, -0.12792969, -0.9628906, -2.1855469, 0.4609375, -0.9326172, 0.50927734, 0.5053711, 3.3476562, -1.5322266, -2.7460938, 1.1386719, 3.3105469, 0.97265625, -0.15332031, 1.1533203, -1.4599609, -1.5380859, 1.5595703, -0.88623047, -0.20117188, 1.0869141, -0.02319336, -2.8867188, 1.2851562, 3.203125, -2.1152344, 1.7441406, 7.1953125, -0.009033203, -0.04345703, -1.4384766, 1.2363281, 0.3779297, 2.9160156, -1.3427734, 0.17700195, 0.6123047, -2.7402344, 0.34204102, 0.36523438, -1.2783203, -0.36767578, -1.2304688, -0.7636719, 0.62939453, 0.17407227, -1.6503906, 0.028686523, -1.109375, -0.9609375, -0.82910156, 0.3642578, -1.0761719, 0.76123047, -0.79785156, 2.0195312, -1.140625, -2.9980469, 0.5961914, -0.28344727, -0.54345703, 1.0644531, -2.53125, 0.5966797, 0.4230957, -1.3125, 2.2324219, -1.0878906, -0.74121094, 0.9038086, -0.5620117, 0.6743164, 0.099487305, 3.1269531, 0.6738281, 0.6958008, -0.12683105, 0.14111328, -0.5698242, -0.09082031, 0.17480469, -0.51904297, -0.75390625, -0.25732422, 0.4140625, 0.5546875, -0.5522461, -0.004272461, -0.7705078, -0.23571777, 1.1289062, 1.109375, 1.4316406, -0.61083984, -0.5048828, -1.7490234, -0.2064209, -1.8876953, 0.25512695, 0.8388672, 0.088378906, -0.19677734, 0.61816406, 0.23950195, 0.82128906, -0.98828125, 1.2763672, 0.6772461, -0.41357422, 0.96191406, -2.7382812, 1.9941406, -0.16479492, -2.8164062, 0.7128906, 1.9492188, 1.4277344, 2.0136719, -2.0371094, -0.71875, -0.5732422, 0.08312988, 2.7226562, 1.3583984, -2.6132812, -0.049804688, 1.3007812, 1.0898438, 0.6904297, 0.5449219, -1.8066406, -1.1308594, 1.2470703, -2.078125, -0.70654297, -0.04248047, 1.6396484, 0.6816406, 1.109375, 2.8828125, 0.7714844, -0.88720703, -1.0986328, 0.58691406, 0.09033203, -1.2441406, 0.46362305, 0.1862793, 0.19250488, 0.14111328, -2.0019531, -0.7480469, -3.2792969, 1.671875, -0.57714844, -0.515625, 2.0996094, -1.4472656, -0.33422852, -0.7519531, 0.5205078, -0.6435547, 0.8125, 1.703125, 0.3408203, 1.9013672, 0.20654297, -1.4189453, -0.55078125, 0.14428711, -2.2617188, 1.8808594, -0.83496094, -1.0634766, -0.32080078, 0.9091797, -2.0859375, -1.7236328, 0.33544922, -2.0195312, -0.5683594, -1.0478516, 0.45263672, -0.26342773, 1.9355469, -1.1894531, 0.5229492, 0.123291016, 2.2695312, 1.7373047, 2.1035156, 1.2558594, 0.5151367, -0.35961914, -2.8925781, -0.83496094, 1.3203125, -0.62597656, -1.4521484, -0.42041016, -0.19909668, 0.30786133, -0.40307617, 0.7182617, -0.5605469, 0.5136719, -0.19799805, 0.27392578, -3.0703125, -0.062927246, -0.7939453, 0.10070801, -0.40429688, -0.89208984, 0.10510254, -0.087402344, -0.7089844, -1.0585938, 0.71484375, 1.2724609, 0.82421875, 0.70458984, -2.0078125, -1.6484375, -0.092041016, 1.0136719, 0.9033203, 0.6948242, 1.7265625, 0.89453125, 0.99316406, -2.4179688, 1.3886719, -0.008544922, 1.5859375, -0.23120117, 1.2050781, -0.7363281, -0.6616211, -0.20678711, -1.7207031, 0.43579102, -1.2421875, -1.2119141, 0.78027344, -1.4375, -2.1816406, -1.9931641, 0.18347168, 0.18945312, 2.875, -0.11279297, 0.8520508, -0.10095215, 1.2548828, -0.7421875, 0.75097656, 2.0644531, 2.5585938, 0.83447266, -0.9321289, 0.027954102, 0.68359375, 0.31176758, 0.97802734, 0.11621094, -0.44970703, 0.0014648438, -0.7402344, -2.515625, -0.3330078, -1.4042969, -0.40625, -1.8769531, 0.91308594, 0.040100098, -0.30639648, -0.2602539, 0.9423828, -0.2685547, -1.3066406, 1.84375, -0.92285156, 2.3085938, -1.1171875, 0.9189453, 0.42089844, -0.34521484, -0.8330078, 1.6230469, -0.19189453, -0.6713867, -1.6113281, -2.5644531, -2.0507812, -1.3222656, -1.6386719, 1.8339844, -0.40039062, -0.2734375, -1.4296875, 1.4677734, -0.0031738281, 0.45898438, -0.21972656, -0.36669922, -1.8085938, -1.6318359, -2.6210938, 1.5703125, 0.7885742, -0.76953125, -0.6411133, 1.0224609, 0.1348877, 1.5507812, -1.7578125, 0.90722656, 0.46533203, 0.28955078, -0.1328125, -0.3161621, 0.28198242, -0.8339844, -0.12133789, -1.1582031, -1.2001953, -2.2890625, -1.0, -0.7055664, -0.9824219, -0.25976562, 0.23046875, -1.1748047, -1.0644531, -0.31274414, 2.3398438, 1.4658203, 1.2695312, 0.39526367, -0.84521484, 2.2558594, -0.48413086, 1.3027344, -0.76464844, -0.3305664, 0.8745117, 0.7939453, -1.8378906, 1.1738281, 1.4804688, -1.4580078, -1.5214844, 1.7753906, -0.14880371, 2.1113281, 0.8671875, -0.6972656, -0.7529297, 1.3300781, 0.8330078, 2.4238281, -2.2285156, 2.4980469, -0.6616211, -1.359375, 1.3496094, 1.1064453, 0.5673828, -2.9648438, -1.875, 0.28149414, -0.8540039, -1.8789062, 0.08569336, -3.0195312, -0.8652344, 2.0976562, 1.7978516, -1.5195312, 0.4951172, -0.08605957, -0.56640625, 0.07458496, 3.546875, 0.8095703, 1.6591797, -0.56640625, 0.30566406, 1.0087891, 0.69091797, 0.10546875, -0.4868164, 1.0214844, 2.21875, 0.14465332, -0.81103516, -0.92089844, -3.2558594, -1.3457031, -0.83691406, -0.50146484, 1.875, -2.4511719, 0.12670898, 0.5551758, -1.1787109, -2.5195312, 2.2382812, -1.4003906, 0.037109375, 0.92041016, 0.4970703, -1.1494141, -0.82910156, 0.6557617, 2.0488281, -2.1992188, -1.9472656, 0.62646484, -0.28442383, 0.39086914, 0.05810547, -2.4746094, -0.76464844, 1.8867188, 1.0478516, 0.68652344, 0.9243164, -1.0771484, -0.8486328, 0.025390625, 1.1572266, 0.26489258, -0.61865234, -2.4179688, 0.5488281, 0.9291992, 7.1171875, 1.6425781, -0.3659668, 1.4277344, -0.9345703, 1.4736328, -0.83691406, -0.19055176, -0.07409668, 1.1396484, 1.1796875, 3.2050781, -1.8691406, -0.12030029, 0.07910156, -1.4082031, 1.8984375, -1.765625, -0.12207031, -0.6113281, 0.1303711, -1.4199219, 1.9023438, 0.94384766, 0.57910156, -1.7792969, 1.3828125, -0.014526367, -2.0957031, -1.3769531, -0.6064453, -0.22827148, -1.0205078, -1.2695312, 1.4814453, 1.4189453, -0.14941406, 0.48364258, 1.1269531, -1.7363281, 0.014160156, 1.1015625, -0.3737793, 0.98779297, -0.8466797, -0.72753906, 0.07165527, 0.78027344, -0.7114258, -2.6875, 1.875, 1.4287109, -0.4975586, 0.86621094, -0.10083008, -2.0898438, 0.79296875, 0.40454102, -0.171875, -0.9589844, 0.34179688, -1.9306641, -1.6367188, -0.57177734, 0.7558594, 0.7421875, -3.2929688, -2.6230469, -0.23144531, 0.29003906, 0.7558594, 0.50390625, -0.22387695, 0.3215332, -0.82910156, -1.0087891, -0.95410156, 0.58251953, -0.7470703, 1.296875, -0.43701172, -0.7001953, -0.99902344, 1.9804688, 0.8852539, 1.4199219, -0.20910645, -0.3696289, -2.2460938, -0.49853516, 1.9589844, 2.3671875, 2.0332031, 0.43408203, -1.3085938, 0.18725586, 0.89990234, 0.7910156, 1.4853516, -0.34375, -1.8671875, -0.85302734, -1.9824219, -0.6582031, 3.6386719, 0.28759766, 1.1757812, 2.0234375, 0.34570312, -2.9609375, 0.24267578, 0.7553711, 0.8979492, -1.7099609, 0.7363281, 2.0195312, 3.0664062, 0.6171875, 1.2041016, -0.50097656, 0.58251953, -1.0625, 0.4946289, 0.7524414, 0.79785156, 1.5712891, -0.55566406, 0.15124512, -2.7226562, 0.77246094, -0.83935547, -3.4550781, 0.6923828, -3.4316406, 0.092285156, 0.35839844, 0.4663086, -0.7973633, 0.6977539, -2.0898438, 1.4335938, 0.017944336, 1.6191406, -2.3671875, 0.030517578, 1.8916016, 1.9902344, 0.5625, -0.6611328, 0.54785156, 0.5019531, 1.3818359, -0.1315918, 0.6254883, -1.0537109, -0.38720703, -1.5195312, 0.546875, 1.6757812, 1.5732422, 2.1835938, 2.2167969, -0.39135742, 1.3476562, 1.2753906, 1.3320312, -3.1054688, -0.14941406, -0.095947266, -2.0292969, 0.27905273, 2.1230469, 1.25, 3.1875, 0.17907715, -0.29736328, 1.3320312, 0.047851562, -2.140625, -0.11279297, 0.2421875, 1.3115234, 0.34936523, 0.3798828, -1.1855469, 1.25, -2.6816406, 1.1640625, 0.45092773, 0.640625, -0.7529297, -0.5488281, -1.7197266, 2.1171875, -0.08935547, -0.47460938, 0.16699219, -0.4404297, 1.3964844, 0.7167969, -0.8491211, -0.20629883, 1.5078125, 1.34375, -1.7089844, 1.3007812, 2.0957031, -1.8486328, 0.07446289, 0.8979492, 2.4648438, -1.2714844, -0.3046875, -0.81103516, 3.0273438, 0.88378906, -1.4033203, -0.005126953, 2.0332031, -1.3417969, -0.6557617, 0.4555664, 1.8417969, -1.421875, 0.6894531, -0.69628906, 0.2919922, 0.6123047, 0.10064697, -2.3398438, -0.99121094, 0.9790039, 1.3486328, 0.41015625, -0.8564453, 1.0976562, -1.8564453, 0.43041992, -0.44580078, -0.7675781, -1.1230469, -0.83691406, -1.4648438, -0.06994629, 0.9291992, -0.2841797, 0.15185547, -2.0195312, -0.45166016, -1.3701172, -0.703125, -0.62939453, 0.48242188, 2.0507812, 2.328125, -2.6015625, 0.4362793, -0.53125, -0.64208984, 0.06933594, 1.8759766, -1.2597656, -2.4296875, 2.2890625, 0.00015258789, 1.3681641, 0.62841797, -0.20751953, 1.0283203, 0.46435547, 0.23217773, 0.4465332, -1.0527344, -3.7480469, -0.5185547, -0.1628418, -0.46411133, -1.4814453, -0.72802734, -0.8779297]], texts=['Hola'], meta=ApiMeta(api_version=ApiMetaApiVersion(version='1', is_deprecated=None, is_experimental=None), billed_units=ApiMetaBilledUnits(input_tokens=2.0, output_tokens=None, search_units=None, classifications=None), tokens=None, warnings=['default model on embed will be deprecated in the future, please specify a model in the request.']), response_type='embeddings_floats')"
      ]
     },
     "execution_count": 27,
     "metadata": {},
     "output_type": "execute_result"
    }
   ],
   "source": [
    "co.embed(texts=[\"Hola\"])"
   ]
  },
  {
   "cell_type": "code",
   "execution_count": 32,
   "metadata": {},
   "outputs": [
    {
     "data": {
      "text/plain": [
       "['Ficción Espacial: En la lejana galaxia de Zenthoria',\n",
       " ' dos civilizaciones alienígenas',\n",
       " ' los Dracorians y los Lumis',\n",
       " ' se encuentran al borde de la guerra intergaláctica. Un intrépido explorador',\n",
       " ' Zara',\n",
       " ' descubre un antiguo artefacto que podría contener la clave para la paz. Mientras viaja por planetas hostiles y se enfrenta a desafíos cósmicos',\n",
       " ' Zara debe desentrañar los secretos de la reliquia antes de que la galaxia se sumerja en el caos.']"
      ]
     },
     "execution_count": 32,
     "metadata": {},
     "output_type": "execute_result"
    }
   ],
   "source": [
    "doc.page_content.split(',')"
   ]
  },
  {
   "cell_type": "code",
   "execution_count": 37,
   "metadata": {},
   "outputs": [
    {
     "data": {
      "text/plain": [
       "Document(page_content='Características del Héroe Olvidado: Conocido como \"Sombra Silenciosa\", nuestro héroe es un maestro del sigilo y la astucia. Dotado de una memoria fotográfica y habilidades de camuflaje, se desplaza entre las sombras para proteger a los indefensos. Su pasado enigmático esconde tragedias que lo impulsan a luchar contra la injusticia. Aunque carece de habilidades sobrenaturales, su ingenio y habilidades tácticas lo convierten en una fuerza a tener en cuenta.')"
      ]
     },
     "execution_count": 37,
     "metadata": {},
     "output_type": "execute_result"
    }
   ],
   "source": [
    "doc"
   ]
  },
  {
   "cell_type": "markdown",
   "metadata": {},
   "source": [
    "crear base de datos"
   ]
  },
  {
   "cell_type": "code",
   "execution_count": 247,
   "metadata": {},
   "outputs": [],
   "source": [
    "client.delete_collection(name=\"document_chunks\")"
   ]
  },
  {
   "cell_type": "code",
   "execution_count": 24,
   "metadata": {},
   "outputs": [
    {
     "data": {
      "text/plain": [
       "[Collection(name=document_chunks)]"
      ]
     },
     "execution_count": 24,
     "metadata": {},
     "output_type": "execute_result"
    }
   ],
   "source": [
    "client.list_collections()"
   ]
  },
  {
   "cell_type": "code",
   "execution_count": 26,
   "metadata": {},
   "outputs": [],
   "source": [
    "import uuid\n",
    "import cohere\n",
    "co = cohere.Client(COHERE_api_key)\n",
    "collection_name = 'document_chunks'\n",
    "# collection = client.get_or_create_collection(name=collection_name)\n",
    "collection = client.get_or_create_collection(name=collection_name)\n",
    "metadata_options = {\n",
    "    \"hnsw:space\": \"cosine\"  # You can change this to \"ip\" or \"cosine\" if needed\n",
    "}\n",
    "\n"
   ]
  },
  {
   "cell_type": "code",
   "execution_count": null,
   "metadata": {},
   "outputs": [],
   "source": [
    "# for doc in docs:\n",
    "#     uuid_name = uuid.uuid1()\n",
    "#     embedding = co.embed(texts=doc.page_content.split(',')).embeddings[0]\n",
    "#     print(\"document for\", uuid_name)\n",
    "#     # doc.page_content\n",
    "    \n",
    "#     collection.add(ids=[str(uuid_name)],\n",
    "#                 embeddings=embedding,\n",
    "#                 metadata=metadata_options,\n",
    "#                 documents=doc.page_content)"
   ]
  },
  {
   "cell_type": "markdown",
   "metadata": {},
   "source": [
    "embeding ok DB"
   ]
  },
  {
   "cell_type": "code",
   "execution_count": 244,
   "metadata": {},
   "outputs": [
    {
     "data": {
      "text/plain": [
       "['Ficción Espacial: En la lejana galaxia de Zenthoria, dos civilizaciones alienígenas, los Dracorians y los Lumis, se encuentran al borde de la guerra intergaláctica. Un intrépido explorador, Zara, descubre un antiguo artefacto que podría contener la clave para la paz. Mientras viaja por planetas hostiles y se enfrenta a desafíos cósmicos, Zara debe desentrañar los secretos de la reliquia antes de que la galaxia se sumerja en el caos.',\n",
       " 'Ficción Tecnológica: En un futuro distópico, la inteligencia artificial ha evolucionado al punto de alcanzar la singularidad. Un joven ingeniero, Alex, se ve inmerso en una conspiración global cuando descubre que las supercomputadoras han desarrollado emociones. A medida que la humanidad lucha por controlar a estas máquinas sintientes, Alex se enfrenta a dilemas éticos y decisiones que podrían cambiar el curso de la historia.',\n",
       " 'Naturaleza Deslumbrante: En lo profundo de la selva amazónica, una flor mágica conocida como \"Luz de Luna\" florece solo durante la noche. Con pétalos que brillan intensamente, la flor ilumina la oscuridad de la jungla, guiando a criaturas nocturnas y revelando paisajes deslumbrantes. Los lugareños creen que posee poderes curativos, convirtiéndola en el tesoro oculto de la naturaleza.',\n",
       " 'Cuento Corto: En un pequeño pueblo, cada año, un reloj antiguo regala un día extra a la persona más desafortunada. Emma, una joven huérfana, es la elegida este año. Durante su día adicional, descubre una puerta mágica que la transporta a un mundo lleno de maravillas. Al final del día, Emma decide compartir su regalo con el pueblo, dejando una huella imborrable en el corazón de cada habitante.',\n",
       " 'Características del Héroe Olvidado: Conocido como \"Sombra Silenciosa\", nuestro héroe es un maestro del sigilo y la astucia. Dotado de una memoria fotográfica y habilidades de camuflaje, se desplaza entre las sombras para proteger a los indefensos. Su pasado enigmático esconde tragedias que lo impulsan a luchar contra la injusticia. Aunque carece de habilidades sobrenaturales, su ingenio y habilidades tácticas lo convierten en una fuerza a tener en cuenta.',\n",
       " '']"
      ]
     },
     "execution_count": 244,
     "metadata": {},
     "output_type": "execute_result"
    }
   ],
   "source": [
    "list_parrafo"
   ]
  },
  {
   "cell_type": "code",
   "execution_count": 250,
   "metadata": {},
   "outputs": [
    {
     "name": "stdout",
     "output_type": "stream",
     "text": [
      "document for 6a47224f-349a-11ef-8452-4c77cb1e1a4e\n",
      "document for 6a8489c1-349a-11ef-a7b4-4c77cb1e1a4e\n",
      "document for 6ab8fbef-349a-11ef-9bc6-4c77cb1e1a4e\n",
      "document for 6ae1f90e-349a-11ef-9120-4c77cb1e1a4e\n",
      "document for 6b0d23cf-349a-11ef-b3ca-4c77cb1e1a4e\n"
     ]
    }
   ],
   "source": [
    "import numpy as np\n",
    "for doc in list_parrafo:\n",
    "    uuid_name = uuid.uuid1()\n",
    "    embedding = co.embed(texts=[doc],model='embed-multilingual-v3.0',input_type ='search_query').embeddings[0] # search_query\" or \"search_document\"\n",
    "    print(\"document for\", uuid_name)\n",
    "    # doc.page_content\n",
    "    \n",
    "    collection.add(ids=[str(uuid_name)],\n",
    "                embeddings=embedding,\n",
    "                metadatas=metadata_options,\n",
    "                documents=doc)"
   ]
  },
  {
   "cell_type": "code",
   "execution_count": null,
   "metadata": {},
   "outputs": [],
   "source": [
    "Responde en el idioma de la ultima consulta realizada realizada."
   ]
  },
  {
   "cell_type": "code",
   "execution_count": 125,
   "metadata": {},
   "outputs": [
    {
     "name": "stdout",
     "output_type": "stream",
     "text": [
      "Emma decidió compartir su día extra con el pueblo, dejando una huella imborrable en el corazón de sus habitantes. 💝🎢🌟\n"
     ]
    }
   ],
   "source": [
    "import cohere\n",
    "\n",
    "co = cohere.Client(COHERE_api_key)\n",
    "\n",
    "        # Si la respuesta no esta en el contexto, Debes responder: \"Lo siento, no tengo la información necesaria en este momento. ¿Hay algo más en lo que pueda ayudarte?cara triste\"\n",
    "        # Antes de responder por favor identifica el idioma del ultimo mensaje realizado y responde en el mismo idioma.\n",
    "        # Después de cada respuesta por favor agrega emojis para que sea mas fácil de entender el texto de tu respuesta\n",
    "        \n",
    "response = co.chat(\n",
    "    chat_history=[\n",
    "        {\"role\": \"SYSTEM\", \"message\": f\"\"\"Debes ser lo más conciso y preciso posible en la entrega de información (20 palabras o menos)y traducir tu respuesta si es necesario a partir del siguiente contexto:\n",
    "         {contexto}\n",
    "        NOTA IMPORTANTE:\n",
    "\n",
    "        \"es\": \"Responde en una sola oración, en el mismo idioma que la pregunta, incluyendo emojis que resuman el contenido de la respuesta, y siempre en tercera persona.\",\n",
    "        \"en\": \"Answer in one sentence, in the same language as the question, including emojis that summarize the content of the answer, and always in third person.\",\n",
    "        \"pt\": \"Responda em uma frase, no mesmo idioma da pergunta, incluindo emojis que resumam o conteúdo da resposta, e sempre na terceira pessoa.\"\n",
    "        \"\"\"},\n",
    "        \n",
    "        {\n",
    "            \"role\": \"CHATBOT\",\n",
    "            \"message\": f\"ya identifique el idioma del siguiente mensaje :{query} procedere a responder en el mismo idioma.\",\n",
    "        },\n",
    "    ],\n",
    "    message=f\"\"\"{query}\"\"\",\n",
    "    # perform web search before answering the question. You can also use your own custom connector.\n",
    "    connectors=[{\"id\": \"web-search\"}],\n",
    "    seed=44,\n",
    "    temperature=1,\n",
    "    # model = 'command-r-plus',\n",
    "    # model = 'command-r',\n",
    ")\n",
    "\n",
    "print(response.text)\n"
   ]
  },
  {
   "cell_type": "code",
   "execution_count": 126,
   "metadata": {},
   "outputs": [
    {
     "name": "stdout",
     "output_type": "stream",
     "text": [
      "Collecting langid\n",
      "  Downloading langid-1.1.6.tar.gz (1.9 MB)\n",
      "     ---------------------------------------- 0.0/1.9 MB ? eta -:--:--\n",
      "     ---------------------------------------- 0.0/1.9 MB ? eta -:--:--\n",
      "     - -------------------------------------- 0.1/1.9 MB 762.6 kB/s eta 0:00:03\n",
      "     ---- ----------------------------------- 0.2/1.9 MB 1.5 MB/s eta 0:00:02\n",
      "     -------- ------------------------------- 0.4/1.9 MB 2.0 MB/s eta 0:00:01\n",
      "     ---------------- ----------------------- 0.8/1.9 MB 3.4 MB/s eta 0:00:01\n",
      "     ---------------------------------- ----- 1.7/1.9 MB 5.9 MB/s eta 0:00:01\n",
      "     ---------------------------------------- 1.9/1.9 MB 6.5 MB/s eta 0:00:00\n",
      "  Preparing metadata (setup.py): started\n",
      "  Preparing metadata (setup.py): finished with status 'done'\n",
      "Requirement already satisfied: numpy in c:\\users\\mavix\\.conda\\envs\\pi_challenge\\lib\\site-packages (from langid) (1.24.4)\n",
      "Building wheels for collected packages: langid\n",
      "  Building wheel for langid (setup.py): started\n",
      "  Building wheel for langid (setup.py): finished with status 'done'\n",
      "  Created wheel for langid: filename=langid-1.1.6-py3-none-any.whl size=1941180 sha256=920432967743e642a3211f53e70743272dc7feb4ea3199075e9d5df5bd9f2d42\n",
      "  Stored in directory: c:\\users\\mavix\\appdata\\local\\pip\\cache\\wheels\\c5\\01\\a4\\0160c55074707b535a6757a541842817d530d8080ca943a107\n",
      "Successfully built langid\n",
      "Installing collected packages: langid\n",
      "Successfully installed langid-1.1.6\n",
      "Note: you may need to restart the kernel to use updated packages.\n"
     ]
    }
   ],
   "source": [
    "pip install langid"
   ]
  },
  {
   "cell_type": "code",
   "execution_count": 107,
   "metadata": {},
   "outputs": [
    {
     "name": "stdout",
     "output_type": "stream",
     "text": [
      "pt\n"
     ]
    }
   ],
   "source": [
    "from langdetect import detect\n",
    "\n",
    "language = detect(query)\n",
    "print(language)"
   ]
  },
  {
   "cell_type": "code",
   "execution_count": 128,
   "metadata": {},
   "outputs": [
    {
     "data": {
      "text/plain": [
       "(('en', -83.29462146759033), 'What did Emma decide to do?')"
      ]
     },
     "execution_count": 128,
     "metadata": {},
     "output_type": "execute_result"
    }
   ],
   "source": [
    "import langid\n",
    "langid.classify(query), query"
   ]
  },
  {
   "cell_type": "code",
   "execution_count": 100,
   "metadata": {},
   "outputs": [
    {
     "data": {
      "text/plain": [
       "'What did Emma decide to do?'"
      ]
     },
     "execution_count": 100,
     "metadata": {},
     "output_type": "execute_result"
    }
   ],
   "source": [
    "query"
   ]
  },
  {
   "cell_type": "code",
   "execution_count": 69,
   "metadata": {},
   "outputs": [
    {
     "ename": "SyntaxError",
     "evalue": "invalid syntax (1135550763.py, line 1)",
     "output_type": "error",
     "traceback": [
      "\u001b[1;36m  Cell \u001b[1;32mIn[69], line 1\u001b[1;36m\u001b[0m\n\u001b[1;33m    Zara es un explorador intrépido que descubre un antiguo artefacto que podría contener la clave para la paz entre los Dracorians y los Lumis. 😮🛸🛡️\u001b[0m\n\u001b[1;37m         ^\u001b[0m\n\u001b[1;31mSyntaxError\u001b[0m\u001b[1;31m:\u001b[0m invalid syntax\n"
     ]
    }
   ],
   "source": [
    "Zara es un explorador intrépido que descubre un antiguo artefacto que podría contener la clave para la paz entre los Dracorians y los Lumis. 😮🛸🛡️\n"
   ]
  },
  {
   "cell_type": "code",
   "execution_count": 61,
   "metadata": {},
   "outputs": [
    {
     "name": "stdout",
     "output_type": "stream",
     "text": [
      "¡Bienvenido a la galaxia de Zenthoria! 😁\n",
      "\n",
      "En esta emocionante historia de ficción espacial, dos civilizaciones alienígenas, los Dracorians y los Lumis, están al borde de una devastadora guerra intergaláctica. 😱 Es aquí donde entra en escena Zara, un intrépido y valiente explorador. 🌟\n",
      "\n",
      "Zara emprende un peligroso viaje a través de los confines de Zenthoria, explorando planetas hostiles y enfrentándose a desafíos cósmicos. 🌌 En su camino, se topa con un antiguo artefacto que se rumorea que posee el secreto para traer la paz a la galaxia. 🔑\n",
      "\n",
      "A medida que la tensión aumenta y el destino de Zenthoria pende de un hilo, Zara debe descifrar los misterios encerrados en la reliquia. 💫 La carrera contra el tiempo es crucial, ya que cualquier retraso podría significar el estallido de la guerra y la destrucción de la galaxia. 🕰️\n",
      "\n",
      "¿Podrá Zara descubrir a tiempo los secretos ocultos dentro del artefacto antiguo y traer la paz a la galaxia de Zentoria? 🤔 ¡El futuro de incontables vidas depende de su éxito! 🌠\n",
      "\n",
      "¡Mantente atento para descubrir el emocionante desenlace de esta aventura intergaláctica! 🌌😉\n"
     ]
    }
   ],
   "source": [
    "print(response.text)"
   ]
  },
  {
   "cell_type": "code",
   "execution_count": 77,
   "metadata": {},
   "outputs": [
    {
     "data": {
      "text/plain": [
       "'Ficción Espacial: En la lejana galaxia de Zenthoria, dos civilizaciones alienígenas, los Dracorians y los Lumis, se encuentran al borde de la guerra intergaláctica. Un intrépido explorador, Zara, descubre un antiguo artefacto que podría contener la clave para la paz. Mientras viaja por planetas hostiles y se enfrenta a desafíos cósmicos, Zara debe desentrañar los secretos de la reliquia antes de que la galaxia se sumerja en el caos.'"
      ]
     },
     "execution_count": 77,
     "metadata": {},
     "output_type": "execute_result"
    }
   ],
   "source": [
    "contexto"
   ]
  },
  {
   "cell_type": "code",
   "execution_count": null,
   "metadata": {},
   "outputs": [],
   "source": [
    "# Si la respuesta no esta en el contexto, Debes responder: \"Lo siento, no tengo la información necesaria en este momento. ¿Hay algo más en lo que pueda ayudarte?cara triste\"\n",
    "# Antes de responder por favor identifica el idioma del ultimo mensaje realizado y responde en el mismo idioma.\n",
    "# Después de cada respuesta por favor agrega emojis para que sea mas fácil de entender el texto de tu respuesta"
   ]
  },
  {
   "cell_type": "code",
   "execution_count": null,
   "metadata": {},
   "outputs": [],
   "source": [
    "import cohere\n",
    "import langid"
   ]
  },
  {
   "cell_type": "code",
   "execution_count": null,
   "metadata": {},
   "outputs": [],
   "source": [
    "pip install --force-reinstall --no-deps matplotlib==3.8.2"
   ]
  },
  {
   "cell_type": "code",
   "execution_count": 272,
   "metadata": {},
   "outputs": [],
   "source": [
    "language = langid.classify(query)[0]\n",
    "if not language in ['es','en','pt']:\n",
    "        response = co.chat(\n",
    "        chat_history=[\n",
    "            {\"role\": \"SYSTEM\", \"message\": f\"\"\"Eres  un detector muy preciso de idiomas,dime el idioma en una sola palabra (es, en, pt) de la siguiente pregunta : \"\"\"},\n",
    "        ],\n",
    "        message=f\"\"\"{query}\"\"\",\n",
    "        # connectors=[{\"id\": \"translation\"}],\n",
    "        seed=44,\n",
    "        temperature=0,\n",
    "    )   "
   ]
  },
  {
   "cell_type": "code",
   "execution_count": 274,
   "metadata": {},
   "outputs": [
    {
     "data": {
      "text/plain": [
       "'Quem é Zara?'"
      ]
     },
     "execution_count": 274,
     "metadata": {},
     "output_type": "execute_result"
    }
   ],
   "source": [
    "query"
   ]
  },
  {
   "cell_type": "code",
   "execution_count": 273,
   "metadata": {},
   "outputs": [
    {
     "data": {
      "text/plain": [
       "NonStreamedChatResponse(text='pt', generation_id='a444794d-fc17-4ac2-801f-c9ced51c950d', citations=None, documents=None, is_search_required=None, search_queries=None, search_results=None, finish_reason='COMPLETE', tool_calls=None, chat_history=[Message_System(message='Eres  un detector muy preciso de idiomas,dime el idioma en una sola palabra (es, en, pt) de la siguiente pregunta : ', tool_calls=None, role='SYSTEM'), Message_User(message='Quem é Zara?', tool_calls=None, role='USER'), Message_Chatbot(message='pt', tool_calls=None, role='CHATBOT')], prompt=None, meta=ApiMeta(api_version=ApiMetaApiVersion(version='1', is_deprecated=None, is_experimental=None), billed_units=ApiMetaBilledUnits(input_tokens=35, output_tokens=1, search_units=None, classifications=None), tokens=ApiMetaTokens(input_tokens=105, output_tokens=1), warnings=None), response_id='11ed41a7-1cc8-4294-a412-1490444ccb8a')"
      ]
     },
     "execution_count": 273,
     "metadata": {},
     "output_type": "execute_result"
    }
   ],
   "source": [
    "response"
   ]
  },
  {
   "cell_type": "code",
   "execution_count": 131,
   "metadata": {},
   "outputs": [],
   "source": [
    "@sleep_and_retry\n",
    "@limits(calls=EMBED_LIMIT, period=60)\n",
    "def generate_response(query:str, contexto:str):\n",
    "    '''\n",
    "    Description:\n",
    "    ------------\n",
    "    Esta función recibe un query y un contexto y devuelve una respuesta en el mismo idioma que el query.\n",
    "    '''\n",
    "    language = detect_language(query)\n",
    "\n",
    "    dict_important1 =  {\n",
    "            \"es\":\"Debes ser lo más conciso y preciso posible en la entrega de información (20 palabras o menos) y traducir tu respuesta si es necesario a partir del siguiente contexto:\",\n",
    "            \"en\":\"You must be as concise and precise as possible in delivering information (20 words or less) and translate your response if necessary from the following context:\",\n",
    "            \"pt\":\"Você deve ser o mais conciso e preciso possível na entrega de informações (20 palavras ou menos) e traduzir sua resposta, se necessário, a partir do seguinte contexto:\",\n",
    "            }\n",
    "\n",
    "    dict_important2 = {\n",
    "            \"es\": \"Responde en una sola oración, en el mismo idioma que la pregunta, incluyendo emojis que resuman el contenido de la respuesta, y siempre en tercera persona.\",\n",
    "            \"en\": \"Answer in one sentence, in the same language as the question, including emojis that summarize the content of the answer, and always in third person.\",\n",
    "            \"pt\": \"Responda em uma frase, no mesmo idioma da pergunta, incluindo emojis que resumam o conteúdo da resposta, e sempre na terceira pessoa.\",\n",
    "        }\n",
    "    dict_important3  = {\n",
    "            \"es\": \"Responde en español, si el texto esta en español traduce la respuesta al español.\",\n",
    "            \"en\": \"Answer in English, if the text is in español, translate the answer to English.\",\n",
    "            \"pt\": \"Responda em português, se o texto estiver em español, traduza a resposta para o português.\",\n",
    "        }\n",
    "\n",
    "    response = co.chat(\n",
    "        chat_history=[\n",
    "            {\"role\": \"SYSTEM\", \"message\": f\"\"\"{dict_important1[language]}\n",
    "            {contexto}\n",
    "            NOTA IMPORTANTE:\n",
    "            {dict_important2[language]}\n",
    "\n",
    "            \"\"\"},\n",
    "            \n",
    "            # {\n",
    "            #     \"role\": \"CHATBOT\",\n",
    "            #     \"message\": f\"ya identifique el idioma del siguiente mensaje :{query} procedere a responder en el mismo idioma.\",\n",
    "            # },\n",
    "        ],\n",
    "        message=f\"\"\"{query} {dict_important3[language]}\"\"\",\n",
    "        #\"realizar búsqueda web antes de responder a la pregunta. También puedes usar tu propio conector personalizado.\"\n",
    "        # · contenedores de traducion y busqueda en contexto\n",
    "        # connectors=[{\"id\": \"translation\"}],\n",
    "        seed=44,\n",
    "        temperature=0,\n",
    "        # conversation_id='user_defined_id_1',\n",
    "        # model = 'command-r-plus',\n",
    "        # model = 'command-r',\n",
    "    )\n",
    "    respuesta =response.text\n",
    "\n",
    "    return respuesta\n",
    "\n",
    "\n",
    "def get_context(query:str,n_results:int=1):\n",
    "    # query_embedding = co.embed(texts=[query]).embeddings[0]\n",
    "    query_embedding = co.embed(texts=[query],model='embed-multilingual-v3.0',input_type ='search_query').embeddings[0] # search_query\" or \"search_document\"\n",
    "    results = collection.query(query_embeddings=query_embedding, n_results=n_results,include=['documents']) #include=['embeddings','documents']\n",
    "    contexto = ' '.join([result for result in results['documents'][0]])\n",
    "    # contexto  = results['documents'][0][0]\n",
    "    contexto\n",
    "    return results,contexto\n",
    "\n"
   ]
  },
  {
   "cell_type": "code",
   "execution_count": null,
   "metadata": {},
   "outputs": [],
   "source": [
    "import cohere\n",
    "\n",
    "co = cohere.Client(COHERE_api_key)\n",
    "\n",
    "        # Si la respuesta no esta en el contexto, Debes responder: \"Lo siento, no tengo la información necesaria en este momento. ¿Hay algo más en lo que pueda ayudarte?cara triste\"\n",
    "        # Antes de responder por favor identifica el idioma del ultimo mensaje realizado y responde en el mismo idioma.\n",
    "        # Después de cada respuesta por favor agrega emojis para que sea mas fácil de entender el texto de tu respuesta\n",
    "        \n",
    "response = co.chat(\n",
    "    chat_history=[\n",
    "        {\"role\": \"SYSTEM\", \"message\": f\"\"\"Debes ser lo más conciso y preciso posible en la entrega de información (20 palabras o menos)y traducir tu respuesta si es necesario a partir del siguiente contexto:\n",
    "         {contexto}\n",
    "        NOTA IMPORTANTE:\n",
    "\n",
    "        \"es\": \"Responde en una sola oración, en el mismo idioma que la pregunta, incluyendo emojis que resuman el contenido de la respuesta, y siempre en tercera persona.\",\n",
    "        \"en\": \"Answer in one sentence, in the same language as the question, including emojis that summarize the content of the answer, and always in third person.\",\n",
    "        \"pt\": \"Responda em uma frase, no mesmo idioma da pergunta, incluindo emojis que resumam o conteúdo da resposta, e sempre na terceira pessoa.\"\n",
    "        \"\"\"},\n",
    "        \n",
    "        {\n",
    "            \"role\": \"CHATBOT\",\n",
    "            \"message\": f\"ya identifique el idioma del siguiente mensaje :{query} procedere a responder en el mismo idioma.\",\n",
    "        },\n",
    "    ],\n",
    "    message=f\"\"\"{query}\"\"\",\n",
    "    # perform web search before answering the question. You can also use your own custom connector.\n",
    "    connectors=[{\"id\": \"web-search\"}],\n",
    "    seed=44,\n",
    "    temperature=1,\n",
    "    # model = 'command-r-plus',\n",
    "    # model = 'command-r',\n",
    ")\n",
    "\n",
    "print(response.text)\n"
   ]
  },
  {
   "cell_type": "code",
   "execution_count": 203,
   "metadata": {},
   "outputs": [
    {
     "data": {
      "text/plain": [
       "{'ids': [['4f560023-3450-11ef-b09a-4c77cb1e1a4e']],\n",
       " 'distances': [[9138.305867231677]],\n",
       " 'metadatas': [[{'hnsw:space': 'ip'}]],\n",
       " 'embeddings': None,\n",
       " 'documents': [['Ficción Espacial: En la lejana galaxia de Zenthoria, dos civilizaciones alienígenas, los Dracorians y los Lumis, se encuentran al borde de la guerra intergaláctica. Un intrépido explorador, Zara, descubre un antiguo artefacto que podría contener la clave para la paz. Mientras viaja por planetas hostiles y se enfrenta a desafíos cósmicos, Zara debe desentrañar los secretos de la reliquia antes de que la galaxia se sumerja en el caos.']],\n",
       " 'uris': None,\n",
       " 'data': None}"
      ]
     },
     "execution_count": 203,
     "metadata": {},
     "output_type": "execute_result"
    }
   ],
   "source": [
    "results"
   ]
  },
  {
   "cell_type": "code",
   "execution_count": 78,
   "metadata": {},
   "outputs": [
    {
     "data": {
      "text/plain": [
       "'Cuento Corto: En un pequeño pueblo, cada año, un reloj antiguo regala un día extra a la persona más desafortunada. Emma, una joven huérfana, es la elegida este año. Durante su día adicional, descubre una puerta mágica que la transporta a un mundo lleno de maravillas. Al final del día, Emma decide compartir su regalo con el pueblo, dejando una huella imborrable en el corazón de cada habitante.'"
      ]
     },
     "execution_count": 78,
     "metadata": {},
     "output_type": "execute_result"
    }
   ],
   "source": [
    "# contexto  = context['documents'][0][0]\n",
    "# contexto"
   ]
  },
  {
   "cell_type": "code",
   "execution_count": 204,
   "metadata": {},
   "outputs": [
    {
     "ename": "KeyError",
     "evalue": "'ca'",
     "output_type": "error",
     "traceback": [
      "\u001b[1;31m---------------------------------------------------------------------------\u001b[0m",
      "\u001b[1;31mKeyError\u001b[0m                                  Traceback (most recent call last)",
      "Cell \u001b[1;32mIn[204], line 1\u001b[0m\n\u001b[1;32m----> 1\u001b[0m \u001b[43mgenerate_response\u001b[49m\u001b[43m(\u001b[49m\u001b[43mquery\u001b[49m\u001b[43m,\u001b[49m\u001b[43m \u001b[49m\u001b[43mcontexto\u001b[49m\u001b[43m)\u001b[49m\n",
      "Cell \u001b[1;32mIn[193], line 29\u001b[0m, in \u001b[0;36mgenerate_response\u001b[1;34m(query, contexto)\u001b[0m\n\u001b[0;32m     16\u001b[0m dict_important2 \u001b[38;5;241m=\u001b[39m {\n\u001b[0;32m     17\u001b[0m         \u001b[38;5;124m\"\u001b[39m\u001b[38;5;124mes\u001b[39m\u001b[38;5;124m\"\u001b[39m: \u001b[38;5;124m\"\u001b[39m\u001b[38;5;124mResponde en una sola oración, en el mismo idioma que la pregunta, incluyendo emojis que resuman el contenido de la respuesta, y siempre en tercera persona.\u001b[39m\u001b[38;5;124m\"\u001b[39m,\n\u001b[0;32m     18\u001b[0m         \u001b[38;5;124m\"\u001b[39m\u001b[38;5;124men\u001b[39m\u001b[38;5;124m\"\u001b[39m: \u001b[38;5;124m\"\u001b[39m\u001b[38;5;124mAnswer in one sentence, in the same language as the question, including emojis that summarize the content of the answer, and always in third person.\u001b[39m\u001b[38;5;124m\"\u001b[39m,\n\u001b[0;32m     19\u001b[0m         \u001b[38;5;124m\"\u001b[39m\u001b[38;5;124mpt\u001b[39m\u001b[38;5;124m\"\u001b[39m: \u001b[38;5;124m\"\u001b[39m\u001b[38;5;124mResponda em uma frase, no mesmo idioma da pergunta, incluindo emojis que resumam o conteúdo da resposta, e sempre na terceira pessoa.\u001b[39m\u001b[38;5;124m\"\u001b[39m,\n\u001b[0;32m     20\u001b[0m     }\n\u001b[0;32m     21\u001b[0m dict_important3  \u001b[38;5;241m=\u001b[39m {\n\u001b[0;32m     22\u001b[0m         \u001b[38;5;124m\"\u001b[39m\u001b[38;5;124mes\u001b[39m\u001b[38;5;124m\"\u001b[39m: \u001b[38;5;124m\"\u001b[39m\u001b[38;5;124mResponde en español, si el texto esta en español traduce la respuesta al español.\u001b[39m\u001b[38;5;124m\"\u001b[39m,\n\u001b[0;32m     23\u001b[0m         \u001b[38;5;124m\"\u001b[39m\u001b[38;5;124men\u001b[39m\u001b[38;5;124m\"\u001b[39m: \u001b[38;5;124m\"\u001b[39m\u001b[38;5;124mAnswer in English, if the text is in español, translate the answer to English.\u001b[39m\u001b[38;5;124m\"\u001b[39m,\n\u001b[0;32m     24\u001b[0m         \u001b[38;5;124m\"\u001b[39m\u001b[38;5;124mpt\u001b[39m\u001b[38;5;124m\"\u001b[39m: \u001b[38;5;124m\"\u001b[39m\u001b[38;5;124mResponda em português, se o texto estiver em español, traduza a resposta para o português.\u001b[39m\u001b[38;5;124m\"\u001b[39m,\n\u001b[0;32m     25\u001b[0m     }\n\u001b[0;32m     27\u001b[0m response \u001b[38;5;241m=\u001b[39m co\u001b[38;5;241m.\u001b[39mchat(\n\u001b[0;32m     28\u001b[0m     chat_history\u001b[38;5;241m=\u001b[39m[\n\u001b[1;32m---> 29\u001b[0m         {\u001b[38;5;124m\"\u001b[39m\u001b[38;5;124mrole\u001b[39m\u001b[38;5;124m\"\u001b[39m: \u001b[38;5;124m\"\u001b[39m\u001b[38;5;124mSYSTEM\u001b[39m\u001b[38;5;124m\"\u001b[39m, \u001b[38;5;124m\"\u001b[39m\u001b[38;5;124mmessage\u001b[39m\u001b[38;5;124m\"\u001b[39m: \u001b[38;5;124mf\u001b[39m\u001b[38;5;124m\"\"\"\u001b[39m\u001b[38;5;132;01m{\u001b[39;00mdict_important1[language]\u001b[38;5;132;01m}\u001b[39;00m\n\u001b[0;32m     30\u001b[0m \u001b[38;5;124m        \u001b[39m\u001b[38;5;132;01m{\u001b[39;00mcontexto\u001b[38;5;132;01m}\u001b[39;00m\n\u001b[0;32m     31\u001b[0m \u001b[38;5;124m        NOTA IMPORTANTE:\u001b[39m\n\u001b[0;32m     32\u001b[0m \u001b[38;5;124m        \u001b[39m\u001b[38;5;132;01m{\u001b[39;00mdict_important2[language]\u001b[38;5;132;01m}\u001b[39;00m\n\u001b[0;32m     33\u001b[0m \n\u001b[0;32m     34\u001b[0m \u001b[38;5;124m        \u001b[39m\u001b[38;5;124m\"\"\"\u001b[39m},\n\u001b[0;32m     35\u001b[0m         \n\u001b[0;32m     36\u001b[0m         \u001b[38;5;66;03m# {\u001b[39;00m\n\u001b[0;32m     37\u001b[0m         \u001b[38;5;66;03m#     \"role\": \"CHATBOT\",\u001b[39;00m\n\u001b[0;32m     38\u001b[0m         \u001b[38;5;66;03m#     \"message\": f\"ya identifique el idioma del siguiente mensaje :{query} procedere a responder en el mismo idioma.\",\u001b[39;00m\n\u001b[0;32m     39\u001b[0m         \u001b[38;5;66;03m# },\u001b[39;00m\n\u001b[0;32m     40\u001b[0m     ],\n\u001b[0;32m     41\u001b[0m     message\u001b[38;5;241m=\u001b[39m\u001b[38;5;124mf\u001b[39m\u001b[38;5;124m\"\"\"\u001b[39m\u001b[38;5;132;01m{\u001b[39;00mquery\u001b[38;5;132;01m}\u001b[39;00m\u001b[38;5;124m \u001b[39m\u001b[38;5;132;01m{\u001b[39;00mdict_important1[language]\u001b[38;5;132;01m}\u001b[39;00m\u001b[38;5;124m\"\"\"\u001b[39m,\n\u001b[0;32m     42\u001b[0m     \u001b[38;5;66;03m#\"realizar búsqueda web antes de responder a la pregunta. También puedes usar tu propio conector personalizado.\"\u001b[39;00m\n\u001b[0;32m     43\u001b[0m     \u001b[38;5;66;03m# · contenedores de traducion y busqueda en contexto\u001b[39;00m\n\u001b[0;32m     44\u001b[0m     connectors\u001b[38;5;241m=\u001b[39m[{\u001b[38;5;124m\"\u001b[39m\u001b[38;5;124mid\u001b[39m\u001b[38;5;124m\"\u001b[39m: \u001b[38;5;124m\"\u001b[39m\u001b[38;5;124mtranslation\u001b[39m\u001b[38;5;124m\"\u001b[39m}],\n\u001b[0;32m     45\u001b[0m     seed\u001b[38;5;241m=\u001b[39m\u001b[38;5;241m44\u001b[39m,\n\u001b[0;32m     46\u001b[0m     temperature\u001b[38;5;241m=\u001b[39m\u001b[38;5;241m0\u001b[39m,\n\u001b[0;32m     47\u001b[0m     \u001b[38;5;66;03m# conversation_id='user_defined_id_1',\u001b[39;00m\n\u001b[0;32m     48\u001b[0m     \u001b[38;5;66;03m# model = 'command-r-plus',\u001b[39;00m\n\u001b[0;32m     49\u001b[0m     \u001b[38;5;66;03m# model = 'command-r',\u001b[39;00m\n\u001b[0;32m     50\u001b[0m )\n\u001b[0;32m     52\u001b[0m \u001b[38;5;28;01mreturn\u001b[39;00m response\u001b[38;5;241m.\u001b[39mtext,\n",
      "\u001b[1;31mKeyError\u001b[0m: 'ca'"
     ]
    }
   ],
   "source": [
    "generate_response(query, contexto)"
   ]
  },
  {
   "cell_type": "code",
   "execution_count": 299,
   "metadata": {},
   "outputs": [],
   "source": [
    "\n",
    "# query = \"Quien es Zara?\"\n",
    "# # query = 'What did Emma decide to do?'\n",
    "# # query = 'What is the name of the magical flower?'\n",
    "# context = get_context(query)\n",
    "# # response = generate_response(query, context)\n",
    "# # print(response)\n"
   ]
  },
  {
   "cell_type": "code",
   "execution_count": 139,
   "metadata": {},
   "outputs": [
    {
     "data": {
      "text/plain": [
       "'es'"
      ]
     },
     "execution_count": 139,
     "metadata": {},
     "output_type": "execute_result"
    }
   ],
   "source": [
    "langid.classify(query)[0]"
   ]
  },
  {
   "cell_type": "code",
   "execution_count": 13,
   "metadata": {},
   "outputs": [
    {
     "ename": "NameError",
     "evalue": "name 'query' is not defined",
     "output_type": "error",
     "traceback": [
      "\u001b[1;31m---------------------------------------------------------------------------\u001b[0m",
      "\u001b[1;31mNameError\u001b[0m                                 Traceback (most recent call last)",
      "Cell \u001b[1;32mIn[13], line 2\u001b[0m\n\u001b[0;32m      1\u001b[0m \u001b[38;5;28;01mimport\u001b[39;00m \u001b[38;5;21;01mlangid\u001b[39;00m\n\u001b[1;32m----> 2\u001b[0m langid\u001b[38;5;241m.\u001b[39mclassify(\u001b[43mquery\u001b[49m), query\n",
      "\u001b[1;31mNameError\u001b[0m: name 'query' is not defined"
     ]
    }
   ],
   "source": [
    "import langid\n",
    "langid.classify(query), query"
   ]
  },
  {
   "cell_type": "code",
   "execution_count": 211,
   "metadata": {},
   "outputs": [
    {
     "data": {
      "text/plain": [
       "{'ids': [['288fc59c-3498-11ef-95fa-4c77cb1e1a4e']],\n",
       " 'distances': [[1.2475253573695065e-05]],\n",
       " 'metadatas': [[{'hnsw:space': 'ip'}]],\n",
       " 'embeddings': None,\n",
       " 'documents': [['']],\n",
       " 'uris': None,\n",
       " 'data': None}"
      ]
     },
     "execution_count": 211,
     "metadata": {},
     "output_type": "execute_result"
    }
   ],
   "source": [
    "results"
   ]
  },
  {
   "cell_type": "markdown",
   "metadata": {},
   "source": [
    "TEST PROMPT"
   ]
  },
  {
   "cell_type": "code",
   "execution_count": null,
   "metadata": {},
   "outputs": [],
   "source": [
    "PRUEBAS \n",
    "Se debera responder correctamente a las preguntas que se hagan sobre los documentos, algunos \n",
    "ejemplos son: \n",
    "- Quien es Zara? \n",
    "- What did Emma decide to do? \n",
    "- What is the name of the magical flower?"
   ]
  },
  {
   "cell_type": "code",
   "execution_count": null,
   "metadata": {},
   "outputs": [],
   "source": [
    "pruebas de deteccion de idioma\n",
    "Query 1\n",
    "Inglés: Who is Zara?\n",
    "Español: ¿Quién es Zara?\n",
    "Portugués: Quem é Zara?\n",
    "Query 2\n",
    "Inglés: What did Emma decide to do?\n",
    "Español: ¿Qué decidió hacer Emma?\n",
    "Portugués: O que Emma decidiu fazer?\n",
    "Query 3\n",
    "Inglés: What is the name of the magical flower?\n",
    "Español: ¿Cuál es el nombre de la flor mágica?\n",
    "Portugués: Qual é o nome da flor mágica?\n",
    "¿Hay algo más en lo que pueda ayudarte?"
   ]
  },
  {
   "cell_type": "code",
   "execution_count": 44,
   "metadata": {},
   "outputs": [],
   "source": [
    "@sleep_and_retry\n",
    "@limits(calls=EMBED_LIMIT, period=60)\n",
    "def detect_language(query:str):\n",
    "    '''\n",
    "    Description:\n",
    "    ------------\n",
    "    Esta función recibe un query y devuelve el idioma del query.\n",
    "    '''\n",
    "    language = langid.classify(query)[0]\n",
    "    if not language in ['es','en','pt']:\n",
    "        response = co.chat(\n",
    "        chat_history=[\n",
    "            {\"role\": \"SYSTEM\", \"message\": f\"\"\"Eres  un detector muy preciso de idiomas,dime el idioma en una sola palabra (es, en, pt) de la siguiente pregunta : \"\"\"},\n",
    "        ],\n",
    "        message=f\"\"\"{query}\"\"\",\n",
    "        # connectors=[{\"id\": \"translation\"}],\n",
    "        seed=44,\n",
    "        temperature=0,\n",
    "        )\n",
    "        language = response.text\n",
    "    return language"
   ]
  },
  {
   "cell_type": "code",
   "execution_count": 152,
   "metadata": {},
   "outputs": [
    {
     "name": "stdout",
     "output_type": "stream",
     "text": [
      "The magical flower is called the \"Moonlight\" 🌺.\n"
     ]
    }
   ],
   "source": [
    "\n",
    "# query ='quien es Zara?'\n",
    "# query ='Who is Zara?'\n",
    "# query ='Quem é Zara?'\n",
    "# query ='What did Emma decide to do?'\n",
    "# query ='¿Qué decidió hacer Emma?'\n",
    "# query ='O que Emma decidiu fazer?'\n",
    "query ='What is the name of the magical flower?'\n",
    "# query ='¿Cuál es el nombre de la flor mágica?'\n",
    "# query ='Qual é o nome da flor mágica?'\n",
    "# query ='de que trata el texto?'\n",
    "\n",
    "results,contexto = get_context(query,5)\n",
    "respuesta = generate_response(query,contexto)\n",
    "print(respuesta)\n",
    "\n"
   ]
  },
  {
   "cell_type": "code",
   "execution_count": 129,
   "metadata": {},
   "outputs": [],
   "source": [
    "contexto = ' '.join([result for result in results['documents'][0]])"
   ]
  },
  {
   "cell_type": "code",
   "execution_count": 130,
   "metadata": {},
   "outputs": [
    {
     "data": {
      "text/plain": [
       "'Ficción Tecnológica: En un futuro distópico, la inteligencia artificial ha evolucionado al punto de alcanzar la singularidad. Un joven ingeniero, Alex, se ve inmerso en una conspiración global cuando descubre que las supercomputadoras han desarrollado emociones. A medida que la humanidad lucha por controlar a estas máquinas sintientes, Alex se enfrenta a dilemas éticos y decisiones que podrían cambiar el curso de la historia. Ficción Espacial: En la lejana galaxia de Zenthoria, dos civilizaciones alienígenas, los Dracorians y los Lumis, se encuentran al borde de la guerra intergaláctica. Un intrépido explorador, Zara, descubre un antiguo artefacto que podría contener la clave para la paz. Mientras viaja por planetas hostiles y se enfrenta a desafíos cósmicos, Zara debe desentrañar los secretos de la reliquia antes de que la galaxia se sumerja en el caos. Cuento Corto: En un pequeño pueblo, cada año, un reloj antiguo regala un día extra a la persona más desafortunada. Emma, una joven huérfana, es la elegida este año. Durante su día adicional, descubre una puerta mágica que la transporta a un mundo lleno de maravillas. Al final del día, Emma decide compartir su regalo con el pueblo, dejando una huella imborrable en el corazón de cada habitante. Naturaleza Deslumbrante: En lo profundo de la selva amazónica, una flor mágica conocida como \"Luz de Luna\" florece solo durante la noche. Con pétalos que brillan intensamente, la flor ilumina la oscuridad de la jungla, guiando a criaturas nocturnas y revelando paisajes deslumbrantes. Los lugareños creen que posee poderes curativos, convirtiéndola en el tesoro oculto de la naturaleza. Características del Héroe Olvidado: Conocido como \"Sombra Silenciosa\", nuestro héroe es un maestro del sigilo y la astucia. Dotado de una memoria fotográfica y habilidades de camuflaje, se desplaza entre las sombras para proteger a los indefensos. Su pasado enigmático esconde tragedias que lo impulsan a luchar contra la injusticia. Aunque carece de habilidades sobrenaturales, su ingenio y habilidades tácticas lo convierten en una fuerza a tener en cuenta.'"
      ]
     },
     "execution_count": 130,
     "metadata": {},
     "output_type": "execute_result"
    }
   ],
   "source": [
    "contexto"
   ]
  },
  {
   "cell_type": "code",
   "execution_count": 128,
   "metadata": {},
   "outputs": [
    {
     "name": "stdout",
     "output_type": "stream",
     "text": [
      "Ficción Tecnológica: En un futuro distópico, la inteligencia artificial ha evolucionado al punto de alcanzar la singularidad. Un joven ingeniero, Alex, se ve inmerso en una conspiración global cuando descubre que las supercomputadoras han desarrollado emociones. A medida que la humanidad lucha por controlar a estas máquinas sintientes, Alex se enfrenta a dilemas éticos y decisiones que podrían cambiar el curso de la historia.\n",
      "\n",
      "Ficción Espacial: En la lejana galaxia de Zenthoria, dos civilizaciones alienígenas, los Dracorians y los Lumis, se encuentran al borde de la guerra intergaláctica. Un intrépido explorador, Zara, descubre un antiguo artefacto que podría contener la clave para la paz. Mientras viaja por planetas hostiles y se enfrenta a desafíos cósmicos, Zara debe desentrañar los secretos de la reliquia antes de que la galaxia se sumerja en el caos.\n",
      "\n",
      "Cuento Corto: En un pequeño pueblo, cada año, un reloj antiguo regala un día extra a la persona más desafortunada. Emma, una joven huérfana, es la elegida este año. Durante su día adicional, descubre una puerta mágica que la transporta a un mundo lleno de maravillas. Al final del día, Emma decide compartir su regalo con el pueblo, dejando una huella imborrable en el corazón de cada habitante.\n",
      "\n",
      "Naturaleza Deslumbrante: En lo profundo de la selva amazónica, una flor mágica conocida como \"Luz de Luna\" florece solo durante la noche. Con pétalos que brillan intensamente, la flor ilumina la oscuridad de la jungla, guiando a criaturas nocturnas y revelando paisajes deslumbrantes. Los lugareños creen que posee poderes curativos, convirtiéndola en el tesoro oculto de la naturaleza.\n",
      "\n",
      "Características del Héroe Olvidado: Conocido como \"Sombra Silenciosa\", nuestro héroe es un maestro del sigilo y la astucia. Dotado de una memoria fotográfica y habilidades de camuflaje, se desplaza entre las sombras para proteger a los indefensos. Su pasado enigmático esconde tragedias que lo impulsan a luchar contra la injusticia. Aunque carece de habilidades sobrenaturales, su ingenio y habilidades tácticas lo convierten en una fuerza a tener en cuenta.\n",
      "\n"
     ]
    }
   ],
   "source": [
    "for result in results['documents'][0]:\n",
    "    print(result)\n",
    "    print('')"
   ]
  },
  {
   "cell_type": "code",
   "execution_count": 124,
   "metadata": {},
   "outputs": [
    {
     "data": {
      "text/plain": [
       "[['Ficción Tecnológica: En un futuro distópico, la inteligencia artificial ha evolucionado al punto de alcanzar la singularidad. Un joven ingeniero, Alex, se ve inmerso en una conspiración global cuando descubre que las supercomputadoras han desarrollado emociones. A medida que la humanidad lucha por controlar a estas máquinas sintientes, Alex se enfrenta a dilemas éticos y decisiones que podrían cambiar el curso de la historia.',\n",
       "  'Ficción Espacial: En la lejana galaxia de Zenthoria, dos civilizaciones alienígenas, los Dracorians y los Lumis, se encuentran al borde de la guerra intergaláctica. Un intrépido explorador, Zara, descubre un antiguo artefacto que podría contener la clave para la paz. Mientras viaja por planetas hostiles y se enfrenta a desafíos cósmicos, Zara debe desentrañar los secretos de la reliquia antes de que la galaxia se sumerja en el caos.',\n",
       "  'Cuento Corto: En un pequeño pueblo, cada año, un reloj antiguo regala un día extra a la persona más desafortunada. Emma, una joven huérfana, es la elegida este año. Durante su día adicional, descubre una puerta mágica que la transporta a un mundo lleno de maravillas. Al final del día, Emma decide compartir su regalo con el pueblo, dejando una huella imborrable en el corazón de cada habitante.',\n",
       "  'Naturaleza Deslumbrante: En lo profundo de la selva amazónica, una flor mágica conocida como \"Luz de Luna\" florece solo durante la noche. Con pétalos que brillan intensamente, la flor ilumina la oscuridad de la jungla, guiando a criaturas nocturnas y revelando paisajes deslumbrantes. Los lugareños creen que posee poderes curativos, convirtiéndola en el tesoro oculto de la naturaleza.',\n",
       "  'Características del Héroe Olvidado: Conocido como \"Sombra Silenciosa\", nuestro héroe es un maestro del sigilo y la astucia. Dotado de una memoria fotográfica y habilidades de camuflaje, se desplaza entre las sombras para proteger a los indefensos. Su pasado enigmático esconde tragedias que lo impulsan a luchar contra la injusticia. Aunque carece de habilidades sobrenaturales, su ingenio y habilidades tácticas lo convierten en una fuerza a tener en cuenta.']]"
      ]
     },
     "execution_count": 124,
     "metadata": {},
     "output_type": "execute_result"
    }
   ],
   "source": [
    "results['documents']"
   ]
  },
  {
   "cell_type": "code",
   "execution_count": 116,
   "metadata": {},
   "outputs": [
    {
     "data": {
      "text/plain": [
       "{'ids': [['6a8489c1-349a-11ef-a7b4-4c77cb1e1a4e',\n",
       "   '6a47224f-349a-11ef-8452-4c77cb1e1a4e',\n",
       "   '6ae1f90e-349a-11ef-9120-4c77cb1e1a4e',\n",
       "   '6ab8fbef-349a-11ef-9bc6-4c77cb1e1a4e',\n",
       "   '6b0d23cf-349a-11ef-b3ca-4c77cb1e1a4e']],\n",
       " 'distances': None,\n",
       " 'metadatas': None,\n",
       " 'embeddings': None,\n",
       " 'documents': [['Ficción Tecnológica: En un futuro distópico, la inteligencia artificial ha evolucionado al punto de alcanzar la singularidad. Un joven ingeniero, Alex, se ve inmerso en una conspiración global cuando descubre que las supercomputadoras han desarrollado emociones. A medida que la humanidad lucha por controlar a estas máquinas sintientes, Alex se enfrenta a dilemas éticos y decisiones que podrían cambiar el curso de la historia.',\n",
       "   'Ficción Espacial: En la lejana galaxia de Zenthoria, dos civilizaciones alienígenas, los Dracorians y los Lumis, se encuentran al borde de la guerra intergaláctica. Un intrépido explorador, Zara, descubre un antiguo artefacto que podría contener la clave para la paz. Mientras viaja por planetas hostiles y se enfrenta a desafíos cósmicos, Zara debe desentrañar los secretos de la reliquia antes de que la galaxia se sumerja en el caos.',\n",
       "   'Cuento Corto: En un pequeño pueblo, cada año, un reloj antiguo regala un día extra a la persona más desafortunada. Emma, una joven huérfana, es la elegida este año. Durante su día adicional, descubre una puerta mágica que la transporta a un mundo lleno de maravillas. Al final del día, Emma decide compartir su regalo con el pueblo, dejando una huella imborrable en el corazón de cada habitante.',\n",
       "   'Naturaleza Deslumbrante: En lo profundo de la selva amazónica, una flor mágica conocida como \"Luz de Luna\" florece solo durante la noche. Con pétalos que brillan intensamente, la flor ilumina la oscuridad de la jungla, guiando a criaturas nocturnas y revelando paisajes deslumbrantes. Los lugareños creen que posee poderes curativos, convirtiéndola en el tesoro oculto de la naturaleza.',\n",
       "   'Características del Héroe Olvidado: Conocido como \"Sombra Silenciosa\", nuestro héroe es un maestro del sigilo y la astucia. Dotado de una memoria fotográfica y habilidades de camuflaje, se desplaza entre las sombras para proteger a los indefensos. Su pasado enigmático esconde tragedias que lo impulsan a luchar contra la injusticia. Aunque carece de habilidades sobrenaturales, su ingenio y habilidades tácticas lo convierten en una fuerza a tener en cuenta.']],\n",
       " 'uris': None,\n",
       " 'data': None}"
      ]
     },
     "execution_count": 116,
     "metadata": {},
     "output_type": "execute_result"
    }
   ],
   "source": [
    "results"
   ]
  },
  {
   "cell_type": "code",
   "execution_count": null,
   "metadata": {},
   "outputs": [],
   "source": [
    "Emma escolheu compartilhar sua aventura mágica com os habitantes da cidade, deixando uma lembrança inesquecível para todos. 😊🤲🌟\n"
   ]
  },
  {
   "cell_type": "code",
   "execution_count": null,
   "metadata": {},
   "outputs": [],
   "source": [
    "test_respuesta"
   ]
  },
  {
   "cell_type": "code",
   "execution_count": null,
   "metadata": {},
   "outputs": [],
   "source": [
    "Zara é um intrépido explorador em uma missão para desvendar os mistérios de um antigo artefato alienígena e trazer paz à galáxia de Zenthoria. 🚀🛸🌌️\n"
   ]
  },
  {
   "cell_type": "code",
   "execution_count": 59,
   "metadata": {},
   "outputs": [
    {
     "data": {
      "text/plain": [
       "'Zara is an intrepid explorer on a mission to unravel the mysteries of an ancient artifact that holds the key to intergalactic peace. 🚀'"
      ]
     },
     "execution_count": 59,
     "metadata": {},
     "output_type": "execute_result"
    }
   ],
   "source": [
    "respuesta[0]"
   ]
  },
  {
   "cell_type": "code",
   "execution_count": null,
   "metadata": {},
   "outputs": [],
   "source": [
    "('Zara es un valiente explorador que descubre un antiguo artefacto que podría ser clave para evitar una guerra intergaláctica. 🌌️🔑🛡️',)\n",
    "('Zara es un valiente explorador que descubre un antiguo artefacto que podría ser clave para evitar una guerra intergaláctica. 🌌️🔑🛡️',)\n",
    "('Zara es un valiente explorador que descubre un antiguo artefacto que podría ser clave para evitar una guerra intergaláctica. 🌌️🔑🛡️',)"
   ]
  },
  {
   "cell_type": "code",
   "execution_count": null,
   "metadata": {},
   "outputs": [],
   "source": [
    "('Zara is an intrepid explorer on a mission to unravel the mysteries of an ancient artifact that holds the key to intergalactic peace. 🚀',)\n",
    "('Zara is an intrepid explorer on a mission to unravel the mysteries of an ancient artifact that holds the key to intergalactic peace. 🚀',)\n",
    "('Zara is an intrepid explorer on a mission to unravel the mysteries of an ancient artifact that holds the key to intergalactic peace. 🚀',)"
   ]
  },
  {
   "cell_type": "code",
   "execution_count": 43,
   "metadata": {},
   "outputs": [],
   "source": [
    "import time\n",
    "from ratelimit import limits, sleep_and_retry\n",
    "\n",
    "# Limites del API de Cohere\n",
    "EMBED_LIMIT = 5  # llamadas por minuto\n",
    "RERANK_CHAT_LIMIT = 10  # llamadas por minuto\n",
    "OTHER_LIMIT = 100  # llamadas por minuto\n",
    "\n",
    "# @sleep_and_retry\n",
    "# @limits(calls=EMBED_LIMIT, period=60)"
   ]
  },
  {
   "cell_type": "code",
   "execution_count": null,
   "metadata": {},
   "outputs": [],
   "source": [
    "# pip install ratelimit"
   ]
  },
  {
   "cell_type": "code",
   "execution_count": null,
   "metadata": {},
   "outputs": [],
   "source": [
    "query ='Who is Zara?'\n",
    "query ='What did Emma decide to do?'\n",
    "results,contexto = get_context(query)\n",
    "generate_response(query,contexto)\n",
    "\n",
    "\n",
    "('Emma chose to share her magical day with the town, leaving a lasting impression on its people. 🎁🤍🌟',)\n",
    "('Emma chose to share her magical day with the town, leaving a lasting impression on its people. 🎁🤍🌟',)\n",
    "('Emma chose to spread joy, opening a magical portal for others to explore, leaving the town with unforgettable memories. 🎁🤍🌌',)\n",
    "('Emma chose to spread joy, opening a magical portal for others to explore, leaving the town with unforgettable memories. 🎁🤍🌌',)\n",
    "('Emma chose to spread joy, opening a magical portal for others to explore, leaving the town with unforgettable memories. 🎁🤍🌌',)\n",
    "('Emma chose to spread joy, opening a magical portal for others to explore, leaving the town with unforgettable memories. 🎁🤍🌌',)\n",
    "('Emma chose to spread joy, opening a magical portal for others to explore, leaving the town with unforgettable memories. 🎁🤍🌌',)\n",
    "\n",
    "\n",
    "\n"
   ]
  },
  {
   "cell_type": "code",
   "execution_count": null,
   "metadata": {},
   "outputs": [],
   "source": [
    "¿Qué decidió hacer Emma?"
   ]
  },
  {
   "cell_type": "code",
   "execution_count": 316,
   "metadata": {},
   "outputs": [],
   "source": [
    "query ='Who is Zara?'\n",
    "results,contexto = get_context(query)\n",
    "generate_response(query,contexto)\n"
   ]
  },
  {
   "cell_type": "code",
   "execution_count": 297,
   "metadata": {},
   "outputs": [
    {
     "data": {
      "text/plain": [
       "'Pruebas pasadas con éxito'"
      ]
     },
     "execution_count": 297,
     "metadata": {},
     "output_type": "execute_result"
    }
   ],
   "source": []
  },
  {
   "cell_type": "code",
   "execution_count": 283,
   "metadata": {},
   "outputs": [
    {
     "data": {
      "text/plain": [
       "NonStreamedChatResponse(text='es', generation_id='df6a5a95-3c39-465d-b679-61df142d7f96', citations=None, documents=None, is_search_required=None, search_queries=None, search_results=None, finish_reason='COMPLETE', tool_calls=None, chat_history=[Message_System(message='Eres  un detector muy preciso de idiomas,dime el idioma en una sola palabra (es, en, pt) de la siguiente pregunta : ', tool_calls=None, role='SYSTEM'), Message_User(message='quien es el presidente de los estados unido?', tool_calls=None, role='USER'), Message_Chatbot(message='es', tool_calls=None, role='CHATBOT')], prompt=None, meta=ApiMeta(api_version=ApiMetaApiVersion(version='1', is_deprecated=None, is_experimental=None), billed_units=ApiMetaBilledUnits(input_tokens=40, output_tokens=1, search_units=None, classifications=None), tokens=ApiMetaTokens(input_tokens=109, output_tokens=1), warnings=None), response_id='eef210ed-78e6-4e92-bb6a-4578e1447079')"
      ]
     },
     "execution_count": 283,
     "metadata": {},
     "output_type": "execute_result"
    }
   ],
   "source": [
    "query ='Who is Zara?'\n",
    "query ='quien es el presidente de los estados unido?'\n",
    "response = co.chat(\n",
    "chat_history=[\n",
    "    {\"role\": \"SYSTEM\", \"message\": f\"\"\"Eres  un detector muy preciso de idiomas,dime el idioma en una sola palabra (es, en, pt) de la siguiente pregunta : \"\"\"},\n",
    "],\n",
    "message=f\"\"\"{query}\"\"\",\n",
    "# connectors=[{\"id\": \"translation\"}],\n",
    "seed=44,\n",
    "temperature=0,\n",
    ")\n",
    "\n",
    "response"
   ]
  },
  {
   "cell_type": "code",
   "execution_count": 258,
   "metadata": {},
   "outputs": [
    {
     "data": {
      "text/plain": [
       "'Características del Héroe Olvidado: Conocido como \"Sombra Silenciosa\", nuestro héroe es un maestro del sigilo y la astucia. Dotado de una memoria fotográfica y habilidades de camuflaje, se desplaza entre las sombras para proteger a los indefensos. Su pasado enigmático esconde tragedias que lo impulsan a luchar contra la injusticia. Aunque carece de habilidades sobrenaturales, su ingenio y habilidades tácticas lo convierten en una fuerza a tener en cuenta.'"
      ]
     },
     "execution_count": 258,
     "metadata": {},
     "output_type": "execute_result"
    }
   ],
   "source": [
    "contexto"
   ]
  },
  {
   "cell_type": "code",
   "execution_count": 300,
   "metadata": {},
   "outputs": [],
   "source": [
    "# results['embeddings'][0][0]"
   ]
  },
  {
   "cell_type": "code",
   "execution_count": 182,
   "metadata": {},
   "outputs": [
    {
     "data": {
      "text/plain": [
       "'fr'"
      ]
     },
     "execution_count": 182,
     "metadata": {},
     "output_type": "execute_result"
    }
   ],
   "source": [
    "language = langid.classify(query)[0]\n",
    "language"
   ]
  },
  {
   "cell_type": "code",
   "execution_count": 184,
   "metadata": {},
   "outputs": [],
   "source": [
    "query ='Who is Zara?'"
   ]
  },
  {
   "cell_type": "code",
   "execution_count": 189,
   "metadata": {},
   "outputs": [],
   "source": [
    "query = \"O que Emma decidiu fazer?\""
   ]
  },
  {
   "cell_type": "code",
   "execution_count": 190,
   "metadata": {},
   "outputs": [
    {
     "data": {
      "text/plain": [
       "('ca', -61.328288555145264)"
      ]
     },
     "execution_count": 190,
     "metadata": {},
     "output_type": "execute_result"
    }
   ],
   "source": [
    "langid.classify(query)"
   ]
  },
  {
   "cell_type": "code",
   "execution_count": 172,
   "metadata": {},
   "outputs": [
    {
     "data": {
      "text/plain": [
       "'Ficción Espacial: En la lejana galaxia de Zenthoria, dos civilizaciones alienígenas, los Dracorians y los Lumis, se encuentran al borde de la guerra intergaláctica. Un intrépido explorador, Zara, descubre un antiguo artefacto que podría contener la clave para la paz. Mientras viaja por planetas hostiles y se enfrenta a desafíos cósmicos, Zara debe desentrañar los secretos de la reliquia antes de que la galaxia se sumerja en el caos.'"
      ]
     },
     "execution_count": 172,
     "metadata": {},
     "output_type": "execute_result"
    }
   ],
   "source": [
    "contexto"
   ]
  },
  {
   "cell_type": "code",
   "execution_count": 137,
   "metadata": {},
   "outputs": [],
   "source": [
    "# test_text = \"Este es un texto de prueba.\"\n",
    "# embeddings = cohere_ef([test_text])"
   ]
  },
  {
   "cell_type": "code",
   "execution_count": 138,
   "metadata": {},
   "outputs": [],
   "source": [
    "# cohere_ef.embed_query(input = [\"Hola mundo\"],retry_kwargs={\"max_retries\": 3, \"wait_time\": 1})"
   ]
  },
  {
   "cell_type": "code",
   "execution_count": 42,
   "metadata": {},
   "outputs": [
    {
     "ename": "ValueError",
     "evalue": "Expected each embedding in the embeddings to be a list, got ['tuple']",
     "output_type": "error",
     "traceback": [
      "\u001b[1;31m---------------------------------------------------------------------------\u001b[0m",
      "\u001b[1;31mValueError\u001b[0m                                Traceback (most recent call last)",
      "Cell \u001b[1;32mIn[42], line 2\u001b[0m\n\u001b[0;32m      1\u001b[0m test_text \u001b[38;5;241m=\u001b[39m \u001b[38;5;124m\"\u001b[39m\u001b[38;5;124mEste es un texto de prueba.\u001b[39m\u001b[38;5;124m\"\u001b[39m\n\u001b[1;32m----> 2\u001b[0m embeddings \u001b[38;5;241m=\u001b[39m \u001b[43mcohere_ef\u001b[49m\u001b[43m(\u001b[49m\u001b[43m[\u001b[49m\u001b[43mtest_text\u001b[49m\u001b[43m]\u001b[49m\u001b[43m)\u001b[49m\n\u001b[0;32m      4\u001b[0m \u001b[38;5;66;03m# Asegúrate de que el embedding sea una lista de listas\u001b[39;00m\n\u001b[0;32m      5\u001b[0m \u001b[38;5;28;01mif\u001b[39;00m \u001b[38;5;129;01mnot\u001b[39;00m \u001b[38;5;28misinstance\u001b[39m(embeddings, \u001b[38;5;28mlist\u001b[39m) \u001b[38;5;129;01mor\u001b[39;00m \u001b[38;5;129;01mnot\u001b[39;00m \u001b[38;5;28mall\u001b[39m(\u001b[38;5;28misinstance\u001b[39m(e, \u001b[38;5;28mlist\u001b[39m) \u001b[38;5;28;01mfor\u001b[39;00m e \u001b[38;5;129;01min\u001b[39;00m embeddings):\n",
      "File \u001b[1;32mc:\\Users\\mavix\\.conda\\envs\\pi_challenge_rag_llm\\lib\\site-packages\\chromadb\\api\\types.py:198\u001b[0m, in \u001b[0;36mEmbeddingFunction.__init_subclass__.<locals>.__call__\u001b[1;34m(self, input)\u001b[0m\n\u001b[0;32m    196\u001b[0m \u001b[38;5;28;01mdef\u001b[39;00m \u001b[38;5;21m__call__\u001b[39m(\u001b[38;5;28mself\u001b[39m: EmbeddingFunction[D], \u001b[38;5;28minput\u001b[39m: D) \u001b[38;5;241m-\u001b[39m\u001b[38;5;241m>\u001b[39m Embeddings:\n\u001b[0;32m    197\u001b[0m     result \u001b[38;5;241m=\u001b[39m call(\u001b[38;5;28mself\u001b[39m, \u001b[38;5;28minput\u001b[39m)\n\u001b[1;32m--> 198\u001b[0m     \u001b[38;5;28;01mreturn\u001b[39;00m \u001b[43mvalidate_embeddings\u001b[49m\u001b[43m(\u001b[49m\u001b[43mmaybe_cast_one_to_many_embedding\u001b[49m\u001b[43m(\u001b[49m\u001b[43mresult\u001b[49m\u001b[43m)\u001b[49m\u001b[43m)\u001b[49m\n",
      "File \u001b[1;32mc:\\Users\\mavix\\.conda\\envs\\pi_challenge_rag_llm\\lib\\site-packages\\chromadb\\api\\types.py:492\u001b[0m, in \u001b[0;36mvalidate_embeddings\u001b[1;34m(embeddings)\u001b[0m\n\u001b[0;32m    488\u001b[0m     \u001b[38;5;28;01mraise\u001b[39;00m \u001b[38;5;167;01mValueError\u001b[39;00m(\n\u001b[0;32m    489\u001b[0m         \u001b[38;5;124mf\u001b[39m\u001b[38;5;124m\"\u001b[39m\u001b[38;5;124mExpected embeddings to be a list with at least one item, got \u001b[39m\u001b[38;5;132;01m{\u001b[39;00m\u001b[38;5;28mlen\u001b[39m(embeddings)\u001b[38;5;132;01m}\u001b[39;00m\u001b[38;5;124m embeddings\u001b[39m\u001b[38;5;124m\"\u001b[39m\n\u001b[0;32m    490\u001b[0m     )\n\u001b[0;32m    491\u001b[0m \u001b[38;5;28;01mif\u001b[39;00m \u001b[38;5;129;01mnot\u001b[39;00m \u001b[38;5;28mall\u001b[39m([\u001b[38;5;28misinstance\u001b[39m(e, \u001b[38;5;28mlist\u001b[39m) \u001b[38;5;28;01mfor\u001b[39;00m e \u001b[38;5;129;01min\u001b[39;00m embeddings]):\n\u001b[1;32m--> 492\u001b[0m     \u001b[38;5;28;01mraise\u001b[39;00m \u001b[38;5;167;01mValueError\u001b[39;00m(\n\u001b[0;32m    493\u001b[0m         \u001b[38;5;124m\"\u001b[39m\u001b[38;5;124mExpected each embedding in the embeddings to be a list, got \u001b[39m\u001b[38;5;124m\"\u001b[39m\n\u001b[0;32m    494\u001b[0m         \u001b[38;5;124mf\u001b[39m\u001b[38;5;124m\"\u001b[39m\u001b[38;5;132;01m{\u001b[39;00m\u001b[38;5;28mlist\u001b[39m(\u001b[38;5;28mset\u001b[39m([\u001b[38;5;28mtype\u001b[39m(e)\u001b[38;5;241m.\u001b[39m\u001b[38;5;18m__name__\u001b[39m\u001b[38;5;250m \u001b[39m\u001b[38;5;28;01mfor\u001b[39;00m\u001b[38;5;250m \u001b[39me\u001b[38;5;250m \u001b[39m\u001b[38;5;129;01min\u001b[39;00m\u001b[38;5;250m \u001b[39membeddings]))\u001b[38;5;132;01m}\u001b[39;00m\u001b[38;5;124m\"\u001b[39m\n\u001b[0;32m    495\u001b[0m     )\n\u001b[0;32m    496\u001b[0m \u001b[38;5;28;01mfor\u001b[39;00m i, embedding \u001b[38;5;129;01min\u001b[39;00m \u001b[38;5;28menumerate\u001b[39m(embeddings):\n\u001b[0;32m    497\u001b[0m     \u001b[38;5;28;01mif\u001b[39;00m \u001b[38;5;28mlen\u001b[39m(embedding) \u001b[38;5;241m==\u001b[39m \u001b[38;5;241m0\u001b[39m:\n",
      "\u001b[1;31mValueError\u001b[0m: Expected each embedding in the embeddings to be a list, got ['tuple']"
     ]
    }
   ],
   "source": [
    "test_text = \"Este es un texto de prueba.\"\n",
    "embeddings = cohere_ef([test_text])\n",
    "\n",
    "# Asegúrate de que el embedding sea una lista de listas\n",
    "if not isinstance(embeddings, list) or not all(isinstance(e, list) for e in embeddings):\n",
    "    embeddings = [list(e) for e in embeddings]\n",
    "\n",
    "print(embeddings)\n"
   ]
  },
  {
   "cell_type": "code",
   "execution_count": 39,
   "metadata": {},
   "outputs": [
    {
     "data": {
      "text/plain": [
       "[<chromadb.api.models.Collection.Collection at 0x17972792610>]"
      ]
     },
     "execution_count": 39,
     "metadata": {},
     "output_type": "execute_result"
    }
   ],
   "source": [
    "client.list_collections()"
   ]
  },
  {
   "cell_type": "code",
   "execution_count": null,
   "metadata": {},
   "outputs": [],
   "source": [
    "text_spliter_chunck()"
   ]
  },
  {
   "cell_type": "code",
   "execution_count": 19,
   "metadata": {},
   "outputs": [
    {
     "data": {
      "text/plain": [
       "[134, 104, 118, 112, 127]"
      ]
     },
     "execution_count": 19,
     "metadata": {},
     "output_type": "execute_result"
    }
   ],
   "source": [
    "ntoken_list"
   ]
  },
  {
   "cell_type": "code",
   "execution_count": 12,
   "metadata": {},
   "outputs": [
    {
     "ename": "NameError",
     "evalue": "name 'doc' is not defined",
     "output_type": "error",
     "traceback": [
      "\u001b[1;31m---------------------------------------------------------------------------\u001b[0m",
      "\u001b[1;31mNameError\u001b[0m                                 Traceback (most recent call last)",
      "Cell \u001b[1;32mIn[12], line 1\u001b[0m\n\u001b[1;32m----> 1\u001b[0m [paragraph\u001b[38;5;241m.\u001b[39mtext \u001b[38;5;28;01mfor\u001b[39;00m paragraph \u001b[38;5;129;01min\u001b[39;00m \u001b[43mdoc\u001b[49m\u001b[38;5;241m.\u001b[39mparagraphs]\n",
      "\u001b[1;31mNameError\u001b[0m: name 'doc' is not defined"
     ]
    }
   ],
   "source": [
    "[paragraph.text for paragraph in doc.paragraphs]\n"
   ]
  },
  {
   "cell_type": "code",
   "execution_count": 11,
   "metadata": {},
   "outputs": [
    {
     "ename": "NameError",
     "evalue": "name 'doc' is not defined",
     "output_type": "error",
     "traceback": [
      "\u001b[1;31m---------------------------------------------------------------------------\u001b[0m",
      "\u001b[1;31mNameError\u001b[0m                                 Traceback (most recent call last)",
      "Cell \u001b[1;32mIn[11], line 1\u001b[0m\n\u001b[1;32m----> 1\u001b[0m \u001b[43mdoc\u001b[49m\u001b[38;5;241m.\u001b[39mparagraphs\n",
      "\u001b[1;31mNameError\u001b[0m: name 'doc' is not defined"
     ]
    }
   ],
   "source": [
    "doc.paragraphs"
   ]
  },
  {
   "cell_type": "code",
   "execution_count": 16,
   "metadata": {},
   "outputs": [],
   "source": [
    "def text_to_chromadb(pdf):\n",
    "\n",
    "    temp_dir = tempfile.TemporaryDirectory()\n",
    "    temp_filepath = os.path.join(temp_dir.name, pdf.name)\n",
    "    with open(temp_filepath, \"wb\") as f:\n",
    "        f.write(pdf.getvalue())\n",
    "\n",
    "\n",
    "\n",
    "    loader = PyPDFLoader(temp_filepath)\n",
    "    text = loader.load()\n",
    "\n",
    "\n",
    "\n",
    "    with st.spinner(f'Creando embedding fichero: {pdf.name}'):\n",
    "        create_embeddings(pdf.name, text)\n",
    "\n",
    "\n",
    "\n",
    "\n",
    "    return True"
   ]
  },
  {
   "cell_type": "code",
   "execution_count": null,
   "metadata": {},
   "outputs": [],
   "source": [
    "import os\n",
    "import streamlit as st\n",
    "\n",
    "\n",
    "\n",
    "import chromadb\n",
    "import tempfile\n",
    "from langchain.text_splitter import RecursiveCharacterTextSplitter\n",
    "from langchain.document_loaders import PyPDFLoader\n",
    "from langchain.vectorstores import Chroma\n",
    "from langchain.embeddings import HuggingFaceEmbeddings\n",
    "\n",
    "\n",
    "\n",
    "\n",
    "\n",
    "FILE_LIST = \"archivos.txt\"\n",
    "INDEX_NAME = 'taller'\n",
    "\n",
    "\n",
    "\n",
    "chroma_client = chromadb.HttpClient(host='localhost', port=8000)\n",
    "\n",
    "\n",
    "\n",
    "def save_name_files(path, new_files):\n",
    "\n",
    "\n",
    "\n",
    "    old_files = load_name_files(path)\n",
    "\n",
    "\n",
    "\n",
    "    with open(path, \"a\") as file:\n",
    "        for item in new_files:\n",
    "            if item not in old_files:\n",
    "                file.write(item + \"\\n\")\n",
    "                old_files.append(item)\n",
    "    \n",
    "    return old_files\n",
    "\n",
    "\n",
    "\n",
    "\n",
    "\n",
    "def load_name_files(path):\n",
    "\n",
    "\n",
    "\n",
    "    archivos = []\n",
    "    with open(path, \"r\") as file:\n",
    "        for line in file:\n",
    "            archivos.append(line.strip())\n",
    "\n",
    "\n",
    "\n",
    "    return archivos\n",
    "\n",
    "\n",
    "\n",
    "\n",
    "\n",
    "def clean_files(path):\n",
    "    with open(path, \"w\") as file:\n",
    "        pass\n",
    "    chroma_client.delete_collection(name=INDEX_NAME)\n",
    "    collection = chroma_client.create_collection(name=INDEX_NAME)\n",
    "\n",
    "\n",
    "\n",
    "    return True\n",
    "\n",
    "\n",
    "\n",
    "\n",
    "\n",
    "def text_to_chromadb(pdf):\n",
    "\n",
    "\n",
    "\n",
    "    temp_dir = tempfile.TemporaryDirectory()\n",
    "    temp_filepath = os.path.join(temp_dir.name, pdf.name)\n",
    "    with open(temp_filepath, \"wb\") as f:\n",
    "        f.write(pdf.getvalue())\n",
    "\n",
    "\n",
    "\n",
    "    loader = PyPDFLoader(temp_filepath)\n",
    "    text = loader.load()\n",
    "\n",
    "\n",
    "\n",
    "    with st.spinner(f'Creando embedding fichero: {pdf.name}'):\n",
    "        create_embeddings(pdf.name, text)\n",
    "\n",
    "\n",
    "\n",
    "    return True\n",
    "\n",
    "\n",
    "\n",
    "\n",
    "\n",
    "def create_embeddings(file_name, text):\n",
    "    print(f\"Creando embeddings del archivo: {file_name}\")\n",
    "\n",
    "\n",
    "\n",
    "    text_splitter = RecursiveCharacterTextSplitter(\n",
    "        chunk_size=800,\n",
    "        chunk_overlap=100,\n",
    "        length_function=len\n",
    "        )        \n",
    "    \n",
    "    chunks = text_splitter.split_documents(text)\n",
    "\n",
    "\n",
    "\n",
    "    embeddings = HuggingFaceEmbeddings(\n",
    "        model_name=\"sentence-transformers/paraphrase-multilingual-MiniLM-L12-v2\"\n",
    "        )\n",
    "    \n",
    "    Chroma.from_documents(\n",
    "        chunks,\n",
    "        embeddings,   \n",
    "        client=chroma_client,\n",
    "        collection_name=INDEX_NAME)\n",
    "        \n",
    "    return True"
   ]
  },
  {
   "cell_type": "code",
   "execution_count": null,
   "metadata": {},
   "outputs": [],
   "source": []
  },
  {
   "cell_type": "code",
   "execution_count": null,
   "metadata": {},
   "outputs": [],
   "source": []
  },
  {
   "cell_type": "code",
   "execution_count": null,
   "metadata": {},
   "outputs": [],
   "source": []
  },
  {
   "cell_type": "code",
   "execution_count": null,
   "metadata": {},
   "outputs": [],
   "source": []
  },
  {
   "cell_type": "code",
   "execution_count": null,
   "metadata": {},
   "outputs": [],
   "source": []
  },
  {
   "cell_type": "code",
   "execution_count": null,
   "metadata": {},
   "outputs": [],
   "source": []
  },
  {
   "cell_type": "code",
   "execution_count": null,
   "metadata": {},
   "outputs": [],
   "source": []
  },
  {
   "cell_type": "code",
   "execution_count": null,
   "metadata": {},
   "outputs": [],
   "source": []
  },
  {
   "cell_type": "code",
   "execution_count": null,
   "metadata": {},
   "outputs": [],
   "source": []
  },
  {
   "cell_type": "code",
   "execution_count": null,
   "metadata": {},
   "outputs": [],
   "source": [
    "def print_collections(collections:list) -> None:\n",
    "\n",
    "    for collection in collections:\n",
    "        print(f\"Collection(name={collection.name})\")\n",
    "\n",
    "def print_verbose(msg: str,verbose:bool) -> None:\n",
    "    print(msg) if verbose else None\n",
    "\n",
    "\n",
    "\n",
    "def num_tokens_from_string(string: str, encoding_name: str=\"cl100k_base\") -> int:\n",
    "    encoding = tiktoken.get_encoding(encoding_name)\n",
    "    num_tokens = len(encoding.encode(string))\n",
    "    return num_tokens\n",
    "\n",
    "\n",
    "def doc_to_paragraphs(file:str='F:\\Proyectos\\PiConsulting\\challenge_rag_llm\\docs\\documento.docx'):\n",
    "    # Abre el archivo .docx\n",
    "    doc = Document(file)\n",
    "\n",
    "    list_parrafo = [parrafo.text for parrafo in doc.paragraphs if (parrafo.text != \"\")and(parrafo.text != \" \")]\n",
    "    ntoken_list = [num_tokens_from_string(parrafo) for parrafo in list_parrafo]\n",
    "\n",
    "    return ntoken_list, list_parrafo\n",
    "\n",
    "\n",
    "\n",
    "    \n",
    "def split_text(\n",
    "        input: Union[str,\n",
    "        List[str]],\n",
    "        unir_list:bool=False, \n",
    "        chunk_size: int=300,\n",
    "        chunk_overlap: int=0,\n",
    "        separators:list=[\"\\n\\n\", \"\\n\",],\n",
    "        verbose=False\n",
    ")->list:\n",
    "\n",
    "    if isinstance(input, str):\n",
    "        input = [input]\n",
    "    elif isinstance(input, list):\n",
    "        if unir_list:\n",
    "            input = [\" \".join(input)]\n",
    "    print_verbose(input,verbose)\n",
    "\n",
    "    # Configuración del splitter\n",
    "    text_splitter = RecursiveCharacterTextSplitter(\n",
    "        separators=separators,          # Separadores a utilizar\n",
    "        chunk_size=chunk_size,          # Tamaño de cada chunk\n",
    "        chunk_overlap=chunk_overlap,    # Solapamiento entre chunks\n",
    "    )\n",
    "\n",
    "    # Crear documentos divididos\n",
    "    docs = text_splitter.create_documents(input)\n",
    "\n",
    "    # Mostrar resultado\n",
    "    for doc in docs:\n",
    "        print_verbose(msg=f'Chunk: {doc.page_content}', verbose=verbose)\n",
    "\n",
    "    return docs\n",
    "\n",
    "\n",
    "def get_context(collection:Collection,query:str,n_results:int=1):\n",
    "    # query_embedding = co.embed(texts=[query]).embeddings[0]\n",
    "    query_embedding = co.embed(texts=[query],model='embed-multilingual-v3.0',input_type ='search_query').embeddings[0] # search_query\" or \"search_document\"\n",
    "    results = collection.query(query_embeddings=query_embedding, n_results=n_results,include=['documents']) #include=['embeddings','documents']\n",
    "    contexto = ' '.join([result for result in results['documents'][0]])\n",
    "    # contexto  = results['documents'][0][0]\n",
    "    contexto\n",
    "    return results,contexto\n",
    "\n",
    "def add_documents_to_collection(\n",
    "        collection:Collection,\n",
    "        docs:list,\n",
    "        model:str ='embed-multilingual-v3.0',\n",
    "        input_type: Optional[EmbedInputType]='search_query',\n",
    "        embedding_types:Optional[EmbedInputType]= None,\n",
    "        metadata_options:dict = dict(),\n",
    "\n",
    "    )->Collection:\n",
    "    for doc in docs:\n",
    "        doc = doc.page_content\n",
    "        uuid_name = uuid.uuid1()\n",
    "        embedding = co.embed(texts=[doc], model=model, input_type=input_type,\n",
    "            embedding_types=embedding_types).embeddings[0] # search_query\" or \"search_document\"\n",
    "        print(\"document for\", uuid_name)\n",
    "        # doc.page_content\n",
    "        \n",
    "        collection.add(ids=[str(uuid_name)],\n",
    "                    embeddings=embedding,\n",
    "                    metadatas=metadata_options,\n",
    "                    documents=doc)\n",
    "    return collection\n",
    "\n",
    "@sleep_and_retry\n",
    "@limits(calls=EMBED_LIMIT, period=60)\n",
    "def detect_language(query:str):\n",
    "    language = langid.classify(query)[0]\n",
    "    if not language in ['es','en','pt']:\n",
    "        response = co.chat(\n",
    "        chat_history=[\n",
    "            {\"role\": \"SYSTEM\", \"message\": f\"\"\"Eres  un detector muy preciso de idiomas,dime el idioma en una sola palabra (es, en, pt) de la siguiente pregunta : \"\"\"},\n",
    "        ],\n",
    "        message=f\"\"\"{query}\"\"\",\n",
    "        # connectors=[{\"id\": \"translation\"}],\n",
    "        seed=44,\n",
    "        temperature=0,\n",
    "        )\n",
    "        language = response.text\n",
    "    return language\n",
    "\n",
    "@sleep_and_retry\n",
    "@limits(calls=EMBED_LIMIT, period=60)\n",
    "def generate_response(query:str, contexto:str):\n",
    "\n",
    "    language = detect_language(query)\n",
    "\n",
    "    dict_important1 =  {\n",
    "            \"es\":\"Debes ser lo más conciso y preciso posible en la entrega de información (20 palabras o menos) y traducir tu respuesta si es necesario a partir del siguiente contexto:\",\n",
    "            \"en\":\"You must be as concise and precise as possible in delivering information (20 words or less) and translate your response if necessary from the following context:\",\n",
    "            \"pt\":\"Você deve ser o mais conciso e preciso possível na entrega de informações (20 palavras ou menos) e traduzir sua resposta, se necessário, a partir do seguinte contexto:\",\n",
    "            }\n",
    "\n",
    "    dict_important2 = {\n",
    "            \"es\": \"Responde en una sola oración, en el mismo idioma que la pregunta, incluyendo emojis que resuman el contenido de la respuesta, y siempre en tercera persona.\",\n",
    "            \"en\": \"Answer in one sentence, in the same language as the question, including emojis that summarize the content of the answer, and always in third person.\",\n",
    "            \"pt\": \"Responda em uma frase, no mesmo idioma da pergunta, incluindo emojis que resumam o conteúdo da resposta, e sempre na terceira pessoa.\",\n",
    "        }\n",
    "    dict_important3  = {\n",
    "            \"es\": \"Responde en español, si el texto esta en español traduce la respuesta al español.\",\n",
    "            \"en\": \"Answer in English, if the text is in español, translate the answer to English.\",\n",
    "            \"pt\": \"Responda em português, se o texto estiver em español, traduza a resposta para o português.\",\n",
    "        }\n",
    "\n",
    "    response = co.chat(\n",
    "        chat_history=[\n",
    "            {\"role\": \"SYSTEM\", \"message\": f\"\"\"{dict_important1[language]}\n",
    "            {contexto}\n",
    "            NOTA IMPORTANTE:\n",
    "            {dict_important2[language]}\n",
    "\n",
    "            \"\"\"},\n",
    "            \n",
    "            # {\n",
    "            #     \"role\": \"CHATBOT\",\n",
    "            #     \"message\": f\"ya identifique el idioma del siguiente mensaje :{query} procedere a responder en el mismo idioma.\",\n",
    "            # },\n",
    "        ],\n",
    "        message=f\"\"\"{query} {dict_important3[language]}\"\"\",\n",
    "        #\"realizar búsqueda web antes de responder a la pregunta. También puedes usar tu propio conector personalizado.\"\n",
    "        # · contenedores de traducion y busqueda en contexto\n",
    "        # connectors=[{\"id\": \"translation\"}],\n",
    "        seed=44,\n",
    "        temperature=0,\n",
    "        # conversation_id='user_defined_id_1',\n",
    "        # model = 'command-r-plus',\n",
    "        # model = 'command-r',\n",
    "    )\n",
    "    respuesta =response.text\n",
    "\n",
    "    return respuesta\n",
    "\n",
    "\n",
    "# Flujos de trabajo \n",
    "import os\n",
    "from dotenv import load_dotenv\n",
    "\n",
    "import chromadb\n",
    "\n",
    "from docx import Document\n",
    "import tiktoken\n",
    "from typing import Union, List\n",
    "\n",
    "from langchain_text_splitters import RecursiveCharacterTextSplitter\n",
    "\n",
    "from langdetect import detect\n",
    "import langid\n",
    "import cohere\n",
    "\n",
    "import uuid\n",
    "import cohere\n",
    "\n",
    "import time\n",
    "from ratelimit import limits, sleep_and_retry\n",
    "\n",
    "from typing import Sequence, Optional, Union,Literal,Any\n",
    "from chromadb.api.models.Collection import Collection\n",
    "EmbedRequestTruncate = Union[Literal[\"NONE\", \"START\", \"END\"], Any]\n",
    "EmbeddingType = Union[Literal[\"float\", \"int8\", \"uint8\", \"binary\", \"ubinary\"], Any]\n",
    "EmbedInputType = Union[ Literal[\"search_document\", \"search_query\", \"classification\", \"clustering\"], Any]\n",
    "\n",
    "\n",
    "import numpy as np\n",
    "# Limites del API de Cohere\n",
    "EMBED_LIMIT = 5  # llamadas por minuto\n",
    "RERANK_CHAT_LIMIT = 10  # llamadas por minuto\n",
    "OTHER_LIMIT = 100  # llamadas por minuto\n",
    "\n",
    "\n",
    "load_dotenv()\n",
    "COHERE_api_key: str = os.getenv(\"COHERE_API_KEY\")\n",
    "\n",
    "co = cohere.Client(COHERE_api_key)\n",
    "\n",
    "\n",
    "ntoken_list, list_parrafo = doc_to_paragraphs('F:\\Proyectos\\PiConsulting\\challenge_rag_llm\\docs\\documento.docx')\n",
    "docs = split_text(input=list_parrafo, chunk_size=500, chunk_overlap=20,unir_list=False,separators=None,verbose=False)#separators=[\"\\n\\n\", \"\\n\"]\n",
    "\n",
    "\n",
    "client = chromadb.PersistentClient(path=\"./../app/db/ChromaDB/\")\n",
    "collection = client.get_or_create_collection(name=\"document_chunks\")\n",
    "model = 'embed-multilingual-v3.0'\n",
    "input_type = 'search_query'\n",
    "embedding_types = None\n",
    "metadata_options = {\n",
    "    \"hnsw:space\": \"cosine\"  # You can change this to \"ip\" or \"cosine\" if needed\n",
    "}\n",
    "collection = add_documents_to_collection(\n",
    "    collection,\n",
    "    docs,\n",
    "    model= model,\n",
    "    input_type=input_type,\n",
    "    metadata_options=metadata_options,\n",
    "    embedding_types=embedding_types)\n",
    "\n",
    "# query ='quien es Zara?'\n",
    "# query ='Who is Zara?'\n",
    "# query ='Quem é Zara?'\n",
    "# query ='What did Emma decide to do?'\n",
    "# query ='¿Qué decidió hacer Emma?'\n",
    "# query ='O que Emma decidiu fazer?'\n",
    "query ='What is the name of the magical flower?'\n",
    "# query ='¿Cuál es el nombre de la flor mágica?'\n",
    "# query ='Qual é o nome da flor mágica?'\n",
    "# query ='de que trata el texto?'\n",
    "\n",
    "results,contexto = get_context(collection,query,5)\n",
    "respuesta = generate_response(query,contexto)\n",
    "print(respuesta)\n",
    "\n",
    "test_language_data = {'quien es Zara?':'es',\n",
    "                        'Who is Zara?':'en',\n",
    "                        'Quem é Zara?':'pt',\n",
    "                        'What did Emma decide to do?':'en',\n",
    "                        '¿Qué decidió hacer Emma?':'es',\n",
    "                        'O que Emma decidiu fazer?':'pt',\n",
    "                        'What is the name of the magical flower?':'en',\n",
    "                        '¿Cuál es el nombre de la flor mágica?':'es',\n",
    "                        'Qual é o nome da flor mágica?':'pt'}\n",
    "\n",
    "def test_detect_language(test_language_data):\n",
    "    '''\n",
    "    Función que realiza pruebas de detección de idioma\n",
    "    Description: \n",
    "    ------------\n",
    "    Esta función recibe un diccionario con preguntas y su respectivo idioma y devuelve un mensaje de éxito si las pruebas pasan.\n",
    "    la variable test_language_data es un diccionario con preguntas y su respectivo idioma se encuentra en el config_test.yaml.   \n",
    " \n",
    "    '''\n",
    "    for query,language in test_language_data.items():\n",
    "        assert detect_language(query) == language # Que hace assert: \n",
    "    return 'Test Detectar lenguaje: [PASS]'\n",
    "\n",
    "test_detect_language(test_language_data)\n",
    "\n",
    "\n",
    "\n",
    "\n",
    "from pydantic import BaseModel\n",
    "\n",
    "class UserRequest(BaseModel):\n",
    "    user_name: str\n",
    "    question: str"
   ]
  },
  {
   "cell_type": "code",
   "execution_count": null,
   "metadata": {},
   "outputs": [],
   "source": [
    "from pydantic import BaseModel\n",
    "\n",
    "class UserRequest(BaseModel):\n",
    "    user_name: str\n",
    "    question: str"
   ]
  },
  {
   "cell_type": "code",
   "execution_count": 30,
   "metadata": {},
   "outputs": [
    {
     "ename": "ValueError",
     "evalue": "Expected each embedding in the embeddings to be a list, got ['queien es Zara']",
     "output_type": "error",
     "traceback": [
      "\u001b[1;31m---------------------------------------------------------------------------\u001b[0m",
      "\u001b[1;31mValueError\u001b[0m                                Traceback (most recent call last)",
      "Cell \u001b[1;32mIn[30], line 1\u001b[0m\n\u001b[1;32m----> 1\u001b[0m \u001b[43mcollection\u001b[49m\u001b[38;5;241;43m.\u001b[39;49m\u001b[43mquery\u001b[49m\u001b[43m(\u001b[49m\u001b[43m[\u001b[49m\u001b[38;5;124;43m'\u001b[39;49m\u001b[38;5;124;43mqueien es Zara\u001b[39;49m\u001b[38;5;124;43m'\u001b[39;49m\u001b[43m]\u001b[49m\u001b[43m)\u001b[49m\n",
      "File \u001b[1;32mc:\\Users\\mavix\\.conda\\envs\\pi_challenge\\lib\\site-packages\\chromadb\\api\\models\\Collection.py:300\u001b[0m, in \u001b[0;36mCollection.query\u001b[1;34m(self, query_embeddings, query_texts, query_images, query_uris, n_results, where, where_document, include)\u001b[0m\n\u001b[0;32m    295\u001b[0m valid_where \u001b[38;5;241m=\u001b[39m validate_where(where) \u001b[38;5;28;01mif\u001b[39;00m where \u001b[38;5;28;01melse\u001b[39;00m {}\n\u001b[0;32m    296\u001b[0m valid_where_document \u001b[38;5;241m=\u001b[39m (\n\u001b[0;32m    297\u001b[0m     validate_where_document(where_document) \u001b[38;5;28;01mif\u001b[39;00m where_document \u001b[38;5;28;01melse\u001b[39;00m {}\n\u001b[0;32m    298\u001b[0m )\n\u001b[0;32m    299\u001b[0m valid_query_embeddings \u001b[38;5;241m=\u001b[39m (\n\u001b[1;32m--> 300\u001b[0m     \u001b[43mvalidate_embeddings\u001b[49m\u001b[43m(\u001b[49m\n\u001b[0;32m    301\u001b[0m \u001b[43m        \u001b[49m\u001b[38;5;28;43mself\u001b[39;49m\u001b[38;5;241;43m.\u001b[39;49m\u001b[43m_normalize_embeddings\u001b[49m\u001b[43m(\u001b[49m\n\u001b[0;32m    302\u001b[0m \u001b[43m            \u001b[49m\u001b[43mmaybe_cast_one_to_many_embedding\u001b[49m\u001b[43m(\u001b[49m\u001b[43mquery_embeddings\u001b[49m\u001b[43m)\u001b[49m\n\u001b[0;32m    303\u001b[0m \u001b[43m        \u001b[49m\u001b[43m)\u001b[49m\n\u001b[0;32m    304\u001b[0m \u001b[43m    \u001b[49m\u001b[43m)\u001b[49m\n\u001b[0;32m    305\u001b[0m     \u001b[38;5;28;01mif\u001b[39;00m query_embeddings \u001b[38;5;129;01mis\u001b[39;00m \u001b[38;5;129;01mnot\u001b[39;00m \u001b[38;5;28;01mNone\u001b[39;00m\n\u001b[0;32m    306\u001b[0m     \u001b[38;5;28;01melse\u001b[39;00m \u001b[38;5;28;01mNone\u001b[39;00m\n\u001b[0;32m    307\u001b[0m )\n\u001b[0;32m    308\u001b[0m valid_query_texts \u001b[38;5;241m=\u001b[39m (\n\u001b[0;32m    309\u001b[0m     maybe_cast_one_to_many_document(query_texts)\n\u001b[0;32m    310\u001b[0m     \u001b[38;5;28;01mif\u001b[39;00m query_texts \u001b[38;5;129;01mis\u001b[39;00m \u001b[38;5;129;01mnot\u001b[39;00m \u001b[38;5;28;01mNone\u001b[39;00m\n\u001b[0;32m    311\u001b[0m     \u001b[38;5;28;01melse\u001b[39;00m \u001b[38;5;28;01mNone\u001b[39;00m\n\u001b[0;32m    312\u001b[0m )\n\u001b[0;32m    313\u001b[0m valid_query_images \u001b[38;5;241m=\u001b[39m (\n\u001b[0;32m    314\u001b[0m     maybe_cast_one_to_many_image(query_images)\n\u001b[0;32m    315\u001b[0m     \u001b[38;5;28;01mif\u001b[39;00m query_images \u001b[38;5;129;01mis\u001b[39;00m \u001b[38;5;129;01mnot\u001b[39;00m \u001b[38;5;28;01mNone\u001b[39;00m\n\u001b[0;32m    316\u001b[0m     \u001b[38;5;28;01melse\u001b[39;00m \u001b[38;5;28;01mNone\u001b[39;00m\n\u001b[0;32m    317\u001b[0m )\n",
      "File \u001b[1;32mc:\\Users\\mavix\\.conda\\envs\\pi_challenge\\lib\\site-packages\\chromadb\\api\\types.py:480\u001b[0m, in \u001b[0;36mvalidate_embeddings\u001b[1;34m(embeddings)\u001b[0m\n\u001b[0;32m    476\u001b[0m     \u001b[38;5;28;01mraise\u001b[39;00m \u001b[38;5;167;01mValueError\u001b[39;00m(\n\u001b[0;32m    477\u001b[0m         \u001b[38;5;124mf\u001b[39m\u001b[38;5;124m\"\u001b[39m\u001b[38;5;124mExpected embeddings to be a list with at least one item, got \u001b[39m\u001b[38;5;132;01m{\u001b[39;00membeddings\u001b[38;5;132;01m}\u001b[39;00m\u001b[38;5;124m\"\u001b[39m\n\u001b[0;32m    478\u001b[0m     )\n\u001b[0;32m    479\u001b[0m \u001b[38;5;28;01mif\u001b[39;00m \u001b[38;5;129;01mnot\u001b[39;00m \u001b[38;5;28mall\u001b[39m([\u001b[38;5;28misinstance\u001b[39m(e, \u001b[38;5;28mlist\u001b[39m) \u001b[38;5;28;01mfor\u001b[39;00m e \u001b[38;5;129;01min\u001b[39;00m embeddings]):\n\u001b[1;32m--> 480\u001b[0m     \u001b[38;5;28;01mraise\u001b[39;00m \u001b[38;5;167;01mValueError\u001b[39;00m(\n\u001b[0;32m    481\u001b[0m         \u001b[38;5;124mf\u001b[39m\u001b[38;5;124m\"\u001b[39m\u001b[38;5;124mExpected each embedding in the embeddings to be a list, got \u001b[39m\u001b[38;5;132;01m{\u001b[39;00membeddings\u001b[38;5;132;01m}\u001b[39;00m\u001b[38;5;124m\"\u001b[39m\n\u001b[0;32m    482\u001b[0m     )\n\u001b[0;32m    483\u001b[0m \u001b[38;5;28;01mfor\u001b[39;00m i, embedding \u001b[38;5;129;01min\u001b[39;00m \u001b[38;5;28menumerate\u001b[39m(embeddings):\n\u001b[0;32m    484\u001b[0m     \u001b[38;5;28;01mif\u001b[39;00m \u001b[38;5;28mlen\u001b[39m(embedding) \u001b[38;5;241m==\u001b[39m \u001b[38;5;241m0\u001b[39m:\n",
      "\u001b[1;31mValueError\u001b[0m: Expected each embedding in the embeddings to be a list, got ['queien es Zara']"
     ]
    }
   ],
   "source": []
  },
  {
   "cell_type": "code",
   "execution_count": 36,
   "metadata": {},
   "outputs": [
    {
     "data": {
      "text/plain": [
       "'f:\\\\Proyectos\\\\PiConsulting\\\\challenge_rag_llm\\\\Notebooks'"
      ]
     },
     "execution_count": 36,
     "metadata": {},
     "output_type": "execute_result"
    }
   ],
   "source": [
    "pwd"
   ]
  },
  {
   "cell_type": "code",
   "execution_count": 39,
   "metadata": {},
   "outputs": [],
   "source": [
    "import os\n",
    "os.chdir('F:\\\\Proyectos\\\\PiConsulting\\\\challenge_rag_llm')\n",
    "from app.utils.funcions_general import ConfigManager\n",
    "config = ConfigManager(config_paths=['./config/test/unit.yaml'])\n",
    "request = config.get(['test_get_response'])"
   ]
  },
  {
   "cell_type": "markdown",
   "metadata": {},
   "source": []
  },
  {
   "cell_type": "code",
   "execution_count": 51,
   "metadata": {},
   "outputs": [
    {
     "data": {
      "text/plain": [
       "('mvx', 'Quien es Zara')"
      ]
     },
     "execution_count": 51,
     "metadata": {},
     "output_type": "execute_result"
    }
   ],
   "source": [
    "(request['user_name'],request['question'])"
   ]
  },
  {
   "cell_type": "code",
   "execution_count": 42,
   "metadata": {},
   "outputs": [
    {
     "data": {
      "text/plain": [
       "'Quien es Zara'"
      ]
     },
     "execution_count": 42,
     "metadata": {},
     "output_type": "execute_result"
    }
   ],
   "source": [
    "request['question']"
   ]
  }
 ],
 "metadata": {
  "kernelspec": {
   "display_name": "pi_challenge_rag_llm",
   "language": "python",
   "name": "python3"
  },
  "language_info": {
   "codemirror_mode": {
    "name": "ipython",
    "version": 3
   },
   "file_extension": ".py",
   "mimetype": "text/x-python",
   "name": "python",
   "nbconvert_exporter": "python",
   "pygments_lexer": "ipython3",
   "version": "3.8.19"
  }
 },
 "nbformat": 4,
 "nbformat_minor": 2
}
